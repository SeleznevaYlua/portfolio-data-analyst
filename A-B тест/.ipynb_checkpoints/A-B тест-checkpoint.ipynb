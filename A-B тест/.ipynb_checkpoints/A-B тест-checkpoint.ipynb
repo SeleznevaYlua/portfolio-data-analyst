{
 "cells": [
  {
   "cell_type": "markdown",
   "metadata": {},
   "source": [
    "# A/B тест"
   ]
  },
  {
   "cell_type": "markdown",
   "metadata": {},
   "source": [
    "## Описание проекта\n",
    "Контекст\n",
    "\n",
    "Мы — аналитик крупного интернет-магазина. Вместе с отделом маркетинга мы подготовили список гипотез для увеличения выручки.\n",
    "Приоритизируем гипотезы, запустим A/B-тест и проанализируем результаты. "
   ]
  },
  {
   "cell_type": "markdown",
   "metadata": {},
   "source": [
    "## Часть 1. Приоритизация гипотез.\n",
    "В файле hypothesis 9 гипотез по увеличению выручки интернет-магазина с указанными параметрами Reach, Impact, Confidence, Effort.\n",
    "\n",
    "Задачи:\n",
    "- Применить фреймворк ICE для приоритизации гипотез. Отсортировать их по убыванию приоритета.\n",
    "- Применить фреймворк RICE для приоритизации гипотез. Отсортировать их по убыванию приоритета.\n",
    "- Указать, как изменилась приоритизация гипотез при применении RICE вместо ICE. Объяснить, почему так произошло."
   ]
  },
  {
   "cell_type": "markdown",
   "metadata": {},
   "source": [
    "## Часть 2. Анализ A/B-теста\n",
    "Мы провели A/B-тест и получили результаты, которые описаны в файлах orders и visitors.\n",
    "\n",
    "Задачи:\n",
    "\n",
    "Проанализировать A/B-тест:\n",
    "- Построить график кумулятивной выручки по группам. Сделать выводы и предположения.\n",
    "- Построить график кумулятивного среднего чека по группам. Сделать выводы и предположения.\n",
    "- Построить график относительного изменения кумулятивного среднего чека группы B к группе A. Сделать выводы и предположения.\n",
    "- Построить график кумулятивного среднего количества заказов на посетителя по группам. Сделать выводы и предположения.\n",
    "- Построить график относительного изменения кумулятивного среднего количества заказов на посетителя группы B к группе A. Сделать выводы и предположения.\n",
    "- Построить точечный график количества заказов по пользователям. Сделать выводы и предположения.\n",
    "- Посчитать 95-й и 99-й перцентили количества заказов на пользователя. Выбрать границу для определения аномальных пользователей.\n",
    "- Построить точечный график стоимостей заказов. Сделать выводы и предположения.\n",
    "- Посчитать 95-й и 99-й перцентили стоимости заказов. Выбрать границу для определения аномальных заказов.\n",
    "- Посчитать статистическую значимость различий в среднем количестве заказов на посетителя между группами по «сырым» данным. Сделать выводы и предположения.\n",
    "- Посчитать статистическую значимость различий в среднем чеке заказа между группами по «сырым» данным. Сделать выводы и предположения.\n",
    "- Посчитать статистическую значимость различий в среднем количестве заказов на посетителя между группами по «очищенным» данным. Сделать выводы и предположения.\n",
    "- Посчитать статистическую значимость различий в среднем чеке заказа между группами по «очищенным» данным. Сделать выводы и предположения.\n",
    "- Принять решение по результатам теста и объяснить его. Варианты решений:\n",
    "1. Остановить тест, зафиксировать победу одной из групп.\n",
    "2. Остановить тест, зафиксировать отсутствие различий между группами.\n",
    "3. Продолжить тест."
   ]
  },
  {
   "cell_type": "code",
   "execution_count": 80,
   "metadata": {},
   "outputs": [],
   "source": [
    "import pandas as pd\n",
    "import scipy.stats as stats\n",
    "import datetime as dt\n",
    "import numpy as np\n",
    "import matplotlib.pyplot as plt\n",
    "import seaborn as sns"
   ]
  },
  {
   "cell_type": "code",
   "execution_count": 81,
   "metadata": {},
   "outputs": [
    {
     "data": {
      "text/html": [
       "<div>\n",
       "<style scoped>\n",
       "    .dataframe tbody tr th:only-of-type {\n",
       "        vertical-align: middle;\n",
       "    }\n",
       "\n",
       "    .dataframe tbody tr th {\n",
       "        vertical-align: top;\n",
       "    }\n",
       "\n",
       "    .dataframe thead th {\n",
       "        text-align: right;\n",
       "    }\n",
       "</style>\n",
       "<table border=\"1\" class=\"dataframe\">\n",
       "  <thead>\n",
       "    <tr style=\"text-align: right;\">\n",
       "      <th></th>\n",
       "      <th>Hypothesis</th>\n",
       "      <th>Reach</th>\n",
       "      <th>Impact</th>\n",
       "      <th>Confidence</th>\n",
       "      <th>Efforts</th>\n",
       "    </tr>\n",
       "  </thead>\n",
       "  <tbody>\n",
       "    <tr>\n",
       "      <th>0</th>\n",
       "      <td>Добавить два новых канала привлечения трафика, что позволит привлекать на 30% больше пользователей</td>\n",
       "      <td>3</td>\n",
       "      <td>10</td>\n",
       "      <td>8</td>\n",
       "      <td>6</td>\n",
       "    </tr>\n",
       "    <tr>\n",
       "      <th>1</th>\n",
       "      <td>Запустить собственную службу доставки, что сократит срок доставки заказов</td>\n",
       "      <td>2</td>\n",
       "      <td>5</td>\n",
       "      <td>4</td>\n",
       "      <td>10</td>\n",
       "    </tr>\n",
       "    <tr>\n",
       "      <th>2</th>\n",
       "      <td>Добавить блоки рекомендаций товаров на сайт интернет магазина, чтобы повысить конверсию и средний чек заказа</td>\n",
       "      <td>8</td>\n",
       "      <td>3</td>\n",
       "      <td>7</td>\n",
       "      <td>3</td>\n",
       "    </tr>\n",
       "    <tr>\n",
       "      <th>3</th>\n",
       "      <td>Изменить структура категорий, что увеличит конверсию, т.к. пользователи быстрее найдут нужный товар</td>\n",
       "      <td>8</td>\n",
       "      <td>3</td>\n",
       "      <td>3</td>\n",
       "      <td>8</td>\n",
       "    </tr>\n",
       "    <tr>\n",
       "      <th>4</th>\n",
       "      <td>Изменить цвет фона главной страницы, чтобы увеличить вовлеченность пользователей</td>\n",
       "      <td>3</td>\n",
       "      <td>1</td>\n",
       "      <td>1</td>\n",
       "      <td>1</td>\n",
       "    </tr>\n",
       "  </tbody>\n",
       "</table>\n",
       "</div>"
      ],
      "text/plain": [
       "                                                                                                     Hypothesis  \\\n",
       "0  Добавить два новых канала привлечения трафика, что позволит привлекать на 30% больше пользователей             \n",
       "1  Запустить собственную службу доставки, что сократит срок доставки заказов                                      \n",
       "2  Добавить блоки рекомендаций товаров на сайт интернет магазина, чтобы повысить конверсию и средний чек заказа   \n",
       "3  Изменить структура категорий, что увеличит конверсию, т.к. пользователи быстрее найдут нужный товар            \n",
       "4  Изменить цвет фона главной страницы, чтобы увеличить вовлеченность пользователей                               \n",
       "\n",
       "   Reach  Impact  Confidence  Efforts  \n",
       "0  3      10      8           6        \n",
       "1  2      5       4           10       \n",
       "2  8      3       7           3        \n",
       "3  8      3       3           8        \n",
       "4  3      1       1           1        "
      ]
     },
     "execution_count": 81,
     "metadata": {},
     "output_type": "execute_result"
    }
   ],
   "source": [
    "data = pd.read_csv('/Users/solar/портфолио/hypothesis.csv')\n",
    "data.head()"
   ]
  },
  {
   "cell_type": "code",
   "execution_count": 82,
   "metadata": {},
   "outputs": [
    {
     "name": "stdout",
     "output_type": "stream",
     "text": [
      "<class 'pandas.core.frame.DataFrame'>\n",
      "RangeIndex: 9 entries, 0 to 8\n",
      "Data columns (total 5 columns):\n",
      " #   Column      Non-Null Count  Dtype \n",
      "---  ------      --------------  ----- \n",
      " 0   Hypothesis  9 non-null      object\n",
      " 1   Reach       9 non-null      int64 \n",
      " 2   Impact      9 non-null      int64 \n",
      " 3   Confidence  9 non-null      int64 \n",
      " 4   Efforts     9 non-null      int64 \n",
      "dtypes: int64(4), object(1)\n",
      "memory usage: 492.0+ bytes\n"
     ]
    }
   ],
   "source": [
    "data.info()"
   ]
  },
  {
   "cell_type": "markdown",
   "metadata": {},
   "source": [
    "Видим, что пропусков нет."
   ]
  },
  {
   "cell_type": "code",
   "execution_count": 83,
   "metadata": {},
   "outputs": [
    {
     "data": {
      "text/html": [
       "<div>\n",
       "<style scoped>\n",
       "    .dataframe tbody tr th:only-of-type {\n",
       "        vertical-align: middle;\n",
       "    }\n",
       "\n",
       "    .dataframe tbody tr th {\n",
       "        vertical-align: top;\n",
       "    }\n",
       "\n",
       "    .dataframe thead th {\n",
       "        text-align: right;\n",
       "    }\n",
       "</style>\n",
       "<table border=\"1\" class=\"dataframe\">\n",
       "  <thead>\n",
       "    <tr style=\"text-align: right;\">\n",
       "      <th></th>\n",
       "      <th>hypothesis</th>\n",
       "      <th>reach</th>\n",
       "      <th>impact</th>\n",
       "      <th>confidence</th>\n",
       "      <th>efforts</th>\n",
       "    </tr>\n",
       "  </thead>\n",
       "  <tbody>\n",
       "    <tr>\n",
       "      <th>0</th>\n",
       "      <td>Добавить два новых канала привлечения трафика, что позволит привлекать на 30% больше пользователей</td>\n",
       "      <td>3</td>\n",
       "      <td>10</td>\n",
       "      <td>8</td>\n",
       "      <td>6</td>\n",
       "    </tr>\n",
       "    <tr>\n",
       "      <th>1</th>\n",
       "      <td>Запустить собственную службу доставки, что сократит срок доставки заказов</td>\n",
       "      <td>2</td>\n",
       "      <td>5</td>\n",
       "      <td>4</td>\n",
       "      <td>10</td>\n",
       "    </tr>\n",
       "    <tr>\n",
       "      <th>2</th>\n",
       "      <td>Добавить блоки рекомендаций товаров на сайт интернет магазина, чтобы повысить конверсию и средний чек заказа</td>\n",
       "      <td>8</td>\n",
       "      <td>3</td>\n",
       "      <td>7</td>\n",
       "      <td>3</td>\n",
       "    </tr>\n",
       "    <tr>\n",
       "      <th>3</th>\n",
       "      <td>Изменить структура категорий, что увеличит конверсию, т.к. пользователи быстрее найдут нужный товар</td>\n",
       "      <td>8</td>\n",
       "      <td>3</td>\n",
       "      <td>3</td>\n",
       "      <td>8</td>\n",
       "    </tr>\n",
       "    <tr>\n",
       "      <th>4</th>\n",
       "      <td>Изменить цвет фона главной страницы, чтобы увеличить вовлеченность пользователей</td>\n",
       "      <td>3</td>\n",
       "      <td>1</td>\n",
       "      <td>1</td>\n",
       "      <td>1</td>\n",
       "    </tr>\n",
       "    <tr>\n",
       "      <th>5</th>\n",
       "      <td>Добавить страницу отзывов клиентов о магазине, что позволит увеличить количество заказов</td>\n",
       "      <td>3</td>\n",
       "      <td>2</td>\n",
       "      <td>2</td>\n",
       "      <td>3</td>\n",
       "    </tr>\n",
       "    <tr>\n",
       "      <th>6</th>\n",
       "      <td>Показать на главной странице баннеры с актуальными акциями и распродажами, чтобы увеличить конверсию</td>\n",
       "      <td>5</td>\n",
       "      <td>3</td>\n",
       "      <td>8</td>\n",
       "      <td>3</td>\n",
       "    </tr>\n",
       "    <tr>\n",
       "      <th>7</th>\n",
       "      <td>Добавить форму подписки на все основные страницы, чтобы собрать базу клиентов для email-рассылок</td>\n",
       "      <td>10</td>\n",
       "      <td>7</td>\n",
       "      <td>8</td>\n",
       "      <td>5</td>\n",
       "    </tr>\n",
       "    <tr>\n",
       "      <th>8</th>\n",
       "      <td>Запустить акцию, дающую скидку на товар в день рождения</td>\n",
       "      <td>1</td>\n",
       "      <td>9</td>\n",
       "      <td>9</td>\n",
       "      <td>5</td>\n",
       "    </tr>\n",
       "  </tbody>\n",
       "</table>\n",
       "</div>"
      ],
      "text/plain": [
       "                                                                                                     hypothesis  \\\n",
       "0  Добавить два новых канала привлечения трафика, что позволит привлекать на 30% больше пользователей             \n",
       "1  Запустить собственную службу доставки, что сократит срок доставки заказов                                      \n",
       "2  Добавить блоки рекомендаций товаров на сайт интернет магазина, чтобы повысить конверсию и средний чек заказа   \n",
       "3  Изменить структура категорий, что увеличит конверсию, т.к. пользователи быстрее найдут нужный товар            \n",
       "4  Изменить цвет фона главной страницы, чтобы увеличить вовлеченность пользователей                               \n",
       "5  Добавить страницу отзывов клиентов о магазине, что позволит увеличить количество заказов                       \n",
       "6  Показать на главной странице баннеры с актуальными акциями и распродажами, чтобы увеличить конверсию           \n",
       "7  Добавить форму подписки на все основные страницы, чтобы собрать базу клиентов для email-рассылок               \n",
       "8  Запустить акцию, дающую скидку на товар в день рождения                                                        \n",
       "\n",
       "   reach  impact  confidence  efforts  \n",
       "0  3      10      8           6        \n",
       "1  2      5       4           10       \n",
       "2  8      3       7           3        \n",
       "3  8      3       3           8        \n",
       "4  3      1       1           1        \n",
       "5  3      2       2           3        \n",
       "6  5      3       8           3        \n",
       "7  10     7       8           5        \n",
       "8  1      9       9           5        "
      ]
     },
     "execution_count": 83,
     "metadata": {},
     "output_type": "execute_result"
    }
   ],
   "source": [
    "# Меняем названия столбцов\n",
    "data.columns = ['hypothesis', 'reach', 'impact', 'confidence', 'efforts']\n",
    "\n",
    "data"
   ]
  },
  {
   "cell_type": "markdown",
   "metadata": {},
   "source": [
    "## Часть 1. Приоритизация гипотез."
   ]
  },
  {
   "cell_type": "markdown",
   "metadata": {},
   "source": [
    "### Применить фреймворк ICE для приоритизации гипотез. Отсортировать их по убыванию приоритета."
   ]
  },
  {
   "cell_type": "code",
   "execution_count": 84,
   "metadata": {},
   "outputs": [
    {
     "data": {
      "text/html": [
       "<div>\n",
       "<style scoped>\n",
       "    .dataframe tbody tr th:only-of-type {\n",
       "        vertical-align: middle;\n",
       "    }\n",
       "\n",
       "    .dataframe tbody tr th {\n",
       "        vertical-align: top;\n",
       "    }\n",
       "\n",
       "    .dataframe thead th {\n",
       "        text-align: right;\n",
       "    }\n",
       "</style>\n",
       "<table border=\"1\" class=\"dataframe\">\n",
       "  <thead>\n",
       "    <tr style=\"text-align: right;\">\n",
       "      <th></th>\n",
       "      <th>hypothesis</th>\n",
       "      <th>ICE</th>\n",
       "    </tr>\n",
       "  </thead>\n",
       "  <tbody>\n",
       "    <tr>\n",
       "      <th>8</th>\n",
       "      <td>Запустить акцию, дающую скидку на товар в день рождения</td>\n",
       "      <td>16.2</td>\n",
       "    </tr>\n",
       "    <tr>\n",
       "      <th>0</th>\n",
       "      <td>Добавить два новых канала привлечения трафика, что позволит привлекать на 30% больше пользователей</td>\n",
       "      <td>13.3</td>\n",
       "    </tr>\n",
       "    <tr>\n",
       "      <th>7</th>\n",
       "      <td>Добавить форму подписки на все основные страницы, чтобы собрать базу клиентов для email-рассылок</td>\n",
       "      <td>11.2</td>\n",
       "    </tr>\n",
       "    <tr>\n",
       "      <th>6</th>\n",
       "      <td>Показать на главной странице баннеры с актуальными акциями и распродажами, чтобы увеличить конверсию</td>\n",
       "      <td>8.0</td>\n",
       "    </tr>\n",
       "    <tr>\n",
       "      <th>2</th>\n",
       "      <td>Добавить блоки рекомендаций товаров на сайт интернет магазина, чтобы повысить конверсию и средний чек заказа</td>\n",
       "      <td>7.0</td>\n",
       "    </tr>\n",
       "    <tr>\n",
       "      <th>1</th>\n",
       "      <td>Запустить собственную службу доставки, что сократит срок доставки заказов</td>\n",
       "      <td>2.0</td>\n",
       "    </tr>\n",
       "    <tr>\n",
       "      <th>5</th>\n",
       "      <td>Добавить страницу отзывов клиентов о магазине, что позволит увеличить количество заказов</td>\n",
       "      <td>1.3</td>\n",
       "    </tr>\n",
       "    <tr>\n",
       "      <th>3</th>\n",
       "      <td>Изменить структура категорий, что увеличит конверсию, т.к. пользователи быстрее найдут нужный товар</td>\n",
       "      <td>1.1</td>\n",
       "    </tr>\n",
       "    <tr>\n",
       "      <th>4</th>\n",
       "      <td>Изменить цвет фона главной страницы, чтобы увеличить вовлеченность пользователей</td>\n",
       "      <td>1.0</td>\n",
       "    </tr>\n",
       "  </tbody>\n",
       "</table>\n",
       "</div>"
      ],
      "text/plain": [
       "                                                                                                     hypothesis  \\\n",
       "8  Запустить акцию, дающую скидку на товар в день рождения                                                        \n",
       "0  Добавить два новых канала привлечения трафика, что позволит привлекать на 30% больше пользователей             \n",
       "7  Добавить форму подписки на все основные страницы, чтобы собрать базу клиентов для email-рассылок               \n",
       "6  Показать на главной странице баннеры с актуальными акциями и распродажами, чтобы увеличить конверсию           \n",
       "2  Добавить блоки рекомендаций товаров на сайт интернет магазина, чтобы повысить конверсию и средний чек заказа   \n",
       "1  Запустить собственную службу доставки, что сократит срок доставки заказов                                      \n",
       "5  Добавить страницу отзывов клиентов о магазине, что позволит увеличить количество заказов                       \n",
       "3  Изменить структура категорий, что увеличит конверсию, т.к. пользователи быстрее найдут нужный товар            \n",
       "4  Изменить цвет фона главной страницы, чтобы увеличить вовлеченность пользователей                               \n",
       "\n",
       "    ICE  \n",
       "8  16.2  \n",
       "0  13.3  \n",
       "7  11.2  \n",
       "6  8.0   \n",
       "2  7.0   \n",
       "1  2.0   \n",
       "5  1.3   \n",
       "3  1.1   \n",
       "4  1.0   "
      ]
     },
     "execution_count": 84,
     "metadata": {},
     "output_type": "execute_result"
    }
   ],
   "source": [
    "data['ICE'] = round(data['impact']*data['confidence']/data['efforts'], 1)\n",
    "\n",
    "pd.set_option('display.max_colwidth', 0)\n",
    "\n",
    "data[['hypothesis','ICE']].sort_values(by='ICE', ascending=False)\n"
   ]
  },
  {
   "cell_type": "markdown",
   "metadata": {},
   "source": [
    "Вывод: наиболее перспективными, согласно фреймворку ICE, являются гипотезы под номерами: 8, 0, 7, 6. "
   ]
  },
  {
   "cell_type": "markdown",
   "metadata": {},
   "source": [
    "### Применить фреймворк RICE для приоритизации гипотез. Отсортировать их по убыванию приоритета."
   ]
  },
  {
   "cell_type": "code",
   "execution_count": 85,
   "metadata": {},
   "outputs": [
    {
     "data": {
      "text/html": [
       "<div>\n",
       "<style scoped>\n",
       "    .dataframe tbody tr th:only-of-type {\n",
       "        vertical-align: middle;\n",
       "    }\n",
       "\n",
       "    .dataframe tbody tr th {\n",
       "        vertical-align: top;\n",
       "    }\n",
       "\n",
       "    .dataframe thead th {\n",
       "        text-align: right;\n",
       "    }\n",
       "</style>\n",
       "<table border=\"1\" class=\"dataframe\">\n",
       "  <thead>\n",
       "    <tr style=\"text-align: right;\">\n",
       "      <th></th>\n",
       "      <th>hypothesis</th>\n",
       "      <th>ICE</th>\n",
       "      <th>RICE</th>\n",
       "    </tr>\n",
       "  </thead>\n",
       "  <tbody>\n",
       "    <tr>\n",
       "      <th>7</th>\n",
       "      <td>Добавить форму подписки на все основные страницы, чтобы собрать базу клиентов для email-рассылок</td>\n",
       "      <td>11.2</td>\n",
       "      <td>112.0</td>\n",
       "    </tr>\n",
       "    <tr>\n",
       "      <th>2</th>\n",
       "      <td>Добавить блоки рекомендаций товаров на сайт интернет магазина, чтобы повысить конверсию и средний чек заказа</td>\n",
       "      <td>7.0</td>\n",
       "      <td>56.0</td>\n",
       "    </tr>\n",
       "    <tr>\n",
       "      <th>0</th>\n",
       "      <td>Добавить два новых канала привлечения трафика, что позволит привлекать на 30% больше пользователей</td>\n",
       "      <td>13.3</td>\n",
       "      <td>40.0</td>\n",
       "    </tr>\n",
       "    <tr>\n",
       "      <th>6</th>\n",
       "      <td>Показать на главной странице баннеры с актуальными акциями и распродажами, чтобы увеличить конверсию</td>\n",
       "      <td>8.0</td>\n",
       "      <td>40.0</td>\n",
       "    </tr>\n",
       "    <tr>\n",
       "      <th>8</th>\n",
       "      <td>Запустить акцию, дающую скидку на товар в день рождения</td>\n",
       "      <td>16.2</td>\n",
       "      <td>16.2</td>\n",
       "    </tr>\n",
       "    <tr>\n",
       "      <th>3</th>\n",
       "      <td>Изменить структура категорий, что увеличит конверсию, т.к. пользователи быстрее найдут нужный товар</td>\n",
       "      <td>1.1</td>\n",
       "      <td>9.0</td>\n",
       "    </tr>\n",
       "    <tr>\n",
       "      <th>1</th>\n",
       "      <td>Запустить собственную службу доставки, что сократит срок доставки заказов</td>\n",
       "      <td>2.0</td>\n",
       "      <td>4.0</td>\n",
       "    </tr>\n",
       "    <tr>\n",
       "      <th>5</th>\n",
       "      <td>Добавить страницу отзывов клиентов о магазине, что позволит увеличить количество заказов</td>\n",
       "      <td>1.3</td>\n",
       "      <td>4.0</td>\n",
       "    </tr>\n",
       "    <tr>\n",
       "      <th>4</th>\n",
       "      <td>Изменить цвет фона главной страницы, чтобы увеличить вовлеченность пользователей</td>\n",
       "      <td>1.0</td>\n",
       "      <td>3.0</td>\n",
       "    </tr>\n",
       "  </tbody>\n",
       "</table>\n",
       "</div>"
      ],
      "text/plain": [
       "                                                                                                     hypothesis  \\\n",
       "7  Добавить форму подписки на все основные страницы, чтобы собрать базу клиентов для email-рассылок               \n",
       "2  Добавить блоки рекомендаций товаров на сайт интернет магазина, чтобы повысить конверсию и средний чек заказа   \n",
       "0  Добавить два новых канала привлечения трафика, что позволит привлекать на 30% больше пользователей             \n",
       "6  Показать на главной странице баннеры с актуальными акциями и распродажами, чтобы увеличить конверсию           \n",
       "8  Запустить акцию, дающую скидку на товар в день рождения                                                        \n",
       "3  Изменить структура категорий, что увеличит конверсию, т.к. пользователи быстрее найдут нужный товар            \n",
       "1  Запустить собственную службу доставки, что сократит срок доставки заказов                                      \n",
       "5  Добавить страницу отзывов клиентов о магазине, что позволит увеличить количество заказов                       \n",
       "4  Изменить цвет фона главной страницы, чтобы увеличить вовлеченность пользователей                               \n",
       "\n",
       "    ICE   RICE  \n",
       "7  11.2  112.0  \n",
       "2  7.0   56.0   \n",
       "0  13.3  40.0   \n",
       "6  8.0   40.0   \n",
       "8  16.2  16.2   \n",
       "3  1.1   9.0    \n",
       "1  2.0   4.0    \n",
       "5  1.3   4.0    \n",
       "4  1.0   3.0    "
      ]
     },
     "metadata": {},
     "output_type": "display_data"
    }
   ],
   "source": [
    "data['RICE'] = data['reach'] * data['impact'] * data['confidence'] / data['efforts']\n",
    "\n",
    "display(data[['hypothesis','ICE','RICE']].sort_values(by='RICE', ascending=False))"
   ]
  },
  {
   "cell_type": "markdown",
   "metadata": {},
   "source": [
    "Вывод: наиболее перспективными, согласно фреймворку RICE, являются гипотезы под номерами: 7, 2, 0, 6."
   ]
  },
  {
   "cell_type": "markdown",
   "metadata": {},
   "source": [
    "### Указать, как изменилась приоритизация гипотез при применении RICE вместо ICE. Объяснить, почему так произошло."
   ]
  },
  {
   "cell_type": "markdown",
   "metadata": {},
   "source": [
    "Вывод: согласно ICE, впереди оказались гипотезы  8, 0, 7, 6, однако RICE дал другой результат, самые перспективные гипотезы 7, 2, 0, 6. На первом месте оказалась гипотеза под номером 7, так получилось, так как унее параметр reach равен 10, в то время как у других гипотез он меньше. гипотез номер 2 оказалась в списке, так как параметры reach,\timpact и confidence, являющиеся множителями в формуле RICE, довольно большие, а делитель, наоборот, маленький. Согласно ICE, первое место заняла гипотеза 8, это можно объяснить тем, что ее параметры impact и confidence равны 9. Гипотезы 0 и 6 оказались в списках лучших у обоих фреймворков. "
   ]
  },
  {
   "cell_type": "markdown",
   "metadata": {},
   "source": [
    "## Часть 2. Анализ A/B-теста"
   ]
  },
  {
   "cell_type": "code",
   "execution_count": 86,
   "metadata": {},
   "outputs": [
    {
     "data": {
      "text/html": [
       "<div>\n",
       "<style scoped>\n",
       "    .dataframe tbody tr th:only-of-type {\n",
       "        vertical-align: middle;\n",
       "    }\n",
       "\n",
       "    .dataframe tbody tr th {\n",
       "        vertical-align: top;\n",
       "    }\n",
       "\n",
       "    .dataframe thead th {\n",
       "        text-align: right;\n",
       "    }\n",
       "</style>\n",
       "<table border=\"1\" class=\"dataframe\">\n",
       "  <thead>\n",
       "    <tr style=\"text-align: right;\">\n",
       "      <th></th>\n",
       "      <th>transactionId</th>\n",
       "      <th>visitorId</th>\n",
       "      <th>date</th>\n",
       "      <th>revenue</th>\n",
       "      <th>group</th>\n",
       "    </tr>\n",
       "  </thead>\n",
       "  <tbody>\n",
       "    <tr>\n",
       "      <th>0</th>\n",
       "      <td>3667963787</td>\n",
       "      <td>3312258926</td>\n",
       "      <td>2019-08-15</td>\n",
       "      <td>1650</td>\n",
       "      <td>B</td>\n",
       "    </tr>\n",
       "    <tr>\n",
       "      <th>1</th>\n",
       "      <td>2804400009</td>\n",
       "      <td>3642806036</td>\n",
       "      <td>2019-08-15</td>\n",
       "      <td>730</td>\n",
       "      <td>B</td>\n",
       "    </tr>\n",
       "    <tr>\n",
       "      <th>2</th>\n",
       "      <td>2961555356</td>\n",
       "      <td>4069496402</td>\n",
       "      <td>2019-08-15</td>\n",
       "      <td>400</td>\n",
       "      <td>A</td>\n",
       "    </tr>\n",
       "    <tr>\n",
       "      <th>3</th>\n",
       "      <td>3797467345</td>\n",
       "      <td>1196621759</td>\n",
       "      <td>2019-08-15</td>\n",
       "      <td>9759</td>\n",
       "      <td>B</td>\n",
       "    </tr>\n",
       "    <tr>\n",
       "      <th>4</th>\n",
       "      <td>2282983706</td>\n",
       "      <td>2322279887</td>\n",
       "      <td>2019-08-15</td>\n",
       "      <td>2308</td>\n",
       "      <td>B</td>\n",
       "    </tr>\n",
       "  </tbody>\n",
       "</table>\n",
       "</div>"
      ],
      "text/plain": [
       "   transactionId   visitorId       date  revenue group\n",
       "0  3667963787     3312258926 2019-08-15  1650     B   \n",
       "1  2804400009     3642806036 2019-08-15  730      B   \n",
       "2  2961555356     4069496402 2019-08-15  400      A   \n",
       "3  3797467345     1196621759 2019-08-15  9759     B   \n",
       "4  2282983706     2322279887 2019-08-15  2308     B   "
      ]
     },
     "execution_count": 86,
     "metadata": {},
     "output_type": "execute_result"
    }
   ],
   "source": [
    "orders = pd.read_csv('/Users/solar/портфолио/orders.csv')\n",
    "\n",
    "orders['date'] = orders['date'].map(\n",
    "    lambda x: dt.datetime.strptime(x, '%Y-%m-%d')\n",
    ")\n",
    "\n",
    "\n",
    "orders.head()\n"
   ]
  },
  {
   "cell_type": "code",
   "execution_count": 87,
   "metadata": {},
   "outputs": [
    {
     "data": {
      "text/html": [
       "<div>\n",
       "<style scoped>\n",
       "    .dataframe tbody tr th:only-of-type {\n",
       "        vertical-align: middle;\n",
       "    }\n",
       "\n",
       "    .dataframe tbody tr th {\n",
       "        vertical-align: top;\n",
       "    }\n",
       "\n",
       "    .dataframe thead th {\n",
       "        text-align: right;\n",
       "    }\n",
       "</style>\n",
       "<table border=\"1\" class=\"dataframe\">\n",
       "  <thead>\n",
       "    <tr style=\"text-align: right;\">\n",
       "      <th></th>\n",
       "      <th>transaction_id</th>\n",
       "      <th>visitor_id</th>\n",
       "      <th>date</th>\n",
       "      <th>revenue</th>\n",
       "      <th>group</th>\n",
       "    </tr>\n",
       "  </thead>\n",
       "  <tbody>\n",
       "    <tr>\n",
       "      <th>0</th>\n",
       "      <td>3667963787</td>\n",
       "      <td>3312258926</td>\n",
       "      <td>2019-08-15</td>\n",
       "      <td>1650</td>\n",
       "      <td>B</td>\n",
       "    </tr>\n",
       "    <tr>\n",
       "      <th>1</th>\n",
       "      <td>2804400009</td>\n",
       "      <td>3642806036</td>\n",
       "      <td>2019-08-15</td>\n",
       "      <td>730</td>\n",
       "      <td>B</td>\n",
       "    </tr>\n",
       "    <tr>\n",
       "      <th>2</th>\n",
       "      <td>2961555356</td>\n",
       "      <td>4069496402</td>\n",
       "      <td>2019-08-15</td>\n",
       "      <td>400</td>\n",
       "      <td>A</td>\n",
       "    </tr>\n",
       "    <tr>\n",
       "      <th>3</th>\n",
       "      <td>3797467345</td>\n",
       "      <td>1196621759</td>\n",
       "      <td>2019-08-15</td>\n",
       "      <td>9759</td>\n",
       "      <td>B</td>\n",
       "    </tr>\n",
       "    <tr>\n",
       "      <th>4</th>\n",
       "      <td>2282983706</td>\n",
       "      <td>2322279887</td>\n",
       "      <td>2019-08-15</td>\n",
       "      <td>2308</td>\n",
       "      <td>B</td>\n",
       "    </tr>\n",
       "  </tbody>\n",
       "</table>\n",
       "</div>"
      ],
      "text/plain": [
       "   transaction_id  visitor_id       date  revenue group\n",
       "0  3667963787      3312258926 2019-08-15  1650     B   \n",
       "1  2804400009      3642806036 2019-08-15  730      B   \n",
       "2  2961555356      4069496402 2019-08-15  400      A   \n",
       "3  3797467345      1196621759 2019-08-15  9759     B   \n",
       "4  2282983706      2322279887 2019-08-15  2308     B   "
      ]
     },
     "execution_count": 87,
     "metadata": {},
     "output_type": "execute_result"
    }
   ],
   "source": [
    "# Меняем названия столбцов\n",
    "orders.columns = ['transaction_id', 'visitor_id', 'date', 'revenue', 'group']\n",
    "\n",
    "orders.head()\n"
   ]
  },
  {
   "cell_type": "code",
   "execution_count": 88,
   "metadata": {},
   "outputs": [
    {
     "name": "stdout",
     "output_type": "stream",
     "text": [
      "<class 'pandas.core.frame.DataFrame'>\n",
      "RangeIndex: 1197 entries, 0 to 1196\n",
      "Data columns (total 5 columns):\n",
      " #   Column          Non-Null Count  Dtype         \n",
      "---  ------          --------------  -----         \n",
      " 0   transaction_id  1197 non-null   int64         \n",
      " 1   visitor_id      1197 non-null   int64         \n",
      " 2   date            1197 non-null   datetime64[ns]\n",
      " 3   revenue         1197 non-null   int64         \n",
      " 4   group           1197 non-null   object        \n",
      "dtypes: datetime64[ns](1), int64(3), object(1)\n",
      "memory usage: 46.9+ KB\n"
     ]
    }
   ],
   "source": [
    "orders.info()"
   ]
  },
  {
   "cell_type": "code",
   "execution_count": 89,
   "metadata": {},
   "outputs": [
    {
     "data": {
      "text/plain": [
       "0"
      ]
     },
     "execution_count": 89,
     "metadata": {},
     "output_type": "execute_result"
    }
   ],
   "source": [
    "# Проверка на дубликаты\n",
    "orders.duplicated().sum()"
   ]
  },
  {
   "cell_type": "code",
   "execution_count": 90,
   "metadata": {},
   "outputs": [
    {
     "data": {
      "text/html": [
       "<div>\n",
       "<style scoped>\n",
       "    .dataframe tbody tr th:only-of-type {\n",
       "        vertical-align: middle;\n",
       "    }\n",
       "\n",
       "    .dataframe tbody tr th {\n",
       "        vertical-align: top;\n",
       "    }\n",
       "\n",
       "    .dataframe thead th {\n",
       "        text-align: right;\n",
       "    }\n",
       "</style>\n",
       "<table border=\"1\" class=\"dataframe\">\n",
       "  <thead>\n",
       "    <tr style=\"text-align: right;\">\n",
       "      <th></th>\n",
       "      <th>transaction_id</th>\n",
       "      <th>visitor_id</th>\n",
       "      <th>date</th>\n",
       "      <th>revenue</th>\n",
       "      <th>group</th>\n",
       "    </tr>\n",
       "  </thead>\n",
       "  <tbody>\n",
       "  </tbody>\n",
       "</table>\n",
       "</div>"
      ],
      "text/plain": [
       "Empty DataFrame\n",
       "Columns: [transaction_id, visitor_id, date, revenue, group]\n",
       "Index: []"
      ]
     },
     "execution_count": 90,
     "metadata": {},
     "output_type": "execute_result"
    }
   ],
   "source": [
    "orders[orders.duplicated()]"
   ]
  },
  {
   "cell_type": "code",
   "execution_count": 91,
   "metadata": {},
   "outputs": [
    {
     "data": {
      "text/html": [
       "<div>\n",
       "<style scoped>\n",
       "    .dataframe tbody tr th:only-of-type {\n",
       "        vertical-align: middle;\n",
       "    }\n",
       "\n",
       "    .dataframe tbody tr th {\n",
       "        vertical-align: top;\n",
       "    }\n",
       "\n",
       "    .dataframe thead th {\n",
       "        text-align: right;\n",
       "    }\n",
       "</style>\n",
       "<table border=\"1\" class=\"dataframe\">\n",
       "  <thead>\n",
       "    <tr style=\"text-align: right;\">\n",
       "      <th></th>\n",
       "      <th>date</th>\n",
       "      <th>group</th>\n",
       "      <th>visitors</th>\n",
       "    </tr>\n",
       "  </thead>\n",
       "  <tbody>\n",
       "    <tr>\n",
       "      <th>0</th>\n",
       "      <td>2019-08-01</td>\n",
       "      <td>A</td>\n",
       "      <td>719</td>\n",
       "    </tr>\n",
       "    <tr>\n",
       "      <th>1</th>\n",
       "      <td>2019-08-02</td>\n",
       "      <td>A</td>\n",
       "      <td>619</td>\n",
       "    </tr>\n",
       "    <tr>\n",
       "      <th>2</th>\n",
       "      <td>2019-08-03</td>\n",
       "      <td>A</td>\n",
       "      <td>507</td>\n",
       "    </tr>\n",
       "    <tr>\n",
       "      <th>3</th>\n",
       "      <td>2019-08-04</td>\n",
       "      <td>A</td>\n",
       "      <td>717</td>\n",
       "    </tr>\n",
       "    <tr>\n",
       "      <th>4</th>\n",
       "      <td>2019-08-05</td>\n",
       "      <td>A</td>\n",
       "      <td>756</td>\n",
       "    </tr>\n",
       "  </tbody>\n",
       "</table>\n",
       "</div>"
      ],
      "text/plain": [
       "        date group  visitors\n",
       "0 2019-08-01  A     719     \n",
       "1 2019-08-02  A     619     \n",
       "2 2019-08-03  A     507     \n",
       "3 2019-08-04  A     717     \n",
       "4 2019-08-05  A     756     "
      ]
     },
     "execution_count": 91,
     "metadata": {},
     "output_type": "execute_result"
    }
   ],
   "source": [
    "visitors = pd.read_csv('/Users/solar/портфолио/visitors.csv')\n",
    "\n",
    "visitors['date'] = visitors['date'].map(\n",
    "    lambda x: dt.datetime.strptime(x, '%Y-%m-%d')\n",
    ")\n",
    "visitors.head()"
   ]
  },
  {
   "cell_type": "code",
   "execution_count": 92,
   "metadata": {},
   "outputs": [
    {
     "name": "stdout",
     "output_type": "stream",
     "text": [
      "<class 'pandas.core.frame.DataFrame'>\n",
      "RangeIndex: 62 entries, 0 to 61\n",
      "Data columns (total 3 columns):\n",
      " #   Column    Non-Null Count  Dtype         \n",
      "---  ------    --------------  -----         \n",
      " 0   date      62 non-null     datetime64[ns]\n",
      " 1   group     62 non-null     object        \n",
      " 2   visitors  62 non-null     int64         \n",
      "dtypes: datetime64[ns](1), int64(1), object(1)\n",
      "memory usage: 1.6+ KB\n"
     ]
    }
   ],
   "source": [
    "visitors.info()"
   ]
  },
  {
   "cell_type": "code",
   "execution_count": 93,
   "metadata": {},
   "outputs": [
    {
     "data": {
      "text/plain": [
       "0"
      ]
     },
     "execution_count": 93,
     "metadata": {},
     "output_type": "execute_result"
    }
   ],
   "source": [
    "# Проверка на дубликаты\n",
    "visitors.duplicated().sum()"
   ]
  },
  {
   "cell_type": "code",
   "execution_count": 94,
   "metadata": {},
   "outputs": [
    {
     "data": {
      "text/html": [
       "<div>\n",
       "<style scoped>\n",
       "    .dataframe tbody tr th:only-of-type {\n",
       "        vertical-align: middle;\n",
       "    }\n",
       "\n",
       "    .dataframe tbody tr th {\n",
       "        vertical-align: top;\n",
       "    }\n",
       "\n",
       "    .dataframe thead th {\n",
       "        text-align: right;\n",
       "    }\n",
       "</style>\n",
       "<table border=\"1\" class=\"dataframe\">\n",
       "  <thead>\n",
       "    <tr style=\"text-align: right;\">\n",
       "      <th></th>\n",
       "      <th>date</th>\n",
       "      <th>group</th>\n",
       "      <th>visitors</th>\n",
       "    </tr>\n",
       "  </thead>\n",
       "  <tbody>\n",
       "  </tbody>\n",
       "</table>\n",
       "</div>"
      ],
      "text/plain": [
       "Empty DataFrame\n",
       "Columns: [date, group, visitors]\n",
       "Index: []"
      ]
     },
     "execution_count": 94,
     "metadata": {},
     "output_type": "execute_result"
    }
   ],
   "source": [
    "visitors[visitors.duplicated()]"
   ]
  },
  {
   "cell_type": "markdown",
   "metadata": {},
   "source": [
    "Вывод: ни в одной из таблиц пропусков не обнаружено, простых дубликатов и дубликатов строк тоже не обнаружено."
   ]
  },
  {
   "cell_type": "markdown",
   "metadata": {},
   "source": [
    "Посмотрим на количесвто пользолвателей в группах."
   ]
  },
  {
   "cell_type": "code",
   "execution_count": 95,
   "metadata": {},
   "outputs": [
    {
     "data": {
      "text/plain": [
       "503"
      ]
     },
     "execution_count": 95,
     "metadata": {},
     "output_type": "execute_result"
    }
   ],
   "source": [
    "gr_a = len(orders[orders['group']=='A']['visitor_id'].unique())\n",
    "gr_a"
   ]
  },
  {
   "cell_type": "code",
   "execution_count": 96,
   "metadata": {},
   "outputs": [
    {
     "data": {
      "text/plain": [
       "586"
      ]
     },
     "execution_count": 96,
     "metadata": {},
     "output_type": "execute_result"
    }
   ],
   "source": [
    "gr_b = len(orders[orders['group']=='B']['visitor_id'].unique())\n",
    "gr_b"
   ]
  },
  {
   "cell_type": "code",
   "execution_count": 97,
   "metadata": {},
   "outputs": [
    {
     "data": {
      "text/plain": [
       "14.163822525597269"
      ]
     },
     "execution_count": 97,
     "metadata": {},
     "output_type": "execute_result"
    }
   ],
   "source": [
    "# относительное различие количества пользователей будет равно \n",
    "(1-gr_a/gr_b)* 100"
   ]
  },
  {
   "cell_type": "markdown",
   "metadata": {},
   "source": [
    "Вывод: относительное различие количества пользователей 14%."
   ]
  },
  {
   "cell_type": "markdown",
   "metadata": {},
   "source": [
    "Есть ли у нас пользователи, попавшие в обе группы?"
   ]
  },
  {
   "cell_type": "code",
   "execution_count": 98,
   "metadata": {},
   "outputs": [
    {
     "name": "stdout",
     "output_type": "stream",
     "text": [
      "Повторы 58\n",
      "Пользователи в обеих группах [4069496402, 199603092, 3803269165, 2378935119, 237748145, 4256040402, 2038680547, 1738359350, 2458001652, 3891541246, 2716752286, 3656415546, 2686716486, 2954449915, 2927087541, 3234906277, 457167155, 2579882178, 3957174400, 1648269707, 2780786433, 818047933, 2044997962, 1959144690, 3202540741, 1333886533, 351125977, 3951559397, 393266494, 3984495233, 4120364173, 4266935830, 1230306981, 1294878855, 1614305549, 8300375, 477780734, 1668030113, 3717692402, 3766097110, 3941795274, 471551937, 1316129916, 1801183820, 1602967004, 2587333274, 2600415354, 232979603, 3972127743, 1404934699, 276558944, 3062433592, 2654030115, 3963646447, 4186807279, 2712142231, 2949041841, 963407295]\n"
     ]
    }
   ],
   "source": [
    "both_groups = []\n",
    "for x in orders[orders['group']=='A']['visitor_id'].unique():\n",
    "    if x in orders[orders['group']=='B']['visitor_id'].unique():\n",
    "        both_groups.append(x)\n",
    "print('Повторы', len(both_groups))     \n",
    "print('Пользователи в обеих группах',both_groups)"
   ]
  },
  {
   "cell_type": "markdown",
   "metadata": {},
   "source": [
    "Вывод: 58 пользователей попали в обе группы."
   ]
  },
  {
   "cell_type": "markdown",
   "metadata": {},
   "source": [
    "Удалим этих пользователей из всех наших данных."
   ]
  },
  {
   "cell_type": "code",
   "execution_count": 99,
   "metadata": {},
   "outputs": [
    {
     "data": {
      "text/plain": [
       "58"
      ]
     },
     "execution_count": 99,
     "metadata": {},
     "output_type": "execute_result"
    }
   ],
   "source": [
    "orders_new = (\n",
    "orders.groupby('visitor_id', as_index=False)\n",
    ".agg({'group': 'nunique'})) \n",
    "list_dupl = orders_new.query('group>1')['visitor_id'].tolist() \n",
    "len(list_dupl)"
   ]
  },
  {
   "cell_type": "code",
   "execution_count": 100,
   "metadata": {},
   "outputs": [],
   "source": [
    "orders = orders.query('visitor_id not in @list_dupl')\n"
   ]
  },
  {
   "cell_type": "code",
   "execution_count": 101,
   "metadata": {},
   "outputs": [
    {
     "data": {
      "text/plain": [
       "445"
      ]
     },
     "execution_count": 101,
     "metadata": {},
     "output_type": "execute_result"
    }
   ],
   "source": [
    "gr_a_new = len(orders[orders['group']=='A']['visitor_id'].unique())\n",
    "gr_a_new"
   ]
  },
  {
   "cell_type": "code",
   "execution_count": 102,
   "metadata": {},
   "outputs": [
    {
     "data": {
      "text/plain": [
       "528"
      ]
     },
     "execution_count": 102,
     "metadata": {},
     "output_type": "execute_result"
    }
   ],
   "source": [
    "gr_b_new = len(orders[orders['group']=='B']['visitor_id'].unique())\n",
    "gr_b_new"
   ]
  },
  {
   "cell_type": "markdown",
   "metadata": {},
   "source": [
    "Чтобы построить графики, нужно собрать кумулятивные данные. Объявим датафрейм cumulative_data со столбцами: \n",
    "date — дата;\n",
    "group — группа A/B-теста (A или B);\n",
    "orders — кумулятивное количество заказов на указанную дату в указанной группе;\n",
    "buyers — кумулятивное количество пользователей, совершивших хотя бы один заказ, на указанную дату в указанной группе;\n",
    "revenue — кумулятивная выручка на указанную дату в указанной группе (средний чек);\n",
    "visitors — кумулятивное количество посетителей интернет-магазина на указанную дату в определённой группе.\n",
    "Создадим массив уникальных пар значений дат и групп теста методом drop_duplicates(): "
   ]
  },
  {
   "cell_type": "code",
   "execution_count": 103,
   "metadata": {},
   "outputs": [],
   "source": [
    "# создаем массив уникальных пар значений дат и групп теста\n",
    "dates_groups = orders[['date','group']].drop_duplicates() "
   ]
  },
  {
   "cell_type": "code",
   "execution_count": 104,
   "metadata": {},
   "outputs": [
    {
     "data": {
      "text/html": [
       "<div>\n",
       "<style scoped>\n",
       "    .dataframe tbody tr th:only-of-type {\n",
       "        vertical-align: middle;\n",
       "    }\n",
       "\n",
       "    .dataframe tbody tr th {\n",
       "        vertical-align: top;\n",
       "    }\n",
       "\n",
       "    .dataframe thead th {\n",
       "        text-align: right;\n",
       "    }\n",
       "</style>\n",
       "<table border=\"1\" class=\"dataframe\">\n",
       "  <thead>\n",
       "    <tr style=\"text-align: right;\">\n",
       "      <th></th>\n",
       "      <th>date</th>\n",
       "      <th>group</th>\n",
       "      <th>transaction_id</th>\n",
       "      <th>visitor_id</th>\n",
       "      <th>revenue</th>\n",
       "    </tr>\n",
       "  </thead>\n",
       "  <tbody>\n",
       "    <tr>\n",
       "      <th>55</th>\n",
       "      <td>2019-08-01</td>\n",
       "      <td>A</td>\n",
       "      <td>23</td>\n",
       "      <td>19</td>\n",
       "      <td>142779</td>\n",
       "    </tr>\n",
       "    <tr>\n",
       "      <th>66</th>\n",
       "      <td>2019-08-01</td>\n",
       "      <td>B</td>\n",
       "      <td>17</td>\n",
       "      <td>17</td>\n",
       "      <td>59758</td>\n",
       "    </tr>\n",
       "    <tr>\n",
       "      <th>175</th>\n",
       "      <td>2019-08-02</td>\n",
       "      <td>A</td>\n",
       "      <td>42</td>\n",
       "      <td>36</td>\n",
       "      <td>234381</td>\n",
       "    </tr>\n",
       "    <tr>\n",
       "      <th>173</th>\n",
       "      <td>2019-08-02</td>\n",
       "      <td>B</td>\n",
       "      <td>40</td>\n",
       "      <td>39</td>\n",
       "      <td>221801</td>\n",
       "    </tr>\n",
       "    <tr>\n",
       "      <th>291</th>\n",
       "      <td>2019-08-03</td>\n",
       "      <td>A</td>\n",
       "      <td>66</td>\n",
       "      <td>60</td>\n",
       "      <td>346854</td>\n",
       "    </tr>\n",
       "  </tbody>\n",
       "</table>\n",
       "</div>"
      ],
      "text/plain": [
       "          date group  transaction_id  visitor_id  revenue\n",
       "55  2019-08-01  A     23              19          142779 \n",
       "66  2019-08-01  B     17              17          59758  \n",
       "175 2019-08-02  A     42              36          234381 \n",
       "173 2019-08-02  B     40              39          221801 \n",
       "291 2019-08-03  A     66              60          346854 "
      ]
     },
     "execution_count": 104,
     "metadata": {},
     "output_type": "execute_result"
    }
   ],
   "source": [
    "# получаем агрегированные кумулятивные по дням данные о заказах \n",
    "orders_aggregated = dates_groups.apply(\n",
    "    lambda x: orders[np.logical_and(orders['date'] <= x['date'], orders['group'] == x['group'])]\n",
    "    .agg({'date' : 'max', 'group' : 'max', 'transaction_id' : 'nunique', 'visitor_id' : 'nunique', 'revenue' : 'sum'}), axis=1).sort_values(by=['date','group'])\n",
    "\n",
    "orders_aggregated.head()"
   ]
  },
  {
   "cell_type": "code",
   "execution_count": 105,
   "metadata": {},
   "outputs": [
    {
     "data": {
      "text/html": [
       "<div>\n",
       "<style scoped>\n",
       "    .dataframe tbody tr th:only-of-type {\n",
       "        vertical-align: middle;\n",
       "    }\n",
       "\n",
       "    .dataframe tbody tr th {\n",
       "        vertical-align: top;\n",
       "    }\n",
       "\n",
       "    .dataframe thead th {\n",
       "        text-align: right;\n",
       "    }\n",
       "</style>\n",
       "<table border=\"1\" class=\"dataframe\">\n",
       "  <thead>\n",
       "    <tr style=\"text-align: right;\">\n",
       "      <th></th>\n",
       "      <th>date</th>\n",
       "      <th>group</th>\n",
       "      <th>visitors</th>\n",
       "    </tr>\n",
       "  </thead>\n",
       "  <tbody>\n",
       "    <tr>\n",
       "      <th>55</th>\n",
       "      <td>2019-08-01</td>\n",
       "      <td>A</td>\n",
       "      <td>719</td>\n",
       "    </tr>\n",
       "    <tr>\n",
       "      <th>66</th>\n",
       "      <td>2019-08-01</td>\n",
       "      <td>B</td>\n",
       "      <td>713</td>\n",
       "    </tr>\n",
       "    <tr>\n",
       "      <th>175</th>\n",
       "      <td>2019-08-02</td>\n",
       "      <td>A</td>\n",
       "      <td>1338</td>\n",
       "    </tr>\n",
       "    <tr>\n",
       "      <th>173</th>\n",
       "      <td>2019-08-02</td>\n",
       "      <td>B</td>\n",
       "      <td>1294</td>\n",
       "    </tr>\n",
       "    <tr>\n",
       "      <th>291</th>\n",
       "      <td>2019-08-03</td>\n",
       "      <td>A</td>\n",
       "      <td>1845</td>\n",
       "    </tr>\n",
       "  </tbody>\n",
       "</table>\n",
       "</div>"
      ],
      "text/plain": [
       "          date group  visitors\n",
       "55  2019-08-01  A     719     \n",
       "66  2019-08-01  B     713     \n",
       "175 2019-08-02  A     1338    \n",
       "173 2019-08-02  B     1294    \n",
       "291 2019-08-03  A     1845    "
      ]
     },
     "execution_count": 105,
     "metadata": {},
     "output_type": "execute_result"
    }
   ],
   "source": [
    "# получаем агрегированные кумулятивные по дням данные о посетителях интернет-магазина \n",
    "visitors_aggregated = dates_groups.apply(\n",
    "    lambda x: visitors[np.logical_and(visitors['date'] <= x['date'], visitors['group'] == x['group'])]\n",
    "    .agg({'date' : 'max', 'group' : 'max', 'visitors' : 'sum'}), axis=1).sort_values(by=['date','group'])\n",
    "\n",
    "visitors_aggregated.head()"
   ]
  },
  {
   "cell_type": "code",
   "execution_count": 106,
   "metadata": {},
   "outputs": [
    {
     "data": {
      "text/html": [
       "<div>\n",
       "<style scoped>\n",
       "    .dataframe tbody tr th:only-of-type {\n",
       "        vertical-align: middle;\n",
       "    }\n",
       "\n",
       "    .dataframe tbody tr th {\n",
       "        vertical-align: top;\n",
       "    }\n",
       "\n",
       "    .dataframe thead th {\n",
       "        text-align: right;\n",
       "    }\n",
       "</style>\n",
       "<table border=\"1\" class=\"dataframe\">\n",
       "  <thead>\n",
       "    <tr style=\"text-align: right;\">\n",
       "      <th></th>\n",
       "      <th>date</th>\n",
       "      <th>group</th>\n",
       "      <th>orders</th>\n",
       "      <th>buyers</th>\n",
       "      <th>revenue</th>\n",
       "      <th>visitors</th>\n",
       "    </tr>\n",
       "  </thead>\n",
       "  <tbody>\n",
       "    <tr>\n",
       "      <th>0</th>\n",
       "      <td>2019-08-01</td>\n",
       "      <td>A</td>\n",
       "      <td>23</td>\n",
       "      <td>19</td>\n",
       "      <td>142779</td>\n",
       "      <td>719</td>\n",
       "    </tr>\n",
       "    <tr>\n",
       "      <th>1</th>\n",
       "      <td>2019-08-01</td>\n",
       "      <td>B</td>\n",
       "      <td>17</td>\n",
       "      <td>17</td>\n",
       "      <td>59758</td>\n",
       "      <td>713</td>\n",
       "    </tr>\n",
       "    <tr>\n",
       "      <th>2</th>\n",
       "      <td>2019-08-02</td>\n",
       "      <td>A</td>\n",
       "      <td>42</td>\n",
       "      <td>36</td>\n",
       "      <td>234381</td>\n",
       "      <td>1338</td>\n",
       "    </tr>\n",
       "    <tr>\n",
       "      <th>3</th>\n",
       "      <td>2019-08-02</td>\n",
       "      <td>B</td>\n",
       "      <td>40</td>\n",
       "      <td>39</td>\n",
       "      <td>221801</td>\n",
       "      <td>1294</td>\n",
       "    </tr>\n",
       "    <tr>\n",
       "      <th>4</th>\n",
       "      <td>2019-08-03</td>\n",
       "      <td>A</td>\n",
       "      <td>66</td>\n",
       "      <td>60</td>\n",
       "      <td>346854</td>\n",
       "      <td>1845</td>\n",
       "    </tr>\n",
       "  </tbody>\n",
       "</table>\n",
       "</div>"
      ],
      "text/plain": [
       "        date group  orders  buyers  revenue  visitors\n",
       "0 2019-08-01  A     23      19      142779   719     \n",
       "1 2019-08-01  B     17      17      59758    713     \n",
       "2 2019-08-02  A     42      36      234381   1338    \n",
       "3 2019-08-02  B     40      39      221801   1294    \n",
       "4 2019-08-03  A     66      60      346854   1845    "
      ]
     },
     "execution_count": 106,
     "metadata": {},
     "output_type": "execute_result"
    }
   ],
   "source": [
    "# объединяем кумулятивные данные в одной таблице и присваиваем ее столбцам понятные названия\n",
    "cumulative_data = orders_aggregated.merge(visitors_aggregated, left_on=['date', 'group'], right_on=['date', 'group'])\n",
    "cumulative_data.columns = ['date', 'group', 'orders', 'buyers', 'revenue', 'visitors']\n",
    "\n",
    "cumulative_data.head(5)"
   ]
  },
  {
   "cell_type": "markdown",
   "metadata": {},
   "source": [
    "### Построить график кумулятивной выручки по группам. "
   ]
  },
  {
   "cell_type": "code",
   "execution_count": 107,
   "metadata": {},
   "outputs": [],
   "source": [
    "# датафрейм с кумулятивным количеством заказов и кумулятивной выручкой по дням в группе А\n",
    "cumulative_revenue_a = cumulative_data[cumulative_data['group']=='A'][['date','revenue', 'orders']]\n",
    "\n",
    "# датафрейм с кумулятивным количеством заказов и кумулятивной выручкой по дням в группе B\n",
    "cumulative_revenue_b = cumulative_data[cumulative_data['group']=='B'][['date','revenue', 'orders']]"
   ]
  },
  {
   "cell_type": "code",
   "execution_count": 108,
   "metadata": {
    "scrolled": false
   },
   "outputs": [
    {
     "data": {
      "image/png": "[encoded data removed]",
      "text/plain": [
       "<Figure size 800x500 with 1 Axes>"
      ]
     },
     "metadata": {},
     "output_type": "display_data"
    }
   ],
   "source": [
    "# задаем размер графика\n",
    "sns.set(rc={'figure.figsize':(8,5)})\n",
    "\n",
    "\n",
    "# Строим график выручки группы А\n",
    "plt.plot(cumulative_revenue_a['date'], cumulative_revenue_a['revenue'], label='A')\n",
    "# Строим график выручки группы B\n",
    "plt.plot(cumulative_revenue_b['date'], cumulative_revenue_b['revenue'], label='B')\n",
    "\n",
    "plt.title('График динамики кумулятивной выручки по группам А и В')\n",
    "\n",
    "plt.ylabel(\"Выручка, млн.\")\n",
    "plt.xticks(rotation=30)\n",
    "\n",
    "plt.legend()\n",
    "plt.show()\n",
    "\n"
   ]
  },
  {
   "cell_type": "markdown",
   "metadata": {},
   "source": [
    "Вывод: у группы А выручка почти равномерно увеличивается в течение всего теста. Хороший знак. У группы В выручка тоже растет. Однако, в середине теста сегмент В резко вырвался вперед и до конца теста продолжал лидировать. Возможно, в данных есть аномально большие заказы и они влияют на результаты.\n"
   ]
  },
  {
   "cell_type": "markdown",
   "metadata": {},
   "source": [
    "### Построить график кумулятивного среднего чека по группам. "
   ]
  },
  {
   "cell_type": "code",
   "execution_count": 109,
   "metadata": {},
   "outputs": [
    {
     "data": {
      "image/png": "[encoded data removed]",
      "text/plain": [
       "<Figure size 800x500 with 1 Axes>"
      ]
     },
     "metadata": {},
     "output_type": "display_data"
    }
   ],
   "source": [
    "#Построим графики среднего чека по группам — разделим кумулятивную выручку на кумулятивное число заказов:\n",
    "plt.plot(cumulative_revenue_a['date'], cumulative_revenue_a['revenue']/cumulative_revenue_a['orders'], label='A')\n",
    "plt.plot(cumulative_revenue_b['date'], cumulative_revenue_b['revenue']/cumulative_revenue_b['orders'], label='B')\n",
    "plt.title('График динамики кумулятивного среднего чека по группам А и В')\n",
    "plt.ylabel(\"Выручка, млн.\")\n",
    "plt.xticks(rotation=30)\n",
    "plt.legend()\n",
    "plt.show()"
   ]
  },
  {
   "cell_type": "markdown",
   "metadata": {},
   "source": [
    "Вывод: кумулятивное значение среднего чека у группы А практически стабилизировалось к концу теста, а у группы В оно колеблется: в середине теста средний чек у этой группы резко и значительно вырос, а затем начал падать и падает до сих пор. В графике  кумулятивной выручки по группам у групы В тоже был резкий скачок вверх в середине теста (возможно, из-за аномально больших заказов). Скорее всего, пока рано принимать решение по этой метрике, требуется дополнительный анализ выбросов, которые так сильно влияют на результаты.\n"
   ]
  },
  {
   "cell_type": "markdown",
   "metadata": {},
   "source": [
    "### Построить график относительного изменения кумулятивного среднего чека группы B к группе A. "
   ]
  },
  {
   "cell_type": "code",
   "execution_count": 110,
   "metadata": {},
   "outputs": [
    {
     "data": {
      "image/png": "[encoded data removed]",
      "text/plain": [
       "<Figure size 800x500 with 1 Axes>"
      ]
     },
     "metadata": {},
     "output_type": "display_data"
    }
   ],
   "source": [
    "# собираем данные в одном датафрейме\n",
    "merged_cumulative_revenue = cumulative_revenue_a.merge(\n",
    "    cumulative_revenue_b, left_on='date', right_on='date', how='left', suffixes=['A', 'B'])\n",
    "\n",
    "# cтроим отношение средних чеков\n",
    "plt.plot(merged_cumulative_revenue['date'], (\n",
    "    merged_cumulative_revenue['revenueB']/merged_cumulative_revenue['ordersB'])/(\n",
    "    merged_cumulative_revenue['revenueA']/merged_cumulative_revenue['ordersA'])-1)\n",
    "\n",
    "# добавляем ось X\n",
    "plt.axhline(y=0, color='black', linestyle='--') \n",
    "\n",
    "plt.title('График относительного изменения кумулятивного среднего чека группы B к группе A')\n",
    "plt.xticks(rotation=30)\n",
    "plt.show()"
   ]
  },
  {
   "cell_type": "markdown",
   "metadata": {},
   "source": [
    "Вывод: результаты теста резко и значительно менялись в несколько дат, видимо, именно тогда были совершены аномальные заказы. При этом, видно, что группа В явно превосходит группу А по средним чекам в течение практически всего теста."
   ]
  },
  {
   "cell_type": "markdown",
   "metadata": {},
   "source": [
    "### Построить график кумулятивного среднего количества заказов на посетителя по группам. "
   ]
  },
  {
   "cell_type": "code",
   "execution_count": 111,
   "metadata": {},
   "outputs": [
    {
     "data": {
      "image/png": "[encoded data removed]",
      "text/plain": [
       "<Figure size 800x500 with 1 Axes>"
      ]
     },
     "metadata": {},
     "output_type": "display_data"
    }
   ],
   "source": [
    "# считаем кумулятивное среднее количество заказов на посетителя по группам\n",
    "cumulative_data['conversion'] = cumulative_data['orders']/cumulative_data['visitors']\n",
    "\n",
    "# отделяем данные по группе A\n",
    "cumulative_data_a = cumulative_data[cumulative_data['group']=='A']\n",
    "\n",
    "# отделяем данные по группе B\n",
    "cumulative_data_b = cumulative_data[cumulative_data['group']=='B']\n",
    "\n",
    "# строим графики\n",
    "plt.plot(cumulative_data_a['date'], cumulative_data_a['conversion'], label='A')\n",
    "plt.plot(cumulative_data_b['date'], cumulative_data_b['conversion'], label='B')\n",
    "\n",
    "\n",
    "# задаем масштаб осей\n",
    "plt.axis([dt.datetime(2019, 8, 1), dt.datetime(2019, 8, 31), 0.01, 0.05])\n",
    "#plt.axis([\"2019-08-01\", '2019-08-31', 0, 0.015]) \n",
    "\n",
    "\n",
    "plt.legend()\n",
    "plt.title('Кумулятивное среднее количество заказов на посетителя по группам')\n",
    "plt.xlabel(' ')\n",
    "plt.ylabel('Количество заказов')\n",
    "plt.xticks(rotation=30)\n",
    "plt.show()"
   ]
  },
  {
   "cell_type": "markdown",
   "metadata": {},
   "source": [
    "Вывод: по графику видно, что в начале теста были некоторые колебания обеих групп, но к концу теста обе группы выровнялись. Практически в течение всего теста сегмент В имеет большее количество заказов чем сегмент А."
   ]
  },
  {
   "cell_type": "markdown",
   "metadata": {},
   "source": [
    "### Построить график относительного изменения кумулятивного среднего количества заказов на посетителя группы B к группе A."
   ]
  },
  {
   "cell_type": "code",
   "execution_count": 112,
   "metadata": {},
   "outputs": [
    {
     "data": {
      "image/png": "[encoded data removed]",
      "text/plain": [
       "<Figure size 800x500 with 1 Axes>"
      ]
     },
     "metadata": {},
     "output_type": "display_data"
    }
   ],
   "source": [
    "merged_cumulative_conversions = cumulative_data_a[['date','conversion']].merge(\n",
    "    cumulative_data_b[['date','conversion']], left_on='date', right_on='date', how='left', suffixes=['A', 'B'])\n",
    "\n",
    "plt.plot(\n",
    "    merged_cumulative_conversions['date'], \n",
    "    merged_cumulative_conversions['conversionB']/merged_cumulative_conversions['conversionA']-1)\n",
    "    #label=\"Относительный прирост кумулятивного среднего количества заказов группы B относительно группы A\"\n",
    "#plt.legend()\n",
    "\n",
    "plt.axhline(y=0, color='black', linestyle='--')\n",
    "plt.axhline(y=0.1, color='grey', linestyle='--')\n",
    "plt.axis([dt.datetime(2019, 8, 1), dt.datetime(2019, 8, 31), -0.2, 0.3]) \n",
    "plt.title('Относительный прирост кумулятивного среднего количества заказов группы B относительно группы A')\n",
    "plt.xticks(rotation=30)\n",
    "plt.show()"
   ]
  },
  {
   "cell_type": "markdown",
   "metadata": {},
   "source": [
    "Вывод: в начале теста группа B  проигрывала группе A, затем вырвалась вперёд.  Видно, что в течение почти всего теста группа В лидировала по количеству заказов, на некоторое время она даже зафиксировалась на отметке в 12%, но под конец теста снова начала постепенно расти.\n",
    "Хоть соотношение количества заказов еще не стабилизировалось до конца, мы можем точно сказать, что группа В явно лидирует."
   ]
  },
  {
   "cell_type": "markdown",
   "metadata": {},
   "source": [
    "### Построить точечный график количества заказов по пользователям. "
   ]
  },
  {
   "cell_type": "code",
   "execution_count": 113,
   "metadata": {},
   "outputs": [
    {
     "data": {
      "text/html": [
       "<div>\n",
       "<style scoped>\n",
       "    .dataframe tbody tr th:only-of-type {\n",
       "        vertical-align: middle;\n",
       "    }\n",
       "\n",
       "    .dataframe tbody tr th {\n",
       "        vertical-align: top;\n",
       "    }\n",
       "\n",
       "    .dataframe thead th {\n",
       "        text-align: right;\n",
       "    }\n",
       "</style>\n",
       "<table border=\"1\" class=\"dataframe\">\n",
       "  <thead>\n",
       "    <tr style=\"text-align: right;\">\n",
       "      <th></th>\n",
       "      <th>transaction_id</th>\n",
       "      <th>visitor_id</th>\n",
       "      <th>date</th>\n",
       "      <th>revenue</th>\n",
       "      <th>group</th>\n",
       "    </tr>\n",
       "  </thead>\n",
       "  <tbody>\n",
       "    <tr>\n",
       "      <th>0</th>\n",
       "      <td>3667963787</td>\n",
       "      <td>3312258926</td>\n",
       "      <td>2019-08-15</td>\n",
       "      <td>1650</td>\n",
       "      <td>B</td>\n",
       "    </tr>\n",
       "    <tr>\n",
       "      <th>1</th>\n",
       "      <td>2804400009</td>\n",
       "      <td>3642806036</td>\n",
       "      <td>2019-08-15</td>\n",
       "      <td>730</td>\n",
       "      <td>B</td>\n",
       "    </tr>\n",
       "    <tr>\n",
       "      <th>3</th>\n",
       "      <td>3797467345</td>\n",
       "      <td>1196621759</td>\n",
       "      <td>2019-08-15</td>\n",
       "      <td>9759</td>\n",
       "      <td>B</td>\n",
       "    </tr>\n",
       "    <tr>\n",
       "      <th>4</th>\n",
       "      <td>2282983706</td>\n",
       "      <td>2322279887</td>\n",
       "      <td>2019-08-15</td>\n",
       "      <td>2308</td>\n",
       "      <td>B</td>\n",
       "    </tr>\n",
       "    <tr>\n",
       "      <th>5</th>\n",
       "      <td>182168103</td>\n",
       "      <td>935554773</td>\n",
       "      <td>2019-08-15</td>\n",
       "      <td>2210</td>\n",
       "      <td>B</td>\n",
       "    </tr>\n",
       "  </tbody>\n",
       "</table>\n",
       "</div>"
      ],
      "text/plain": [
       "   transaction_id  visitor_id       date  revenue group\n",
       "0  3667963787      3312258926 2019-08-15  1650     B   \n",
       "1  2804400009      3642806036 2019-08-15  730      B   \n",
       "3  3797467345      1196621759 2019-08-15  9759     B   \n",
       "4  2282983706      2322279887 2019-08-15  2308     B   \n",
       "5  182168103       935554773  2019-08-15  2210     B   "
      ]
     },
     "execution_count": 113,
     "metadata": {},
     "output_type": "execute_result"
    }
   ],
   "source": [
    "orders.head()"
   ]
  },
  {
   "cell_type": "code",
   "execution_count": 114,
   "metadata": {},
   "outputs": [
    {
     "data": {
      "text/html": [
       "<div>\n",
       "<style scoped>\n",
       "    .dataframe tbody tr th:only-of-type {\n",
       "        vertical-align: middle;\n",
       "    }\n",
       "\n",
       "    .dataframe tbody tr th {\n",
       "        vertical-align: top;\n",
       "    }\n",
       "\n",
       "    .dataframe thead th {\n",
       "        text-align: right;\n",
       "    }\n",
       "</style>\n",
       "<table border=\"1\" class=\"dataframe\">\n",
       "  <thead>\n",
       "    <tr style=\"text-align: right;\">\n",
       "      <th></th>\n",
       "      <th>user_id</th>\n",
       "      <th>orders</th>\n",
       "    </tr>\n",
       "  </thead>\n",
       "  <tbody>\n",
       "    <tr>\n",
       "      <th>908</th>\n",
       "      <td>3967698036</td>\n",
       "      <td>3</td>\n",
       "    </tr>\n",
       "    <tr>\n",
       "      <th>55</th>\n",
       "      <td>249864742</td>\n",
       "      <td>3</td>\n",
       "    </tr>\n",
       "    <tr>\n",
       "      <th>478</th>\n",
       "      <td>2108163459</td>\n",
       "      <td>3</td>\n",
       "    </tr>\n",
       "    <tr>\n",
       "      <th>687</th>\n",
       "      <td>2988190573</td>\n",
       "      <td>3</td>\n",
       "    </tr>\n",
       "    <tr>\n",
       "      <th>890</th>\n",
       "      <td>3908431265</td>\n",
       "      <td>3</td>\n",
       "    </tr>\n",
       "    <tr>\n",
       "      <th>138</th>\n",
       "      <td>611059232</td>\n",
       "      <td>3</td>\n",
       "    </tr>\n",
       "    <tr>\n",
       "      <th>632</th>\n",
       "      <td>2742574263</td>\n",
       "      <td>3</td>\n",
       "    </tr>\n",
       "    <tr>\n",
       "      <th>157</th>\n",
       "      <td>678354126</td>\n",
       "      <td>2</td>\n",
       "    </tr>\n",
       "    <tr>\n",
       "      <th>323</th>\n",
       "      <td>1404560065</td>\n",
       "      <td>2</td>\n",
       "    </tr>\n",
       "    <tr>\n",
       "      <th>452</th>\n",
       "      <td>1985475298</td>\n",
       "      <td>2</td>\n",
       "    </tr>\n",
       "  </tbody>\n",
       "</table>\n",
       "</div>"
      ],
      "text/plain": [
       "        user_id  orders\n",
       "908  3967698036  3     \n",
       "55   249864742   3     \n",
       "478  2108163459  3     \n",
       "687  2988190573  3     \n",
       "890  3908431265  3     \n",
       "138  611059232   3     \n",
       "632  2742574263  3     \n",
       "157  678354126   2     \n",
       "323  1404560065  2     \n",
       "452  1985475298  2     "
      ]
     },
     "execution_count": 114,
     "metadata": {},
     "output_type": "execute_result"
    }
   ],
   "source": [
    "# Подсчитаем количество заказов по пользователям и посмотрим на результат:\n",
    "orders_by_users = (\n",
    "    orders.groupby('visitor_id', as_index=False)\n",
    "    .agg({'transaction_id': 'nunique'})\n",
    ")\n",
    "\n",
    "orders_by_users.columns = ['user_id', 'orders']\n",
    "\n",
    "orders_by_users.sort_values(by='orders', ascending=False).head(10)"
   ]
  },
  {
   "cell_type": "markdown",
   "metadata": {},
   "source": [
    "Есть пользователи, которые совершали 2-3 заказа."
   ]
  },
  {
   "cell_type": "code",
   "execution_count": 115,
   "metadata": {},
   "outputs": [
    {
     "data": {
      "image/png": "[encoded data removed]",
      "text/plain": [
       "<Figure size 800x500 with 1 Axes>"
      ]
     },
     "metadata": {},
     "output_type": "display_data"
    }
   ],
   "source": [
    "# Построим гистрограмму распределения количества заказов на одного пользователя.\n",
    "plt.hist(orders_by_users['orders']) \n",
    "plt.title('Распределение количества заказов по пользователям')\n",
    "plt.xlabel('Количество заказов')\n",
    "plt.ylabel('Количество пользователей')\n",
    "plt.show()"
   ]
  },
  {
   "cell_type": "markdown",
   "metadata": {},
   "source": [
    "Большинство покупателей заказывали только один раз. Однако доля пользователей с 2-3 заказами тоже значительна. "
   ]
  },
  {
   "cell_type": "code",
   "execution_count": 116,
   "metadata": {},
   "outputs": [
    {
     "data": {
      "image/png": "[encoded data removed]",
      "text/plain": [
       "<Figure size 800x500 with 1 Axes>"
      ]
     },
     "metadata": {},
     "output_type": "display_data"
    }
   ],
   "source": [
    "# Построим точечную диаграмму числа заказов на одного пользователя:\n",
    "x_values = pd.Series(range(0,len(orders_by_users)))\n",
    "\n",
    "plt.scatter(x_values, orders_by_users['orders']) \n",
    "plt.title('Распределение количества заказов по пользователям')\n",
    "plt.ylabel('Количество заказов')\n",
    "plt.xlabel('Количество пользователей')\n",
    "plt.show()"
   ]
  },
  {
   "cell_type": "markdown",
   "metadata": {},
   "source": [
    "Вывод: вывод по предыдущем у графику подтверждается: много пользователей с 2-3 заказами. Их точная доля не ясна — непонятно, считать их аномалиями или нет. "
   ]
  },
  {
   "cell_type": "markdown",
   "metadata": {},
   "source": [
    "### Посчитать 95-й и 99-й перцентили количества заказов на пользователя. Выбрать границу для определения аномальных пользователей."
   ]
  },
  {
   "cell_type": "code",
   "execution_count": 117,
   "metadata": {},
   "outputs": [
    {
     "name": "stdout",
     "output_type": "stream",
     "text": [
      "[1. 2.]\n"
     ]
    }
   ],
   "source": [
    "print(np.percentile(orders_by_users['orders'], [95, 99])) "
   ]
  },
  {
   "cell_type": "markdown",
   "metadata": {},
   "source": [
    "Выыод: не более 5% пользователей оформляли больше 1 заказа. И 1% пользователей заказывали более двух раз. \n",
    "Разумно выбрать 1 заказ на одного пользователя за верхнюю границу числа заказов, и отсеять аномальных пользователей по ней. "
   ]
  },
  {
   "cell_type": "markdown",
   "metadata": {},
   "source": [
    "### Построить точечный график стоимостей заказов. "
   ]
  },
  {
   "cell_type": "code",
   "execution_count": 118,
   "metadata": {},
   "outputs": [
    {
     "data": {
      "image/png": "[encoded data removed]",
      "text/plain": [
       "<Figure size 800x500 with 1 Axes>"
      ]
     },
     "metadata": {},
     "output_type": "display_data"
    }
   ],
   "source": [
    "# Изучим гистограмму распределения стоимостей заказов: \n",
    "plt.hist(orders['revenue']) \n",
    "plt.title('Распределение стоимости заказов по пользователям')\n",
    "plt.xlabel('Стоимость заказов')\n",
    "plt.ylabel('Количество пользователей')\n",
    "plt.show()"
   ]
  },
  {
   "cell_type": "markdown",
   "metadata": {},
   "source": [
    "По гистограмме выбросов не видно, построим точечный график стоимостей заказов."
   ]
  },
  {
   "cell_type": "code",
   "execution_count": 119,
   "metadata": {},
   "outputs": [
    {
     "data": {
      "image/png": "[encoded data removed]",
      "text/plain": [
       "<Figure size 800x500 with 1 Axes>"
      ]
     },
     "metadata": {},
     "output_type": "display_data"
    }
   ],
   "source": [
    "x_values = pd.Series(range(0,len(orders['revenue'])))\n",
    "plt.scatter(x_values, orders['revenue']) \n",
    "plt.title('Распределение стоимости заказов по пользователям')\n",
    "plt.ylabel('Стоимость заказов')\n",
    "plt.xlabel('Количество пользователей')\n",
    "plt.show()"
   ]
  },
  {
   "cell_type": "markdown",
   "metadata": {},
   "source": [
    "Вывод: есть заказ на 200 000 у.е., а есть и на 1,3 миллиона у.е., он выглядит аномально."
   ]
  },
  {
   "cell_type": "markdown",
   "metadata": {},
   "source": [
    "Пострим аналогичный график без крупных выбросов, которые заметили раньше."
   ]
  },
  {
   "cell_type": "code",
   "execution_count": 120,
   "metadata": {},
   "outputs": [
    {
     "data": {
      "image/png": "[encoded data removed]",
      "text/plain": [
       "<Figure size 800x500 with 1 Axes>"
      ]
     },
     "metadata": {},
     "output_type": "display_data"
    }
   ],
   "source": [
    "# строим точечную диаграмму\n",
    "plt.ylim(0, 120000)\n",
    "plt.scatter(x_values, orders['revenue'])\n",
    "plt.title('Распределение стоимости заказов по пользователям')\n",
    "plt.ylabel('Стоимость заказов')\n",
    "plt.xlabel('Количество пользователей')\n",
    "plt.show()"
   ]
  },
  {
   "cell_type": "markdown",
   "metadata": {},
   "source": [
    "Вывод: по графику видно, что основная сумма заказов не около 20000."
   ]
  },
  {
   "cell_type": "markdown",
   "metadata": {},
   "source": [
    "###  Посчитать 95-й и 99-й перцентили стоимости заказов. Выбрать границу для определения аномальных заказов."
   ]
  },
  {
   "cell_type": "code",
   "execution_count": 121,
   "metadata": {},
   "outputs": [
    {
     "name": "stdout",
     "output_type": "stream",
     "text": [
      "[26785. 53904.]\n"
     ]
    }
   ],
   "source": [
    "print(np.percentile(orders['revenue'], [95, 99]))"
   ]
  },
  {
   "cell_type": "markdown",
   "metadata": {},
   "source": [
    "Вывод: Не более 5% заказов дороже 26785 у.е. и не более 1% дороже 53904 у.е. \n",
    "Выберем границу для определения аномальных заказов.\n",
    "Разумно выбрать стоимость заказа в 26785 у.е. за верхнюю границу стоимости заказов, и отсеять аномальных пользователей по ней. "
   ]
  },
  {
   "cell_type": "markdown",
   "metadata": {},
   "source": [
    "### Посчитать статистическую значимость различий в среднем количестве заказов на посетителя между группами по «сырым» данным. "
   ]
  },
  {
   "cell_type": "markdown",
   "metadata": {},
   "source": [
    "Посчитаем статистическую значимость различий в среднем числе заказов на пользователя и среднем чеке между группами по «сырым» данным — без удаления аномальных пользователей.\n",
    "Сформулируем гипотезы. Нулевая: различий в среднем количестве заказов между группами нет. Альтернативная: различия в среднем между группами есть. Уровень зхначимости alpha=0.05.\n",
    "Начнём с подготовки данных. Создадим таблицу data_merged:"
   ]
  },
  {
   "cell_type": "code",
   "execution_count": 122,
   "metadata": {},
   "outputs": [
    {
     "data": {
      "text/html": [
       "<div>\n",
       "<style scoped>\n",
       "    .dataframe tbody tr th:only-of-type {\n",
       "        vertical-align: middle;\n",
       "    }\n",
       "\n",
       "    .dataframe tbody tr th {\n",
       "        vertical-align: top;\n",
       "    }\n",
       "\n",
       "    .dataframe thead th {\n",
       "        text-align: right;\n",
       "    }\n",
       "</style>\n",
       "<table border=\"1\" class=\"dataframe\">\n",
       "  <thead>\n",
       "    <tr style=\"text-align: right;\">\n",
       "      <th></th>\n",
       "      <th>date</th>\n",
       "      <th>orders_per_date_a</th>\n",
       "      <th>revenue_per_date_a</th>\n",
       "      <th>orders_per_date_b</th>\n",
       "      <th>revenue_per_date_b</th>\n",
       "      <th>orders_cummulative_a</th>\n",
       "      <th>revenue_cummulative_a</th>\n",
       "      <th>orders_cummulative_b</th>\n",
       "      <th>revenue_cummulative_b</th>\n",
       "      <th>visitors_per_date_a</th>\n",
       "      <th>visitors_per_date_b</th>\n",
       "      <th>visitors_cummulative_a</th>\n",
       "      <th>visitors_cummulative_b</th>\n",
       "    </tr>\n",
       "  </thead>\n",
       "  <tbody>\n",
       "    <tr>\n",
       "      <th>0</th>\n",
       "      <td>2019-08-01</td>\n",
       "      <td>23</td>\n",
       "      <td>142779</td>\n",
       "      <td>17</td>\n",
       "      <td>59758</td>\n",
       "      <td>23</td>\n",
       "      <td>142779</td>\n",
       "      <td>17</td>\n",
       "      <td>59758</td>\n",
       "      <td>719</td>\n",
       "      <td>713</td>\n",
       "      <td>719</td>\n",
       "      <td>713</td>\n",
       "    </tr>\n",
       "    <tr>\n",
       "      <th>1</th>\n",
       "      <td>2019-08-02</td>\n",
       "      <td>19</td>\n",
       "      <td>91602</td>\n",
       "      <td>23</td>\n",
       "      <td>162043</td>\n",
       "      <td>42</td>\n",
       "      <td>234381</td>\n",
       "      <td>40</td>\n",
       "      <td>221801</td>\n",
       "      <td>619</td>\n",
       "      <td>581</td>\n",
       "      <td>1338</td>\n",
       "      <td>1294</td>\n",
       "    </tr>\n",
       "    <tr>\n",
       "      <th>2</th>\n",
       "      <td>2019-08-03</td>\n",
       "      <td>24</td>\n",
       "      <td>112473</td>\n",
       "      <td>14</td>\n",
       "      <td>67049</td>\n",
       "      <td>66</td>\n",
       "      <td>346854</td>\n",
       "      <td>54</td>\n",
       "      <td>288850</td>\n",
       "      <td>507</td>\n",
       "      <td>509</td>\n",
       "      <td>1845</td>\n",
       "      <td>1803</td>\n",
       "    </tr>\n",
       "    <tr>\n",
       "      <th>3</th>\n",
       "      <td>2019-08-04</td>\n",
       "      <td>11</td>\n",
       "      <td>41176</td>\n",
       "      <td>14</td>\n",
       "      <td>96890</td>\n",
       "      <td>77</td>\n",
       "      <td>388030</td>\n",
       "      <td>68</td>\n",
       "      <td>385740</td>\n",
       "      <td>717</td>\n",
       "      <td>770</td>\n",
       "      <td>2562</td>\n",
       "      <td>2573</td>\n",
       "    </tr>\n",
       "    <tr>\n",
       "      <th>4</th>\n",
       "      <td>2019-08-05</td>\n",
       "      <td>22</td>\n",
       "      <td>86383</td>\n",
       "      <td>21</td>\n",
       "      <td>89908</td>\n",
       "      <td>99</td>\n",
       "      <td>474413</td>\n",
       "      <td>89</td>\n",
       "      <td>475648</td>\n",
       "      <td>756</td>\n",
       "      <td>707</td>\n",
       "      <td>3318</td>\n",
       "      <td>3280</td>\n",
       "    </tr>\n",
       "  </tbody>\n",
       "</table>\n",
       "</div>"
      ],
      "text/plain": [
       "        date  orders_per_date_a  revenue_per_date_a  orders_per_date_b  \\\n",
       "0 2019-08-01  23                 142779              17                  \n",
       "1 2019-08-02  19                 91602               23                  \n",
       "2 2019-08-03  24                 112473              14                  \n",
       "3 2019-08-04  11                 41176               14                  \n",
       "4 2019-08-05  22                 86383               21                  \n",
       "\n",
       "   revenue_per_date_b  orders_cummulative_a  revenue_cummulative_a  \\\n",
       "0  59758               23                    142779                  \n",
       "1  162043              42                    234381                  \n",
       "2  67049               66                    346854                  \n",
       "3  96890               77                    388030                  \n",
       "4  89908               99                    474413                  \n",
       "\n",
       "   orders_cummulative_b  revenue_cummulative_b  visitors_per_date_a  \\\n",
       "0  17                    59758                  719                   \n",
       "1  40                    221801                 619                   \n",
       "2  54                    288850                 507                   \n",
       "3  68                    385740                 717                   \n",
       "4  89                    475648                 756                   \n",
       "\n",
       "   visitors_per_date_b  visitors_cummulative_a  visitors_cummulative_b  \n",
       "0  713                  719                     713                     \n",
       "1  581                  1338                    1294                    \n",
       "2  509                  1845                    1803                    \n",
       "3  770                  2562                    2573                    \n",
       "4  707                  3318                    3280                    "
      ]
     },
     "execution_count": 122,
     "metadata": {},
     "output_type": "execute_result"
    }
   ],
   "source": [
    "visitors_a_daily = visitors[visitors['group'] == 'A'][['date', 'visitors']]\n",
    "visitors_a_daily.columns = ['date', 'visitors_per_date_a']\n",
    "\n",
    "visitors_a_cummulative = visitors_a_daily.apply(\n",
    "    lambda x: visitors_a_daily[visitors_a_daily['date'] <= x['date']].agg(\n",
    "        {'date': 'max', 'visitors_per_date_a': 'sum'}\n",
    "    ),\n",
    "    axis=1,\n",
    ")\n",
    "visitors_a_cummulative.columns = ['date', 'visitors_cummulative_a']\n",
    "\n",
    "visitors_b_daily = visitors[visitors['group'] == 'B'][['date', 'visitors']]\n",
    "visitors_b_daily.columns = ['date', 'visitors_per_date_b']\n",
    "\n",
    "visitors_b_cummulative = visitors_b_daily.apply(\n",
    "    lambda x: visitors_b_daily[visitors_b_daily['date'] <= x['date']].agg(\n",
    "        {'date': 'max', 'visitors_per_date_b': 'sum'}\n",
    "    ),\n",
    "    axis=1,\n",
    ")\n",
    "visitors_b_cummulative.columns = ['date', 'visitors_cummulative_b']\n",
    "\n",
    "orders_a_daily = (\n",
    "    orders[orders['group'] == 'A'][['date', 'transaction_id', 'visitor_id', 'revenue']]\n",
    "    .groupby('date', as_index=False)\n",
    "    .agg({'transaction_id': pd.Series.nunique, 'revenue': 'sum'})\n",
    ")\n",
    "orders_a_daily.columns = ['date', 'orders_per_date_a', 'revenue_per_date_a']\n",
    "\n",
    "orders_a_cummulative = orders_a_daily.apply(\n",
    "    lambda x: orders_a_daily[orders_a_daily['date'] <= x['date']].agg(\n",
    "        {'date': 'max', 'orders_per_date_a': 'sum', 'revenue_per_date_a': 'sum'}\n",
    "    ),\n",
    "    axis=1,\n",
    ").sort_values(by=['date'])\n",
    "orders_a_cummulative.columns = [\n",
    "    'date',\n",
    "    'orders_cummulative_a',\n",
    "    'revenue_cummulative_a',\n",
    "]\n",
    "\n",
    "orders_b_daily = (\n",
    "    orders[orders['group'] == 'B'][['date', 'transaction_id', 'visitor_id', 'revenue']]\n",
    "    .groupby('date', as_index=False)\n",
    "    .agg({'transaction_id': pd.Series.nunique, 'revenue': 'sum'})\n",
    ")\n",
    "orders_b_daily.columns = ['date', 'orders_per_date_b', 'revenue_per_date_b']\n",
    "\n",
    "orders_b_cummulative = orders_b_daily.apply(\n",
    "    lambda x: orders_b_daily[orders_b_daily['date'] <= x['date']].agg(\n",
    "        {'date': 'max', 'orders_per_date_b': 'sum', 'revenue_per_date_b': 'sum'}\n",
    "    ),\n",
    "    axis=1,\n",
    ").sort_values(by=['date'])\n",
    "orders_b_cummulative.columns = [\n",
    "    'date',\n",
    "    'orders_cummulative_b',\n",
    "    'revenue_cummulative_b',\n",
    "]\n",
    "\n",
    "data_merged = (\n",
    "    orders_a_daily.merge(\n",
    "        orders_b_daily, left_on='date', right_on='date', how='left'\n",
    "    )\n",
    "    .merge(orders_a_cummulative, left_on='date', right_on='date', how='left')\n",
    "    .merge(orders_b_cummulative, left_on='date', right_on='date', how='left')\n",
    "    .merge(visitors_a_daily, left_on='date', right_on='date', how='left')\n",
    "    .merge(visitors_b_daily, left_on='date', right_on='date', how='left')\n",
    "    .merge(visitors_a_cummulative, left_on='date', right_on='date', how='left')\n",
    "    .merge(visitors_b_cummulative, left_on='date', right_on='date', how='left')\n",
    ")\n",
    "\n",
    "data_merged.head(5)\n"
   ]
  },
  {
   "cell_type": "markdown",
   "metadata": {},
   "source": [
    "Посчитаем статистическую значимость различия в среднем количестве заказов между группами.\n",
    "Создадим переменные orders_by_users_a и orders_by_users_b со столбцами ['user_id', 'orders']. В них для пользователей, которые заказывали хотя бы 1 раз, укажем число совершённых заказов. \n"
   ]
  },
  {
   "cell_type": "code",
   "execution_count": 123,
   "metadata": {},
   "outputs": [],
   "source": [
    "orders_by_users_a = (\n",
    "    orders[orders['group'] == 'A']\n",
    "    .groupby('visitor_id', as_index=False)\n",
    "    .agg({'transaction_id': pd.Series.nunique})\n",
    ")\n",
    "orders_by_users_a.columns = ['user_id', 'orders']\n",
    "\n",
    "orders_by_users_b = (\n",
    "    orders[orders['group'] == 'B']\n",
    "    .groupby('visitor_id', as_index=False)\n",
    "    .agg({'transaction_id': pd.Series.nunique})\n",
    ")\n",
    "orders_by_users_b.columns = ['user_id', 'orders'] \n"
   ]
  },
  {
   "cell_type": "markdown",
   "metadata": {},
   "source": [
    "Объявим переменные sample_a и sample_b, в которых пользователям из разных групп будет соответствовать количество заказов. Тем, кто ничего не заказал, будут соответствовать нули. Это нужно, чтобы подготовить выборки к проверке критерием Манна-Уитни."
   ]
  },
  {
   "cell_type": "code",
   "execution_count": 125,
   "metadata": {},
   "outputs": [],
   "source": [
    "sample_a = pd.concat([orders_by_users_a['orders'],pd.Series(\n",
    "    0, index=np.arange(data_merged['visitors_per_date_a'].sum() - len(orders_by_users_a['orders'])), name='orders')],axis=0)\n",
    "\n",
    "sample_b = pd.concat([orders_by_users_b['orders'],pd.Series(\n",
    "    0, index=np.arange(data_merged['visitors_per_date_b'].sum() - len(orders_by_users_b['orders'])), name='orders')],axis=0)"
   ]
  },
  {
   "cell_type": "code",
   "execution_count": 126,
   "metadata": {},
   "outputs": [],
   "source": [
    "# Функция для проверки гипотезы о равенстве групп data A и data B\n",
    "def stat_significance(data_a, data_b):\n",
    "    alpha = 0.05\n",
    "    p_value = stats.mannwhitneyu(data_a, data_b)[1]\n",
    "    print(\"P-value: {0:.3f}\".format(p_value))\n",
    "\n",
    "    if (p_value < alpha):\n",
    "        print(\"Отвергаем нулевую гипотезу: между группами есть разница\")\n",
    "    else:\n",
    "        print(\"Не получилось отвергнуть нулевую гипотезу, нет оснований считать группы разными\")\n",
    "    \n",
    "    print(\"Относительный прирост В к А: {0:.3%}\".format(data_b.mean() / data_a.mean()-1))"
   ]
  },
  {
   "cell_type": "code",
   "execution_count": 127,
   "metadata": {},
   "outputs": [
    {
     "name": "stdout",
     "output_type": "stream",
     "text": [
      "P-value: 0.011\n",
      "Отвергаем нулевую гипотезу: между группами есть разница\n",
      "Относительный прирост В к А: 15.980%\n"
     ]
    }
   ],
   "source": [
    "stat_significance(sample_a, sample_b)"
   ]
  },
  {
   "cell_type": "markdown",
   "metadata": {},
   "source": [
    "Вывод: По «сырым» данным различия в среднем числе заказов групп A и B есть. \n",
    "Первое число — p-value = 0.011 меньше 0.05. Значит, нулевую гипотезу о том, что статистически значимых различий в среднем числе заказов между группами нет,  отвергаем. Относительный прирост среднего количества заказов группы B к количеству заказов группы А равен 15.98% — второе число в выводе."
   ]
  },
  {
   "cell_type": "markdown",
   "metadata": {},
   "source": [
    "### Посчитать статистическую значимость различий в среднем чеке заказа между группами по «сырым» данным. "
   ]
  },
  {
   "cell_type": "markdown",
   "metadata": {},
   "source": [
    "Нулевая гипотеза: различий в среднем чеке между группами нет. Альтернативная гипотеза: различия в среднем чеке между группами есть. "
   ]
  },
  {
   "cell_type": "code",
   "execution_count": 128,
   "metadata": {},
   "outputs": [
    {
     "name": "stdout",
     "output_type": "stream",
     "text": [
      "0.829\n",
      "0.287\n"
     ]
    }
   ],
   "source": [
    "print('{0:.3f}'.format(stats.mannwhitneyu(orders[orders['group']=='A']['revenue'], orders[orders['group']=='B']['revenue'])[1]))\n",
    "print('{0:.3f}'.format(orders[orders['group']=='B']['revenue'].mean()/orders[orders['group']=='A']['revenue'].mean()-1)) "
   ]
  },
  {
   "cell_type": "markdown",
   "metadata": {},
   "source": [
    "Вывод: P-value значительно больше 0.05. Значит, причин отвергать нулевую гипотезу и считать, что в среднем чеке есть различия, нет. Кроме того, относительное различие среднего чека между сегментами 28%."
   ]
  },
  {
   "cell_type": "markdown",
   "metadata": {},
   "source": [
    "### Посчитать статистическую значимость различий в среднем количестве заказов на посетителя между группами по «очищенным» данным. "
   ]
  },
  {
   "cell_type": "markdown",
   "metadata": {},
   "source": [
    "Примем за аномальных пользователей тех, кто совершил от 2 заказов или совершил заказ дороже 26785 у.е. Так мы уберём 5% пользователей с наибольшим числом заказов и от 1% до 5% пользователей с дорогими заказами. Сделаем срезы пользователей с числом заказов больше 2 — users_with_many_orders и пользователей, совершивших заказы дороже 26785 — users_with_expensive_orders. Объединим их в таблице abnormal_users. \n",
    "Узнаем, сколько всего аномальных пользователей атрибутом shape."
   ]
  },
  {
   "cell_type": "code",
   "execution_count": 129,
   "metadata": {},
   "outputs": [
    {
     "data": {
      "text/plain": [
       "568     113298937\n",
       "1099    148427295\n",
       "928     204675465\n",
       "33      249864742\n",
       "684     358944393\n",
       "dtype: int64"
      ]
     },
     "metadata": {},
     "output_type": "display_data"
    },
    {
     "data": {
      "text/plain": [
       "86"
      ]
     },
     "execution_count": 129,
     "metadata": {},
     "output_type": "execute_result"
    }
   ],
   "source": [
    "many_orders = np.percentile(orders_by_users['orders'], 95)\n",
    "expensive_orders = np.percentile(orders['revenue'], 95)\n",
    "\n",
    "\n",
    "users_with_many_orders = pd.concat(\n",
    "    [\n",
    "        orders_by_users_a[orders_by_users_a['orders'] > many_orders]['user_id'],\n",
    "        orders_by_users_b[orders_by_users_b['orders'] > many_orders]['user_id'],\n",
    "    ],\n",
    "    axis=0,\n",
    ")\n",
    "\n",
    "\n",
    "users_with_expensive_orders = orders[orders['revenue'] > expensive_orders]['visitor_id']\n",
    "\n",
    "\n",
    "abnormal_users = (\n",
    "    pd.concat([users_with_many_orders, users_with_expensive_orders], axis=0)\n",
    "    .drop_duplicates()\n",
    "    .sort_values()\n",
    ")\n",
    "display(abnormal_users.head(5))\n",
    "abnormal_users.shape[0]"
   ]
  },
  {
   "cell_type": "markdown",
   "metadata": {},
   "source": [
    "Всего 86 аномальных пользователей."
   ]
  },
  {
   "cell_type": "markdown",
   "metadata": {},
   "source": [
    "Узнаем, как их действия повлияли на результаты теста. Посчитаем статистическую значимость различий в среднем количестве заказов между группами теста по очищенным данным. Сначала подготовим выборки количества заказов по пользователям по группам теста:"
   ]
  },
  {
   "cell_type": "code",
   "execution_count": 130,
   "metadata": {},
   "outputs": [],
   "source": [
    "sample_a_filtered = pd.concat(\n",
    "    [\n",
    "        orders_by_users_a[\n",
    "            np.logical_not(orders_by_users_a['user_id'].isin(abnormal_users))\n",
    "        ]['orders'],\n",
    "        pd.Series(\n",
    "            0,\n",
    "            index=np.arange(\n",
    "                data_merged['visitors_per_date_a'].sum() - len(orders_by_users_a['orders'])\n",
    "            ),\n",
    "            name='orders',\n",
    "        ),\n",
    "    ],\n",
    "    axis=0,\n",
    ")\n",
    "\n",
    "sample_b_filtered = pd.concat(\n",
    "    [\n",
    "        orders_by_users_b[\n",
    "            np.logical_not(orders_by_users_b['user_id'].isin(abnormal_users))\n",
    "        ]['orders'],\n",
    "        pd.Series(\n",
    "            0,\n",
    "            index=np.arange(\n",
    "                data_merged['visitors_per_date_b'].sum() - len(orders_by_users_b['orders'])\n",
    "            ),\n",
    "            name='orders',\n",
    "        ),\n",
    "    ],\n",
    "    axis=0,\n",
    ") "
   ]
  },
  {
   "cell_type": "markdown",
   "metadata": {},
   "source": [
    "Применим статистический критерий Манна-Уитни к полученным выборкам:"
   ]
  },
  {
   "cell_type": "markdown",
   "metadata": {},
   "source": [
    "Нулевая: различий в среднем количестве заказов по \"отфильтрованным\" данным между  группами нет. Альтернативная: различия в среднем между группами есть. Уровень зхначимости alpha=0.05."
   ]
  },
  {
   "cell_type": "code",
   "execution_count": 131,
   "metadata": {},
   "outputs": [
    {
     "name": "stdout",
     "output_type": "stream",
     "text": [
      "P-value: 0.016\n",
      "Отвергаем нулевую гипотезу: между группами есть разница\n",
      "Относительный прирост В к А: 17.393%\n"
     ]
    }
   ],
   "source": [
    "stat_significance(sample_a_filtered, sample_b_filtered)"
   ]
  },
  {
   "cell_type": "markdown",
   "metadata": {},
   "source": [
    "Вывод: по сырым данным у нас выходили такие значения: 0.011 и 0.159.  P-value увеличился, а  разница между сегментами увеличилась с 15% до 17%. "
   ]
  },
  {
   "cell_type": "markdown",
   "metadata": {},
   "source": [
    "### Посчитать статистическую значимость различий в среднем чеке заказа между группами по «очищенным» данным."
   ]
  },
  {
   "cell_type": "markdown",
   "metadata": {},
   "source": [
    "Нулевая гипотеза: различий в среднем чеке по \"отфильтрованным\" данным между группами нет. Альтернативная гипотеза: различия в среднем чеке между группами есть."
   ]
  },
  {
   "cell_type": "code",
   "execution_count": 132,
   "metadata": {},
   "outputs": [
    {
     "name": "stdout",
     "output_type": "stream",
     "text": [
      "0.727\n",
      "-0.034\n"
     ]
    }
   ],
   "source": [
    "print(\n",
    "    '{0:.3f}'.format(\n",
    "        stats.mannwhitneyu(\n",
    "            orders[\n",
    "                np.logical_and(\n",
    "                    orders['group'] == 'A',\n",
    "                    np.logical_not(orders['visitor_id'].isin(abnormal_users)),\n",
    "                )\n",
    "            ]['revenue'],\n",
    "            orders[\n",
    "                np.logical_and(\n",
    "                    orders['group'] == 'B',\n",
    "                    np.logical_not(orders['visitor_id'].isin(abnormal_users)),\n",
    "                )\n",
    "            ]['revenue'],\n",
    "        )[1]\n",
    "    )\n",
    ")\n",
    "\n",
    "print(\n",
    "    \"{0:.3f}\".format(\n",
    "        orders[\n",
    "            np.logical_and(\n",
    "                orders['group'] == 'B',\n",
    "                np.logical_not(orders['visitor_id'].isin(abnormal_users)),\n",
    "            )\n",
    "        ]['revenue'].mean()\n",
    "        / orders[\n",
    "            np.logical_and(\n",
    "                orders['group'] == 'A',\n",
    "                np.logical_not(orders['visitor_id'].isin(abnormal_users)),\n",
    "            )\n",
    "        ]['revenue'].mean()\n",
    "        - 1\n",
    "    )\n",
    ") \n"
   ]
  },
  {
   "cell_type": "markdown",
   "metadata": {},
   "source": [
    "Вывод: по сырым данным были получены значения 0.829 и 0.287.  \n",
    "    P-value немного увеличился, а разница между сегментами слкратилась с 28% до 3%.\n"
   ]
  },
  {
   "cell_type": "markdown",
   "metadata": {},
   "source": [
    "### Принять решение по результатам теста и объяснить его. Варианты решений:\n",
    "- Остановить тест, зафиксировать победу одной из групп.\n",
    "- Остановить тест, зафиксировать отсутствие различий между группами.\n",
    "- Продолжить тест."
   ]
  },
  {
   "cell_type": "markdown",
   "metadata": {},
   "source": [
    "Имеющиеся факты:\n",
    "\n",
    "- По среднему количеству заказов между группами по «сырым» и по данным после фильтрации аномалий есть различия:\n",
    "P-value увеличился, а разница между сегментами увеличилась с 15% до 17%;\n",
    "- Нет статистически значимого различия по среднему чеку между группами ни по «сырым», ни по данным после фильтрации аномалий;\n",
    "- График различия среднего количества заказов между группами сообщает, что в течение почти всего теста группа В лидировала по количеству заказов, на некоторое время она даже зафиксировалась на отметке в 10%, но под конец теста снова начала постепенно расти. Хоть соотношение количества заказов еще не стабилизировалось до конца, мы можем точно сказать, что группа В явно лидирует.\n",
    "- График различия среднего чека говорит о том, что группа В явно превосходит группу А по средним чекам в течение практически всего теста:\n",
    "\n",
    "Исходя из обнаруженных фактов, тест следует остановить и признать победу группы В. Продолжать смысла нет, потому как вероятность, что при имеющихся данных сегмент А на самом деле лучше сегмента В — практически нулевая."
   ]
  },
  {
   "cell_type": "code",
   "execution_count": null,
   "metadata": {},
   "outputs": [],
   "source": []
  }
 ],
 "metadata": {
  "ExecuteTimeLog": [
   {
    "duration": 861,
    "start_time": "2023-03-16T13:52:12.799Z"
   },
   {
    "duration": 91,
    "start_time": "2023-03-16T13:54:37.600Z"
   },
   {
    "duration": 3,
    "start_time": "2023-03-16T13:54:43.624Z"
   },
   {
    "duration": 35,
    "start_time": "2023-03-16T13:54:45.148Z"
   },
   {
    "duration": 32,
    "start_time": "2023-03-16T13:55:05.728Z"
   },
   {
    "duration": 93,
    "start_time": "2023-03-16T13:56:54.297Z"
   },
   {
    "duration": 10,
    "start_time": "2023-03-16T13:59:20.601Z"
   },
   {
    "duration": 8,
    "start_time": "2023-03-16T13:59:34.059Z"
   },
   {
    "duration": 12,
    "start_time": "2023-03-16T13:59:37.391Z"
   },
   {
    "duration": 31,
    "start_time": "2023-03-16T13:59:42.396Z"
   },
   {
    "duration": 11,
    "start_time": "2023-03-16T13:59:45.695Z"
   },
   {
    "duration": 13,
    "start_time": "2023-03-16T14:00:38.396Z"
   },
   {
    "duration": 13,
    "start_time": "2023-03-16T14:02:13.611Z"
   },
   {
    "duration": 48,
    "start_time": "2023-03-16T14:04:39.005Z"
   },
   {
    "duration": 8,
    "start_time": "2023-03-16T14:05:57.477Z"
   },
   {
    "duration": 10,
    "start_time": "2023-03-16T14:06:04.596Z"
   },
   {
    "duration": 98,
    "start_time": "2023-03-16T14:07:06.074Z"
   },
   {
    "duration": 190,
    "start_time": "2023-03-16T14:08:13.330Z"
   },
   {
    "duration": 3,
    "start_time": "2023-03-16T14:08:17.519Z"
   },
   {
    "duration": 50,
    "start_time": "2023-03-16T14:08:17.524Z"
   },
   {
    "duration": 12,
    "start_time": "2023-03-16T14:08:17.575Z"
   },
   {
    "duration": 48,
    "start_time": "2023-03-16T14:08:17.589Z"
   },
   {
    "duration": 26,
    "start_time": "2023-03-16T14:08:17.638Z"
   },
   {
    "duration": 12,
    "start_time": "2023-03-16T14:08:17.665Z"
   },
   {
    "duration": 405,
    "start_time": "2023-03-16T15:40:50.753Z"
   },
   {
    "duration": 91,
    "start_time": "2023-03-16T15:42:19.724Z"
   },
   {
    "duration": 64,
    "start_time": "2023-03-16T15:42:46.263Z"
   },
   {
    "duration": 78,
    "start_time": "2023-03-16T15:42:50.306Z"
   },
   {
    "duration": 68,
    "start_time": "2023-03-16T15:42:53.738Z"
   },
   {
    "duration": 32,
    "start_time": "2023-03-16T15:42:55.854Z"
   },
   {
    "duration": 34,
    "start_time": "2023-03-16T15:43:02.096Z"
   },
   {
    "duration": 34,
    "start_time": "2023-03-16T15:43:06.391Z"
   },
   {
    "duration": 14,
    "start_time": "2023-03-16T15:43:16.756Z"
   },
   {
    "duration": 10,
    "start_time": "2023-03-16T15:43:26.854Z"
   },
   {
    "duration": 7,
    "start_time": "2023-03-16T15:46:05.864Z"
   },
   {
    "duration": 8,
    "start_time": "2023-03-16T15:47:14.793Z"
   },
   {
    "duration": 15,
    "start_time": "2023-03-16T15:47:19.464Z"
   },
   {
    "duration": 46,
    "start_time": "2023-03-16T15:49:06.485Z"
   },
   {
    "duration": 26,
    "start_time": "2023-03-16T15:49:11.717Z"
   },
   {
    "duration": 164,
    "start_time": "2023-03-16T15:50:10.796Z"
   },
   {
    "duration": 11,
    "start_time": "2023-03-16T15:51:03.235Z"
   },
   {
    "duration": 12,
    "start_time": "2023-03-16T15:51:08.585Z"
   },
   {
    "duration": 123,
    "start_time": "2023-03-16T15:51:36.158Z"
   },
   {
    "duration": 197,
    "start_time": "2023-03-16T15:51:39.540Z"
   },
   {
    "duration": 16,
    "start_time": "2023-03-16T15:52:15.442Z"
   },
   {
    "duration": 10,
    "start_time": "2023-03-16T15:54:35.861Z"
   },
   {
    "duration": 8,
    "start_time": "2023-03-16T15:55:05.911Z"
   },
   {
    "duration": 181,
    "start_time": "2023-03-16T15:55:21.788Z"
   },
   {
    "duration": 133,
    "start_time": "2023-03-16T15:55:53.466Z"
   },
   {
    "duration": 10,
    "start_time": "2023-03-16T15:56:13.807Z"
   },
   {
    "duration": 223,
    "start_time": "2023-03-16T15:57:36.875Z"
   },
   {
    "duration": 4,
    "start_time": "2023-03-16T15:57:51.667Z"
   },
   {
    "duration": 51,
    "start_time": "2023-03-16T15:57:51.673Z"
   },
   {
    "duration": 14,
    "start_time": "2023-03-16T15:57:51.726Z"
   },
   {
    "duration": 37,
    "start_time": "2023-03-16T15:57:51.743Z"
   },
   {
    "duration": 31,
    "start_time": "2023-03-16T15:57:51.782Z"
   },
   {
    "duration": 25,
    "start_time": "2023-03-16T15:57:51.815Z"
   },
   {
    "duration": 85,
    "start_time": "2023-03-16T15:57:51.842Z"
   },
   {
    "duration": 10,
    "start_time": "2023-03-16T15:57:51.929Z"
   },
   {
    "duration": 20,
    "start_time": "2023-03-16T15:57:51.941Z"
   },
   {
    "duration": 34,
    "start_time": "2023-03-16T15:57:51.964Z"
   },
   {
    "duration": 12,
    "start_time": "2023-03-16T15:57:52.000Z"
   },
   {
    "duration": 22,
    "start_time": "2023-03-16T15:57:52.014Z"
   },
   {
    "duration": 271,
    "start_time": "2023-03-16T15:57:52.039Z"
   },
   {
    "duration": 164,
    "start_time": "2023-03-16T15:57:52.312Z"
   },
   {
    "duration": 256,
    "start_time": "2023-03-16T15:57:52.478Z"
   },
   {
    "duration": 12,
    "start_time": "2023-03-16T15:58:16.303Z"
   },
   {
    "duration": 14,
    "start_time": "2023-03-16T15:58:53.586Z"
   },
   {
    "duration": 16,
    "start_time": "2023-03-16T15:59:42.788Z"
   },
   {
    "duration": 14,
    "start_time": "2023-03-16T15:59:50.235Z"
   },
   {
    "duration": 13,
    "start_time": "2023-03-16T16:00:06.457Z"
   },
   {
    "duration": 13,
    "start_time": "2023-03-16T16:00:18.766Z"
   },
   {
    "duration": 130,
    "start_time": "2023-03-16T16:00:43.922Z"
   },
   {
    "duration": 206,
    "start_time": "2023-03-16T16:00:48.815Z"
   },
   {
    "duration": 454,
    "start_time": "2023-03-16T16:01:23.456Z"
   },
   {
    "duration": 3,
    "start_time": "2023-03-16T16:02:32.732Z"
   },
   {
    "duration": 51,
    "start_time": "2023-03-16T16:02:32.737Z"
   },
   {
    "duration": 11,
    "start_time": "2023-03-16T16:02:32.790Z"
   },
   {
    "duration": 15,
    "start_time": "2023-03-16T16:02:32.803Z"
   },
   {
    "duration": 50,
    "start_time": "2023-03-16T16:02:32.821Z"
   },
   {
    "duration": 23,
    "start_time": "2023-03-16T16:02:32.873Z"
   },
   {
    "duration": 61,
    "start_time": "2023-03-16T16:02:32.898Z"
   },
   {
    "duration": 9,
    "start_time": "2023-03-16T16:02:32.961Z"
   },
   {
    "duration": 14,
    "start_time": "2023-03-16T16:02:32.971Z"
   },
   {
    "duration": 22,
    "start_time": "2023-03-16T16:02:32.987Z"
   },
   {
    "duration": 11,
    "start_time": "2023-03-16T16:02:33.011Z"
   },
   {
    "duration": 22,
    "start_time": "2023-03-16T16:02:33.024Z"
   },
   {
    "duration": 176,
    "start_time": "2023-03-16T16:02:33.048Z"
   },
   {
    "duration": 134,
    "start_time": "2023-03-16T16:02:33.227Z"
   },
   {
    "duration": 13,
    "start_time": "2023-03-16T16:02:33.362Z"
   },
   {
    "duration": 8,
    "start_time": "2023-03-16T16:04:05.562Z"
   },
   {
    "duration": 20,
    "start_time": "2023-03-16T16:04:15.710Z"
   },
   {
    "duration": 260,
    "start_time": "2023-03-16T16:04:31.573Z"
   },
   {
    "duration": 193,
    "start_time": "2023-03-16T16:07:17.518Z"
   },
   {
    "duration": 179,
    "start_time": "2023-03-16T16:12:02.222Z"
   },
   {
    "duration": 330,
    "start_time": "2023-03-16T16:19:45.547Z"
   },
   {
    "duration": 312,
    "start_time": "2023-03-16T16:20:41.399Z"
   },
   {
    "duration": 243,
    "start_time": "2023-03-16T16:25:52.135Z"
   },
   {
    "duration": 308,
    "start_time": "2023-03-16T16:26:22.054Z"
   },
   {
    "duration": 17,
    "start_time": "2023-03-16T16:26:39.792Z"
   },
   {
    "duration": 208,
    "start_time": "2023-03-16T16:26:49.482Z"
   },
   {
    "duration": 14,
    "start_time": "2023-03-16T16:27:05.592Z"
   },
   {
    "duration": 214,
    "start_time": "2023-03-16T16:28:07.110Z"
   },
   {
    "duration": 201,
    "start_time": "2023-03-16T16:29:40.016Z"
   },
   {
    "duration": 181,
    "start_time": "2023-03-16T16:29:54.079Z"
   },
   {
    "duration": 180,
    "start_time": "2023-03-16T16:30:08.155Z"
   },
   {
    "duration": 217,
    "start_time": "2023-03-16T16:30:17.110Z"
   },
   {
    "duration": 178,
    "start_time": "2023-03-16T16:31:09.991Z"
   },
   {
    "duration": 175,
    "start_time": "2023-03-16T16:31:46.438Z"
   },
   {
    "duration": 194,
    "start_time": "2023-03-16T16:32:46.882Z"
   },
   {
    "duration": 178,
    "start_time": "2023-03-16T16:33:09.450Z"
   },
   {
    "duration": 279,
    "start_time": "2023-03-16T16:33:13.134Z"
   },
   {
    "duration": 374,
    "start_time": "2023-03-16T16:38:54.226Z"
   },
   {
    "duration": 291,
    "start_time": "2023-03-16T16:39:11.496Z"
   },
   {
    "duration": 308,
    "start_time": "2023-03-16T16:39:17.443Z"
   },
   {
    "duration": 262,
    "start_time": "2023-03-16T16:39:31.092Z"
   },
   {
    "duration": 261,
    "start_time": "2023-03-16T16:39:49.071Z"
   },
   {
    "duration": 262,
    "start_time": "2023-03-16T16:42:40.665Z"
   },
   {
    "duration": 10,
    "start_time": "2023-03-16T16:48:58.245Z"
   },
   {
    "duration": 11,
    "start_time": "2023-03-16T16:49:28.990Z"
   },
   {
    "duration": 13,
    "start_time": "2023-03-16T16:50:17.613Z"
   },
   {
    "duration": 53,
    "start_time": "2023-03-16T16:51:36.624Z"
   },
   {
    "duration": 164,
    "start_time": "2023-03-16T16:52:36.534Z"
   },
   {
    "duration": 157,
    "start_time": "2023-03-16T16:52:45.081Z"
   },
   {
    "duration": 8,
    "start_time": "2023-03-16T16:53:56.423Z"
   },
   {
    "duration": 123,
    "start_time": "2023-03-16T16:54:03.289Z"
   },
   {
    "duration": 6,
    "start_time": "2023-03-16T16:56:26.858Z"
   },
   {
    "duration": 9,
    "start_time": "2023-03-16T16:59:42.893Z"
   },
   {
    "duration": 6,
    "start_time": "2023-03-16T16:59:50.458Z"
   },
   {
    "duration": 5,
    "start_time": "2023-03-16T17:00:05.000Z"
   },
   {
    "duration": 148,
    "start_time": "2023-03-16T17:02:21.831Z"
   },
   {
    "duration": 233,
    "start_time": "2023-03-16T17:02:56.694Z"
   },
   {
    "duration": 58,
    "start_time": "2023-03-16T17:08:47.541Z"
   },
   {
    "duration": 59,
    "start_time": "2023-03-16T17:09:00.412Z"
   },
   {
    "duration": 5,
    "start_time": "2023-03-16T17:09:39.732Z"
   },
   {
    "duration": 11,
    "start_time": "2023-03-16T17:18:13.034Z"
   },
   {
    "duration": 15,
    "start_time": "2023-03-16T17:19:23.321Z"
   },
   {
    "duration": 855,
    "start_time": "2023-03-16T17:21:06.584Z"
   },
   {
    "duration": 275,
    "start_time": "2023-03-16T17:30:08.875Z"
   },
   {
    "duration": 865,
    "start_time": "2023-03-16T17:31:15.429Z"
   },
   {
    "duration": 866,
    "start_time": "2023-03-16T17:31:35.488Z"
   },
   {
    "duration": 3,
    "start_time": "2023-03-16T17:31:59.354Z"
   },
   {
    "duration": 33,
    "start_time": "2023-03-16T17:31:59.359Z"
   },
   {
    "duration": 11,
    "start_time": "2023-03-16T17:31:59.394Z"
   },
   {
    "duration": 10,
    "start_time": "2023-03-16T17:31:59.407Z"
   },
   {
    "duration": 16,
    "start_time": "2023-03-16T17:31:59.418Z"
   },
   {
    "duration": 15,
    "start_time": "2023-03-16T17:31:59.440Z"
   },
   {
    "duration": 56,
    "start_time": "2023-03-16T17:31:59.457Z"
   },
   {
    "duration": 10,
    "start_time": "2023-03-16T17:31:59.515Z"
   },
   {
    "duration": 14,
    "start_time": "2023-03-16T17:31:59.529Z"
   },
   {
    "duration": 23,
    "start_time": "2023-03-16T17:31:59.545Z"
   },
   {
    "duration": 9,
    "start_time": "2023-03-16T17:31:59.569Z"
   },
   {
    "duration": 6,
    "start_time": "2023-03-16T17:31:59.580Z"
   },
   {
    "duration": 176,
    "start_time": "2023-03-16T17:31:59.588Z"
   },
   {
    "duration": 144,
    "start_time": "2023-03-16T17:31:59.766Z"
   },
   {
    "duration": 11,
    "start_time": "2023-03-16T17:31:59.911Z"
   },
   {
    "duration": 21,
    "start_time": "2023-03-16T17:31:59.923Z"
   },
   {
    "duration": 186,
    "start_time": "2023-03-16T17:31:59.945Z"
   },
   {
    "duration": 178,
    "start_time": "2023-03-16T17:32:00.132Z"
   },
   {
    "duration": 290,
    "start_time": "2023-03-16T17:32:00.312Z"
   },
   {
    "duration": 201,
    "start_time": "2023-03-16T17:32:00.603Z"
   },
   {
    "duration": 320,
    "start_time": "2023-03-16T17:32:00.806Z"
   },
   {
    "duration": 13,
    "start_time": "2023-03-16T17:32:01.129Z"
   },
   {
    "duration": 61,
    "start_time": "2023-03-16T17:32:01.143Z"
   },
   {
    "duration": 137,
    "start_time": "2023-03-16T17:32:01.207Z"
   },
   {
    "duration": 130,
    "start_time": "2023-03-16T17:32:01.346Z"
   },
   {
    "duration": 5,
    "start_time": "2023-03-16T17:32:01.478Z"
   },
   {
    "duration": 172,
    "start_time": "2023-03-16T17:32:01.485Z"
   },
   {
    "duration": 142,
    "start_time": "2023-03-16T17:32:01.659Z"
   },
   {
    "duration": 4,
    "start_time": "2023-03-16T17:32:01.803Z"
   },
   {
    "duration": 262,
    "start_time": "2023-03-16T17:32:01.808Z"
   },
   {
    "duration": 852,
    "start_time": "2023-03-16T17:32:02.071Z"
   },
   {
    "duration": 130,
    "start_time": "2023-03-16T17:33:54.460Z"
   },
   {
    "duration": 125,
    "start_time": "2023-03-16T17:34:00.084Z"
   },
   {
    "duration": 167,
    "start_time": "2023-03-16T17:34:07.791Z"
   },
   {
    "duration": 138,
    "start_time": "2023-03-16T17:34:27.165Z"
   },
   {
    "duration": 29,
    "start_time": "2023-03-16T17:34:29.358Z"
   },
   {
    "duration": 12,
    "start_time": "2023-03-16T17:58:28.158Z"
   },
   {
    "duration": 811,
    "start_time": "2023-03-16T18:07:23.345Z"
   },
   {
    "duration": 11,
    "start_time": "2023-03-16T18:08:01.989Z"
   },
   {
    "duration": 12,
    "start_time": "2023-03-16T18:11:23.927Z"
   },
   {
    "duration": 34,
    "start_time": "2023-03-16T18:12:04.435Z"
   },
   {
    "duration": 22,
    "start_time": "2023-03-16T18:16:40.403Z"
   },
   {
    "duration": 29,
    "start_time": "2023-03-16T18:18:17.825Z"
   },
   {
    "duration": 4,
    "start_time": "2023-03-16T18:34:48.705Z"
   },
   {
    "duration": 51,
    "start_time": "2023-03-16T18:34:48.711Z"
   },
   {
    "duration": 11,
    "start_time": "2023-03-16T18:34:48.764Z"
   },
   {
    "duration": 13,
    "start_time": "2023-03-16T18:34:48.778Z"
   },
   {
    "duration": 21,
    "start_time": "2023-03-16T18:34:48.793Z"
   },
   {
    "duration": 26,
    "start_time": "2023-03-16T18:34:48.816Z"
   },
   {
    "duration": 70,
    "start_time": "2023-03-16T18:34:48.844Z"
   },
   {
    "duration": 9,
    "start_time": "2023-03-16T18:34:48.915Z"
   },
   {
    "duration": 12,
    "start_time": "2023-03-16T18:34:48.925Z"
   },
   {
    "duration": 31,
    "start_time": "2023-03-16T18:34:48.940Z"
   },
   {
    "duration": 10,
    "start_time": "2023-03-16T18:34:48.973Z"
   },
   {
    "duration": 10,
    "start_time": "2023-03-16T18:34:48.985Z"
   },
   {
    "duration": 233,
    "start_time": "2023-03-16T18:34:48.997Z"
   },
   {
    "duration": 171,
    "start_time": "2023-03-16T18:34:49.232Z"
   },
   {
    "duration": 17,
    "start_time": "2023-03-16T18:34:49.405Z"
   },
   {
    "duration": 30,
    "start_time": "2023-03-16T18:34:49.424Z"
   },
   {
    "duration": 330,
    "start_time": "2023-03-16T18:34:49.457Z"
   },
   {
    "duration": 184,
    "start_time": "2023-03-16T18:34:49.789Z"
   },
   {
    "duration": 271,
    "start_time": "2023-03-16T18:34:49.974Z"
   },
   {
    "duration": 195,
    "start_time": "2023-03-16T18:34:50.248Z"
   },
   {
    "duration": 298,
    "start_time": "2023-03-16T18:34:50.445Z"
   },
   {
    "duration": 9,
    "start_time": "2023-03-16T18:34:50.745Z"
   },
   {
    "duration": 31,
    "start_time": "2023-03-16T18:34:50.755Z"
   },
   {
    "duration": 154,
    "start_time": "2023-03-16T18:34:50.788Z"
   },
   {
    "duration": 130,
    "start_time": "2023-03-16T18:34:50.944Z"
   },
   {
    "duration": 6,
    "start_time": "2023-03-16T18:34:51.076Z"
   },
   {
    "duration": 153,
    "start_time": "2023-03-16T18:34:51.084Z"
   },
   {
    "duration": 143,
    "start_time": "2023-03-16T18:34:51.244Z"
   },
   {
    "duration": 5,
    "start_time": "2023-03-16T18:34:51.389Z"
   },
   {
    "duration": 277,
    "start_time": "2023-03-16T18:34:51.396Z"
   },
   {
    "duration": 155,
    "start_time": "2023-03-16T18:34:51.674Z"
   },
   {
    "duration": 36,
    "start_time": "2023-03-16T18:34:51.831Z"
   },
   {
    "duration": 12,
    "start_time": "2023-03-16T18:34:51.869Z"
   },
   {
    "duration": 10,
    "start_time": "2023-03-16T18:34:51.883Z"
   },
   {
    "duration": 45,
    "start_time": "2023-03-16T18:34:51.896Z"
   },
   {
    "duration": 25,
    "start_time": "2023-03-16T18:34:51.942Z"
   },
   {
    "duration": 15,
    "start_time": "2023-03-16T18:34:51.970Z"
   },
   {
    "duration": 1264,
    "start_time": "2023-03-17T18:23:02.134Z"
   },
   {
    "duration": 183,
    "start_time": "2023-03-17T18:23:03.404Z"
   },
   {
    "duration": 21,
    "start_time": "2023-03-17T18:23:03.590Z"
   },
   {
    "duration": 20,
    "start_time": "2023-03-17T18:23:03.616Z"
   },
   {
    "duration": 25,
    "start_time": "2023-03-17T18:23:03.638Z"
   },
   {
    "duration": 13,
    "start_time": "2023-03-17T18:23:03.665Z"
   },
   {
    "duration": 170,
    "start_time": "2023-03-17T18:23:03.679Z"
   },
   {
    "duration": 9,
    "start_time": "2023-03-17T18:23:03.851Z"
   },
   {
    "duration": 16,
    "start_time": "2023-03-17T18:23:03.862Z"
   },
   {
    "duration": 99,
    "start_time": "2023-03-17T18:23:03.883Z"
   },
   {
    "duration": 19,
    "start_time": "2023-03-17T18:23:03.985Z"
   },
   {
    "duration": 32,
    "start_time": "2023-03-17T18:23:04.013Z"
   },
   {
    "duration": 218,
    "start_time": "2023-03-17T18:23:04.047Z"
   },
   {
    "duration": 174,
    "start_time": "2023-03-17T18:23:04.267Z"
   },
   {
    "duration": 15,
    "start_time": "2023-03-17T18:23:04.442Z"
   },
   {
    "duration": 39,
    "start_time": "2023-03-17T18:23:04.459Z"
   },
   {
    "duration": 312,
    "start_time": "2023-03-17T18:23:04.500Z"
   },
   {
    "duration": 189,
    "start_time": "2023-03-17T18:23:04.818Z"
   },
   {
    "duration": 332,
    "start_time": "2023-03-17T18:23:05.010Z"
   },
   {
    "duration": 221,
    "start_time": "2023-03-17T18:23:05.345Z"
   },
   {
    "duration": 370,
    "start_time": "2023-03-17T18:23:05.568Z"
   },
   {
    "duration": 12,
    "start_time": "2023-03-17T18:23:05.940Z"
   },
   {
    "duration": 50,
    "start_time": "2023-03-17T18:23:05.955Z"
   },
   {
    "duration": 143,
    "start_time": "2023-03-17T18:23:06.008Z"
   },
   {
    "duration": 159,
    "start_time": "2023-03-17T18:23:06.153Z"
   },
   {
    "duration": 5,
    "start_time": "2023-03-17T18:23:06.313Z"
   },
   {
    "duration": 159,
    "start_time": "2023-03-17T18:23:06.320Z"
   },
   {
    "duration": 147,
    "start_time": "2023-03-17T18:23:06.482Z"
   },
   {
    "duration": 5,
    "start_time": "2023-03-17T18:23:06.630Z"
   },
   {
    "duration": 382,
    "start_time": "2023-03-17T18:23:06.636Z"
   },
   {
    "duration": 176,
    "start_time": "2023-03-17T18:23:07.020Z"
   },
   {
    "duration": 34,
    "start_time": "2023-03-17T18:23:07.198Z"
   },
   {
    "duration": 10,
    "start_time": "2023-03-17T18:23:07.233Z"
   },
   {
    "duration": 9,
    "start_time": "2023-03-17T18:23:07.245Z"
   },
   {
    "duration": 16,
    "start_time": "2023-03-17T18:23:07.256Z"
   },
   {
    "duration": 59,
    "start_time": "2023-03-17T18:23:07.274Z"
   },
   {
    "duration": 20,
    "start_time": "2023-03-17T18:23:07.335Z"
   },
   {
    "duration": 50,
    "start_time": "2023-03-17T18:52:30.359Z"
   },
   {
    "duration": 1322,
    "start_time": "2023-03-17T18:52:33.694Z"
   },
   {
    "duration": 153,
    "start_time": "2023-03-17T18:52:35.018Z"
   },
   {
    "duration": 12,
    "start_time": "2023-03-17T18:52:35.173Z"
   },
   {
    "duration": 10,
    "start_time": "2023-03-17T18:52:35.187Z"
   },
   {
    "duration": 15,
    "start_time": "2023-03-17T18:52:35.199Z"
   },
   {
    "duration": 11,
    "start_time": "2023-03-17T18:52:35.215Z"
   },
   {
    "duration": 104,
    "start_time": "2023-03-17T18:52:35.227Z"
   },
   {
    "duration": 11,
    "start_time": "2023-03-17T18:52:35.333Z"
   },
   {
    "duration": 33,
    "start_time": "2023-03-17T18:52:35.346Z"
   },
   {
    "duration": 93,
    "start_time": "2023-03-17T18:52:35.382Z"
   },
   {
    "duration": 14,
    "start_time": "2023-03-17T18:52:35.477Z"
   },
   {
    "duration": 12,
    "start_time": "2023-03-17T18:52:35.493Z"
   },
   {
    "duration": 176,
    "start_time": "2023-03-17T18:52:35.507Z"
   },
   {
    "duration": 123,
    "start_time": "2023-03-17T18:52:35.685Z"
   },
   {
    "duration": 14,
    "start_time": "2023-03-17T18:52:35.809Z"
   },
   {
    "duration": 10,
    "start_time": "2023-03-17T18:52:35.825Z"
   },
   {
    "duration": 308,
    "start_time": "2023-03-17T18:52:35.837Z"
   },
   {
    "duration": 186,
    "start_time": "2023-03-17T18:52:36.147Z"
   },
   {
    "duration": 331,
    "start_time": "2023-03-17T18:52:36.335Z"
   },
   {
    "duration": 189,
    "start_time": "2023-03-17T18:52:36.668Z"
   },
   {
    "duration": 307,
    "start_time": "2023-03-17T18:52:36.859Z"
   },
   {
    "duration": 8,
    "start_time": "2023-03-17T18:52:37.167Z"
   },
   {
    "duration": 22,
    "start_time": "2023-03-17T18:52:37.176Z"
   },
   {
    "duration": 116,
    "start_time": "2023-03-17T18:52:37.200Z"
   },
   {
    "duration": 126,
    "start_time": "2023-03-17T18:52:37.318Z"
   },
   {
    "duration": 4,
    "start_time": "2023-03-17T18:52:37.446Z"
   },
   {
    "duration": 152,
    "start_time": "2023-03-17T18:52:37.453Z"
   },
   {
    "duration": 151,
    "start_time": "2023-03-17T18:52:37.610Z"
   },
   {
    "duration": 5,
    "start_time": "2023-03-17T18:52:37.763Z"
   },
   {
    "duration": 309,
    "start_time": "2023-03-17T18:52:37.770Z"
   },
   {
    "duration": 152,
    "start_time": "2023-03-17T18:52:38.080Z"
   },
   {
    "duration": 30,
    "start_time": "2023-03-17T18:52:38.234Z"
   },
   {
    "duration": 29,
    "start_time": "2023-03-17T18:52:38.266Z"
   },
   {
    "duration": 10,
    "start_time": "2023-03-17T18:52:38.297Z"
   },
   {
    "duration": 16,
    "start_time": "2023-03-17T18:52:38.309Z"
   },
   {
    "duration": 28,
    "start_time": "2023-03-17T18:52:38.326Z"
   },
   {
    "duration": 17,
    "start_time": "2023-03-17T18:52:38.356Z"
   },
   {
    "duration": 6,
    "start_time": "2023-03-17T18:52:54.348Z"
   },
   {
    "duration": 11,
    "start_time": "2023-03-17T18:53:18.829Z"
   },
   {
    "duration": 9,
    "start_time": "2023-03-17T18:54:54.907Z"
   },
   {
    "duration": 11,
    "start_time": "2023-03-17T18:55:51.947Z"
   },
   {
    "duration": 9,
    "start_time": "2023-03-17T19:00:10.079Z"
   },
   {
    "duration": 6,
    "start_time": "2023-03-17T19:00:30.838Z"
   },
   {
    "duration": 9,
    "start_time": "2023-03-17T19:01:06.333Z"
   },
   {
    "duration": 10,
    "start_time": "2023-03-17T19:01:24.032Z"
   },
   {
    "duration": 48,
    "start_time": "2023-03-17T19:02:40.715Z"
   },
   {
    "duration": 56,
    "start_time": "2023-03-21T09:08:23.139Z"
   },
   {
    "duration": 1546,
    "start_time": "2023-03-21T09:08:31.661Z"
   },
   {
    "duration": 139,
    "start_time": "2023-03-21T09:08:33.209Z"
   },
   {
    "duration": 12,
    "start_time": "2023-03-21T09:08:33.349Z"
   },
   {
    "duration": 14,
    "start_time": "2023-03-21T09:08:33.362Z"
   },
   {
    "duration": 15,
    "start_time": "2023-03-21T09:08:33.378Z"
   },
   {
    "duration": 11,
    "start_time": "2023-03-21T09:08:33.394Z"
   },
   {
    "duration": 116,
    "start_time": "2023-03-21T09:08:33.406Z"
   },
   {
    "duration": 8,
    "start_time": "2023-03-21T09:08:33.524Z"
   },
   {
    "duration": 22,
    "start_time": "2023-03-21T09:08:33.533Z"
   },
   {
    "duration": 8,
    "start_time": "2023-03-21T09:08:33.557Z"
   },
   {
    "duration": 12,
    "start_time": "2023-03-21T09:08:33.567Z"
   },
   {
    "duration": 71,
    "start_time": "2023-03-21T09:08:33.581Z"
   },
   {
    "duration": 13,
    "start_time": "2023-03-21T09:08:33.653Z"
   },
   {
    "duration": 9,
    "start_time": "2023-03-21T09:08:33.671Z"
   },
   {
    "duration": 9,
    "start_time": "2023-03-21T09:08:33.682Z"
   },
   {
    "duration": 8,
    "start_time": "2023-03-21T09:08:33.692Z"
   },
   {
    "duration": 185,
    "start_time": "2023-03-21T09:08:33.701Z"
   },
   {
    "duration": 139,
    "start_time": "2023-03-21T09:08:33.888Z"
   },
   {
    "duration": 12,
    "start_time": "2023-03-21T09:08:34.029Z"
   },
   {
    "duration": 15,
    "start_time": "2023-03-21T09:08:34.043Z"
   },
   {
    "duration": 304,
    "start_time": "2023-03-21T09:08:34.060Z"
   },
   {
    "duration": 184,
    "start_time": "2023-03-21T09:08:34.366Z"
   },
   {
    "duration": 344,
    "start_time": "2023-03-21T09:08:34.552Z"
   },
   {
    "duration": 195,
    "start_time": "2023-03-21T09:08:34.898Z"
   },
   {
    "duration": 306,
    "start_time": "2023-03-21T09:08:35.095Z"
   },
   {
    "duration": 8,
    "start_time": "2023-03-21T09:08:35.404Z"
   },
   {
    "duration": 20,
    "start_time": "2023-03-21T09:08:35.414Z"
   },
   {
    "duration": 171,
    "start_time": "2023-03-21T09:08:35.436Z"
   },
   {
    "duration": 133,
    "start_time": "2023-03-21T09:08:35.609Z"
   },
   {
    "duration": 4,
    "start_time": "2023-03-21T09:08:35.744Z"
   },
   {
    "duration": 141,
    "start_time": "2023-03-21T09:08:35.750Z"
   },
   {
    "duration": 134,
    "start_time": "2023-03-21T09:08:35.893Z"
   },
   {
    "duration": 4,
    "start_time": "2023-03-21T09:08:36.029Z"
   },
   {
    "duration": 307,
    "start_time": "2023-03-21T09:08:36.034Z"
   },
   {
    "duration": 138,
    "start_time": "2023-03-21T09:08:36.343Z"
   },
   {
    "duration": 29,
    "start_time": "2023-03-21T09:08:36.483Z"
   },
   {
    "duration": 15,
    "start_time": "2023-03-21T09:08:36.514Z"
   },
   {
    "duration": 42,
    "start_time": "2023-03-21T09:08:36.531Z"
   },
   {
    "duration": 32,
    "start_time": "2023-03-21T09:08:36.576Z"
   },
   {
    "duration": 43,
    "start_time": "2023-03-21T09:08:36.609Z"
   },
   {
    "duration": 15,
    "start_time": "2023-03-21T09:08:36.656Z"
   },
   {
    "duration": 205,
    "start_time": "2023-03-21T09:09:20.711Z"
   },
   {
    "duration": 211,
    "start_time": "2023-03-21T09:09:27.091Z"
   },
   {
    "duration": 236,
    "start_time": "2023-03-21T09:21:09.609Z"
   },
   {
    "duration": 2,
    "start_time": "2023-03-21T09:21:12.580Z"
   },
   {
    "duration": 35,
    "start_time": "2023-03-21T09:21:12.594Z"
   },
   {
    "duration": 10,
    "start_time": "2023-03-21T09:21:12.631Z"
   },
   {
    "duration": 10,
    "start_time": "2023-03-21T09:21:12.644Z"
   },
   {
    "duration": 30,
    "start_time": "2023-03-21T09:21:12.656Z"
   },
   {
    "duration": 16,
    "start_time": "2023-03-21T09:21:12.688Z"
   },
   {
    "duration": 54,
    "start_time": "2023-03-21T09:21:12.705Z"
   },
   {
    "duration": 8,
    "start_time": "2023-03-21T09:21:12.761Z"
   },
   {
    "duration": 28,
    "start_time": "2023-03-21T09:21:12.772Z"
   },
   {
    "duration": 7,
    "start_time": "2023-03-21T09:21:12.802Z"
   },
   {
    "duration": 14,
    "start_time": "2023-03-21T09:21:12.811Z"
   },
   {
    "duration": 22,
    "start_time": "2023-03-21T09:21:12.826Z"
   },
   {
    "duration": 10,
    "start_time": "2023-03-21T09:21:12.849Z"
   },
   {
    "duration": 11,
    "start_time": "2023-03-21T09:21:12.861Z"
   },
   {
    "duration": 20,
    "start_time": "2023-03-21T09:21:12.873Z"
   },
   {
    "duration": 11,
    "start_time": "2023-03-21T09:21:12.895Z"
   },
   {
    "duration": 181,
    "start_time": "2023-03-21T09:21:12.908Z"
   },
   {
    "duration": 123,
    "start_time": "2023-03-21T09:21:13.091Z"
   },
   {
    "duration": 12,
    "start_time": "2023-03-21T09:21:13.215Z"
   },
   {
    "duration": 50,
    "start_time": "2023-03-21T09:21:13.229Z"
   },
   {
    "duration": 201,
    "start_time": "2023-03-21T09:21:13.286Z"
   },
   {
    "duration": 0,
    "start_time": "2023-03-21T09:21:13.489Z"
   },
   {
    "duration": 0,
    "start_time": "2023-03-21T09:21:13.490Z"
   },
   {
    "duration": 0,
    "start_time": "2023-03-21T09:21:13.491Z"
   },
   {
    "duration": 0,
    "start_time": "2023-03-21T09:21:13.492Z"
   },
   {
    "duration": 0,
    "start_time": "2023-03-21T09:21:13.493Z"
   },
   {
    "duration": 0,
    "start_time": "2023-03-21T09:21:13.494Z"
   },
   {
    "duration": 0,
    "start_time": "2023-03-21T09:21:13.496Z"
   },
   {
    "duration": 0,
    "start_time": "2023-03-21T09:21:13.497Z"
   },
   {
    "duration": 0,
    "start_time": "2023-03-21T09:21:13.498Z"
   },
   {
    "duration": 0,
    "start_time": "2023-03-21T09:21:13.499Z"
   },
   {
    "duration": 0,
    "start_time": "2023-03-21T09:21:13.500Z"
   },
   {
    "duration": 0,
    "start_time": "2023-03-21T09:21:13.502Z"
   },
   {
    "duration": 0,
    "start_time": "2023-03-21T09:21:13.503Z"
   },
   {
    "duration": 0,
    "start_time": "2023-03-21T09:21:13.504Z"
   },
   {
    "duration": 0,
    "start_time": "2023-03-21T09:21:13.505Z"
   },
   {
    "duration": 0,
    "start_time": "2023-03-21T09:21:13.506Z"
   },
   {
    "duration": 0,
    "start_time": "2023-03-21T09:21:13.507Z"
   },
   {
    "duration": 0,
    "start_time": "2023-03-21T09:21:13.508Z"
   },
   {
    "duration": 0,
    "start_time": "2023-03-21T09:21:13.509Z"
   },
   {
    "duration": 0,
    "start_time": "2023-03-21T09:21:13.510Z"
   },
   {
    "duration": 314,
    "start_time": "2023-03-21T09:21:44.150Z"
   },
   {
    "duration": 318,
    "start_time": "2023-03-21T09:22:16.491Z"
   },
   {
    "duration": 338,
    "start_time": "2023-03-21T09:22:32.065Z"
   },
   {
    "duration": 209,
    "start_time": "2023-03-21T09:23:25.855Z"
   },
   {
    "duration": 11,
    "start_time": "2023-03-21T09:23:42.545Z"
   },
   {
    "duration": 58,
    "start_time": "2023-03-21T09:24:03.227Z"
   },
   {
    "duration": 289,
    "start_time": "2023-03-21T09:24:11.417Z"
   },
   {
    "duration": 348,
    "start_time": "2023-03-21T09:24:39.110Z"
   },
   {
    "duration": 3,
    "start_time": "2023-03-21T09:26:50.067Z"
   },
   {
    "duration": 53,
    "start_time": "2023-03-21T09:26:50.072Z"
   },
   {
    "duration": 13,
    "start_time": "2023-03-21T09:26:50.127Z"
   },
   {
    "duration": 20,
    "start_time": "2023-03-21T09:26:50.142Z"
   },
   {
    "duration": 14,
    "start_time": "2023-03-21T09:26:50.163Z"
   },
   {
    "duration": 18,
    "start_time": "2023-03-21T09:26:50.179Z"
   },
   {
    "duration": 65,
    "start_time": "2023-03-21T09:26:50.199Z"
   },
   {
    "duration": 8,
    "start_time": "2023-03-21T09:26:50.266Z"
   },
   {
    "duration": 12,
    "start_time": "2023-03-21T09:26:50.277Z"
   },
   {
    "duration": 10,
    "start_time": "2023-03-21T09:26:50.290Z"
   },
   {
    "duration": 9,
    "start_time": "2023-03-21T09:26:50.301Z"
   },
   {
    "duration": 26,
    "start_time": "2023-03-21T09:26:50.311Z"
   },
   {
    "duration": 10,
    "start_time": "2023-03-21T09:26:50.339Z"
   },
   {
    "duration": 12,
    "start_time": "2023-03-21T09:26:50.351Z"
   },
   {
    "duration": 8,
    "start_time": "2023-03-21T09:26:50.374Z"
   },
   {
    "duration": 11,
    "start_time": "2023-03-21T09:26:50.384Z"
   },
   {
    "duration": 177,
    "start_time": "2023-03-21T09:26:50.397Z"
   },
   {
    "duration": 127,
    "start_time": "2023-03-21T09:26:50.576Z"
   },
   {
    "duration": 13,
    "start_time": "2023-03-21T09:26:50.705Z"
   },
   {
    "duration": 14,
    "start_time": "2023-03-21T09:26:50.720Z"
   },
   {
    "duration": 286,
    "start_time": "2023-03-21T09:26:50.735Z"
   },
   {
    "duration": 260,
    "start_time": "2023-03-21T09:26:51.023Z"
   },
   {
    "duration": 372,
    "start_time": "2023-03-21T09:26:51.285Z"
   },
   {
    "duration": 259,
    "start_time": "2023-03-21T09:26:51.662Z"
   },
   {
    "duration": 373,
    "start_time": "2023-03-21T09:26:51.922Z"
   },
   {
    "duration": 8,
    "start_time": "2023-03-21T09:26:52.297Z"
   },
   {
    "duration": 23,
    "start_time": "2023-03-21T09:26:52.307Z"
   },
   {
    "duration": 184,
    "start_time": "2023-03-21T09:26:52.332Z"
   },
   {
    "duration": 175,
    "start_time": "2023-03-21T09:26:52.518Z"
   },
   {
    "duration": 4,
    "start_time": "2023-03-21T09:26:52.695Z"
   },
   {
    "duration": 274,
    "start_time": "2023-03-21T09:26:52.701Z"
   },
   {
    "duration": 219,
    "start_time": "2023-03-21T09:26:52.977Z"
   },
   {
    "duration": 5,
    "start_time": "2023-03-21T09:26:53.197Z"
   },
   {
    "duration": 254,
    "start_time": "2023-03-21T09:26:53.204Z"
   },
   {
    "duration": 148,
    "start_time": "2023-03-21T09:26:53.460Z"
   },
   {
    "duration": 26,
    "start_time": "2023-03-21T09:26:53.610Z"
   },
   {
    "duration": 9,
    "start_time": "2023-03-21T09:26:53.638Z"
   },
   {
    "duration": 29,
    "start_time": "2023-03-21T09:26:53.649Z"
   },
   {
    "duration": 11,
    "start_time": "2023-03-21T09:26:53.680Z"
   },
   {
    "duration": 34,
    "start_time": "2023-03-21T09:26:53.692Z"
   },
   {
    "duration": 17,
    "start_time": "2023-03-21T09:26:53.728Z"
   },
   {
    "duration": 287,
    "start_time": "2023-03-21T09:30:08.014Z"
   },
   {
    "duration": 519,
    "start_time": "2023-03-21T09:30:46.774Z"
   },
   {
    "duration": 432,
    "start_time": "2023-03-21T09:32:42.994Z"
   },
   {
    "duration": 280,
    "start_time": "2023-03-21T09:32:53.579Z"
   },
   {
    "duration": 287,
    "start_time": "2023-03-21T09:33:01.577Z"
   },
   {
    "duration": 279,
    "start_time": "2023-03-21T09:33:09.722Z"
   },
   {
    "duration": 393,
    "start_time": "2023-03-21T09:35:54.067Z"
   },
   {
    "duration": 385,
    "start_time": "2023-03-21T09:36:54.626Z"
   },
   {
    "duration": 350,
    "start_time": "2023-03-21T09:37:53.396Z"
   },
   {
    "duration": 160,
    "start_time": "2023-03-21T09:39:45.887Z"
   },
   {
    "duration": 147,
    "start_time": "2023-03-21T09:40:04.577Z"
   },
   {
    "duration": 242,
    "start_time": "2023-03-21T09:40:33.480Z"
   },
   {
    "duration": 187,
    "start_time": "2023-03-21T09:41:51.535Z"
   },
   {
    "duration": 174,
    "start_time": "2023-03-21T09:42:22.980Z"
   },
   {
    "duration": 184,
    "start_time": "2023-03-21T09:42:48.909Z"
   },
   {
    "duration": 180,
    "start_time": "2023-03-21T09:45:19.566Z"
   },
   {
    "duration": 171,
    "start_time": "2023-03-21T09:45:37.155Z"
   },
   {
    "duration": 159,
    "start_time": "2023-03-21T09:45:41.285Z"
   },
   {
    "duration": 188,
    "start_time": "2023-03-21T09:45:45.445Z"
   },
   {
    "duration": 176,
    "start_time": "2023-03-21T09:45:58.902Z"
   },
   {
    "duration": 148,
    "start_time": "2023-03-21T09:47:48.143Z"
   },
   {
    "duration": 6,
    "start_time": "2023-03-21T09:53:17.756Z"
   },
   {
    "duration": 4,
    "start_time": "2023-03-21T09:53:23.014Z"
   },
   {
    "duration": 24,
    "start_time": "2023-03-21T09:54:05.938Z"
   },
   {
    "duration": 228,
    "start_time": "2023-03-21T09:57:13.073Z"
   },
   {
    "duration": 13,
    "start_time": "2023-03-21T10:02:18.267Z"
   },
   {
    "duration": 13,
    "start_time": "2023-03-21T10:02:39.914Z"
   },
   {
    "duration": 24,
    "start_time": "2023-03-21T10:08:21.877Z"
   },
   {
    "duration": 41,
    "start_time": "2023-03-21T10:08:35.782Z"
   },
   {
    "duration": 25,
    "start_time": "2023-03-21T10:08:47.120Z"
   },
   {
    "duration": 18,
    "start_time": "2023-03-21T10:12:05.524Z"
   },
   {
    "duration": 155,
    "start_time": "2023-03-21T10:13:23.943Z"
   },
   {
    "duration": 335,
    "start_time": "2023-03-21T10:34:17.623Z"
   },
   {
    "duration": 7,
    "start_time": "2023-03-21T10:36:59.754Z"
   },
   {
    "duration": 6,
    "start_time": "2023-03-21T10:37:13.312Z"
   },
   {
    "duration": 5,
    "start_time": "2023-03-21T10:37:25.810Z"
   },
   {
    "duration": 5,
    "start_time": "2023-03-21T10:39:14.242Z"
   },
   {
    "duration": 6,
    "start_time": "2023-03-21T10:39:19.643Z"
   },
   {
    "duration": 6,
    "start_time": "2023-03-21T10:39:23.951Z"
   },
   {
    "duration": 4,
    "start_time": "2023-03-21T10:39:39.485Z"
   },
   {
    "duration": 6,
    "start_time": "2023-03-21T10:41:03.328Z"
   },
   {
    "duration": 4,
    "start_time": "2023-03-21T10:41:23.023Z"
   },
   {
    "duration": 4,
    "start_time": "2023-03-21T10:41:27.053Z"
   },
   {
    "duration": 4,
    "start_time": "2023-03-21T10:42:50.914Z"
   },
   {
    "duration": 12,
    "start_time": "2023-03-21T10:45:12.304Z"
   },
   {
    "duration": 16,
    "start_time": "2023-03-21T10:45:27.189Z"
   },
   {
    "duration": 4,
    "start_time": "2023-03-21T10:46:34.695Z"
   },
   {
    "duration": 48,
    "start_time": "2023-03-21T10:46:34.701Z"
   },
   {
    "duration": 12,
    "start_time": "2023-03-21T10:46:34.751Z"
   },
   {
    "duration": 40,
    "start_time": "2023-03-21T10:46:34.765Z"
   },
   {
    "duration": 25,
    "start_time": "2023-03-21T10:46:34.808Z"
   },
   {
    "duration": 19,
    "start_time": "2023-03-21T10:46:34.835Z"
   },
   {
    "duration": 71,
    "start_time": "2023-03-21T10:46:34.856Z"
   },
   {
    "duration": 13,
    "start_time": "2023-03-21T10:46:34.929Z"
   },
   {
    "duration": 44,
    "start_time": "2023-03-21T10:46:34.945Z"
   },
   {
    "duration": 26,
    "start_time": "2023-03-21T10:46:34.990Z"
   },
   {
    "duration": 25,
    "start_time": "2023-03-21T10:46:35.019Z"
   },
   {
    "duration": 60,
    "start_time": "2023-03-21T10:46:35.046Z"
   },
   {
    "duration": 12,
    "start_time": "2023-03-21T10:46:35.108Z"
   },
   {
    "duration": 17,
    "start_time": "2023-03-21T10:46:35.124Z"
   },
   {
    "duration": 21,
    "start_time": "2023-03-21T10:46:35.142Z"
   },
   {
    "duration": 37,
    "start_time": "2023-03-21T10:46:35.167Z"
   },
   {
    "duration": 23,
    "start_time": "2023-03-21T10:46:35.206Z"
   },
   {
    "duration": 455,
    "start_time": "2023-03-21T10:46:35.231Z"
   },
   {
    "duration": 4,
    "start_time": "2023-03-21T10:46:35.692Z"
   },
   {
    "duration": 10,
    "start_time": "2023-03-21T10:46:35.699Z"
   },
   {
    "duration": 199,
    "start_time": "2023-03-21T10:46:35.711Z"
   },
   {
    "duration": 174,
    "start_time": "2023-03-21T10:46:35.913Z"
   },
   {
    "duration": 16,
    "start_time": "2023-03-21T10:46:36.089Z"
   },
   {
    "duration": 7,
    "start_time": "2023-03-21T10:46:36.107Z"
   },
   {
    "duration": 370,
    "start_time": "2023-03-21T10:46:36.116Z"
   },
   {
    "duration": 365,
    "start_time": "2023-03-21T10:46:36.488Z"
   },
   {
    "duration": 561,
    "start_time": "2023-03-21T10:46:36.856Z"
   },
   {
    "duration": 339,
    "start_time": "2023-03-21T10:46:37.419Z"
   },
   {
    "duration": 468,
    "start_time": "2023-03-21T10:46:37.760Z"
   },
   {
    "duration": 9,
    "start_time": "2023-03-21T10:46:38.230Z"
   },
   {
    "duration": 16,
    "start_time": "2023-03-21T10:46:38.242Z"
   },
   {
    "duration": 261,
    "start_time": "2023-03-21T10:46:38.260Z"
   },
   {
    "duration": 220,
    "start_time": "2023-03-21T10:46:38.523Z"
   },
   {
    "duration": 5,
    "start_time": "2023-03-21T10:46:38.746Z"
   },
   {
    "duration": 274,
    "start_time": "2023-03-21T10:46:38.752Z"
   },
   {
    "duration": 225,
    "start_time": "2023-03-21T10:46:39.028Z"
   },
   {
    "duration": 232,
    "start_time": "2023-03-21T10:46:39.255Z"
   },
   {
    "duration": 8,
    "start_time": "2023-03-21T10:46:39.489Z"
   },
   {
    "duration": 298,
    "start_time": "2023-03-21T10:46:39.498Z"
   },
   {
    "duration": 196,
    "start_time": "2023-03-21T10:46:39.798Z"
   },
   {
    "duration": 8,
    "start_time": "2023-03-21T10:46:40.001Z"
   },
   {
    "duration": 9,
    "start_time": "2023-03-21T10:46:40.011Z"
   },
   {
    "duration": 32,
    "start_time": "2023-03-21T10:46:40.022Z"
   },
   {
    "duration": 30,
    "start_time": "2023-03-21T10:46:40.056Z"
   },
   {
    "duration": 35,
    "start_time": "2023-03-21T10:46:40.089Z"
   },
   {
    "duration": 11,
    "start_time": "2023-03-21T10:46:40.126Z"
   },
   {
    "duration": 58,
    "start_time": "2023-03-21T10:46:40.139Z"
   },
   {
    "duration": 19,
    "start_time": "2023-03-21T10:46:40.199Z"
   },
   {
    "duration": 13,
    "start_time": "2023-03-21T10:47:39.289Z"
   },
   {
    "duration": 21,
    "start_time": "2023-03-21T10:49:14.701Z"
   },
   {
    "duration": 16,
    "start_time": "2023-03-21T10:49:24.832Z"
   },
   {
    "duration": 17,
    "start_time": "2023-03-21T10:49:31.636Z"
   },
   {
    "duration": 16,
    "start_time": "2023-03-21T10:49:33.539Z"
   },
   {
    "duration": 3,
    "start_time": "2023-03-21T10:50:34.976Z"
   },
   {
    "duration": 44,
    "start_time": "2023-03-21T10:50:34.981Z"
   },
   {
    "duration": 12,
    "start_time": "2023-03-21T10:50:35.028Z"
   },
   {
    "duration": 22,
    "start_time": "2023-03-21T10:50:35.042Z"
   },
   {
    "duration": 20,
    "start_time": "2023-03-21T10:50:35.066Z"
   },
   {
    "duration": 18,
    "start_time": "2023-03-21T10:50:35.089Z"
   },
   {
    "duration": 63,
    "start_time": "2023-03-21T10:50:35.110Z"
   },
   {
    "duration": 10,
    "start_time": "2023-03-21T10:50:35.175Z"
   },
   {
    "duration": 19,
    "start_time": "2023-03-21T10:50:35.188Z"
   },
   {
    "duration": 18,
    "start_time": "2023-03-21T10:50:35.209Z"
   },
   {
    "duration": 21,
    "start_time": "2023-03-21T10:50:35.229Z"
   },
   {
    "duration": 24,
    "start_time": "2023-03-21T10:50:35.251Z"
   },
   {
    "duration": 10,
    "start_time": "2023-03-21T10:50:35.277Z"
   },
   {
    "duration": 15,
    "start_time": "2023-03-21T10:50:35.289Z"
   },
   {
    "duration": 10,
    "start_time": "2023-03-21T10:50:35.306Z"
   },
   {
    "duration": 9,
    "start_time": "2023-03-21T10:50:35.318Z"
   },
   {
    "duration": 10,
    "start_time": "2023-03-21T10:50:35.329Z"
   },
   {
    "duration": 370,
    "start_time": "2023-03-21T10:50:35.342Z"
   },
   {
    "duration": 2,
    "start_time": "2023-03-21T10:50:35.715Z"
   },
   {
    "duration": 22,
    "start_time": "2023-03-21T10:50:35.719Z"
   },
   {
    "duration": 229,
    "start_time": "2023-03-21T10:50:35.744Z"
   },
   {
    "duration": 131,
    "start_time": "2023-03-21T10:50:35.975Z"
   },
   {
    "duration": 12,
    "start_time": "2023-03-21T10:50:36.108Z"
   },
   {
    "duration": 9,
    "start_time": "2023-03-21T10:50:36.124Z"
   },
   {
    "duration": 319,
    "start_time": "2023-03-21T10:50:36.134Z"
   },
   {
    "duration": 299,
    "start_time": "2023-03-21T10:50:36.454Z"
   },
   {
    "duration": 439,
    "start_time": "2023-03-21T10:50:36.755Z"
   },
   {
    "duration": 390,
    "start_time": "2023-03-21T10:50:37.195Z"
   },
   {
    "duration": 379,
    "start_time": "2023-03-21T10:50:37.588Z"
   },
   {
    "duration": 11,
    "start_time": "2023-03-21T10:50:37.969Z"
   },
   {
    "duration": 18,
    "start_time": "2023-03-21T10:50:37.981Z"
   },
   {
    "duration": 177,
    "start_time": "2023-03-21T10:50:38.001Z"
   },
   {
    "duration": 187,
    "start_time": "2023-03-21T10:50:38.180Z"
   },
   {
    "duration": 4,
    "start_time": "2023-03-21T10:50:38.374Z"
   },
   {
    "duration": 199,
    "start_time": "2023-03-21T10:50:38.380Z"
   },
   {
    "duration": 193,
    "start_time": "2023-03-21T10:50:38.581Z"
   },
   {
    "duration": 194,
    "start_time": "2023-03-21T10:50:38.775Z"
   },
   {
    "duration": 5,
    "start_time": "2023-03-21T10:50:38.973Z"
   },
   {
    "duration": 242,
    "start_time": "2023-03-21T10:50:38.979Z"
   },
   {
    "duration": 140,
    "start_time": "2023-03-21T10:50:39.222Z"
   },
   {
    "duration": 10,
    "start_time": "2023-03-21T10:50:39.364Z"
   },
   {
    "duration": 11,
    "start_time": "2023-03-21T10:50:39.376Z"
   },
   {
    "duration": 33,
    "start_time": "2023-03-21T10:50:39.389Z"
   },
   {
    "duration": 13,
    "start_time": "2023-03-21T10:50:39.424Z"
   },
   {
    "duration": 14,
    "start_time": "2023-03-21T10:50:39.439Z"
   },
   {
    "duration": 9,
    "start_time": "2023-03-21T10:50:39.475Z"
   },
   {
    "duration": 25,
    "start_time": "2023-03-21T10:50:39.486Z"
   },
   {
    "duration": 14,
    "start_time": "2023-03-21T10:50:39.513Z"
   },
   {
    "duration": 13,
    "start_time": "2023-03-21T10:51:29.241Z"
   },
   {
    "duration": 24,
    "start_time": "2023-03-21T10:51:52.492Z"
   },
   {
    "duration": 16,
    "start_time": "2023-03-21T10:52:00.289Z"
   },
   {
    "duration": 3,
    "start_time": "2023-03-21T10:52:13.462Z"
   },
   {
    "duration": 53,
    "start_time": "2023-03-21T10:52:13.467Z"
   },
   {
    "duration": 10,
    "start_time": "2023-03-21T10:52:13.522Z"
   },
   {
    "duration": 8,
    "start_time": "2023-03-21T10:52:13.534Z"
   },
   {
    "duration": 14,
    "start_time": "2023-03-21T10:52:13.543Z"
   },
   {
    "duration": 26,
    "start_time": "2023-03-21T10:52:13.558Z"
   },
   {
    "duration": 69,
    "start_time": "2023-03-21T10:52:13.588Z"
   },
   {
    "duration": 9,
    "start_time": "2023-03-21T10:52:13.658Z"
   },
   {
    "duration": 29,
    "start_time": "2023-03-21T10:52:13.670Z"
   },
   {
    "duration": 13,
    "start_time": "2023-03-21T10:52:13.701Z"
   },
   {
    "duration": 9,
    "start_time": "2023-03-21T10:52:13.716Z"
   },
   {
    "duration": 24,
    "start_time": "2023-03-21T10:52:13.727Z"
   },
   {
    "duration": 11,
    "start_time": "2023-03-21T10:52:13.753Z"
   },
   {
    "duration": 24,
    "start_time": "2023-03-21T10:52:13.765Z"
   },
   {
    "duration": 19,
    "start_time": "2023-03-21T10:52:13.791Z"
   },
   {
    "duration": 9,
    "start_time": "2023-03-21T10:52:13.813Z"
   },
   {
    "duration": 10,
    "start_time": "2023-03-21T10:52:13.823Z"
   },
   {
    "duration": 328,
    "start_time": "2023-03-21T10:52:13.835Z"
   },
   {
    "duration": 29,
    "start_time": "2023-03-21T10:52:14.164Z"
   },
   {
    "duration": 22,
    "start_time": "2023-03-21T10:52:14.195Z"
   },
   {
    "duration": 13,
    "start_time": "2023-03-21T10:52:14.219Z"
   },
   {
    "duration": 12,
    "start_time": "2023-03-21T10:52:14.233Z"
   },
   {
    "duration": 175,
    "start_time": "2023-03-21T10:52:14.246Z"
   },
   {
    "duration": 160,
    "start_time": "2023-03-21T10:52:14.425Z"
   },
   {
    "duration": 18,
    "start_time": "2023-03-21T10:52:14.587Z"
   },
   {
    "duration": 8,
    "start_time": "2023-03-21T10:52:14.607Z"
   },
   {
    "duration": 297,
    "start_time": "2023-03-21T10:52:14.617Z"
   },
   {
    "duration": 313,
    "start_time": "2023-03-21T10:52:14.916Z"
   },
   {
    "duration": 425,
    "start_time": "2023-03-21T10:52:15.231Z"
   },
   {
    "duration": 349,
    "start_time": "2023-03-21T10:52:15.659Z"
   },
   {
    "duration": 458,
    "start_time": "2023-03-21T10:52:16.010Z"
   },
   {
    "duration": 20,
    "start_time": "2023-03-21T10:52:16.470Z"
   },
   {
    "duration": 18,
    "start_time": "2023-03-21T10:52:16.492Z"
   },
   {
    "duration": 210,
    "start_time": "2023-03-21T10:52:16.513Z"
   },
   {
    "duration": 207,
    "start_time": "2023-03-21T10:52:16.725Z"
   },
   {
    "duration": 5,
    "start_time": "2023-03-21T10:52:16.933Z"
   },
   {
    "duration": 208,
    "start_time": "2023-03-21T10:52:16.939Z"
   },
   {
    "duration": 188,
    "start_time": "2023-03-21T10:52:17.148Z"
   },
   {
    "duration": 190,
    "start_time": "2023-03-21T10:52:17.338Z"
   },
   {
    "duration": 4,
    "start_time": "2023-03-21T10:52:17.529Z"
   },
   {
    "duration": 257,
    "start_time": "2023-03-21T10:52:17.535Z"
   },
   {
    "duration": 128,
    "start_time": "2023-03-21T10:52:17.794Z"
   },
   {
    "duration": 7,
    "start_time": "2023-03-21T10:52:17.923Z"
   },
   {
    "duration": 34,
    "start_time": "2023-03-21T10:52:17.932Z"
   },
   {
    "duration": 39,
    "start_time": "2023-03-21T10:52:17.967Z"
   },
   {
    "duration": 10,
    "start_time": "2023-03-21T10:52:18.008Z"
   },
   {
    "duration": 26,
    "start_time": "2023-03-21T10:52:18.020Z"
   },
   {
    "duration": 20,
    "start_time": "2023-03-21T10:52:18.048Z"
   },
   {
    "duration": 40,
    "start_time": "2023-03-21T10:52:18.070Z"
   },
   {
    "duration": 25,
    "start_time": "2023-03-21T10:52:18.111Z"
   },
   {
    "duration": 4,
    "start_time": "2023-03-21T10:52:52.608Z"
   },
   {
    "duration": 4,
    "start_time": "2023-03-21T10:53:14.794Z"
   },
   {
    "duration": 4,
    "start_time": "2023-03-21T11:22:34.439Z"
   },
   {
    "duration": 3,
    "start_time": "2023-03-21T11:22:54.186Z"
   },
   {
    "duration": 18,
    "start_time": "2023-03-21T11:28:29.990Z"
   },
   {
    "duration": 3,
    "start_time": "2023-03-21T11:31:36.962Z"
   },
   {
    "duration": 3,
    "start_time": "2023-03-21T11:31:43.344Z"
   },
   {
    "duration": 49,
    "start_time": "2023-03-21T11:31:43.351Z"
   },
   {
    "duration": 11,
    "start_time": "2023-03-21T11:31:43.403Z"
   },
   {
    "duration": 14,
    "start_time": "2023-03-21T11:31:43.415Z"
   },
   {
    "duration": 12,
    "start_time": "2023-03-21T11:31:43.431Z"
   },
   {
    "duration": 34,
    "start_time": "2023-03-21T11:31:43.445Z"
   },
   {
    "duration": 60,
    "start_time": "2023-03-21T11:31:43.481Z"
   },
   {
    "duration": 9,
    "start_time": "2023-03-21T11:31:43.542Z"
   },
   {
    "duration": 14,
    "start_time": "2023-03-21T11:31:43.553Z"
   },
   {
    "duration": 20,
    "start_time": "2023-03-21T11:31:43.569Z"
   },
   {
    "duration": 20,
    "start_time": "2023-03-21T11:31:43.591Z"
   },
   {
    "duration": 21,
    "start_time": "2023-03-21T11:31:43.613Z"
   },
   {
    "duration": 9,
    "start_time": "2023-03-21T11:31:43.636Z"
   },
   {
    "duration": 9,
    "start_time": "2023-03-21T11:31:43.647Z"
   },
   {
    "duration": 7,
    "start_time": "2023-03-21T11:31:43.659Z"
   },
   {
    "duration": 17,
    "start_time": "2023-03-21T11:31:43.668Z"
   },
   {
    "duration": 9,
    "start_time": "2023-03-21T11:31:43.687Z"
   },
   {
    "duration": 5,
    "start_time": "2023-03-21T11:31:43.698Z"
   },
   {
    "duration": 335,
    "start_time": "2023-03-21T11:31:43.704Z"
   },
   {
    "duration": 3,
    "start_time": "2023-03-21T11:31:44.041Z"
   },
   {
    "duration": 6,
    "start_time": "2023-03-21T11:31:44.045Z"
   },
   {
    "duration": 13,
    "start_time": "2023-03-21T11:31:44.053Z"
   },
   {
    "duration": 182,
    "start_time": "2023-03-21T11:31:44.067Z"
   },
   {
    "duration": 123,
    "start_time": "2023-03-21T11:31:44.250Z"
   },
   {
    "duration": 14,
    "start_time": "2023-03-21T11:31:44.384Z"
   },
   {
    "duration": 12,
    "start_time": "2023-03-21T11:31:44.400Z"
   },
   {
    "duration": 313,
    "start_time": "2023-03-21T11:31:44.413Z"
   },
   {
    "duration": 297,
    "start_time": "2023-03-21T11:31:44.727Z"
   },
   {
    "duration": 435,
    "start_time": "2023-03-21T11:31:45.026Z"
   },
   {
    "duration": 325,
    "start_time": "2023-03-21T11:31:45.463Z"
   },
   {
    "duration": 367,
    "start_time": "2023-03-21T11:31:45.791Z"
   },
   {
    "duration": 28,
    "start_time": "2023-03-21T11:31:46.160Z"
   },
   {
    "duration": 14,
    "start_time": "2023-03-21T11:31:46.190Z"
   },
   {
    "duration": 262,
    "start_time": "2023-03-21T11:31:46.206Z"
   },
   {
    "duration": 186,
    "start_time": "2023-03-21T11:31:46.470Z"
   },
   {
    "duration": 4,
    "start_time": "2023-03-21T11:31:46.658Z"
   },
   {
    "duration": 202,
    "start_time": "2023-03-21T11:31:46.663Z"
   },
   {
    "duration": 196,
    "start_time": "2023-03-21T11:31:46.867Z"
   },
   {
    "duration": 197,
    "start_time": "2023-03-21T11:31:47.064Z"
   },
   {
    "duration": 4,
    "start_time": "2023-03-21T11:31:47.262Z"
   },
   {
    "duration": 243,
    "start_time": "2023-03-21T11:31:47.267Z"
   },
   {
    "duration": 141,
    "start_time": "2023-03-21T11:31:47.514Z"
   },
   {
    "duration": 7,
    "start_time": "2023-03-21T11:31:47.656Z"
   },
   {
    "duration": 22,
    "start_time": "2023-03-21T11:31:47.664Z"
   },
   {
    "duration": 31,
    "start_time": "2023-03-21T11:31:47.687Z"
   },
   {
    "duration": 10,
    "start_time": "2023-03-21T11:31:47.720Z"
   },
   {
    "duration": 12,
    "start_time": "2023-03-21T11:31:47.732Z"
   },
   {
    "duration": 8,
    "start_time": "2023-03-21T11:31:47.746Z"
   },
   {
    "duration": 45,
    "start_time": "2023-03-21T11:31:47.755Z"
   },
   {
    "duration": 14,
    "start_time": "2023-03-21T11:31:47.802Z"
   },
   {
    "duration": 5,
    "start_time": "2023-03-21T11:32:24.158Z"
   },
   {
    "duration": 15,
    "start_time": "2023-03-21T11:34:14.018Z"
   },
   {
    "duration": 93,
    "start_time": "2023-03-21T11:43:48.846Z"
   },
   {
    "duration": 10,
    "start_time": "2023-03-21T11:47:42.461Z"
   },
   {
    "duration": 11,
    "start_time": "2023-03-21T11:47:56.305Z"
   },
   {
    "duration": 11,
    "start_time": "2023-03-21T11:49:02.549Z"
   },
   {
    "duration": 12,
    "start_time": "2023-03-21T11:49:22.432Z"
   },
   {
    "duration": 4,
    "start_time": "2023-03-21T11:50:00.414Z"
   },
   {
    "duration": 108,
    "start_time": "2023-03-21T11:50:00.420Z"
   },
   {
    "duration": 60,
    "start_time": "2023-03-21T11:50:00.529Z"
   },
   {
    "duration": 24,
    "start_time": "2023-03-21T11:50:00.592Z"
   },
   {
    "duration": 41,
    "start_time": "2023-03-21T11:50:00.619Z"
   },
   {
    "duration": 45,
    "start_time": "2023-03-21T11:50:00.662Z"
   },
   {
    "duration": 105,
    "start_time": "2023-03-21T11:50:00.708Z"
   },
   {
    "duration": 8,
    "start_time": "2023-03-21T11:50:00.814Z"
   },
   {
    "duration": 36,
    "start_time": "2023-03-21T11:50:00.826Z"
   },
   {
    "duration": 33,
    "start_time": "2023-03-21T11:50:00.864Z"
   },
   {
    "duration": 38,
    "start_time": "2023-03-21T11:50:00.899Z"
   },
   {
    "duration": 50,
    "start_time": "2023-03-21T11:50:00.939Z"
   },
   {
    "duration": 10,
    "start_time": "2023-03-21T11:50:00.991Z"
   },
   {
    "duration": 27,
    "start_time": "2023-03-21T11:50:01.003Z"
   },
   {
    "duration": 26,
    "start_time": "2023-03-21T11:50:01.032Z"
   },
   {
    "duration": 37,
    "start_time": "2023-03-21T11:50:01.061Z"
   },
   {
    "duration": 29,
    "start_time": "2023-03-21T11:50:01.100Z"
   },
   {
    "duration": 39,
    "start_time": "2023-03-21T11:50:01.130Z"
   },
   {
    "duration": 382,
    "start_time": "2023-03-21T11:50:01.171Z"
   },
   {
    "duration": 24,
    "start_time": "2023-03-21T11:50:01.555Z"
   },
   {
    "duration": 62,
    "start_time": "2023-03-21T11:50:01.580Z"
   },
   {
    "duration": 196,
    "start_time": "2023-03-21T11:50:01.644Z"
   },
   {
    "duration": 150,
    "start_time": "2023-03-21T11:50:01.842Z"
   },
   {
    "duration": 14,
    "start_time": "2023-03-21T11:50:01.997Z"
   },
   {
    "duration": 79,
    "start_time": "2023-03-21T11:50:02.013Z"
   },
   {
    "duration": 349,
    "start_time": "2023-03-21T11:50:02.094Z"
   },
   {
    "duration": 352,
    "start_time": "2023-03-21T11:50:02.446Z"
   },
   {
    "duration": 406,
    "start_time": "2023-03-21T11:50:02.799Z"
   },
   {
    "duration": 332,
    "start_time": "2023-03-21T11:50:03.207Z"
   },
   {
    "duration": 444,
    "start_time": "2023-03-21T11:50:03.542Z"
   },
   {
    "duration": 10,
    "start_time": "2023-03-21T11:50:03.989Z"
   },
   {
    "duration": 18,
    "start_time": "2023-03-21T11:50:04.001Z"
   },
   {
    "duration": 235,
    "start_time": "2023-03-21T11:50:04.021Z"
   },
   {
    "duration": 340,
    "start_time": "2023-03-21T11:50:04.258Z"
   },
   {
    "duration": 6,
    "start_time": "2023-03-21T11:50:04.600Z"
   },
   {
    "duration": 244,
    "start_time": "2023-03-21T11:50:04.608Z"
   },
   {
    "duration": 210,
    "start_time": "2023-03-21T11:50:04.853Z"
   },
   {
    "duration": 271,
    "start_time": "2023-03-21T11:50:05.065Z"
   },
   {
    "duration": 5,
    "start_time": "2023-03-21T11:50:05.338Z"
   },
   {
    "duration": 363,
    "start_time": "2023-03-21T11:50:05.346Z"
   },
   {
    "duration": 190,
    "start_time": "2023-03-21T11:50:05.710Z"
   },
   {
    "duration": 23,
    "start_time": "2023-03-21T11:50:05.905Z"
   },
   {
    "duration": 34,
    "start_time": "2023-03-21T11:50:05.930Z"
   },
   {
    "duration": 75,
    "start_time": "2023-03-21T11:50:05.966Z"
   },
   {
    "duration": 13,
    "start_time": "2023-03-21T11:50:06.044Z"
   },
   {
    "duration": 54,
    "start_time": "2023-03-21T11:50:06.058Z"
   },
   {
    "duration": 33,
    "start_time": "2023-03-21T11:50:06.114Z"
   },
   {
    "duration": 36,
    "start_time": "2023-03-21T11:50:06.149Z"
   },
   {
    "duration": 22,
    "start_time": "2023-03-21T11:50:06.188Z"
   },
   {
    "duration": 23,
    "start_time": "2023-03-21T11:58:07.218Z"
   },
   {
    "duration": 3,
    "start_time": "2023-03-21T12:01:00.060Z"
   },
   {
    "duration": 49,
    "start_time": "2023-03-21T12:01:00.065Z"
   },
   {
    "duration": 10,
    "start_time": "2023-03-21T12:01:00.116Z"
   },
   {
    "duration": 14,
    "start_time": "2023-03-21T12:01:00.129Z"
   },
   {
    "duration": 17,
    "start_time": "2023-03-21T12:01:00.144Z"
   },
   {
    "duration": 18,
    "start_time": "2023-03-21T12:01:00.163Z"
   },
   {
    "duration": 70,
    "start_time": "2023-03-21T12:01:00.182Z"
   },
   {
    "duration": 11,
    "start_time": "2023-03-21T12:01:00.254Z"
   },
   {
    "duration": 17,
    "start_time": "2023-03-21T12:01:00.268Z"
   },
   {
    "duration": 17,
    "start_time": "2023-03-21T12:01:00.286Z"
   },
   {
    "duration": 13,
    "start_time": "2023-03-21T12:01:00.304Z"
   },
   {
    "duration": 25,
    "start_time": "2023-03-21T12:01:00.319Z"
   },
   {
    "duration": 10,
    "start_time": "2023-03-21T12:01:00.346Z"
   },
   {
    "duration": 29,
    "start_time": "2023-03-21T12:01:00.358Z"
   },
   {
    "duration": 34,
    "start_time": "2023-03-21T12:01:00.388Z"
   },
   {
    "duration": 13,
    "start_time": "2023-03-21T12:01:00.424Z"
   },
   {
    "duration": 16,
    "start_time": "2023-03-21T12:01:00.439Z"
   },
   {
    "duration": 29,
    "start_time": "2023-03-21T12:01:00.457Z"
   },
   {
    "duration": 346,
    "start_time": "2023-03-21T12:01:00.487Z"
   },
   {
    "duration": 10,
    "start_time": "2023-03-21T12:01:00.835Z"
   },
   {
    "duration": 44,
    "start_time": "2023-03-21T12:01:00.846Z"
   },
   {
    "duration": 172,
    "start_time": "2023-03-21T12:01:00.892Z"
   },
   {
    "duration": 130,
    "start_time": "2023-03-21T12:01:01.065Z"
   },
   {
    "duration": 13,
    "start_time": "2023-03-21T12:01:01.198Z"
   },
   {
    "duration": 48,
    "start_time": "2023-03-21T12:01:01.212Z"
   },
   {
    "duration": 340,
    "start_time": "2023-03-21T12:01:01.263Z"
   },
   {
    "duration": 301,
    "start_time": "2023-03-21T12:01:01.605Z"
   },
   {
    "duration": 401,
    "start_time": "2023-03-21T12:01:01.908Z"
   },
   {
    "duration": 289,
    "start_time": "2023-03-21T12:01:02.312Z"
   },
   {
    "duration": 373,
    "start_time": "2023-03-21T12:01:02.603Z"
   },
   {
    "duration": 8,
    "start_time": "2023-03-21T12:01:02.977Z"
   },
   {
    "duration": 38,
    "start_time": "2023-03-21T12:01:02.987Z"
   },
   {
    "duration": 218,
    "start_time": "2023-03-21T12:01:03.027Z"
   },
   {
    "duration": 192,
    "start_time": "2023-03-21T12:01:03.246Z"
   },
   {
    "duration": 4,
    "start_time": "2023-03-21T12:01:03.440Z"
   },
   {
    "duration": 280,
    "start_time": "2023-03-21T12:01:03.445Z"
   },
   {
    "duration": 188,
    "start_time": "2023-03-21T12:01:03.727Z"
   },
   {
    "duration": 188,
    "start_time": "2023-03-21T12:01:03.916Z"
   },
   {
    "duration": 4,
    "start_time": "2023-03-21T12:01:04.106Z"
   },
   {
    "duration": 238,
    "start_time": "2023-03-21T12:01:04.112Z"
   },
   {
    "duration": 150,
    "start_time": "2023-03-21T12:01:04.352Z"
   },
   {
    "duration": 6,
    "start_time": "2023-03-21T12:01:04.504Z"
   },
   {
    "duration": 18,
    "start_time": "2023-03-21T12:01:04.512Z"
   },
   {
    "duration": 28,
    "start_time": "2023-03-21T12:01:04.532Z"
   },
   {
    "duration": 14,
    "start_time": "2023-03-21T12:01:04.562Z"
   },
   {
    "duration": 13,
    "start_time": "2023-03-21T12:01:04.578Z"
   },
   {
    "duration": 8,
    "start_time": "2023-03-21T12:01:04.593Z"
   },
   {
    "duration": 28,
    "start_time": "2023-03-21T12:01:04.602Z"
   },
   {
    "duration": 42,
    "start_time": "2023-03-21T12:01:04.632Z"
   },
   {
    "duration": 19,
    "start_time": "2023-03-21T12:03:48.298Z"
   },
   {
    "duration": 12,
    "start_time": "2023-03-21T12:04:20.541Z"
   },
   {
    "duration": 3,
    "start_time": "2023-03-21T12:04:36.278Z"
   },
   {
    "duration": 50,
    "start_time": "2023-03-21T12:04:36.283Z"
   },
   {
    "duration": 11,
    "start_time": "2023-03-21T12:04:36.335Z"
   },
   {
    "duration": 16,
    "start_time": "2023-03-21T12:04:36.347Z"
   },
   {
    "duration": 24,
    "start_time": "2023-03-21T12:04:36.365Z"
   },
   {
    "duration": 27,
    "start_time": "2023-03-21T12:04:36.390Z"
   },
   {
    "duration": 59,
    "start_time": "2023-03-21T12:04:36.419Z"
   },
   {
    "duration": 10,
    "start_time": "2023-03-21T12:04:36.481Z"
   },
   {
    "duration": 32,
    "start_time": "2023-03-21T12:04:36.492Z"
   },
   {
    "duration": 26,
    "start_time": "2023-03-21T12:04:36.526Z"
   },
   {
    "duration": 15,
    "start_time": "2023-03-21T12:04:36.554Z"
   },
   {
    "duration": 21,
    "start_time": "2023-03-21T12:04:36.571Z"
   },
   {
    "duration": 11,
    "start_time": "2023-03-21T12:04:36.594Z"
   },
   {
    "duration": 10,
    "start_time": "2023-03-21T12:04:36.607Z"
   },
   {
    "duration": 10,
    "start_time": "2023-03-21T12:04:36.618Z"
   },
   {
    "duration": 18,
    "start_time": "2023-03-21T12:04:36.630Z"
   },
   {
    "duration": 16,
    "start_time": "2023-03-21T12:04:36.650Z"
   },
   {
    "duration": 8,
    "start_time": "2023-03-21T12:04:36.668Z"
   },
   {
    "duration": 323,
    "start_time": "2023-03-21T12:04:36.678Z"
   },
   {
    "duration": 5,
    "start_time": "2023-03-21T12:04:37.003Z"
   },
   {
    "duration": 20,
    "start_time": "2023-03-21T12:04:37.010Z"
   },
   {
    "duration": 6,
    "start_time": "2023-03-21T12:04:37.031Z"
   },
   {
    "duration": 214,
    "start_time": "2023-03-21T12:04:37.039Z"
   },
   {
    "duration": 138,
    "start_time": "2023-03-21T12:04:37.255Z"
   },
   {
    "duration": 16,
    "start_time": "2023-03-21T12:04:37.395Z"
   },
   {
    "duration": 11,
    "start_time": "2023-03-21T12:04:37.413Z"
   },
   {
    "duration": 315,
    "start_time": "2023-03-21T12:04:37.426Z"
   },
   {
    "duration": 279,
    "start_time": "2023-03-21T12:04:37.743Z"
   },
   {
    "duration": 352,
    "start_time": "2023-03-21T12:04:38.025Z"
   },
   {
    "duration": 294,
    "start_time": "2023-03-21T12:04:38.378Z"
   },
   {
    "duration": 365,
    "start_time": "2023-03-21T12:04:38.674Z"
   },
   {
    "duration": 8,
    "start_time": "2023-03-21T12:04:39.041Z"
   },
   {
    "duration": 28,
    "start_time": "2023-03-21T12:04:39.050Z"
   },
   {
    "duration": 198,
    "start_time": "2023-03-21T12:04:39.080Z"
   },
   {
    "duration": 187,
    "start_time": "2023-03-21T12:04:39.279Z"
   },
   {
    "duration": 11,
    "start_time": "2023-03-21T12:04:39.468Z"
   },
   {
    "duration": 203,
    "start_time": "2023-03-21T12:04:39.481Z"
   },
   {
    "duration": 268,
    "start_time": "2023-03-21T12:04:39.686Z"
   },
   {
    "duration": 173,
    "start_time": "2023-03-21T12:04:39.956Z"
   },
   {
    "duration": 5,
    "start_time": "2023-03-21T12:04:40.130Z"
   },
   {
    "duration": 247,
    "start_time": "2023-03-21T12:04:40.136Z"
   },
   {
    "duration": 141,
    "start_time": "2023-03-21T12:04:40.384Z"
   },
   {
    "duration": 6,
    "start_time": "2023-03-21T12:04:40.527Z"
   },
   {
    "duration": 5,
    "start_time": "2023-03-21T12:04:40.535Z"
   },
   {
    "duration": 35,
    "start_time": "2023-03-21T12:04:40.543Z"
   },
   {
    "duration": 11,
    "start_time": "2023-03-21T12:04:40.580Z"
   },
   {
    "duration": 14,
    "start_time": "2023-03-21T12:04:40.593Z"
   },
   {
    "duration": 9,
    "start_time": "2023-03-21T12:04:40.608Z"
   },
   {
    "duration": 57,
    "start_time": "2023-03-21T12:04:40.618Z"
   },
   {
    "duration": 13,
    "start_time": "2023-03-21T12:04:40.677Z"
   },
   {
    "duration": 14,
    "start_time": "2023-03-21T12:05:35.348Z"
   },
   {
    "duration": 19,
    "start_time": "2023-03-21T12:05:55.377Z"
   },
   {
    "duration": 4,
    "start_time": "2023-03-21T12:06:30.049Z"
   },
   {
    "duration": 40,
    "start_time": "2023-03-21T12:06:30.055Z"
   },
   {
    "duration": 10,
    "start_time": "2023-03-21T12:06:30.096Z"
   },
   {
    "duration": 12,
    "start_time": "2023-03-21T12:06:30.108Z"
   },
   {
    "duration": 17,
    "start_time": "2023-03-21T12:06:30.121Z"
   },
   {
    "duration": 18,
    "start_time": "2023-03-21T12:06:30.139Z"
   },
   {
    "duration": 66,
    "start_time": "2023-03-21T12:06:30.159Z"
   },
   {
    "duration": 12,
    "start_time": "2023-03-21T12:06:30.226Z"
   },
   {
    "duration": 30,
    "start_time": "2023-03-21T12:06:30.241Z"
   },
   {
    "duration": 11,
    "start_time": "2023-03-21T12:06:30.274Z"
   },
   {
    "duration": 18,
    "start_time": "2023-03-21T12:06:30.286Z"
   },
   {
    "duration": 34,
    "start_time": "2023-03-21T12:06:30.305Z"
   },
   {
    "duration": 9,
    "start_time": "2023-03-21T12:06:30.341Z"
   },
   {
    "duration": 18,
    "start_time": "2023-03-21T12:06:30.352Z"
   },
   {
    "duration": 11,
    "start_time": "2023-03-21T12:06:30.372Z"
   },
   {
    "duration": 12,
    "start_time": "2023-03-21T12:06:30.385Z"
   },
   {
    "duration": 14,
    "start_time": "2023-03-21T12:06:30.399Z"
   },
   {
    "duration": 17,
    "start_time": "2023-03-21T12:06:30.414Z"
   },
   {
    "duration": 313,
    "start_time": "2023-03-21T12:06:30.433Z"
   },
   {
    "duration": 4,
    "start_time": "2023-03-21T12:06:30.748Z"
   },
   {
    "duration": 24,
    "start_time": "2023-03-21T12:06:30.754Z"
   },
   {
    "duration": 24,
    "start_time": "2023-03-21T12:06:30.780Z"
   },
   {
    "duration": 48,
    "start_time": "2023-03-21T12:06:30.806Z"
   },
   {
    "duration": 12,
    "start_time": "2023-03-21T12:06:30.857Z"
   },
   {
    "duration": 187,
    "start_time": "2023-03-21T12:06:30.871Z"
   },
   {
    "duration": 144,
    "start_time": "2023-03-21T12:06:31.060Z"
   },
   {
    "duration": 41,
    "start_time": "2023-03-21T12:06:31.206Z"
   },
   {
    "duration": 31,
    "start_time": "2023-03-21T12:06:31.248Z"
   },
   {
    "duration": 321,
    "start_time": "2023-03-21T12:06:31.281Z"
   },
   {
    "duration": 294,
    "start_time": "2023-03-21T12:06:31.604Z"
   },
   {
    "duration": 359,
    "start_time": "2023-03-21T12:06:31.900Z"
   },
   {
    "duration": 280,
    "start_time": "2023-03-21T12:06:32.261Z"
   },
   {
    "duration": 387,
    "start_time": "2023-03-21T12:06:32.543Z"
   },
   {
    "duration": 9,
    "start_time": "2023-03-21T12:06:32.932Z"
   },
   {
    "duration": 19,
    "start_time": "2023-03-21T12:06:32.942Z"
   },
   {
    "duration": 214,
    "start_time": "2023-03-21T12:06:32.962Z"
   },
   {
    "duration": 193,
    "start_time": "2023-03-21T12:06:33.178Z"
   },
   {
    "duration": 4,
    "start_time": "2023-03-21T12:06:33.374Z"
   },
   {
    "duration": 185,
    "start_time": "2023-03-21T12:06:33.380Z"
   },
   {
    "duration": 190,
    "start_time": "2023-03-21T12:06:33.567Z"
   },
   {
    "duration": 305,
    "start_time": "2023-03-21T12:06:33.760Z"
   },
   {
    "duration": 9,
    "start_time": "2023-03-21T12:06:34.067Z"
   },
   {
    "duration": 245,
    "start_time": "2023-03-21T12:06:34.078Z"
   },
   {
    "duration": 150,
    "start_time": "2023-03-21T12:06:34.325Z"
   },
   {
    "duration": 6,
    "start_time": "2023-03-21T12:06:34.477Z"
   },
   {
    "duration": 6,
    "start_time": "2023-03-21T12:06:34.484Z"
   },
   {
    "duration": 29,
    "start_time": "2023-03-21T12:06:34.491Z"
   },
   {
    "duration": 13,
    "start_time": "2023-03-21T12:06:34.522Z"
   },
   {
    "duration": 41,
    "start_time": "2023-03-21T12:06:34.537Z"
   },
   {
    "duration": 11,
    "start_time": "2023-03-21T12:06:34.580Z"
   },
   {
    "duration": 44,
    "start_time": "2023-03-21T12:06:34.593Z"
   },
   {
    "duration": 40,
    "start_time": "2023-03-21T12:06:34.640Z"
   },
   {
    "duration": 11,
    "start_time": "2023-03-21T12:07:01.301Z"
   },
   {
    "duration": 3,
    "start_time": "2023-03-21T12:07:19.704Z"
   },
   {
    "duration": 39,
    "start_time": "2023-03-21T12:07:19.709Z"
   },
   {
    "duration": 14,
    "start_time": "2023-03-21T12:07:19.751Z"
   },
   {
    "duration": 12,
    "start_time": "2023-03-21T12:07:19.767Z"
   },
   {
    "duration": 14,
    "start_time": "2023-03-21T12:07:19.782Z"
   },
   {
    "duration": 16,
    "start_time": "2023-03-21T12:07:19.797Z"
   },
   {
    "duration": 62,
    "start_time": "2023-03-21T12:07:19.815Z"
   },
   {
    "duration": 13,
    "start_time": "2023-03-21T12:07:19.879Z"
   },
   {
    "duration": 18,
    "start_time": "2023-03-21T12:07:19.894Z"
   },
   {
    "duration": 11,
    "start_time": "2023-03-21T12:07:19.915Z"
   },
   {
    "duration": 13,
    "start_time": "2023-03-21T12:07:19.929Z"
   },
   {
    "duration": 39,
    "start_time": "2023-03-21T12:07:19.944Z"
   },
   {
    "duration": 10,
    "start_time": "2023-03-21T12:07:19.985Z"
   },
   {
    "duration": 9,
    "start_time": "2023-03-21T12:07:19.997Z"
   },
   {
    "duration": 36,
    "start_time": "2023-03-21T12:07:20.007Z"
   },
   {
    "duration": 17,
    "start_time": "2023-03-21T12:07:20.046Z"
   },
   {
    "duration": 20,
    "start_time": "2023-03-21T12:07:20.065Z"
   },
   {
    "duration": 16,
    "start_time": "2023-03-21T12:07:20.087Z"
   },
   {
    "duration": 350,
    "start_time": "2023-03-21T12:07:20.105Z"
   },
   {
    "duration": 4,
    "start_time": "2023-03-21T12:07:20.457Z"
   },
   {
    "duration": 30,
    "start_time": "2023-03-21T12:07:20.462Z"
   },
   {
    "duration": 8,
    "start_time": "2023-03-21T12:07:20.494Z"
   },
   {
    "duration": 13,
    "start_time": "2023-03-21T12:07:20.504Z"
   },
   {
    "duration": 44,
    "start_time": "2023-03-21T12:07:20.519Z"
   },
   {
    "duration": 203,
    "start_time": "2023-03-21T12:07:20.565Z"
   },
   {
    "duration": 138,
    "start_time": "2023-03-21T12:07:20.770Z"
   },
   {
    "duration": 19,
    "start_time": "2023-03-21T12:07:20.910Z"
   },
   {
    "duration": 16,
    "start_time": "2023-03-21T12:07:20.931Z"
   },
   {
    "duration": 299,
    "start_time": "2023-03-21T12:07:20.950Z"
   },
   {
    "duration": 282,
    "start_time": "2023-03-21T12:07:21.251Z"
   },
   {
    "duration": 405,
    "start_time": "2023-03-21T12:07:21.535Z"
   },
   {
    "duration": 298,
    "start_time": "2023-03-21T12:07:21.942Z"
   },
   {
    "duration": 406,
    "start_time": "2023-03-21T12:07:22.243Z"
   },
   {
    "duration": 23,
    "start_time": "2023-03-21T12:07:22.651Z"
   },
   {
    "duration": 12,
    "start_time": "2023-03-21T12:07:22.676Z"
   },
   {
    "duration": 203,
    "start_time": "2023-03-21T12:07:22.690Z"
   },
   {
    "duration": 195,
    "start_time": "2023-03-21T12:07:22.894Z"
   },
   {
    "duration": 4,
    "start_time": "2023-03-21T12:07:23.091Z"
   },
   {
    "duration": 198,
    "start_time": "2023-03-21T12:07:23.097Z"
   },
   {
    "duration": 199,
    "start_time": "2023-03-21T12:07:23.297Z"
   },
   {
    "duration": 195,
    "start_time": "2023-03-21T12:07:23.498Z"
   },
   {
    "duration": 5,
    "start_time": "2023-03-21T12:07:23.694Z"
   },
   {
    "duration": 338,
    "start_time": "2023-03-21T12:07:23.701Z"
   },
   {
    "duration": 125,
    "start_time": "2023-03-21T12:07:24.041Z"
   },
   {
    "duration": 7,
    "start_time": "2023-03-21T12:07:24.173Z"
   },
   {
    "duration": 9,
    "start_time": "2023-03-21T12:07:24.182Z"
   },
   {
    "duration": 32,
    "start_time": "2023-03-21T12:07:24.192Z"
   },
   {
    "duration": 12,
    "start_time": "2023-03-21T12:07:24.226Z"
   },
   {
    "duration": 38,
    "start_time": "2023-03-21T12:07:24.240Z"
   },
   {
    "duration": 9,
    "start_time": "2023-03-21T12:07:24.280Z"
   },
   {
    "duration": 39,
    "start_time": "2023-03-21T12:07:24.291Z"
   },
   {
    "duration": 14,
    "start_time": "2023-03-21T12:07:24.332Z"
   },
   {
    "duration": 4,
    "start_time": "2023-03-21T12:07:53.970Z"
   },
   {
    "duration": 17,
    "start_time": "2023-03-21T12:23:39.470Z"
   },
   {
    "duration": 5,
    "start_time": "2023-03-21T12:25:09.499Z"
   },
   {
    "duration": 4,
    "start_time": "2023-03-21T12:25:56.784Z"
   },
   {
    "duration": 4,
    "start_time": "2023-03-21T12:26:11.353Z"
   },
   {
    "duration": 5,
    "start_time": "2023-03-21T12:26:26.508Z"
   },
   {
    "duration": 4,
    "start_time": "2023-03-21T12:26:43.218Z"
   },
   {
    "duration": 5,
    "start_time": "2023-03-21T12:28:23.122Z"
   },
   {
    "duration": 4,
    "start_time": "2023-03-21T12:28:45.273Z"
   },
   {
    "duration": 56,
    "start_time": "2023-03-21T12:28:45.279Z"
   },
   {
    "duration": 11,
    "start_time": "2023-03-21T12:28:45.337Z"
   },
   {
    "duration": 20,
    "start_time": "2023-03-21T12:28:45.349Z"
   },
   {
    "duration": 64,
    "start_time": "2023-03-21T12:28:45.372Z"
   },
   {
    "duration": 59,
    "start_time": "2023-03-21T12:28:45.438Z"
   },
   {
    "duration": 98,
    "start_time": "2023-03-21T12:28:45.500Z"
   },
   {
    "duration": 12,
    "start_time": "2023-03-21T12:28:45.600Z"
   },
   {
    "duration": 37,
    "start_time": "2023-03-21T12:28:45.614Z"
   },
   {
    "duration": 24,
    "start_time": "2023-03-21T12:28:45.653Z"
   },
   {
    "duration": 37,
    "start_time": "2023-03-21T12:28:45.679Z"
   },
   {
    "duration": 48,
    "start_time": "2023-03-21T12:28:45.719Z"
   },
   {
    "duration": 15,
    "start_time": "2023-03-21T12:28:45.771Z"
   },
   {
    "duration": 56,
    "start_time": "2023-03-21T12:28:45.789Z"
   },
   {
    "duration": 22,
    "start_time": "2023-03-21T12:28:45.847Z"
   },
   {
    "duration": 33,
    "start_time": "2023-03-21T12:28:45.871Z"
   },
   {
    "duration": 24,
    "start_time": "2023-03-21T12:28:45.907Z"
   },
   {
    "duration": 23,
    "start_time": "2023-03-21T12:28:45.933Z"
   },
   {
    "duration": 341,
    "start_time": "2023-03-21T12:28:45.959Z"
   },
   {
    "duration": 13,
    "start_time": "2023-03-21T12:28:46.302Z"
   },
   {
    "duration": 14,
    "start_time": "2023-03-21T12:28:46.316Z"
   },
   {
    "duration": 12,
    "start_time": "2023-03-21T12:28:46.332Z"
   },
   {
    "duration": 13,
    "start_time": "2023-03-21T12:28:46.345Z"
   },
   {
    "duration": 19,
    "start_time": "2023-03-21T12:28:46.359Z"
   },
   {
    "duration": 9,
    "start_time": "2023-03-21T12:28:46.380Z"
   },
   {
    "duration": 22,
    "start_time": "2023-03-21T12:28:46.391Z"
   },
   {
    "duration": 15,
    "start_time": "2023-03-21T12:28:46.414Z"
   },
   {
    "duration": 28,
    "start_time": "2023-03-21T12:28:46.431Z"
   },
   {
    "duration": 201,
    "start_time": "2023-03-21T12:28:46.461Z"
   },
   {
    "duration": 160,
    "start_time": "2023-03-21T12:28:46.664Z"
   },
   {
    "duration": 18,
    "start_time": "2023-03-21T12:28:46.826Z"
   },
   {
    "duration": 12,
    "start_time": "2023-03-21T12:28:46.847Z"
   },
   {
    "duration": 301,
    "start_time": "2023-03-21T12:28:46.861Z"
   },
   {
    "duration": 306,
    "start_time": "2023-03-21T12:28:47.164Z"
   },
   {
    "duration": 393,
    "start_time": "2023-03-21T12:28:47.474Z"
   },
   {
    "duration": 294,
    "start_time": "2023-03-21T12:28:47.869Z"
   },
   {
    "duration": 379,
    "start_time": "2023-03-21T12:28:48.168Z"
   },
   {
    "duration": 8,
    "start_time": "2023-03-21T12:28:48.549Z"
   },
   {
    "duration": 17,
    "start_time": "2023-03-21T12:28:48.558Z"
   },
   {
    "duration": 209,
    "start_time": "2023-03-21T12:28:48.577Z"
   },
   {
    "duration": 193,
    "start_time": "2023-03-21T12:28:48.787Z"
   },
   {
    "duration": 4,
    "start_time": "2023-03-21T12:28:48.982Z"
   },
   {
    "duration": 200,
    "start_time": "2023-03-21T12:28:48.988Z"
   },
   {
    "duration": 194,
    "start_time": "2023-03-21T12:28:49.190Z"
   },
   {
    "duration": 178,
    "start_time": "2023-03-21T12:28:49.385Z"
   },
   {
    "duration": 4,
    "start_time": "2023-03-21T12:28:49.573Z"
   },
   {
    "duration": 321,
    "start_time": "2023-03-21T12:28:49.579Z"
   },
   {
    "duration": 133,
    "start_time": "2023-03-21T12:28:49.902Z"
   },
   {
    "duration": 8,
    "start_time": "2023-03-21T12:28:50.037Z"
   },
   {
    "duration": 11,
    "start_time": "2023-03-21T12:28:50.046Z"
   },
   {
    "duration": 41,
    "start_time": "2023-03-21T12:28:50.059Z"
   },
   {
    "duration": 11,
    "start_time": "2023-03-21T12:28:50.101Z"
   },
   {
    "duration": 12,
    "start_time": "2023-03-21T12:28:50.114Z"
   },
   {
    "duration": 7,
    "start_time": "2023-03-21T12:28:50.128Z"
   },
   {
    "duration": 40,
    "start_time": "2023-03-21T12:28:50.136Z"
   },
   {
    "duration": 14,
    "start_time": "2023-03-21T12:28:50.178Z"
   },
   {
    "duration": 4,
    "start_time": "2023-03-21T12:29:22.548Z"
   },
   {
    "duration": 7,
    "start_time": "2023-03-21T12:29:26.505Z"
   },
   {
    "duration": 6,
    "start_time": "2023-03-21T12:29:44.733Z"
   },
   {
    "duration": 6,
    "start_time": "2023-03-21T12:29:51.639Z"
   },
   {
    "duration": 4,
    "start_time": "2023-03-21T12:30:05.704Z"
   },
   {
    "duration": 4,
    "start_time": "2023-03-21T12:30:28.035Z"
   },
   {
    "duration": 4,
    "start_time": "2023-03-21T12:30:43.009Z"
   },
   {
    "duration": 3,
    "start_time": "2023-03-21T12:32:24.325Z"
   },
   {
    "duration": 50,
    "start_time": "2023-03-21T12:32:24.330Z"
   },
   {
    "duration": 11,
    "start_time": "2023-03-21T12:32:24.382Z"
   },
   {
    "duration": 17,
    "start_time": "2023-03-21T12:32:24.395Z"
   },
   {
    "duration": 28,
    "start_time": "2023-03-21T12:32:24.414Z"
   },
   {
    "duration": 42,
    "start_time": "2023-03-21T12:32:24.443Z"
   },
   {
    "duration": 76,
    "start_time": "2023-03-21T12:32:24.486Z"
   },
   {
    "duration": 12,
    "start_time": "2023-03-21T12:32:24.564Z"
   },
   {
    "duration": 46,
    "start_time": "2023-03-21T12:32:24.579Z"
   },
   {
    "duration": 28,
    "start_time": "2023-03-21T12:32:24.626Z"
   },
   {
    "duration": 22,
    "start_time": "2023-03-21T12:32:24.655Z"
   },
   {
    "duration": 22,
    "start_time": "2023-03-21T12:32:24.678Z"
   },
   {
    "duration": 12,
    "start_time": "2023-03-21T12:32:24.702Z"
   },
   {
    "duration": 16,
    "start_time": "2023-03-21T12:32:24.716Z"
   },
   {
    "duration": 21,
    "start_time": "2023-03-21T12:32:24.734Z"
   },
   {
    "duration": 29,
    "start_time": "2023-03-21T12:32:24.757Z"
   },
   {
    "duration": 42,
    "start_time": "2023-03-21T12:32:24.787Z"
   },
   {
    "duration": 18,
    "start_time": "2023-03-21T12:32:24.831Z"
   },
   {
    "duration": 370,
    "start_time": "2023-03-21T12:32:24.850Z"
   },
   {
    "duration": 12,
    "start_time": "2023-03-21T12:32:25.222Z"
   },
   {
    "duration": 27,
    "start_time": "2023-03-21T12:32:25.236Z"
   },
   {
    "duration": 15,
    "start_time": "2023-03-21T12:32:25.265Z"
   },
   {
    "duration": 38,
    "start_time": "2023-03-21T12:32:25.282Z"
   },
   {
    "duration": 87,
    "start_time": "2023-03-21T12:32:25.324Z"
   },
   {
    "duration": 257,
    "start_time": "2023-03-21T12:32:25.414Z"
   },
   {
    "duration": 132,
    "start_time": "2023-03-21T12:32:25.674Z"
   },
   {
    "duration": 12,
    "start_time": "2023-03-21T12:32:25.808Z"
   },
   {
    "duration": 11,
    "start_time": "2023-03-21T12:32:25.822Z"
   },
   {
    "duration": 345,
    "start_time": "2023-03-21T12:32:25.834Z"
   },
   {
    "duration": 309,
    "start_time": "2023-03-21T12:32:26.180Z"
   },
   {
    "duration": 397,
    "start_time": "2023-03-21T12:32:26.490Z"
   },
   {
    "duration": 298,
    "start_time": "2023-03-21T12:32:26.888Z"
   },
   {
    "duration": 374,
    "start_time": "2023-03-21T12:32:27.188Z"
   },
   {
    "duration": 16,
    "start_time": "2023-03-21T12:32:27.563Z"
   },
   {
    "duration": 24,
    "start_time": "2023-03-21T12:32:27.582Z"
   },
   {
    "duration": 199,
    "start_time": "2023-03-21T12:32:27.608Z"
   },
   {
    "duration": 194,
    "start_time": "2023-03-21T12:32:27.808Z"
   },
   {
    "duration": 4,
    "start_time": "2023-03-21T12:32:28.004Z"
   },
   {
    "duration": 199,
    "start_time": "2023-03-21T12:32:28.009Z"
   },
   {
    "duration": 197,
    "start_time": "2023-03-21T12:32:28.210Z"
   },
   {
    "duration": 197,
    "start_time": "2023-03-21T12:32:28.410Z"
   },
   {
    "duration": 5,
    "start_time": "2023-03-21T12:32:28.608Z"
   },
   {
    "duration": 278,
    "start_time": "2023-03-21T12:32:28.615Z"
   },
   {
    "duration": 130,
    "start_time": "2023-03-21T12:32:28.894Z"
   },
   {
    "duration": 7,
    "start_time": "2023-03-21T12:32:29.026Z"
   },
   {
    "duration": 8,
    "start_time": "2023-03-21T12:32:29.034Z"
   },
   {
    "duration": 39,
    "start_time": "2023-03-21T12:32:29.044Z"
   },
   {
    "duration": 16,
    "start_time": "2023-03-21T12:32:29.084Z"
   },
   {
    "duration": 13,
    "start_time": "2023-03-21T12:32:29.102Z"
   },
   {
    "duration": 10,
    "start_time": "2023-03-21T12:32:29.117Z"
   },
   {
    "duration": 51,
    "start_time": "2023-03-21T12:32:29.129Z"
   },
   {
    "duration": 20,
    "start_time": "2023-03-21T12:32:29.182Z"
   },
   {
    "duration": 3,
    "start_time": "2023-03-21T12:40:34.723Z"
   },
   {
    "duration": 37,
    "start_time": "2023-03-21T12:40:34.728Z"
   },
   {
    "duration": 11,
    "start_time": "2023-03-21T12:40:34.766Z"
   },
   {
    "duration": 22,
    "start_time": "2023-03-21T12:40:34.779Z"
   },
   {
    "duration": 39,
    "start_time": "2023-03-21T12:40:34.803Z"
   },
   {
    "duration": 31,
    "start_time": "2023-03-21T12:40:34.844Z"
   },
   {
    "duration": 65,
    "start_time": "2023-03-21T12:40:34.878Z"
   },
   {
    "duration": 13,
    "start_time": "2023-03-21T12:40:34.946Z"
   },
   {
    "duration": 26,
    "start_time": "2023-03-21T12:40:34.962Z"
   },
   {
    "duration": 36,
    "start_time": "2023-03-21T12:40:34.990Z"
   },
   {
    "duration": 19,
    "start_time": "2023-03-21T12:40:35.028Z"
   },
   {
    "duration": 35,
    "start_time": "2023-03-21T12:40:35.049Z"
   },
   {
    "duration": 13,
    "start_time": "2023-03-21T12:40:35.087Z"
   },
   {
    "duration": 14,
    "start_time": "2023-03-21T12:40:35.103Z"
   },
   {
    "duration": 16,
    "start_time": "2023-03-21T12:40:35.120Z"
   },
   {
    "duration": 27,
    "start_time": "2023-03-21T12:40:35.139Z"
   },
   {
    "duration": 14,
    "start_time": "2023-03-21T12:40:35.168Z"
   },
   {
    "duration": 7,
    "start_time": "2023-03-21T12:40:35.184Z"
   },
   {
    "duration": 406,
    "start_time": "2023-03-21T12:40:35.193Z"
   },
   {
    "duration": 15,
    "start_time": "2023-03-21T12:40:35.602Z"
   },
   {
    "duration": 14,
    "start_time": "2023-03-21T12:40:35.619Z"
   },
   {
    "duration": 14,
    "start_time": "2023-03-21T12:40:35.638Z"
   },
   {
    "duration": 27,
    "start_time": "2023-03-21T12:40:35.654Z"
   },
   {
    "duration": 7,
    "start_time": "2023-03-21T12:40:35.685Z"
   },
   {
    "duration": 196,
    "start_time": "2023-03-21T12:40:35.694Z"
   },
   {
    "duration": 142,
    "start_time": "2023-03-21T12:40:35.892Z"
   },
   {
    "duration": 14,
    "start_time": "2023-03-21T12:40:36.036Z"
   },
   {
    "duration": 30,
    "start_time": "2023-03-21T12:40:36.052Z"
   },
   {
    "duration": 397,
    "start_time": "2023-03-21T12:40:36.084Z"
   },
   {
    "duration": 310,
    "start_time": "2023-03-21T12:40:36.484Z"
   },
   {
    "duration": 386,
    "start_time": "2023-03-21T12:40:36.796Z"
   },
   {
    "duration": 328,
    "start_time": "2023-03-21T12:40:37.184Z"
   },
   {
    "duration": 350,
    "start_time": "2023-03-21T12:40:37.514Z"
   },
   {
    "duration": 16,
    "start_time": "2023-03-21T12:40:37.865Z"
   },
   {
    "duration": 26,
    "start_time": "2023-03-21T12:40:37.882Z"
   },
   {
    "duration": 223,
    "start_time": "2023-03-21T12:40:37.910Z"
   },
   {
    "duration": 209,
    "start_time": "2023-03-21T12:40:38.135Z"
   },
   {
    "duration": 4,
    "start_time": "2023-03-21T12:40:38.345Z"
   },
   {
    "duration": 214,
    "start_time": "2023-03-21T12:40:38.351Z"
   },
   {
    "duration": 215,
    "start_time": "2023-03-21T12:40:38.566Z"
   },
   {
    "duration": 191,
    "start_time": "2023-03-21T12:40:38.783Z"
   },
   {
    "duration": 4,
    "start_time": "2023-03-21T12:40:38.976Z"
   },
   {
    "duration": 271,
    "start_time": "2023-03-21T12:40:38.983Z"
   },
   {
    "duration": 153,
    "start_time": "2023-03-21T12:40:39.256Z"
   },
   {
    "duration": 9,
    "start_time": "2023-03-21T12:40:39.410Z"
   },
   {
    "duration": 7,
    "start_time": "2023-03-21T12:40:39.421Z"
   },
   {
    "duration": 59,
    "start_time": "2023-03-21T12:40:39.431Z"
   },
   {
    "duration": 17,
    "start_time": "2023-03-21T12:40:39.492Z"
   },
   {
    "duration": 21,
    "start_time": "2023-03-21T12:40:39.512Z"
   },
   {
    "duration": 39,
    "start_time": "2023-03-21T12:40:39.535Z"
   },
   {
    "duration": 38,
    "start_time": "2023-03-21T12:40:39.577Z"
   },
   {
    "duration": 22,
    "start_time": "2023-03-21T12:40:39.617Z"
   }
  ],
  "kernelspec": {
   "display_name": "Python 3 (ipykernel)",
   "language": "python",
   "name": "python3"
  },
  "language_info": {
   "codemirror_mode": {
    "name": "ipython",
    "version": 3
   },
   "file_extension": ".py",
   "mimetype": "text/x-python",
   "name": "python",
   "nbconvert_exporter": "python",
   "pygments_lexer": "ipython3",
   "version": "3.11.3"
  },
  "toc": {
   "base_numbering": 1,
   "nav_menu": {},
   "number_sections": true,
   "sideBar": true,
   "skip_h1_title": true,
   "title_cell": "Table of Contents",
   "title_sidebar": "Contents",
   "toc_cell": false,
   "toc_position": {},
   "toc_section_display": true,
   "toc_window_display": false
  }
 },
 "nbformat": 4,
 "nbformat_minor": 2
}
