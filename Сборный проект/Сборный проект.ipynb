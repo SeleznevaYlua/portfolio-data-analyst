{
 "cells": [
  {
   "cell_type": "markdown",
   "metadata": {},
   "source": [
    "# Сборный проект"
   ]
  },
  {
   "cell_type": "markdown",
   "metadata": {},
   "source": [
    "## Описание проекта"
   ]
  },
  {
   "cell_type": "markdown",
   "metadata": {},
   "source": [
    "Мы работаем в стартапе, который продаёт продукты питания. Нужно разобраться, как ведут себя пользователи нашего мобильного приложения. \n",
    "Изучим воронку продаж. Узнаем, как пользователи доходят до покупки. Сколько пользователей доходит до покупки, а сколько — «застревает» на предыдущих шагах? На каких именно?\n",
    "После этого исследуем результаты A/A/B-эксперимента. Дизайнеры захотели поменять шрифты во всём приложении, а менеджеры испугались, что пользователям будет непривычно. Договорились принять решение по результатам A/A/B-теста. Пользователей разбили на 3 группы: 2 контрольные со старыми шрифтами и одну экспериментальную — с новыми. Выясним, какой шрифт лучше.\n",
    "Создание двух групп A вместо одной имеет определённые преимущества. Если две контрольные группы окажутся равны, мы можем быть уверены в точности проведенного тестирования. Если же между значениями A и A будут существенные различия, это поможет обнаружить факторы, которые привели к искажению результатов. Сравнение контрольных групп также помогает понять, сколько времени и данных потребуется для дальнейших тестов.\n",
    "В случае общей аналитики и A/A/B-эксперимента будем работать с одними и теми же данными. "
   ]
  },
  {
   "cell_type": "markdown",
   "metadata": {},
   "source": [
    "## Описание данных"
   ]
  },
  {
   "cell_type": "markdown",
   "metadata": {},
   "source": [
    "Каждая запись в логе — это действие пользователя, или событие. \n",
    "\n",
    "EventName — название события;\n",
    "\n",
    "DeviceIDHash — уникальный идентификатор пользователя;\n",
    "\n",
    "EventTimestamp — время события;\n",
    "\n",
    "ExpId — номер эксперимента: 246 и 247 — контрольные группы, а 248 — экспериментальная."
   ]
  },
  {
   "cell_type": "markdown",
   "metadata": {},
   "source": [
    "##  План выполнения работы"
   ]
  },
  {
   "cell_type": "markdown",
   "metadata": {},
   "source": [
    "Шаг 1. Откроем файл с данными и изучим общую информацию.\n",
    "- Путь к файлу: /datasets/logs_exp.csv.\n",
    "\n",
    "Шаг 2. Подготовим данные.\n",
    "- Заменим названия столбцов на удобные для нас;\n",
    "- Проверим пропуски и типы данных. Откорректируем, если нужно;\n",
    "- Добавим столбец даты и времени, а также отдельный столбец дат.\n",
    "\n",
    "Шаг 3. Изучим и проверим данные.\n",
    "- Сколько всего событий в логе?\n",
    "- Сколько всего пользователей в логе?\n",
    "- Сколько в среднем событий приходится на пользователя?\n",
    "- Данными за какой период мы располагаем? Найдем максимальную и минимальную дату. Построим гистограмму по дате и времени. Можно ли быть уверенным, что у нас одинаково полные данные за весь период? Технически в логи новых дней по некоторым пользователям могут «доезжать» события из прошлого — это может «перекашивать данные». Определим, с какого момента данные полные и отбросим более старые. Данными за какой период времени мы располагаете на самом деле?\n",
    "- Много ли событий и пользователей мы потеряли, отбросив старые данные?\n",
    "- Проверим, что у нас есть пользователи из всех трёх экспериментальных групп.\n",
    "\n",
    "Шаг 4. Изучим воронку событий.\n",
    "- Посмотрим, какие события есть в логах, как часто они встречаются. Отсортируем события по частоте.\n",
    "- Посчитаем, сколько пользователей совершали каждое из этих событий. Отсортируем события по числу пользователей. Посчитаем долю пользователей, которые хоть раз совершали событие.\n",
    "- Предположим, в каком порядке происходят события. Все ли они выстраиваются в последовательную цепочку? Их не нужно учитывать при расчёте воронки.\n",
    "- По воронке событий посчитаем, какая доля пользователей проходит на следующий шаг воронки (от числа пользователей на предыдущем). То есть для последовательности событий A → B → C посчитаем отношение числа пользователей с событием B к количеству пользователей с событием A, а также отношение числа пользователей с событием C к количеству пользователей с событием B.\n",
    "- На каком шаге теряем больше всего пользователей?\n",
    "- Какая доля пользователей доходит от первого события до оплаты?\n",
    "\n",
    "Шаг 5. Изучим результаты эксперимента.\n",
    "- Сколько пользователей в каждой экспериментальной группе?\n",
    "- Есть 2 контрольные группы для А/А-эксперимента, чтобы проверить корректность всех механизмов и расчётов. Проверим, находят ли статистические критерии разницу между выборками 246 и 247.\n",
    "- Выберем самое популярное событие. Посчитаем число пользователей, совершивших это событие в каждой из контрольных групп. Посчитаем долю пользователей, совершивших это событие. Проверим, будет ли отличие между группами статистически достоверным. Проделаем то же самое для всех других событий (удобно обернуть проверку в отдельную функцию). Можно ли сказать, что разбиение на группы работает корректно?\n",
    "- Аналогично поступим с группой с изменённым шрифтом. Сравним результаты с каждой из контрольных групп в отдельности по каждому событию. Сравним результаты с объединённой контрольной группой. Какие выводы из эксперимента можно сделать?\n",
    "- Какой уровень значимости мы выбрали при проверке статистических гипотез выше? Посчитаем, сколько проверок статистических гипотез мы сделали. При уровне значимости 0.1 каждый десятый раз можно получать ложный результат. Какой уровень значимости стоит применить? Если мы хотим изменить его, проделаем предыдущие пункты и проверим свои выводы."
   ]
  },
  {
   "cell_type": "markdown",
   "metadata": {},
   "source": [
    "## Подготовка данных"
   ]
  },
  {
   "cell_type": "code",
   "execution_count": 52,
   "metadata": {},
   "outputs": [],
   "source": [
    "import pandas as pd\n",
    "import scipy.stats as st\n",
    "import datetime as dt\n",
    "import numpy as np\n",
    "import matplotlib as mpl\n",
    "import matplotlib.pyplot as plt\n",
    "import seaborn as sns\n",
    "import warnings; warnings.filterwarnings(action = 'ignore') \n",
    "# игнорируем предупреждения\n",
    "import math as mth\n",
    "from plotly import graph_objects as go"
   ]
  },
  {
   "cell_type": "code",
   "execution_count": 53,
   "metadata": {},
   "outputs": [],
   "source": [
    "data = pd.read_csv('/Users/solar/портфолио/logs_exp.csv', sep = '\\t')"
   ]
  },
  {
   "cell_type": "code",
   "execution_count": 54,
   "metadata": {},
   "outputs": [
    {
     "data": {
      "text/html": [
       "<div>\n",
       "<style scoped>\n",
       "    .dataframe tbody tr th:only-of-type {\n",
       "        vertical-align: middle;\n",
       "    }\n",
       "\n",
       "    .dataframe tbody tr th {\n",
       "        vertical-align: top;\n",
       "    }\n",
       "\n",
       "    .dataframe thead th {\n",
       "        text-align: right;\n",
       "    }\n",
       "</style>\n",
       "<table border=\"1\" class=\"dataframe\">\n",
       "  <thead>\n",
       "    <tr style=\"text-align: right;\">\n",
       "      <th></th>\n",
       "      <th>EventName</th>\n",
       "      <th>DeviceIDHash</th>\n",
       "      <th>EventTimestamp</th>\n",
       "      <th>ExpId</th>\n",
       "    </tr>\n",
       "  </thead>\n",
       "  <tbody>\n",
       "    <tr>\n",
       "      <th>0</th>\n",
       "      <td>MainScreenAppear</td>\n",
       "      <td>4575588528974610257</td>\n",
       "      <td>1564029816</td>\n",
       "      <td>246</td>\n",
       "    </tr>\n",
       "    <tr>\n",
       "      <th>1</th>\n",
       "      <td>MainScreenAppear</td>\n",
       "      <td>7416695313311560658</td>\n",
       "      <td>1564053102</td>\n",
       "      <td>246</td>\n",
       "    </tr>\n",
       "    <tr>\n",
       "      <th>2</th>\n",
       "      <td>PaymentScreenSuccessful</td>\n",
       "      <td>3518123091307005509</td>\n",
       "      <td>1564054127</td>\n",
       "      <td>248</td>\n",
       "    </tr>\n",
       "    <tr>\n",
       "      <th>3</th>\n",
       "      <td>CartScreenAppear</td>\n",
       "      <td>3518123091307005509</td>\n",
       "      <td>1564054127</td>\n",
       "      <td>248</td>\n",
       "    </tr>\n",
       "    <tr>\n",
       "      <th>4</th>\n",
       "      <td>PaymentScreenSuccessful</td>\n",
       "      <td>6217807653094995999</td>\n",
       "      <td>1564055322</td>\n",
       "      <td>248</td>\n",
       "    </tr>\n",
       "  </tbody>\n",
       "</table>\n",
       "</div>"
      ],
      "text/plain": [
       "                 EventName         DeviceIDHash  EventTimestamp  ExpId\n",
       "0         MainScreenAppear  4575588528974610257      1564029816    246\n",
       "1         MainScreenAppear  7416695313311560658      1564053102    246\n",
       "2  PaymentScreenSuccessful  3518123091307005509      1564054127    248\n",
       "3         CartScreenAppear  3518123091307005509      1564054127    248\n",
       "4  PaymentScreenSuccessful  6217807653094995999      1564055322    248"
      ]
     },
     "execution_count": 54,
     "metadata": {},
     "output_type": "execute_result"
    }
   ],
   "source": [
    "data.head()"
   ]
  },
  {
   "cell_type": "code",
   "execution_count": 55,
   "metadata": {},
   "outputs": [
    {
     "name": "stdout",
     "output_type": "stream",
     "text": [
      "<class 'pandas.core.frame.DataFrame'>\n",
      "RangeIndex: 244126 entries, 0 to 244125\n",
      "Data columns (total 4 columns):\n",
      " #   Column          Non-Null Count   Dtype \n",
      "---  ------          --------------   ----- \n",
      " 0   EventName       244126 non-null  object\n",
      " 1   DeviceIDHash    244126 non-null  int64 \n",
      " 2   EventTimestamp  244126 non-null  int64 \n",
      " 3   ExpId           244126 non-null  int64 \n",
      "dtypes: int64(3), object(1)\n",
      "memory usage: 7.5+ MB\n"
     ]
    }
   ],
   "source": [
    "data.info()"
   ]
  },
  {
   "cell_type": "markdown",
   "metadata": {},
   "source": [
    "Видим, что пропусков нет, у столбца EventTimestamp должен быть формат времени."
   ]
  },
  {
   "cell_type": "code",
   "execution_count": 56,
   "metadata": {},
   "outputs": [
    {
     "data": {
      "text/html": [
       "<div>\n",
       "<style scoped>\n",
       "    .dataframe tbody tr th:only-of-type {\n",
       "        vertical-align: middle;\n",
       "    }\n",
       "\n",
       "    .dataframe tbody tr th {\n",
       "        vertical-align: top;\n",
       "    }\n",
       "\n",
       "    .dataframe thead th {\n",
       "        text-align: right;\n",
       "    }\n",
       "</style>\n",
       "<table border=\"1\" class=\"dataframe\">\n",
       "  <thead>\n",
       "    <tr style=\"text-align: right;\">\n",
       "      <th></th>\n",
       "      <th>event_name</th>\n",
       "      <th>device_id_hash</th>\n",
       "      <th>event_timestamp</th>\n",
       "      <th>exp_id</th>\n",
       "    </tr>\n",
       "  </thead>\n",
       "  <tbody>\n",
       "    <tr>\n",
       "      <th>0</th>\n",
       "      <td>MainScreenAppear</td>\n",
       "      <td>4575588528974610257</td>\n",
       "      <td>1564029816</td>\n",
       "      <td>246</td>\n",
       "    </tr>\n",
       "    <tr>\n",
       "      <th>1</th>\n",
       "      <td>MainScreenAppear</td>\n",
       "      <td>7416695313311560658</td>\n",
       "      <td>1564053102</td>\n",
       "      <td>246</td>\n",
       "    </tr>\n",
       "    <tr>\n",
       "      <th>2</th>\n",
       "      <td>PaymentScreenSuccessful</td>\n",
       "      <td>3518123091307005509</td>\n",
       "      <td>1564054127</td>\n",
       "      <td>248</td>\n",
       "    </tr>\n",
       "    <tr>\n",
       "      <th>3</th>\n",
       "      <td>CartScreenAppear</td>\n",
       "      <td>3518123091307005509</td>\n",
       "      <td>1564054127</td>\n",
       "      <td>248</td>\n",
       "    </tr>\n",
       "    <tr>\n",
       "      <th>4</th>\n",
       "      <td>PaymentScreenSuccessful</td>\n",
       "      <td>6217807653094995999</td>\n",
       "      <td>1564055322</td>\n",
       "      <td>248</td>\n",
       "    </tr>\n",
       "  </tbody>\n",
       "</table>\n",
       "</div>"
      ],
      "text/plain": [
       "                event_name       device_id_hash  event_timestamp  exp_id\n",
       "0         MainScreenAppear  4575588528974610257       1564029816     246\n",
       "1         MainScreenAppear  7416695313311560658       1564053102     246\n",
       "2  PaymentScreenSuccessful  3518123091307005509       1564054127     248\n",
       "3         CartScreenAppear  3518123091307005509       1564054127     248\n",
       "4  PaymentScreenSuccessful  6217807653094995999       1564055322     248"
      ]
     },
     "execution_count": 56,
     "metadata": {},
     "output_type": "execute_result"
    }
   ],
   "source": [
    "# Меняем названия столбцов\n",
    "data.columns = ['event_name', 'device_id_hash', 'event_timestamp', 'exp_id']\n",
    "\n",
    "data.head()"
   ]
  },
  {
   "cell_type": "code",
   "execution_count": 57,
   "metadata": {},
   "outputs": [],
   "source": [
    "# преобразование данных о времени\n",
    "data['event_timestamp'] = pd.to_datetime(data['event_timestamp'], unit='s')"
   ]
  },
  {
   "cell_type": "code",
   "execution_count": 58,
   "metadata": {},
   "outputs": [
    {
     "name": "stdout",
     "output_type": "stream",
     "text": [
      "<class 'pandas.core.frame.DataFrame'>\n",
      "RangeIndex: 244126 entries, 0 to 244125\n",
      "Data columns (total 4 columns):\n",
      " #   Column           Non-Null Count   Dtype         \n",
      "---  ------           --------------   -----         \n",
      " 0   event_name       244126 non-null  object        \n",
      " 1   device_id_hash   244126 non-null  int64         \n",
      " 2   event_timestamp  244126 non-null  datetime64[ns]\n",
      " 3   exp_id           244126 non-null  int64         \n",
      "dtypes: datetime64[ns](1), int64(2), object(1)\n",
      "memory usage: 7.5+ MB\n"
     ]
    }
   ],
   "source": [
    "data.info()"
   ]
  },
  {
   "cell_type": "code",
   "execution_count": 59,
   "metadata": {},
   "outputs": [
    {
     "data": {
      "text/html": [
       "<div>\n",
       "<style scoped>\n",
       "    .dataframe tbody tr th:only-of-type {\n",
       "        vertical-align: middle;\n",
       "    }\n",
       "\n",
       "    .dataframe tbody tr th {\n",
       "        vertical-align: top;\n",
       "    }\n",
       "\n",
       "    .dataframe thead th {\n",
       "        text-align: right;\n",
       "    }\n",
       "</style>\n",
       "<table border=\"1\" class=\"dataframe\">\n",
       "  <thead>\n",
       "    <tr style=\"text-align: right;\">\n",
       "      <th></th>\n",
       "      <th>event_name</th>\n",
       "      <th>device_id_hash</th>\n",
       "      <th>event_timestamp</th>\n",
       "      <th>exp_id</th>\n",
       "    </tr>\n",
       "  </thead>\n",
       "  <tbody>\n",
       "    <tr>\n",
       "      <th>0</th>\n",
       "      <td>MainScreenAppear</td>\n",
       "      <td>4575588528974610257</td>\n",
       "      <td>2019-07-25 04:43:36</td>\n",
       "      <td>246</td>\n",
       "    </tr>\n",
       "    <tr>\n",
       "      <th>1</th>\n",
       "      <td>MainScreenAppear</td>\n",
       "      <td>7416695313311560658</td>\n",
       "      <td>2019-07-25 11:11:42</td>\n",
       "      <td>246</td>\n",
       "    </tr>\n",
       "    <tr>\n",
       "      <th>2</th>\n",
       "      <td>PaymentScreenSuccessful</td>\n",
       "      <td>3518123091307005509</td>\n",
       "      <td>2019-07-25 11:28:47</td>\n",
       "      <td>248</td>\n",
       "    </tr>\n",
       "    <tr>\n",
       "      <th>3</th>\n",
       "      <td>CartScreenAppear</td>\n",
       "      <td>3518123091307005509</td>\n",
       "      <td>2019-07-25 11:28:47</td>\n",
       "      <td>248</td>\n",
       "    </tr>\n",
       "    <tr>\n",
       "      <th>4</th>\n",
       "      <td>PaymentScreenSuccessful</td>\n",
       "      <td>6217807653094995999</td>\n",
       "      <td>2019-07-25 11:48:42</td>\n",
       "      <td>248</td>\n",
       "    </tr>\n",
       "  </tbody>\n",
       "</table>\n",
       "</div>"
      ],
      "text/plain": [
       "                event_name       device_id_hash     event_timestamp  exp_id\n",
       "0         MainScreenAppear  4575588528974610257 2019-07-25 04:43:36     246\n",
       "1         MainScreenAppear  7416695313311560658 2019-07-25 11:11:42     246\n",
       "2  PaymentScreenSuccessful  3518123091307005509 2019-07-25 11:28:47     248\n",
       "3         CartScreenAppear  3518123091307005509 2019-07-25 11:28:47     248\n",
       "4  PaymentScreenSuccessful  6217807653094995999 2019-07-25 11:48:42     248"
      ]
     },
     "execution_count": 59,
     "metadata": {},
     "output_type": "execute_result"
    }
   ],
   "source": [
    "data.head()"
   ]
  },
  {
   "cell_type": "code",
   "execution_count": 60,
   "metadata": {},
   "outputs": [
    {
     "data": {
      "text/html": [
       "<div>\n",
       "<style scoped>\n",
       "    .dataframe tbody tr th:only-of-type {\n",
       "        vertical-align: middle;\n",
       "    }\n",
       "\n",
       "    .dataframe tbody tr th {\n",
       "        vertical-align: top;\n",
       "    }\n",
       "\n",
       "    .dataframe thead th {\n",
       "        text-align: right;\n",
       "    }\n",
       "</style>\n",
       "<table border=\"1\" class=\"dataframe\">\n",
       "  <thead>\n",
       "    <tr style=\"text-align: right;\">\n",
       "      <th></th>\n",
       "      <th>event_name</th>\n",
       "      <th>device_id_hash</th>\n",
       "      <th>event_timestamp</th>\n",
       "      <th>exp_id</th>\n",
       "      <th>event_date</th>\n",
       "    </tr>\n",
       "  </thead>\n",
       "  <tbody>\n",
       "    <tr>\n",
       "      <th>0</th>\n",
       "      <td>MainScreenAppear</td>\n",
       "      <td>4575588528974610257</td>\n",
       "      <td>2019-07-25 04:43:36</td>\n",
       "      <td>246</td>\n",
       "      <td>2019-07-25</td>\n",
       "    </tr>\n",
       "    <tr>\n",
       "      <th>1</th>\n",
       "      <td>MainScreenAppear</td>\n",
       "      <td>7416695313311560658</td>\n",
       "      <td>2019-07-25 11:11:42</td>\n",
       "      <td>246</td>\n",
       "      <td>2019-07-25</td>\n",
       "    </tr>\n",
       "    <tr>\n",
       "      <th>2</th>\n",
       "      <td>PaymentScreenSuccessful</td>\n",
       "      <td>3518123091307005509</td>\n",
       "      <td>2019-07-25 11:28:47</td>\n",
       "      <td>248</td>\n",
       "      <td>2019-07-25</td>\n",
       "    </tr>\n",
       "    <tr>\n",
       "      <th>3</th>\n",
       "      <td>CartScreenAppear</td>\n",
       "      <td>3518123091307005509</td>\n",
       "      <td>2019-07-25 11:28:47</td>\n",
       "      <td>248</td>\n",
       "      <td>2019-07-25</td>\n",
       "    </tr>\n",
       "    <tr>\n",
       "      <th>4</th>\n",
       "      <td>PaymentScreenSuccessful</td>\n",
       "      <td>6217807653094995999</td>\n",
       "      <td>2019-07-25 11:48:42</td>\n",
       "      <td>248</td>\n",
       "      <td>2019-07-25</td>\n",
       "    </tr>\n",
       "  </tbody>\n",
       "</table>\n",
       "</div>"
      ],
      "text/plain": [
       "                event_name       device_id_hash     event_timestamp  exp_id  \\\n",
       "0         MainScreenAppear  4575588528974610257 2019-07-25 04:43:36     246   \n",
       "1         MainScreenAppear  7416695313311560658 2019-07-25 11:11:42     246   \n",
       "2  PaymentScreenSuccessful  3518123091307005509 2019-07-25 11:28:47     248   \n",
       "3         CartScreenAppear  3518123091307005509 2019-07-25 11:28:47     248   \n",
       "4  PaymentScreenSuccessful  6217807653094995999 2019-07-25 11:48:42     248   \n",
       "\n",
       "   event_date  \n",
       "0  2019-07-25  \n",
       "1  2019-07-25  \n",
       "2  2019-07-25  \n",
       "3  2019-07-25  \n",
       "4  2019-07-25  "
      ]
     },
     "execution_count": 60,
     "metadata": {},
     "output_type": "execute_result"
    }
   ],
   "source": [
    "# добавим столбец с датами\n",
    "data['event_date'] = pd.to_datetime(data['event_timestamp']).dt.date \n",
    "data.head()"
   ]
  },
  {
   "cell_type": "code",
   "execution_count": 61,
   "metadata": {},
   "outputs": [
    {
     "data": {
      "text/plain": [
       "413"
      ]
     },
     "execution_count": 61,
     "metadata": {},
     "output_type": "execute_result"
    }
   ],
   "source": [
    "# Проверка на дубликаты\n",
    "data.duplicated().sum()"
   ]
  },
  {
   "cell_type": "code",
   "execution_count": 62,
   "metadata": {},
   "outputs": [
    {
     "data": {
      "text/html": [
       "<div>\n",
       "<style scoped>\n",
       "    .dataframe tbody tr th:only-of-type {\n",
       "        vertical-align: middle;\n",
       "    }\n",
       "\n",
       "    .dataframe tbody tr th {\n",
       "        vertical-align: top;\n",
       "    }\n",
       "\n",
       "    .dataframe thead th {\n",
       "        text-align: right;\n",
       "    }\n",
       "</style>\n",
       "<table border=\"1\" class=\"dataframe\">\n",
       "  <thead>\n",
       "    <tr style=\"text-align: right;\">\n",
       "      <th></th>\n",
       "      <th>event_name</th>\n",
       "      <th>device_id_hash</th>\n",
       "      <th>event_timestamp</th>\n",
       "      <th>exp_id</th>\n",
       "      <th>event_date</th>\n",
       "    </tr>\n",
       "  </thead>\n",
       "  <tbody>\n",
       "    <tr>\n",
       "      <th>453</th>\n",
       "      <td>MainScreenAppear</td>\n",
       "      <td>5613408041324010552</td>\n",
       "      <td>2019-07-30 08:19:44</td>\n",
       "      <td>248</td>\n",
       "      <td>2019-07-30</td>\n",
       "    </tr>\n",
       "    <tr>\n",
       "      <th>2350</th>\n",
       "      <td>CartScreenAppear</td>\n",
       "      <td>1694940645335807244</td>\n",
       "      <td>2019-07-31 21:51:39</td>\n",
       "      <td>248</td>\n",
       "      <td>2019-07-31</td>\n",
       "    </tr>\n",
       "    <tr>\n",
       "      <th>3573</th>\n",
       "      <td>MainScreenAppear</td>\n",
       "      <td>434103746454591587</td>\n",
       "      <td>2019-08-01 02:59:37</td>\n",
       "      <td>248</td>\n",
       "      <td>2019-08-01</td>\n",
       "    </tr>\n",
       "    <tr>\n",
       "      <th>4076</th>\n",
       "      <td>MainScreenAppear</td>\n",
       "      <td>3761373764179762633</td>\n",
       "      <td>2019-08-01 03:47:46</td>\n",
       "      <td>247</td>\n",
       "      <td>2019-08-01</td>\n",
       "    </tr>\n",
       "    <tr>\n",
       "      <th>4803</th>\n",
       "      <td>MainScreenAppear</td>\n",
       "      <td>2835328739789306622</td>\n",
       "      <td>2019-08-01 04:44:01</td>\n",
       "      <td>248</td>\n",
       "      <td>2019-08-01</td>\n",
       "    </tr>\n",
       "    <tr>\n",
       "      <th>...</th>\n",
       "      <td>...</td>\n",
       "      <td>...</td>\n",
       "      <td>...</td>\n",
       "      <td>...</td>\n",
       "      <td>...</td>\n",
       "    </tr>\n",
       "    <tr>\n",
       "      <th>242329</th>\n",
       "      <td>MainScreenAppear</td>\n",
       "      <td>8870358373313968633</td>\n",
       "      <td>2019-08-07 19:26:44</td>\n",
       "      <td>247</td>\n",
       "      <td>2019-08-07</td>\n",
       "    </tr>\n",
       "    <tr>\n",
       "      <th>242332</th>\n",
       "      <td>PaymentScreenSuccessful</td>\n",
       "      <td>4718002964983105693</td>\n",
       "      <td>2019-08-07 19:26:45</td>\n",
       "      <td>247</td>\n",
       "      <td>2019-08-07</td>\n",
       "    </tr>\n",
       "    <tr>\n",
       "      <th>242360</th>\n",
       "      <td>PaymentScreenSuccessful</td>\n",
       "      <td>2382591782303281935</td>\n",
       "      <td>2019-08-07 19:27:29</td>\n",
       "      <td>246</td>\n",
       "      <td>2019-08-07</td>\n",
       "    </tr>\n",
       "    <tr>\n",
       "      <th>242362</th>\n",
       "      <td>CartScreenAppear</td>\n",
       "      <td>2382591782303281935</td>\n",
       "      <td>2019-08-07 19:27:29</td>\n",
       "      <td>246</td>\n",
       "      <td>2019-08-07</td>\n",
       "    </tr>\n",
       "    <tr>\n",
       "      <th>242635</th>\n",
       "      <td>MainScreenAppear</td>\n",
       "      <td>4097782667445790512</td>\n",
       "      <td>2019-08-07 19:36:58</td>\n",
       "      <td>246</td>\n",
       "      <td>2019-08-07</td>\n",
       "    </tr>\n",
       "  </tbody>\n",
       "</table>\n",
       "<p>413 rows × 5 columns</p>\n",
       "</div>"
      ],
      "text/plain": [
       "                     event_name       device_id_hash     event_timestamp  \\\n",
       "453            MainScreenAppear  5613408041324010552 2019-07-30 08:19:44   \n",
       "2350           CartScreenAppear  1694940645335807244 2019-07-31 21:51:39   \n",
       "3573           MainScreenAppear   434103746454591587 2019-08-01 02:59:37   \n",
       "4076           MainScreenAppear  3761373764179762633 2019-08-01 03:47:46   \n",
       "4803           MainScreenAppear  2835328739789306622 2019-08-01 04:44:01   \n",
       "...                         ...                  ...                 ...   \n",
       "242329         MainScreenAppear  8870358373313968633 2019-08-07 19:26:44   \n",
       "242332  PaymentScreenSuccessful  4718002964983105693 2019-08-07 19:26:45   \n",
       "242360  PaymentScreenSuccessful  2382591782303281935 2019-08-07 19:27:29   \n",
       "242362         CartScreenAppear  2382591782303281935 2019-08-07 19:27:29   \n",
       "242635         MainScreenAppear  4097782667445790512 2019-08-07 19:36:58   \n",
       "\n",
       "        exp_id  event_date  \n",
       "453        248  2019-07-30  \n",
       "2350       248  2019-07-31  \n",
       "3573       248  2019-08-01  \n",
       "4076       247  2019-08-01  \n",
       "4803       248  2019-08-01  \n",
       "...        ...         ...  \n",
       "242329     247  2019-08-07  \n",
       "242332     247  2019-08-07  \n",
       "242360     246  2019-08-07  \n",
       "242362     246  2019-08-07  \n",
       "242635     246  2019-08-07  \n",
       "\n",
       "[413 rows x 5 columns]"
      ]
     },
     "execution_count": 62,
     "metadata": {},
     "output_type": "execute_result"
    }
   ],
   "source": [
    "data[data.duplicated()]"
   ]
  },
  {
   "cell_type": "markdown",
   "metadata": {},
   "source": [
    "Видим, что есть дубликаты."
   ]
  },
  {
   "cell_type": "code",
   "execution_count": 63,
   "metadata": {},
   "outputs": [],
   "source": [
    "# удалим дубликаты\n",
    "\n",
    "data = data.drop_duplicates().reset_index(drop=True)"
   ]
  },
  {
   "cell_type": "code",
   "execution_count": 64,
   "metadata": {},
   "outputs": [
    {
     "name": "stdout",
     "output_type": "stream",
     "text": [
      "<class 'pandas.core.frame.DataFrame'>\n",
      "RangeIndex: 243713 entries, 0 to 243712\n",
      "Data columns (total 5 columns):\n",
      " #   Column           Non-Null Count   Dtype         \n",
      "---  ------           --------------   -----         \n",
      " 0   event_name       243713 non-null  object        \n",
      " 1   device_id_hash   243713 non-null  int64         \n",
      " 2   event_timestamp  243713 non-null  datetime64[ns]\n",
      " 3   exp_id           243713 non-null  int64         \n",
      " 4   event_date       243713 non-null  object        \n",
      "dtypes: datetime64[ns](1), int64(2), object(2)\n",
      "memory usage: 9.3+ MB\n"
     ]
    }
   ],
   "source": [
    "data.info()"
   ]
  },
  {
   "cell_type": "code",
   "execution_count": 65,
   "metadata": {},
   "outputs": [
    {
     "data": {
      "text/html": [
       "<div>\n",
       "<style scoped>\n",
       "    .dataframe tbody tr th:only-of-type {\n",
       "        vertical-align: middle;\n",
       "    }\n",
       "\n",
       "    .dataframe tbody tr th {\n",
       "        vertical-align: top;\n",
       "    }\n",
       "\n",
       "    .dataframe thead th {\n",
       "        text-align: right;\n",
       "    }\n",
       "</style>\n",
       "<table border=\"1\" class=\"dataframe\">\n",
       "  <thead>\n",
       "    <tr style=\"text-align: right;\">\n",
       "      <th></th>\n",
       "      <th>event_name</th>\n",
       "      <th>device_id_hash</th>\n",
       "      <th>event_timestamp</th>\n",
       "      <th>exp_id</th>\n",
       "      <th>event_date</th>\n",
       "    </tr>\n",
       "  </thead>\n",
       "  <tbody>\n",
       "    <tr>\n",
       "      <th>0</th>\n",
       "      <td>MainScreenAppear</td>\n",
       "      <td>4575588528974610257</td>\n",
       "      <td>2019-07-25 04:43:36</td>\n",
       "      <td>246</td>\n",
       "      <td>2019-07-25</td>\n",
       "    </tr>\n",
       "    <tr>\n",
       "      <th>1</th>\n",
       "      <td>MainScreenAppear</td>\n",
       "      <td>7416695313311560658</td>\n",
       "      <td>2019-07-25 11:11:42</td>\n",
       "      <td>246</td>\n",
       "      <td>2019-07-25</td>\n",
       "    </tr>\n",
       "    <tr>\n",
       "      <th>2</th>\n",
       "      <td>PaymentScreenSuccessful</td>\n",
       "      <td>3518123091307005509</td>\n",
       "      <td>2019-07-25 11:28:47</td>\n",
       "      <td>248</td>\n",
       "      <td>2019-07-25</td>\n",
       "    </tr>\n",
       "    <tr>\n",
       "      <th>3</th>\n",
       "      <td>CartScreenAppear</td>\n",
       "      <td>3518123091307005509</td>\n",
       "      <td>2019-07-25 11:28:47</td>\n",
       "      <td>248</td>\n",
       "      <td>2019-07-25</td>\n",
       "    </tr>\n",
       "    <tr>\n",
       "      <th>4</th>\n",
       "      <td>PaymentScreenSuccessful</td>\n",
       "      <td>6217807653094995999</td>\n",
       "      <td>2019-07-25 11:48:42</td>\n",
       "      <td>248</td>\n",
       "      <td>2019-07-25</td>\n",
       "    </tr>\n",
       "  </tbody>\n",
       "</table>\n",
       "</div>"
      ],
      "text/plain": [
       "                event_name       device_id_hash     event_timestamp  exp_id  \\\n",
       "0         MainScreenAppear  4575588528974610257 2019-07-25 04:43:36     246   \n",
       "1         MainScreenAppear  7416695313311560658 2019-07-25 11:11:42     246   \n",
       "2  PaymentScreenSuccessful  3518123091307005509 2019-07-25 11:28:47     248   \n",
       "3         CartScreenAppear  3518123091307005509 2019-07-25 11:28:47     248   \n",
       "4  PaymentScreenSuccessful  6217807653094995999 2019-07-25 11:48:42     248   \n",
       "\n",
       "   event_date  \n",
       "0  2019-07-25  \n",
       "1  2019-07-25  \n",
       "2  2019-07-25  \n",
       "3  2019-07-25  \n",
       "4  2019-07-25  "
      ]
     },
     "execution_count": 65,
     "metadata": {},
     "output_type": "execute_result"
    }
   ],
   "source": [
    "data.head()"
   ]
  },
  {
   "cell_type": "code",
   "execution_count": 66,
   "metadata": {},
   "outputs": [
    {
     "data": {
      "text/html": [
       "<div>\n",
       "<style scoped>\n",
       "    .dataframe tbody tr th:only-of-type {\n",
       "        vertical-align: middle;\n",
       "    }\n",
       "\n",
       "    .dataframe tbody tr th {\n",
       "        vertical-align: top;\n",
       "    }\n",
       "\n",
       "    .dataframe thead th {\n",
       "        text-align: right;\n",
       "    }\n",
       "</style>\n",
       "<table border=\"1\" class=\"dataframe\">\n",
       "  <thead>\n",
       "    <tr style=\"text-align: right;\">\n",
       "      <th></th>\n",
       "      <th>device_id_hash</th>\n",
       "      <th>exp_id</th>\n",
       "    </tr>\n",
       "  </thead>\n",
       "  <tbody>\n",
       "  </tbody>\n",
       "</table>\n",
       "</div>"
      ],
      "text/plain": [
       "Empty DataFrame\n",
       "Columns: [device_id_hash, exp_id]\n",
       "Index: []"
      ]
     },
     "execution_count": 66,
     "metadata": {},
     "output_type": "execute_result"
    }
   ],
   "source": [
    "# Для чистоты эксперимента, проверим, пересекаются ли пользователи по группам\n",
    "data.groupby('device_id_hash')['exp_id'].nunique().reset_index().query('exp_id > 1')"
   ]
  },
  {
   "cell_type": "markdown",
   "metadata": {},
   "source": [
    "Видим, что пользователи по группам не пересекаются."
   ]
  },
  {
   "cell_type": "markdown",
   "metadata": {},
   "source": [
    "Вывод: мы переименовали столбцы на более удобные названия, в одном столбце поменяли формат данных о времени, добавили новый столбец с данными о датах, также удалили дубликаты и провели проверку пользователей на пересечение по группам. В конечной таблице у нас осталось 243713 строк, видим, что количество ненулевых элементов в каждом столбце совпадает с размерами таблицы, значит, пропусков в таблице нет.\n"
   ]
  },
  {
   "cell_type": "markdown",
   "metadata": {},
   "source": [
    "## Изучение и проверка данных"
   ]
  },
  {
   "cell_type": "code",
   "execution_count": 67,
   "metadata": {},
   "outputs": [
    {
     "data": {
      "text/plain": [
       "5"
      ]
     },
     "execution_count": 67,
     "metadata": {},
     "output_type": "execute_result"
    }
   ],
   "source": [
    "#Посчитаем количество уникальных событий\n",
    "data['event_name'].nunique()"
   ]
  },
  {
   "cell_type": "code",
   "execution_count": 68,
   "metadata": {},
   "outputs": [
    {
     "data": {
      "text/plain": [
       "243713"
      ]
     },
     "execution_count": 68,
     "metadata": {},
     "output_type": "execute_result"
    }
   ],
   "source": [
    "#Посчитаем количество всех событий\n",
    "\n",
    "old_logs = data.shape[0]\n",
    "old_logs"
   ]
  },
  {
   "cell_type": "code",
   "execution_count": 69,
   "metadata": {},
   "outputs": [
    {
     "data": {
      "text/plain": [
       "7551"
      ]
     },
     "execution_count": 69,
     "metadata": {},
     "output_type": "execute_result"
    }
   ],
   "source": [
    "#Посчитаем количество уникальных пользователей\n",
    "old_users = data['device_id_hash'].nunique()\n",
    "old_users"
   ]
  },
  {
   "cell_type": "code",
   "execution_count": 70,
   "metadata": {},
   "outputs": [
    {
     "data": {
      "text/plain": [
       "array([246, 248, 247], dtype=int64)"
      ]
     },
     "execution_count": 70,
     "metadata": {},
     "output_type": "execute_result"
    }
   ],
   "source": [
    "#Посчитаем количество уникальных номеров эксперимента\n",
    "data['exp_id'].unique()"
   ]
  },
  {
   "cell_type": "code",
   "execution_count": 71,
   "metadata": {},
   "outputs": [
    {
     "data": {
      "text/plain": [
       "32.27559263673685"
      ]
     },
     "execution_count": 71,
     "metadata": {},
     "output_type": "execute_result"
    }
   ],
   "source": [
    "#Сколько в среднем событий приходится на пользователя?\n",
    "data.shape[0] / data['device_id_hash'].nunique()"
   ]
  },
  {
   "cell_type": "markdown",
   "metadata": {},
   "source": [
    "В среднем, на пользователи приходится 32 события."
   ]
  },
  {
   "cell_type": "code",
   "execution_count": 72,
   "metadata": {},
   "outputs": [
    {
     "data": {
      "text/plain": [
       "count                  243713\n",
       "unique                 176654\n",
       "top       2019-08-01 14:40:35\n",
       "freq                        9\n",
       "first     2019-07-25 04:43:36\n",
       "last      2019-08-07 21:15:17\n",
       "Name: event_timestamp, dtype: object"
      ]
     },
     "execution_count": 72,
     "metadata": {},
     "output_type": "execute_result"
    }
   ],
   "source": [
    "# Данными за какой период мы располагаем?\n",
    "data['event_timestamp'].describe()"
   ]
  },
  {
   "cell_type": "code",
   "execution_count": 73,
   "metadata": {},
   "outputs": [
    {
     "data": {
      "text/plain": [
       "Timestamp('2019-07-25 04:43:36')"
      ]
     },
     "execution_count": 73,
     "metadata": {},
     "output_type": "execute_result"
    }
   ],
   "source": [
    "data['event_timestamp'].min()"
   ]
  },
  {
   "cell_type": "code",
   "execution_count": 74,
   "metadata": {},
   "outputs": [
    {
     "data": {
      "text/plain": [
       "Timestamp('2019-08-07 21:15:17')"
      ]
     },
     "execution_count": 74,
     "metadata": {},
     "output_type": "execute_result"
    }
   ],
   "source": [
    "data['event_timestamp'].max()"
   ]
  },
  {
   "cell_type": "markdown",
   "metadata": {},
   "source": [
    "Видим, что у нас есть данные с 25.07.2019 по 07.08.2019."
   ]
  },
  {
   "cell_type": "markdown",
   "metadata": {},
   "source": [
    "### Построим гистограмму по дате и времени"
   ]
  },
  {
   "cell_type": "code",
   "execution_count": 75,
   "metadata": {},
   "outputs": [
    {
     "data": {
      "image/png": "[encoded data removed]",
      "text/plain": [
       "<Figure size 1500x1000 with 1 Axes>"
      ]
     },
     "metadata": {},
     "output_type": "display_data"
    }
   ],
   "source": [
    "plt.title('Распределение логов по дате и времени')\n",
    "data['event_timestamp'].hist(bins=100, xrot=30,  figsize=(15, 10))\n",
    "plt.show()"
   ]
  },
  {
   "cell_type": "markdown",
   "metadata": {},
   "source": [
    "Вывод: по графику видно, что данных за июль практически нет, то есть, на самом деле, у нас данные только за первую неделю августа. "
   ]
  },
  {
   "cell_type": "markdown",
   "metadata": {},
   "source": [
    "Отбросим более старые данные и посмотрим, сколько событий и пользователей мы потеряли."
   ]
  },
  {
   "cell_type": "code",
   "execution_count": 76,
   "metadata": {},
   "outputs": [
    {
     "name": "stdout",
     "output_type": "stream",
     "text": [
      "Изменение количества событий: -2826 (-1.2%)\n",
      "Изменение количества пользователей: -17 (-0.2%)\n"
     ]
    }
   ],
   "source": [
    "data = data[data['event_timestamp'] >= '2019-08-01']\n",
    "\n",
    "print('Изменение количества событий:', \n",
    "      data.shape[0]- old_logs, \n",
    "      '({:.1%})'.format((data.shape[0]-old_logs)/old_logs))\n",
    "print('Изменение количества пользователей:', \n",
    "      data['device_id_hash'].nunique()- old_users, \n",
    "      '({:.1%})'.format((data['device_id_hash'].nunique()-old_users)/old_users))"
   ]
  },
  {
   "cell_type": "markdown",
   "metadata": {},
   "source": [
    "Мы потеряли 17 пользователей и 2826 событий."
   ]
  },
  {
   "cell_type": "markdown",
   "metadata": {},
   "source": [
    "Проверим, что у нас есть пользователи из всех трёх экспериментальных групп."
   ]
  },
  {
   "cell_type": "code",
   "execution_count": 77,
   "metadata": {},
   "outputs": [
    {
     "data": {
      "text/html": [
       "<div>\n",
       "<style scoped>\n",
       "    .dataframe tbody tr th:only-of-type {\n",
       "        vertical-align: middle;\n",
       "    }\n",
       "\n",
       "    .dataframe tbody tr th {\n",
       "        vertical-align: top;\n",
       "    }\n",
       "\n",
       "    .dataframe thead th {\n",
       "        text-align: right;\n",
       "    }\n",
       "</style>\n",
       "<table border=\"1\" class=\"dataframe\">\n",
       "  <thead>\n",
       "    <tr style=\"text-align: right;\">\n",
       "      <th></th>\n",
       "      <th>device_id_hash</th>\n",
       "    </tr>\n",
       "    <tr>\n",
       "      <th>exp_id</th>\n",
       "      <th></th>\n",
       "    </tr>\n",
       "  </thead>\n",
       "  <tbody>\n",
       "    <tr>\n",
       "      <th>246</th>\n",
       "      <td>2484</td>\n",
       "    </tr>\n",
       "    <tr>\n",
       "      <th>247</th>\n",
       "      <td>2513</td>\n",
       "    </tr>\n",
       "    <tr>\n",
       "      <th>248</th>\n",
       "      <td>2537</td>\n",
       "    </tr>\n",
       "  </tbody>\n",
       "</table>\n",
       "</div>"
      ],
      "text/plain": [
       "        device_id_hash\n",
       "exp_id                \n",
       "246               2484\n",
       "247               2513\n",
       "248               2537"
      ]
     },
     "execution_count": 77,
     "metadata": {},
     "output_type": "execute_result"
    }
   ],
   "source": [
    "data.groupby('exp_id').agg({'device_id_hash': 'nunique'})"
   ]
  },
  {
   "cell_type": "markdown",
   "metadata": {},
   "source": [
    "Видим, что во всех группах есть пользователи, их количество можно считать сопоставимым. В группе 248 больше всего пользователей, а вгруппе 246 - меньше всего."
   ]
  },
  {
   "cell_type": "markdown",
   "metadata": {},
   "source": [
    "Вывод: мы посчитали количество уникальных событий, количество всех событий, количество уникальных пользователей. В среднем среднем, на пользователи приходится 32 события. Узнали, что у нас есть данные с 25.07.2019 по 07.08.2019. Построили гистограмму по дате и времени и увидели, что на самом деле, у нас есть полные данные только за первую неделю августа, поэтому мы отбросили более старые данные. При этом, мы потеряли 17 пользователей и 2826 событий. Проверили во всех ли группах у нас остались пользователи, и они остались во всех группах."
   ]
  },
  {
   "cell_type": "markdown",
   "metadata": {},
   "source": [
    "## Изучение воронки событий"
   ]
  },
  {
   "cell_type": "markdown",
   "metadata": {},
   "source": [
    "### Посмотрим, какие события есть в логах, как часто они встречаются. Отсортируем события по частоте"
   ]
  },
  {
   "cell_type": "code",
   "execution_count": 78,
   "metadata": {},
   "outputs": [
    {
     "data": {
      "text/html": [
       "<div>\n",
       "<style scoped>\n",
       "    .dataframe tbody tr th:only-of-type {\n",
       "        vertical-align: middle;\n",
       "    }\n",
       "\n",
       "    .dataframe tbody tr th {\n",
       "        vertical-align: top;\n",
       "    }\n",
       "\n",
       "    .dataframe thead th {\n",
       "        text-align: right;\n",
       "    }\n",
       "</style>\n",
       "<table border=\"1\" class=\"dataframe\">\n",
       "  <thead>\n",
       "    <tr style=\"text-align: right;\">\n",
       "      <th></th>\n",
       "      <th>event_name</th>\n",
       "      <th>device_id_hash</th>\n",
       "    </tr>\n",
       "  </thead>\n",
       "  <tbody>\n",
       "    <tr>\n",
       "      <th>0</th>\n",
       "      <td>MainScreenAppear</td>\n",
       "      <td>117328</td>\n",
       "    </tr>\n",
       "    <tr>\n",
       "      <th>1</th>\n",
       "      <td>OffersScreenAppear</td>\n",
       "      <td>46333</td>\n",
       "    </tr>\n",
       "    <tr>\n",
       "      <th>2</th>\n",
       "      <td>CartScreenAppear</td>\n",
       "      <td>42303</td>\n",
       "    </tr>\n",
       "    <tr>\n",
       "      <th>3</th>\n",
       "      <td>PaymentScreenSuccessful</td>\n",
       "      <td>33918</td>\n",
       "    </tr>\n",
       "    <tr>\n",
       "      <th>4</th>\n",
       "      <td>Tutorial</td>\n",
       "      <td>1005</td>\n",
       "    </tr>\n",
       "  </tbody>\n",
       "</table>\n",
       "</div>"
      ],
      "text/plain": [
       "                event_name  device_id_hash\n",
       "0         MainScreenAppear          117328\n",
       "1       OffersScreenAppear           46333\n",
       "2         CartScreenAppear           42303\n",
       "3  PaymentScreenSuccessful           33918\n",
       "4                 Tutorial            1005"
      ]
     },
     "execution_count": 78,
     "metadata": {},
     "output_type": "execute_result"
    }
   ],
   "source": [
    "events_count = data.groupby('event_name').agg(\n",
    "    {'device_id_hash': 'count'}).sort_values(by='device_id_hash', ascending=False).reset_index()\n",
    "\n",
    "events_count"
   ]
  },
  {
   "cell_type": "markdown",
   "metadata": {},
   "source": [
    "Вывод: у нас всего 5 событий, чаще всего встречается событие MainScreenAppear, реже всего - Tutorial."
   ]
  },
  {
   "cell_type": "markdown",
   "metadata": {},
   "source": [
    "### Посчитаем, сколько пользователей совершали каждое из этих событий. Отсортируем события по числу пользователей. Посчитаем долю пользователей, которые хоть раз совершали событие."
   ]
  },
  {
   "cell_type": "code",
   "execution_count": 79,
   "metadata": {},
   "outputs": [
    {
     "data": {
      "text/html": [
       "<div>\n",
       "<style scoped>\n",
       "    .dataframe tbody tr th:only-of-type {\n",
       "        vertical-align: middle;\n",
       "    }\n",
       "\n",
       "    .dataframe tbody tr th {\n",
       "        vertical-align: top;\n",
       "    }\n",
       "\n",
       "    .dataframe thead th {\n",
       "        text-align: right;\n",
       "    }\n",
       "</style>\n",
       "<table border=\"1\" class=\"dataframe\">\n",
       "  <thead>\n",
       "    <tr style=\"text-align: right;\">\n",
       "      <th></th>\n",
       "      <th>event_name</th>\n",
       "      <th>total_users</th>\n",
       "      <th>percent</th>\n",
       "    </tr>\n",
       "  </thead>\n",
       "  <tbody>\n",
       "    <tr>\n",
       "      <th>0</th>\n",
       "      <td>MainScreenAppear</td>\n",
       "      <td>7419</td>\n",
       "      <td>98.47</td>\n",
       "    </tr>\n",
       "    <tr>\n",
       "      <th>1</th>\n",
       "      <td>OffersScreenAppear</td>\n",
       "      <td>4593</td>\n",
       "      <td>60.96</td>\n",
       "    </tr>\n",
       "    <tr>\n",
       "      <th>2</th>\n",
       "      <td>CartScreenAppear</td>\n",
       "      <td>3734</td>\n",
       "      <td>49.56</td>\n",
       "    </tr>\n",
       "    <tr>\n",
       "      <th>3</th>\n",
       "      <td>PaymentScreenSuccessful</td>\n",
       "      <td>3539</td>\n",
       "      <td>46.97</td>\n",
       "    </tr>\n",
       "    <tr>\n",
       "      <th>4</th>\n",
       "      <td>Tutorial</td>\n",
       "      <td>840</td>\n",
       "      <td>11.15</td>\n",
       "    </tr>\n",
       "  </tbody>\n",
       "</table>\n",
       "</div>"
      ],
      "text/plain": [
       "                event_name  total_users  percent\n",
       "0         MainScreenAppear         7419    98.47\n",
       "1       OffersScreenAppear         4593    60.96\n",
       "2         CartScreenAppear         3734    49.56\n",
       "3  PaymentScreenSuccessful         3539    46.97\n",
       "4                 Tutorial          840    11.15"
      ]
     },
     "execution_count": 79,
     "metadata": {},
     "output_type": "execute_result"
    }
   ],
   "source": [
    "users_count = data.groupby('event_name').agg(\n",
    "    {'device_id_hash': 'nunique'}).sort_values('device_id_hash', axis=0, ascending=False).rename(\n",
    "    columns={'device_id_hash' : 'total_users'}).reset_index()\n",
    "\n",
    "users_count['percent'] = round(users_count['total_users'] / data['device_id_hash'].nunique() * 100, 2)\n",
    "\n",
    "users_count"
   ]
  },
  {
   "cell_type": "markdown",
   "metadata": {},
   "source": [
    "Вывод: появление главного экрана (MainScreenAppear) увидело 7419 пользователей (98% от обего числа пользователей). Появление экрана предложений (OffersScreenAppear) увидело 4593 пользователей (60%). Появление экрана корзины (CartScreenAppear) - 3734 пользователя (49%). Экран успешной оплаты (PaymentScreenSuccessful) - 3539 (46%) пользователей. И руководство (Tutorial) - всего 840 пользователей (11%).\n"
   ]
  },
  {
   "cell_type": "markdown",
   "metadata": {},
   "source": [
    "### Предположим, в каком порядке происходят события. Все ли они выстраиваются в последовательную цепочку? Их не нужно учитывать при расчёте воронки."
   ]
  },
  {
   "cell_type": "markdown",
   "metadata": {},
   "source": [
    "Благодаря таблице выше, можем сделать вывод о том, что у нас складывается воронка событий. то есть, сначала пользователи видят главный экран, затем экран предложений, далее переходят в корзину и затем оплачивают. В руководство заходит слишком мало пользователей и оно, скорее всего, необязательно, поэтому, в воронку событий включать его не будем."
   ]
  },
  {
   "cell_type": "markdown",
   "metadata": {},
   "source": [
    "Воронка событий: \n",
    "- MainScreenAppear\t\n",
    "-\tOffersScreenAppear\t\n",
    "-\tCartScreenAppear\t\n",
    "-\tPaymentScreenSuccessful"
   ]
  },
  {
   "cell_type": "markdown",
   "metadata": {},
   "source": [
    "Визуализируем нашу воронку событий."
   ]
  },
  {
   "cell_type": "code",
   "execution_count": 80,
   "metadata": {},
   "outputs": [
    {
     "data": {
      "application/vnd.plotly.v1+json": {
       "config": {
        "plotlyServerURL": "https://plot.ly"
       },
       "data": [
        {
         "marker": {
          "color": [
           "deepskyblue",
           "lightsalmon",
           "tan",
           "teal"
          ]
         },
         "opacity": 0.65,
         "textinfo": "value+percent previous",
         "textposition": "inside",
         "type": "funnel",
         "x": [
          7419,
          4593,
          3734,
          3539
         ],
         "y": [
          "MainScreenAppear",
          "OffersScreenAppear",
          "CartScreenAppear",
          "PaymentScreenSuccessful"
         ]
        }
       ],
       "layout": {
        "template": {
         "data": {
          "bar": [
           {
            "error_x": {
             "color": "#2a3f5f"
            },
            "error_y": {
             "color": "#2a3f5f"
            },
            "marker": {
             "line": {
              "color": "#E5ECF6",
              "width": 0.5
             },
             "pattern": {
              "fillmode": "overlay",
              "size": 10,
              "solidity": 0.2
             }
            },
            "type": "bar"
           }
          ],
          "barpolar": [
           {
            "marker": {
             "line": {
              "color": "#E5ECF6",
              "width": 0.5
             },
             "pattern": {
              "fillmode": "overlay",
              "size": 10,
              "solidity": 0.2
             }
            },
            "type": "barpolar"
           }
          ],
          "carpet": [
           {
            "aaxis": {
             "endlinecolor": "#2a3f5f",
             "gridcolor": "white",
             "linecolor": "white",
             "minorgridcolor": "white",
             "startlinecolor": "#2a3f5f"
            },
            "baxis": {
             "endlinecolor": "#2a3f5f",
             "gridcolor": "white",
             "linecolor": "white",
             "minorgridcolor": "white",
             "startlinecolor": "#2a3f5f"
            },
            "type": "carpet"
           }
          ],
          "choropleth": [
           {
            "colorbar": {
             "outlinewidth": 0,
             "ticks": ""
            },
            "type": "choropleth"
           }
          ],
          "contour": [
           {
            "colorbar": {
             "outlinewidth": 0,
             "ticks": ""
            },
            "colorscale": [
             [
              0,
              "#0d0887"
             ],
             [
              0.1111111111111111,
              "#46039f"
             ],
             [
              0.2222222222222222,
              "#7201a8"
             ],
             [
              0.3333333333333333,
              "#9c179e"
             ],
             [
              0.4444444444444444,
              "#bd3786"
             ],
             [
              0.5555555555555556,
              "#d8576b"
             ],
             [
              0.6666666666666666,
              "#ed7953"
             ],
             [
              0.7777777777777778,
              "#fb9f3a"
             ],
             [
              0.8888888888888888,
              "#fdca26"
             ],
             [
              1,
              "#f0f921"
             ]
            ],
            "type": "contour"
           }
          ],
          "contourcarpet": [
           {
            "colorbar": {
             "outlinewidth": 0,
             "ticks": ""
            },
            "type": "contourcarpet"
           }
          ],
          "heatmap": [
           {
            "colorbar": {
             "outlinewidth": 0,
             "ticks": ""
            },
            "colorscale": [
             [
              0,
              "#0d0887"
             ],
             [
              0.1111111111111111,
              "#46039f"
             ],
             [
              0.2222222222222222,
              "#7201a8"
             ],
             [
              0.3333333333333333,
              "#9c179e"
             ],
             [
              0.4444444444444444,
              "#bd3786"
             ],
             [
              0.5555555555555556,
              "#d8576b"
             ],
             [
              0.6666666666666666,
              "#ed7953"
             ],
             [
              0.7777777777777778,
              "#fb9f3a"
             ],
             [
              0.8888888888888888,
              "#fdca26"
             ],
             [
              1,
              "#f0f921"
             ]
            ],
            "type": "heatmap"
           }
          ],
          "heatmapgl": [
           {
            "colorbar": {
             "outlinewidth": 0,
             "ticks": ""
            },
            "colorscale": [
             [
              0,
              "#0d0887"
             ],
             [
              0.1111111111111111,
              "#46039f"
             ],
             [
              0.2222222222222222,
              "#7201a8"
             ],
             [
              0.3333333333333333,
              "#9c179e"
             ],
             [
              0.4444444444444444,
              "#bd3786"
             ],
             [
              0.5555555555555556,
              "#d8576b"
             ],
             [
              0.6666666666666666,
              "#ed7953"
             ],
             [
              0.7777777777777778,
              "#fb9f3a"
             ],
             [
              0.8888888888888888,
              "#fdca26"
             ],
             [
              1,
              "#f0f921"
             ]
            ],
            "type": "heatmapgl"
           }
          ],
          "histogram": [
           {
            "marker": {
             "pattern": {
              "fillmode": "overlay",
              "size": 10,
              "solidity": 0.2
             }
            },
            "type": "histogram"
           }
          ],
          "histogram2d": [
           {
            "colorbar": {
             "outlinewidth": 0,
             "ticks": ""
            },
            "colorscale": [
             [
              0,
              "#0d0887"
             ],
             [
              0.1111111111111111,
              "#46039f"
             ],
             [
              0.2222222222222222,
              "#7201a8"
             ],
             [
              0.3333333333333333,
              "#9c179e"
             ],
             [
              0.4444444444444444,
              "#bd3786"
             ],
             [
              0.5555555555555556,
              "#d8576b"
             ],
             [
              0.6666666666666666,
              "#ed7953"
             ],
             [
              0.7777777777777778,
              "#fb9f3a"
             ],
             [
              0.8888888888888888,
              "#fdca26"
             ],
             [
              1,
              "#f0f921"
             ]
            ],
            "type": "histogram2d"
           }
          ],
          "histogram2dcontour": [
           {
            "colorbar": {
             "outlinewidth": 0,
             "ticks": ""
            },
            "colorscale": [
             [
              0,
              "#0d0887"
             ],
             [
              0.1111111111111111,
              "#46039f"
             ],
             [
              0.2222222222222222,
              "#7201a8"
             ],
             [
              0.3333333333333333,
              "#9c179e"
             ],
             [
              0.4444444444444444,
              "#bd3786"
             ],
             [
              0.5555555555555556,
              "#d8576b"
             ],
             [
              0.6666666666666666,
              "#ed7953"
             ],
             [
              0.7777777777777778,
              "#fb9f3a"
             ],
             [
              0.8888888888888888,
              "#fdca26"
             ],
             [
              1,
              "#f0f921"
             ]
            ],
            "type": "histogram2dcontour"
           }
          ],
          "mesh3d": [
           {
            "colorbar": {
             "outlinewidth": 0,
             "ticks": ""
            },
            "type": "mesh3d"
           }
          ],
          "parcoords": [
           {
            "line": {
             "colorbar": {
              "outlinewidth": 0,
              "ticks": ""
             }
            },
            "type": "parcoords"
           }
          ],
          "pie": [
           {
            "automargin": true,
            "type": "pie"
           }
          ],
          "scatter": [
           {
            "fillpattern": {
             "fillmode": "overlay",
             "size": 10,
             "solidity": 0.2
            },
            "type": "scatter"
           }
          ],
          "scatter3d": [
           {
            "line": {
             "colorbar": {
              "outlinewidth": 0,
              "ticks": ""
             }
            },
            "marker": {
             "colorbar": {
              "outlinewidth": 0,
              "ticks": ""
             }
            },
            "type": "scatter3d"
           }
          ],
          "scattercarpet": [
           {
            "marker": {
             "colorbar": {
              "outlinewidth": 0,
              "ticks": ""
             }
            },
            "type": "scattercarpet"
           }
          ],
          "scattergeo": [
           {
            "marker": {
             "colorbar": {
              "outlinewidth": 0,
              "ticks": ""
             }
            },
            "type": "scattergeo"
           }
          ],
          "scattergl": [
           {
            "marker": {
             "colorbar": {
              "outlinewidth": 0,
              "ticks": ""
             }
            },
            "type": "scattergl"
           }
          ],
          "scattermapbox": [
           {
            "marker": {
             "colorbar": {
              "outlinewidth": 0,
              "ticks": ""
             }
            },
            "type": "scattermapbox"
           }
          ],
          "scatterpolar": [
           {
            "marker": {
             "colorbar": {
              "outlinewidth": 0,
              "ticks": ""
             }
            },
            "type": "scatterpolar"
           }
          ],
          "scatterpolargl": [
           {
            "marker": {
             "colorbar": {
              "outlinewidth": 0,
              "ticks": ""
             }
            },
            "type": "scatterpolargl"
           }
          ],
          "scatterternary": [
           {
            "marker": {
             "colorbar": {
              "outlinewidth": 0,
              "ticks": ""
             }
            },
            "type": "scatterternary"
           }
          ],
          "surface": [
           {
            "colorbar": {
             "outlinewidth": 0,
             "ticks": ""
            },
            "colorscale": [
             [
              0,
              "#0d0887"
             ],
             [
              0.1111111111111111,
              "#46039f"
             ],
             [
              0.2222222222222222,
              "#7201a8"
             ],
             [
              0.3333333333333333,
              "#9c179e"
             ],
             [
              0.4444444444444444,
              "#bd3786"
             ],
             [
              0.5555555555555556,
              "#d8576b"
             ],
             [
              0.6666666666666666,
              "#ed7953"
             ],
             [
              0.7777777777777778,
              "#fb9f3a"
             ],
             [
              0.8888888888888888,
              "#fdca26"
             ],
             [
              1,
              "#f0f921"
             ]
            ],
            "type": "surface"
           }
          ],
          "table": [
           {
            "cells": {
             "fill": {
              "color": "#EBF0F8"
             },
             "line": {
              "color": "white"
             }
            },
            "header": {
             "fill": {
              "color": "#C8D4E3"
             },
             "line": {
              "color": "white"
             }
            },
            "type": "table"
           }
          ]
         },
         "layout": {
          "annotationdefaults": {
           "arrowcolor": "#2a3f5f",
           "arrowhead": 0,
           "arrowwidth": 1
          },
          "autotypenumbers": "strict",
          "coloraxis": {
           "colorbar": {
            "outlinewidth": 0,
            "ticks": ""
           }
          },
          "colorscale": {
           "diverging": [
            [
             0,
             "#8e0152"
            ],
            [
             0.1,
             "#c51b7d"
            ],
            [
             0.2,
             "#de77ae"
            ],
            [
             0.3,
             "#f1b6da"
            ],
            [
             0.4,
             "#fde0ef"
            ],
            [
             0.5,
             "#f7f7f7"
            ],
            [
             0.6,
             "#e6f5d0"
            ],
            [
             0.7,
             "#b8e186"
            ],
            [
             0.8,
             "#7fbc41"
            ],
            [
             0.9,
             "#4d9221"
            ],
            [
             1,
             "#276419"
            ]
           ],
           "sequential": [
            [
             0,
             "#0d0887"
            ],
            [
             0.1111111111111111,
             "#46039f"
            ],
            [
             0.2222222222222222,
             "#7201a8"
            ],
            [
             0.3333333333333333,
             "#9c179e"
            ],
            [
             0.4444444444444444,
             "#bd3786"
            ],
            [
             0.5555555555555556,
             "#d8576b"
            ],
            [
             0.6666666666666666,
             "#ed7953"
            ],
            [
             0.7777777777777778,
             "#fb9f3a"
            ],
            [
             0.8888888888888888,
             "#fdca26"
            ],
            [
             1,
             "#f0f921"
            ]
           ],
           "sequentialminus": [
            [
             0,
             "#0d0887"
            ],
            [
             0.1111111111111111,
             "#46039f"
            ],
            [
             0.2222222222222222,
             "#7201a8"
            ],
            [
             0.3333333333333333,
             "#9c179e"
            ],
            [
             0.4444444444444444,
             "#bd3786"
            ],
            [
             0.5555555555555556,
             "#d8576b"
            ],
            [
             0.6666666666666666,
             "#ed7953"
            ],
            [
             0.7777777777777778,
             "#fb9f3a"
            ],
            [
             0.8888888888888888,
             "#fdca26"
            ],
            [
             1,
             "#f0f921"
            ]
           ]
          },
          "colorway": [
           "#636efa",
           "#EF553B",
           "#00cc96",
           "#ab63fa",
           "#FFA15A",
           "#19d3f3",
           "#FF6692",
           "#B6E880",
           "#FF97FF",
           "#FECB52"
          ],
          "font": {
           "color": "#2a3f5f"
          },
          "geo": {
           "bgcolor": "white",
           "lakecolor": "white",
           "landcolor": "#E5ECF6",
           "showlakes": true,
           "showland": true,
           "subunitcolor": "white"
          },
          "hoverlabel": {
           "align": "left"
          },
          "hovermode": "closest",
          "mapbox": {
           "style": "light"
          },
          "paper_bgcolor": "white",
          "plot_bgcolor": "#E5ECF6",
          "polar": {
           "angularaxis": {
            "gridcolor": "white",
            "linecolor": "white",
            "ticks": ""
           },
           "bgcolor": "#E5ECF6",
           "radialaxis": {
            "gridcolor": "white",
            "linecolor": "white",
            "ticks": ""
           }
          },
          "scene": {
           "xaxis": {
            "backgroundcolor": "#E5ECF6",
            "gridcolor": "white",
            "gridwidth": 2,
            "linecolor": "white",
            "showbackground": true,
            "ticks": "",
            "zerolinecolor": "white"
           },
           "yaxis": {
            "backgroundcolor": "#E5ECF6",
            "gridcolor": "white",
            "gridwidth": 2,
            "linecolor": "white",
            "showbackground": true,
            "ticks": "",
            "zerolinecolor": "white"
           },
           "zaxis": {
            "backgroundcolor": "#E5ECF6",
            "gridcolor": "white",
            "gridwidth": 2,
            "linecolor": "white",
            "showbackground": true,
            "ticks": "",
            "zerolinecolor": "white"
           }
          },
          "shapedefaults": {
           "line": {
            "color": "#2a3f5f"
           }
          },
          "ternary": {
           "aaxis": {
            "gridcolor": "white",
            "linecolor": "white",
            "ticks": ""
           },
           "baxis": {
            "gridcolor": "white",
            "linecolor": "white",
            "ticks": ""
           },
           "bgcolor": "#E5ECF6",
           "caxis": {
            "gridcolor": "white",
            "linecolor": "white",
            "ticks": ""
           }
          },
          "title": {
           "x": 0.05
          },
          "xaxis": {
           "automargin": true,
           "gridcolor": "white",
           "linecolor": "white",
           "ticks": "",
           "title": {
            "standoff": 15
           },
           "zerolinecolor": "white",
           "zerolinewidth": 2
          },
          "yaxis": {
           "automargin": true,
           "gridcolor": "white",
           "linecolor": "white",
           "ticks": "",
           "title": {
            "standoff": 15
           },
           "zerolinecolor": "white",
           "zerolinewidth": 2
          }
         }
        },
        "title": {
         "text": "Воронка событий"
        }
       }
      },
      "text/html": [
       "<div>                            <div id=\"c9f74403-47aa-42b7-a346-d604a492b666\" class=\"plotly-graph-div\" style=\"height:525px; width:100%;\"></div>            <script type=\"text/javascript\">                require([\"plotly\"], function(Plotly) {                    window.PLOTLYENV=window.PLOTLYENV || {};                                    if (document.getElementById(\"c9f74403-47aa-42b7-a346-d604a492b666\")) {                    Plotly.newPlot(                        \"c9f74403-47aa-42b7-a346-d604a492b666\",                        [{\"marker\":{\"color\":[\"deepskyblue\",\"lightsalmon\",\"tan\",\"teal\"]},\"opacity\":0.65,\"textinfo\":\"value+percent previous\",\"textposition\":\"inside\",\"x\":[7419,4593,3734,3539],\"y\":[\"MainScreenAppear\",\"OffersScreenAppear\",\"CartScreenAppear\",\"PaymentScreenSuccessful\"],\"type\":\"funnel\"}],                        {\"template\":{\"data\":{\"histogram2dcontour\":[{\"type\":\"histogram2dcontour\",\"colorbar\":{\"outlinewidth\":0,\"ticks\":\"\"},\"colorscale\":[[0.0,\"#0d0887\"],[0.1111111111111111,\"#46039f\"],[0.2222222222222222,\"#7201a8\"],[0.3333333333333333,\"#9c179e\"],[0.4444444444444444,\"#bd3786\"],[0.5555555555555556,\"#d8576b\"],[0.6666666666666666,\"#ed7953\"],[0.7777777777777778,\"#fb9f3a\"],[0.8888888888888888,\"#fdca26\"],[1.0,\"#f0f921\"]]}],\"choropleth\":[{\"type\":\"choropleth\",\"colorbar\":{\"outlinewidth\":0,\"ticks\":\"\"}}],\"histogram2d\":[{\"type\":\"histogram2d\",\"colorbar\":{\"outlinewidth\":0,\"ticks\":\"\"},\"colorscale\":[[0.0,\"#0d0887\"],[0.1111111111111111,\"#46039f\"],[0.2222222222222222,\"#7201a8\"],[0.3333333333333333,\"#9c179e\"],[0.4444444444444444,\"#bd3786\"],[0.5555555555555556,\"#d8576b\"],[0.6666666666666666,\"#ed7953\"],[0.7777777777777778,\"#fb9f3a\"],[0.8888888888888888,\"#fdca26\"],[1.0,\"#f0f921\"]]}],\"heatmap\":[{\"type\":\"heatmap\",\"colorbar\":{\"outlinewidth\":0,\"ticks\":\"\"},\"colorscale\":[[0.0,\"#0d0887\"],[0.1111111111111111,\"#46039f\"],[0.2222222222222222,\"#7201a8\"],[0.3333333333333333,\"#9c179e\"],[0.4444444444444444,\"#bd3786\"],[0.5555555555555556,\"#d8576b\"],[0.6666666666666666,\"#ed7953\"],[0.7777777777777778,\"#fb9f3a\"],[0.8888888888888888,\"#fdca26\"],[1.0,\"#f0f921\"]]}],\"heatmapgl\":[{\"type\":\"heatmapgl\",\"colorbar\":{\"outlinewidth\":0,\"ticks\":\"\"},\"colorscale\":[[0.0,\"#0d0887\"],[0.1111111111111111,\"#46039f\"],[0.2222222222222222,\"#7201a8\"],[0.3333333333333333,\"#9c179e\"],[0.4444444444444444,\"#bd3786\"],[0.5555555555555556,\"#d8576b\"],[0.6666666666666666,\"#ed7953\"],[0.7777777777777778,\"#fb9f3a\"],[0.8888888888888888,\"#fdca26\"],[1.0,\"#f0f921\"]]}],\"contourcarpet\":[{\"type\":\"contourcarpet\",\"colorbar\":{\"outlinewidth\":0,\"ticks\":\"\"}}],\"contour\":[{\"type\":\"contour\",\"colorbar\":{\"outlinewidth\":0,\"ticks\":\"\"},\"colorscale\":[[0.0,\"#0d0887\"],[0.1111111111111111,\"#46039f\"],[0.2222222222222222,\"#7201a8\"],[0.3333333333333333,\"#9c179e\"],[0.4444444444444444,\"#bd3786\"],[0.5555555555555556,\"#d8576b\"],[0.6666666666666666,\"#ed7953\"],[0.7777777777777778,\"#fb9f3a\"],[0.8888888888888888,\"#fdca26\"],[1.0,\"#f0f921\"]]}],\"surface\":[{\"type\":\"surface\",\"colorbar\":{\"outlinewidth\":0,\"ticks\":\"\"},\"colorscale\":[[0.0,\"#0d0887\"],[0.1111111111111111,\"#46039f\"],[0.2222222222222222,\"#7201a8\"],[0.3333333333333333,\"#9c179e\"],[0.4444444444444444,\"#bd3786\"],[0.5555555555555556,\"#d8576b\"],[0.6666666666666666,\"#ed7953\"],[0.7777777777777778,\"#fb9f3a\"],[0.8888888888888888,\"#fdca26\"],[1.0,\"#f0f921\"]]}],\"mesh3d\":[{\"type\":\"mesh3d\",\"colorbar\":{\"outlinewidth\":0,\"ticks\":\"\"}}],\"scatter\":[{\"fillpattern\":{\"fillmode\":\"overlay\",\"size\":10,\"solidity\":0.2},\"type\":\"scatter\"}],\"parcoords\":[{\"type\":\"parcoords\",\"line\":{\"colorbar\":{\"outlinewidth\":0,\"ticks\":\"\"}}}],\"scatterpolargl\":[{\"type\":\"scatterpolargl\",\"marker\":{\"colorbar\":{\"outlinewidth\":0,\"ticks\":\"\"}}}],\"bar\":[{\"error_x\":{\"color\":\"#2a3f5f\"},\"error_y\":{\"color\":\"#2a3f5f\"},\"marker\":{\"line\":{\"color\":\"#E5ECF6\",\"width\":0.5},\"pattern\":{\"fillmode\":\"overlay\",\"size\":10,\"solidity\":0.2}},\"type\":\"bar\"}],\"scattergeo\":[{\"type\":\"scattergeo\",\"marker\":{\"colorbar\":{\"outlinewidth\":0,\"ticks\":\"\"}}}],\"scatterpolar\":[{\"type\":\"scatterpolar\",\"marker\":{\"colorbar\":{\"outlinewidth\":0,\"ticks\":\"\"}}}],\"histogram\":[{\"marker\":{\"pattern\":{\"fillmode\":\"overlay\",\"size\":10,\"solidity\":0.2}},\"type\":\"histogram\"}],\"scattergl\":[{\"type\":\"scattergl\",\"marker\":{\"colorbar\":{\"outlinewidth\":0,\"ticks\":\"\"}}}],\"scatter3d\":[{\"type\":\"scatter3d\",\"line\":{\"colorbar\":{\"outlinewidth\":0,\"ticks\":\"\"}},\"marker\":{\"colorbar\":{\"outlinewidth\":0,\"ticks\":\"\"}}}],\"scattermapbox\":[{\"type\":\"scattermapbox\",\"marker\":{\"colorbar\":{\"outlinewidth\":0,\"ticks\":\"\"}}}],\"scatterternary\":[{\"type\":\"scatterternary\",\"marker\":{\"colorbar\":{\"outlinewidth\":0,\"ticks\":\"\"}}}],\"scattercarpet\":[{\"type\":\"scattercarpet\",\"marker\":{\"colorbar\":{\"outlinewidth\":0,\"ticks\":\"\"}}}],\"carpet\":[{\"aaxis\":{\"endlinecolor\":\"#2a3f5f\",\"gridcolor\":\"white\",\"linecolor\":\"white\",\"minorgridcolor\":\"white\",\"startlinecolor\":\"#2a3f5f\"},\"baxis\":{\"endlinecolor\":\"#2a3f5f\",\"gridcolor\":\"white\",\"linecolor\":\"white\",\"minorgridcolor\":\"white\",\"startlinecolor\":\"#2a3f5f\"},\"type\":\"carpet\"}],\"table\":[{\"cells\":{\"fill\":{\"color\":\"#EBF0F8\"},\"line\":{\"color\":\"white\"}},\"header\":{\"fill\":{\"color\":\"#C8D4E3\"},\"line\":{\"color\":\"white\"}},\"type\":\"table\"}],\"barpolar\":[{\"marker\":{\"line\":{\"color\":\"#E5ECF6\",\"width\":0.5},\"pattern\":{\"fillmode\":\"overlay\",\"size\":10,\"solidity\":0.2}},\"type\":\"barpolar\"}],\"pie\":[{\"automargin\":true,\"type\":\"pie\"}]},\"layout\":{\"autotypenumbers\":\"strict\",\"colorway\":[\"#636efa\",\"#EF553B\",\"#00cc96\",\"#ab63fa\",\"#FFA15A\",\"#19d3f3\",\"#FF6692\",\"#B6E880\",\"#FF97FF\",\"#FECB52\"],\"font\":{\"color\":\"#2a3f5f\"},\"hovermode\":\"closest\",\"hoverlabel\":{\"align\":\"left\"},\"paper_bgcolor\":\"white\",\"plot_bgcolor\":\"#E5ECF6\",\"polar\":{\"bgcolor\":\"#E5ECF6\",\"angularaxis\":{\"gridcolor\":\"white\",\"linecolor\":\"white\",\"ticks\":\"\"},\"radialaxis\":{\"gridcolor\":\"white\",\"linecolor\":\"white\",\"ticks\":\"\"}},\"ternary\":{\"bgcolor\":\"#E5ECF6\",\"aaxis\":{\"gridcolor\":\"white\",\"linecolor\":\"white\",\"ticks\":\"\"},\"baxis\":{\"gridcolor\":\"white\",\"linecolor\":\"white\",\"ticks\":\"\"},\"caxis\":{\"gridcolor\":\"white\",\"linecolor\":\"white\",\"ticks\":\"\"}},\"coloraxis\":{\"colorbar\":{\"outlinewidth\":0,\"ticks\":\"\"}},\"colorscale\":{\"sequential\":[[0.0,\"#0d0887\"],[0.1111111111111111,\"#46039f\"],[0.2222222222222222,\"#7201a8\"],[0.3333333333333333,\"#9c179e\"],[0.4444444444444444,\"#bd3786\"],[0.5555555555555556,\"#d8576b\"],[0.6666666666666666,\"#ed7953\"],[0.7777777777777778,\"#fb9f3a\"],[0.8888888888888888,\"#fdca26\"],[1.0,\"#f0f921\"]],\"sequentialminus\":[[0.0,\"#0d0887\"],[0.1111111111111111,\"#46039f\"],[0.2222222222222222,\"#7201a8\"],[0.3333333333333333,\"#9c179e\"],[0.4444444444444444,\"#bd3786\"],[0.5555555555555556,\"#d8576b\"],[0.6666666666666666,\"#ed7953\"],[0.7777777777777778,\"#fb9f3a\"],[0.8888888888888888,\"#fdca26\"],[1.0,\"#f0f921\"]],\"diverging\":[[0,\"#8e0152\"],[0.1,\"#c51b7d\"],[0.2,\"#de77ae\"],[0.3,\"#f1b6da\"],[0.4,\"#fde0ef\"],[0.5,\"#f7f7f7\"],[0.6,\"#e6f5d0\"],[0.7,\"#b8e186\"],[0.8,\"#7fbc41\"],[0.9,\"#4d9221\"],[1,\"#276419\"]]},\"xaxis\":{\"gridcolor\":\"white\",\"linecolor\":\"white\",\"ticks\":\"\",\"title\":{\"standoff\":15},\"zerolinecolor\":\"white\",\"automargin\":true,\"zerolinewidth\":2},\"yaxis\":{\"gridcolor\":\"white\",\"linecolor\":\"white\",\"ticks\":\"\",\"title\":{\"standoff\":15},\"zerolinecolor\":\"white\",\"automargin\":true,\"zerolinewidth\":2},\"scene\":{\"xaxis\":{\"backgroundcolor\":\"#E5ECF6\",\"gridcolor\":\"white\",\"linecolor\":\"white\",\"showbackground\":true,\"ticks\":\"\",\"zerolinecolor\":\"white\",\"gridwidth\":2},\"yaxis\":{\"backgroundcolor\":\"#E5ECF6\",\"gridcolor\":\"white\",\"linecolor\":\"white\",\"showbackground\":true,\"ticks\":\"\",\"zerolinecolor\":\"white\",\"gridwidth\":2},\"zaxis\":{\"backgroundcolor\":\"#E5ECF6\",\"gridcolor\":\"white\",\"linecolor\":\"white\",\"showbackground\":true,\"ticks\":\"\",\"zerolinecolor\":\"white\",\"gridwidth\":2}},\"shapedefaults\":{\"line\":{\"color\":\"#2a3f5f\"}},\"annotationdefaults\":{\"arrowcolor\":\"#2a3f5f\",\"arrowhead\":0,\"arrowwidth\":1},\"geo\":{\"bgcolor\":\"white\",\"landcolor\":\"#E5ECF6\",\"subunitcolor\":\"white\",\"showland\":true,\"showlakes\":true,\"lakecolor\":\"white\"},\"title\":{\"x\":0.05},\"mapbox\":{\"style\":\"light\"}}},\"title\":{\"text\":\"\\u0412\\u043e\\u0440\\u043e\\u043d\\u043a\\u0430 \\u0441\\u043e\\u0431\\u044b\\u0442\\u0438\\u0439\"}},                        {\"responsive\": true}                    ).then(function(){\n",
       "                            \n",
       "var gd = document.getElementById('c9f74403-47aa-42b7-a346-d604a492b666');\n",
       "var x = new MutationObserver(function (mutations, observer) {{\n",
       "        var display = window.getComputedStyle(gd).display;\n",
       "        if (!display || display === 'none') {{\n",
       "            console.log([gd, 'removed!']);\n",
       "            Plotly.purge(gd);\n",
       "            observer.disconnect();\n",
       "        }}\n",
       "}});\n",
       "\n",
       "// Listen for the removal of the full notebook cells\n",
       "var notebookContainer = gd.closest('#notebook-container');\n",
       "if (notebookContainer) {{\n",
       "    x.observe(notebookContainer, {childList: true});\n",
       "}}\n",
       "\n",
       "// Listen for the clearing of the current output cell\n",
       "var outputEl = gd.closest('.output');\n",
       "if (outputEl) {{\n",
       "    x.observe(outputEl, {childList: true});\n",
       "}}\n",
       "\n",
       "                        })                };                });            </script>        </div>"
      ]
     },
     "metadata": {},
     "output_type": "display_data"
    }
   ],
   "source": [
    "# уберем событие Tutorial из нашего датафрейма, так как оно не входит в нашу воронку событий\n",
    "users_count = users_count[users_count['event_name'] != 'Tutorial']\n",
    "\n",
    "fig = go.Figure(go.Funnel(y = users_count['event_name'],\n",
    "                          x = users_count['total_users'],\n",
    "                          opacity = 0.65, marker = {\"color\": [\"deepskyblue\", \"lightsalmon\", \"tan\", \"teal\"]},                   \n",
    "                          textposition = 'inside',\n",
    "                          textinfo = 'value + percent previous'))\n",
    "fig.update_layout(title_text='Воронка событий')\n",
    "fig.show()"
   ]
  },
  {
   "cell_type": "markdown",
   "metadata": {},
   "source": [
    "Так выглядит наша воронка событий, по ней сразу можно определить долю пользователей, перешедших в следующий шаг."
   ]
  },
  {
   "cell_type": "markdown",
   "metadata": {},
   "source": [
    "### По воронке событий посчитаем, какая доля пользователей проходит на следующий шаг воронки (от числа пользователей на предыдущем). То есть для последовательности событий A → B → C посчитаем отношение числа пользователей с событием B к количеству пользователей с событием A, а также отношение числа пользователей с событием C к количеству пользователей с событием B."
   ]
  },
  {
   "cell_type": "code",
   "execution_count": 81,
   "metadata": {},
   "outputs": [],
   "source": [
    "users = data.pivot_table(index='device_id_hash', columns='event_name', values='event_timestamp', aggfunc='min')"
   ]
  },
  {
   "cell_type": "code",
   "execution_count": 82,
   "metadata": {},
   "outputs": [
    {
     "data": {
      "text/html": [
       "<div>\n",
       "<style scoped>\n",
       "    .dataframe tbody tr th:only-of-type {\n",
       "        vertical-align: middle;\n",
       "    }\n",
       "\n",
       "    .dataframe tbody tr th {\n",
       "        vertical-align: top;\n",
       "    }\n",
       "\n",
       "    .dataframe thead th {\n",
       "        text-align: right;\n",
       "    }\n",
       "</style>\n",
       "<table border=\"1\" class=\"dataframe\">\n",
       "  <thead>\n",
       "    <tr style=\"text-align: right;\">\n",
       "      <th>event_name</th>\n",
       "      <th>CartScreenAppear</th>\n",
       "      <th>MainScreenAppear</th>\n",
       "      <th>OffersScreenAppear</th>\n",
       "      <th>PaymentScreenSuccessful</th>\n",
       "      <th>Tutorial</th>\n",
       "    </tr>\n",
       "    <tr>\n",
       "      <th>device_id_hash</th>\n",
       "      <th></th>\n",
       "      <th></th>\n",
       "      <th></th>\n",
       "      <th></th>\n",
       "      <th></th>\n",
       "    </tr>\n",
       "  </thead>\n",
       "  <tbody>\n",
       "    <tr>\n",
       "      <th>6888746892508752</th>\n",
       "      <td>NaT</td>\n",
       "      <td>2019-08-06 14:06:34</td>\n",
       "      <td>NaT</td>\n",
       "      <td>NaT</td>\n",
       "      <td>NaT</td>\n",
       "    </tr>\n",
       "    <tr>\n",
       "      <th>6909561520679493</th>\n",
       "      <td>2019-08-06 18:52:58</td>\n",
       "      <td>2019-08-06 18:52:54</td>\n",
       "      <td>2019-08-06 18:53:04</td>\n",
       "      <td>2019-08-06 18:52:58</td>\n",
       "      <td>NaT</td>\n",
       "    </tr>\n",
       "    <tr>\n",
       "      <th>6922444491712477</th>\n",
       "      <td>2019-08-04 14:19:40</td>\n",
       "      <td>2019-08-04 14:19:33</td>\n",
       "      <td>2019-08-04 14:19:46</td>\n",
       "      <td>2019-08-04 14:19:40</td>\n",
       "      <td>NaT</td>\n",
       "    </tr>\n",
       "    <tr>\n",
       "      <th>7435777799948366</th>\n",
       "      <td>NaT</td>\n",
       "      <td>2019-08-05 08:06:34</td>\n",
       "      <td>NaT</td>\n",
       "      <td>NaT</td>\n",
       "      <td>NaT</td>\n",
       "    </tr>\n",
       "    <tr>\n",
       "      <th>7702139951469979</th>\n",
       "      <td>2019-08-02 14:28:45</td>\n",
       "      <td>2019-08-01 04:29:54</td>\n",
       "      <td>2019-08-01 04:29:56</td>\n",
       "      <td>2019-08-02 14:28:45</td>\n",
       "      <td>NaT</td>\n",
       "    </tr>\n",
       "    <tr>\n",
       "      <th>...</th>\n",
       "      <td>...</td>\n",
       "      <td>...</td>\n",
       "      <td>...</td>\n",
       "      <td>...</td>\n",
       "      <td>...</td>\n",
       "    </tr>\n",
       "    <tr>\n",
       "      <th>9217594193087726423</th>\n",
       "      <td>2019-08-02 09:00:58</td>\n",
       "      <td>NaT</td>\n",
       "      <td>2019-08-02 09:01:08</td>\n",
       "      <td>2019-08-02 09:00:57</td>\n",
       "      <td>NaT</td>\n",
       "    </tr>\n",
       "    <tr>\n",
       "      <th>9219463515465815368</th>\n",
       "      <td>2019-08-06 16:49:40</td>\n",
       "      <td>2019-08-05 05:26:26</td>\n",
       "      <td>2019-08-06 16:48:57</td>\n",
       "      <td>2019-08-06 16:52:16</td>\n",
       "      <td>NaT</td>\n",
       "    </tr>\n",
       "    <tr>\n",
       "      <th>9220879493065341500</th>\n",
       "      <td>2019-08-02 17:59:16</td>\n",
       "      <td>2019-08-02 17:58:48</td>\n",
       "      <td>2019-08-02 17:59:00</td>\n",
       "      <td>NaT</td>\n",
       "      <td>NaT</td>\n",
       "    </tr>\n",
       "    <tr>\n",
       "      <th>9221926045299980007</th>\n",
       "      <td>NaT</td>\n",
       "      <td>2019-08-01 17:30:27</td>\n",
       "      <td>NaT</td>\n",
       "      <td>NaT</td>\n",
       "      <td>NaT</td>\n",
       "    </tr>\n",
       "    <tr>\n",
       "      <th>9222603179720523844</th>\n",
       "      <td>NaT</td>\n",
       "      <td>2019-08-01 06:52:13</td>\n",
       "      <td>NaT</td>\n",
       "      <td>NaT</td>\n",
       "      <td>NaT</td>\n",
       "    </tr>\n",
       "  </tbody>\n",
       "</table>\n",
       "<p>7534 rows × 5 columns</p>\n",
       "</div>"
      ],
      "text/plain": [
       "event_name             CartScreenAppear    MainScreenAppear  \\\n",
       "device_id_hash                                                \n",
       "6888746892508752                    NaT 2019-08-06 14:06:34   \n",
       "6909561520679493    2019-08-06 18:52:58 2019-08-06 18:52:54   \n",
       "6922444491712477    2019-08-04 14:19:40 2019-08-04 14:19:33   \n",
       "7435777799948366                    NaT 2019-08-05 08:06:34   \n",
       "7702139951469979    2019-08-02 14:28:45 2019-08-01 04:29:54   \n",
       "...                                 ...                 ...   \n",
       "9217594193087726423 2019-08-02 09:00:58                 NaT   \n",
       "9219463515465815368 2019-08-06 16:49:40 2019-08-05 05:26:26   \n",
       "9220879493065341500 2019-08-02 17:59:16 2019-08-02 17:58:48   \n",
       "9221926045299980007                 NaT 2019-08-01 17:30:27   \n",
       "9222603179720523844                 NaT 2019-08-01 06:52:13   \n",
       "\n",
       "event_name           OffersScreenAppear PaymentScreenSuccessful Tutorial  \n",
       "device_id_hash                                                            \n",
       "6888746892508752                    NaT                     NaT      NaT  \n",
       "6909561520679493    2019-08-06 18:53:04     2019-08-06 18:52:58      NaT  \n",
       "6922444491712477    2019-08-04 14:19:46     2019-08-04 14:19:40      NaT  \n",
       "7435777799948366                    NaT                     NaT      NaT  \n",
       "7702139951469979    2019-08-01 04:29:56     2019-08-02 14:28:45      NaT  \n",
       "...                                 ...                     ...      ...  \n",
       "9217594193087726423 2019-08-02 09:01:08     2019-08-02 09:00:57      NaT  \n",
       "9219463515465815368 2019-08-06 16:48:57     2019-08-06 16:52:16      NaT  \n",
       "9220879493065341500 2019-08-02 17:59:00                     NaT      NaT  \n",
       "9221926045299980007                 NaT                     NaT      NaT  \n",
       "9222603179720523844                 NaT                     NaT      NaT  \n",
       "\n",
       "[7534 rows x 5 columns]"
      ]
     },
     "execution_count": 82,
     "metadata": {},
     "output_type": "execute_result"
    }
   ],
   "source": [
    "users"
   ]
  },
  {
   "cell_type": "code",
   "execution_count": 83,
   "metadata": {},
   "outputs": [
    {
     "name": "stdout",
     "output_type": "stream",
     "text": [
      "Просмотрели экран предложений, в %, от увидевших главный экран: (61.9%)\n",
      "Перешли в корзину, в %,  от предыдущего шага: (81.3%)\n",
      "Оплатили, в %, от предыдущего шага: (94.8%)\n"
     ]
    }
   ],
   "source": [
    "\n",
    "print('Просмотрели экран предложений, в %, от увидевших главный экран:', \n",
    "      '({:.1%})'.format(users['OffersScreenAppear'].count() / users['MainScreenAppear'].count() ))\n",
    "print('Перешли в корзину, в %,  от предыдущего шага:', \n",
    "      '({:.1%})'.format(users['CartScreenAppear'].count() / users['OffersScreenAppear'].count()))\n",
    "print('Оплатили, в %, от предыдущего шага:',\n",
    "      '({:.1%})'.format(users['PaymentScreenSuccessful'].count() / users['CartScreenAppear'].count()))"
   ]
  },
  {
   "cell_type": "markdown",
   "metadata": {},
   "source": [
    "Вывод: после первого шага (просмотр главного экрана) теряется довольно много пользователей (почти 40% от общего числа пользователей). Зато почти все пользователи, кто перешел в корзину, оплатили товар, целых 95%."
   ]
  },
  {
   "cell_type": "markdown",
   "metadata": {},
   "source": [
    "### На каком шаге теряем больше всего пользователей? Какая доля пользователей доходит от первого события до оплаты?"
   ]
  },
  {
   "cell_type": "markdown",
   "metadata": {},
   "source": [
    "Мы узнали, что больше всего пользователей теряется на первом шаге, после просмотра главного экрана (почти 40% от общего числа пользователей). Но сколько пользователей доходит от первого события до оплаты?"
   ]
  },
  {
   "cell_type": "code",
   "execution_count": 84,
   "metadata": {},
   "outputs": [
    {
     "name": "stdout",
     "output_type": "stream",
     "text": [
      "Доля пользователей доходит от первого события до оплаты, в %: (47.7%)\n"
     ]
    }
   ],
   "source": [
    "print('Доля пользователей доходит от первого события до оплаты, в %:',\n",
    "      '({:.1%})'.format(users['PaymentScreenSuccessful'].count() / users['MainScreenAppear'].count()))"
   ]
  },
  {
   "cell_type": "markdown",
   "metadata": {},
   "source": [
    "Вывод: почти 48% от всех пользователей, кто увидил главный экран, дошли до оплаты."
   ]
  },
  {
   "cell_type": "markdown",
   "metadata": {},
   "source": [
    "Вывод: мы узнали, что у нас всего 5 событий, чаще всего встречается событие MainScreenAppear, реже всего - Tutorial. Посчитали, сколько пользователей совершали каждое из этих событий. Отсортировали события по числу пользователей. Посчитаели долю пользователей, которые хоть раз совершали событие. Больше всего пользователей видело главный экран, меньше всего - руководство. Получили воронку событий, из которой исключили Tutorial, так как он не обязателен и , скорее всего, в него можно зайти в любое время. По воронке событий посчитали, какая доля пользователей проходит на следующий шаг воронки. Обгаружили, что после первого шага (просмотр главного экрана) теряется довольно много пользователей (почти 40% от общего числа пользователей). Зато почти все пользователи, кто перешел в корзину, оплатили товар, целых 95%. А также, что почти 48% от всех пользователей, кто увидил главный экран, дошли до оплаты."
   ]
  },
  {
   "cell_type": "markdown",
   "metadata": {},
   "source": [
    "## Изучение результатов эксперимента"
   ]
  },
  {
   "cell_type": "markdown",
   "metadata": {},
   "source": [
    "### Сколько пользователей в каждой экспериментальной группе?"
   ]
  },
  {
   "cell_type": "code",
   "execution_count": 85,
   "metadata": {},
   "outputs": [
    {
     "data": {
      "text/html": [
       "<div>\n",
       "<style scoped>\n",
       "    .dataframe tbody tr th:only-of-type {\n",
       "        vertical-align: middle;\n",
       "    }\n",
       "\n",
       "    .dataframe tbody tr th {\n",
       "        vertical-align: top;\n",
       "    }\n",
       "\n",
       "    .dataframe thead th {\n",
       "        text-align: right;\n",
       "    }\n",
       "</style>\n",
       "<table border=\"1\" class=\"dataframe\">\n",
       "  <thead>\n",
       "    <tr style=\"text-align: right;\">\n",
       "      <th></th>\n",
       "      <th>event_name</th>\n",
       "      <th>device_id_hash</th>\n",
       "      <th>event_timestamp</th>\n",
       "      <th>exp_id</th>\n",
       "      <th>event_date</th>\n",
       "    </tr>\n",
       "  </thead>\n",
       "  <tbody>\n",
       "    <tr>\n",
       "      <th>2826</th>\n",
       "      <td>Tutorial</td>\n",
       "      <td>3737462046622621720</td>\n",
       "      <td>2019-08-01 00:07:28</td>\n",
       "      <td>246</td>\n",
       "      <td>2019-08-01</td>\n",
       "    </tr>\n",
       "    <tr>\n",
       "      <th>2827</th>\n",
       "      <td>MainScreenAppear</td>\n",
       "      <td>3737462046622621720</td>\n",
       "      <td>2019-08-01 00:08:00</td>\n",
       "      <td>246</td>\n",
       "      <td>2019-08-01</td>\n",
       "    </tr>\n",
       "    <tr>\n",
       "      <th>2828</th>\n",
       "      <td>MainScreenAppear</td>\n",
       "      <td>3737462046622621720</td>\n",
       "      <td>2019-08-01 00:08:55</td>\n",
       "      <td>246</td>\n",
       "      <td>2019-08-01</td>\n",
       "    </tr>\n",
       "    <tr>\n",
       "      <th>2829</th>\n",
       "      <td>OffersScreenAppear</td>\n",
       "      <td>3737462046622621720</td>\n",
       "      <td>2019-08-01 00:08:58</td>\n",
       "      <td>246</td>\n",
       "      <td>2019-08-01</td>\n",
       "    </tr>\n",
       "    <tr>\n",
       "      <th>2830</th>\n",
       "      <td>MainScreenAppear</td>\n",
       "      <td>1433840883824088890</td>\n",
       "      <td>2019-08-01 00:08:59</td>\n",
       "      <td>247</td>\n",
       "      <td>2019-08-01</td>\n",
       "    </tr>\n",
       "  </tbody>\n",
       "</table>\n",
       "</div>"
      ],
      "text/plain": [
       "              event_name       device_id_hash     event_timestamp  exp_id  \\\n",
       "2826            Tutorial  3737462046622621720 2019-08-01 00:07:28     246   \n",
       "2827    MainScreenAppear  3737462046622621720 2019-08-01 00:08:00     246   \n",
       "2828    MainScreenAppear  3737462046622621720 2019-08-01 00:08:55     246   \n",
       "2829  OffersScreenAppear  3737462046622621720 2019-08-01 00:08:58     246   \n",
       "2830    MainScreenAppear  1433840883824088890 2019-08-01 00:08:59     247   \n",
       "\n",
       "      event_date  \n",
       "2826  2019-08-01  \n",
       "2827  2019-08-01  \n",
       "2828  2019-08-01  \n",
       "2829  2019-08-01  \n",
       "2830  2019-08-01  "
      ]
     },
     "execution_count": 85,
     "metadata": {},
     "output_type": "execute_result"
    }
   ],
   "source": [
    "data.head()"
   ]
  },
  {
   "cell_type": "code",
   "execution_count": 86,
   "metadata": {},
   "outputs": [
    {
     "data": {
      "text/plain": [
       "2484"
      ]
     },
     "execution_count": 86,
     "metadata": {},
     "output_type": "execute_result"
    }
   ],
   "source": [
    "# первая контрольная группа\n",
    "gr_a = len(data[data['exp_id']==246]['device_id_hash'].unique())\n",
    "gr_a"
   ]
  },
  {
   "cell_type": "code",
   "execution_count": 87,
   "metadata": {},
   "outputs": [
    {
     "data": {
      "text/plain": [
       "2513"
      ]
     },
     "execution_count": 87,
     "metadata": {},
     "output_type": "execute_result"
    }
   ],
   "source": [
    "# вторая контрольная группа\n",
    "gr_a_a = len(data[data['exp_id']==247]['device_id_hash'].unique())\n",
    "gr_a_a "
   ]
  },
  {
   "cell_type": "code",
   "execution_count": 88,
   "metadata": {},
   "outputs": [
    {
     "data": {
      "text/plain": [
       "2537"
      ]
     },
     "execution_count": 88,
     "metadata": {},
     "output_type": "execute_result"
    }
   ],
   "source": [
    "# экспериментальная группа\n",
    "gr_b = len(data[data['exp_id']==248]['device_id_hash'].unique())\n",
    "gr_b"
   ]
  },
  {
   "cell_type": "markdown",
   "metadata": {},
   "source": [
    "Вывод: нашли количество пользователей в каждой группе, разница между ними, на первый взгляд, не велика."
   ]
  },
  {
   "cell_type": "markdown",
   "metadata": {},
   "source": [
    "### Есть 2 контрольные группы для А/А-эксперимента, чтобы проверить корректность всех механизмов и расчётов. Проверим, находят ли статистические критерии разницу между выборками 246 и 247."
   ]
  },
  {
   "cell_type": "code",
   "execution_count": 89,
   "metadata": {},
   "outputs": [
    {
     "data": {
      "text/plain": [
       "1.1539992041384783"
      ]
     },
     "execution_count": 89,
     "metadata": {},
     "output_type": "execute_result"
    }
   ],
   "source": [
    "# относительное различие количества пользователей будет равно \n",
    "(1-gr_a/gr_a_a)* 100"
   ]
  },
  {
   "cell_type": "markdown",
   "metadata": {},
   "source": [
    "Проверим гипотезу о равенстве среднего количества пользователей в паре датасетов.  "
   ]
  },
  {
   "cell_type": "code",
   "execution_count": 90,
   "metadata": {},
   "outputs": [
    {
     "name": "stdout",
     "output_type": "stream",
     "text": [
      "p-значение для сравнения групп 246 и 247:  0.697888199211046\n",
      "Не получилось отвергнуть нулевую гипотезу для сравнения групп 246 и 247\n"
     ]
    }
   ],
   "source": [
    "sample_A = data[data['exp_id']==246]['device_id_hash'].unique()\n",
    "sample_A_A = data[data['exp_id']==247]['device_id_hash'].unique()\n",
    "\n",
    "alpha = 0.05  # критический уровень статистической значимости\n",
    "\n",
    "results_A_A = st.ttest_ind(sample_A, sample_A_A)\n",
    "\n",
    "\n",
    "bonferroni_alpha = alpha / 1 # произведено одно сравнение\n",
    "\n",
    "print('p-значение для сравнения групп 246 и 247: ', results_A_A.pvalue)\n",
    "\n",
    "if results_A_A.pvalue < bonferroni_alpha:\n",
    "    print('Отвергаем нулевую гипотезу для сравнения групп 246 и 247')\n",
    "else:\n",
    "    print(\n",
    "        'Не получилось отвергнуть нулевую гипотезу для сравнения групп 246 и 247'\n",
    "    )\n"
   ]
  },
  {
   "cell_type": "markdown",
   "metadata": {},
   "source": [
    "Вывод: Наблюдаемые данные не подтверждают наличие разницы числа пользователей между группами."
   ]
  },
  {
   "cell_type": "markdown",
   "metadata": {},
   "source": [
    "### Выберем самое популярное событие. Посчитаем число пользователей, совершивших это событие в каждой из контрольных групп. Посчитаем долю пользователей, совершивших это событие. Проверим, будет ли отличие между группами статистически достоверным. Проделаем то же самое для всех других событий (удобно обернуть проверку в отдельную функцию). Можно ли сказать, что разбиение на группы работает корректно?"
   ]
  },
  {
   "cell_type": "markdown",
   "metadata": {},
   "source": [
    "Самое популярное событие это MainScreenAppear. Нулевая гипотеза: доли уникальных посетителей, побывавших на этапе воронки, одинаковы.\n",
    "Альтернативная гипотеза: доли уникальных посетителей, побывавших на этапе воронки, отличаются. Уровень значимости 0.05."
   ]
  },
  {
   "cell_type": "code",
   "execution_count": 91,
   "metadata": {},
   "outputs": [],
   "source": [
    "alpha = .05 # критический уровень статистической значимости\n",
    "\n",
    " # число пользователей, совершивших событие в группе 1 и группе 2\n",
    "successes = np.array([data[data['exp_id'] == 246][data[data['exp_id'] == 246]\n",
    "                                                  ['event_name'] == 'MainScreenAppear']['device_id_hash'].nunique(), \n",
    "                        data[data['exp_id'] == 247][data[data['exp_id'] == 247]\n",
    "                                                    ['event_name'] == 'MainScreenAppear']['device_id_hash'].nunique()])\n",
    "\n",
    "# число пользователей в группе 1 и группе 2:\n",
    "n_users = np.array([data[data['exp_id'] == 246]['device_id_hash'].nunique(), \n",
    "                        data[data['exp_id'] == 247]['device_id_hash'].nunique()])\n",
    "\n",
    "\n",
    "# пропорция успехов в первой группе:\n",
    "p1 = successes[0]/n_users[0]\n",
    "\n",
    "# пропорция успехов во второй группе:\n",
    "p2 = successes[1]/n_users[1]\n",
    "\n",
    "# пропорция успехов в комбинированном датасете:\n",
    "p_combined = (successes[0] + successes[1]) / (n_users[0] + n_users[1])\n",
    "\n",
    "# разница пропорций в датасетах\n",
    "difference = p1 - p2 \n",
    "                    \n",
    "# считаем статистику в ст.отклонениях стандартного нормального распределения\n",
    "z_value = difference / mth.sqrt(p_combined * (1 - p_combined) * (1/n_users[0] + 1/n_users[1]))\n",
    "\n",
    "# задаем стандартное нормальное распределение (среднее 0, ст.отклонение 1)\n",
    "distr = st.norm(0, 1)                      "
   ]
  },
  {
   "cell_type": "code",
   "execution_count": 92,
   "metadata": {},
   "outputs": [
    {
     "name": "stdout",
     "output_type": "stream",
     "text": [
      "p-значение:  0.7570597232046099\n",
      "Не получилось отвергнуть нулевую гипотезу, нет оснований считать доли разными\n"
     ]
    }
   ],
   "source": [
    "p_value = (1 - distr.cdf(abs(z_value))) * 2\n",
    "\n",
    "print('p-значение: ', p_value)\n",
    "\n",
    "if p_value < alpha:\n",
    "    print('Отвергаем нулевую гипотезу: между долями есть значимая разница')\n",
    "else:\n",
    "    print('Не получилось отвергнуть нулевую гипотезу, нет оснований считать доли разными') "
   ]
  },
  {
   "cell_type": "markdown",
   "metadata": {},
   "source": [
    "Вывод: Такой разницы в пропорциях при указанных размерах выборок не достаточно, чтобы говорить о статистически значимом различии. "
   ]
  },
  {
   "cell_type": "markdown",
   "metadata": {},
   "source": [
    "Теперь проделаем то же самое для всех других событий, создадим функцию, которая нам поможет в этом. \n",
    "\n",
    "Входные параметры этой функции: \n",
    "- df1, df2 - датафреймы с логами\n",
    "- event - событие\n",
    "- alpfa - критический уровень статистической значимости\n",
    "- n - поправка Боннферони для критического уровня статистической значимости"
   ]
  },
  {
   "cell_type": "code",
   "execution_count": 93,
   "metadata": {},
   "outputs": [],
   "source": [
    "# Напишем функцию, которая примет на вход 2 двтафрейма и по нужному событию попарно проверит \n",
    "# есть ли статистически значимая разница между долями пользователей, совершивших его в группе 1 и группе 2\n",
    "\n",
    "def test(df1, df2, event, alpha, n):\n",
    "    \n",
    "    \n",
    "    # критический уровень статистической значимости c поправкой Бонферрони\n",
    "    bonferroni_alpha = alpha / n\n",
    " \n",
    "   \n",
    "    # число пользователей, совершивших событие в группе 1 и группе 2\n",
    "    successes = np.array([df1[df1['event_name'] == event]['device_id_hash'].nunique(), \n",
    "                        df2[df2['event_name'] == event]['device_id_hash'].nunique()])\n",
    "    \n",
    "     # число пользователей в группе 1 и группе 2:\n",
    "    n_users = np.array([df1['device_id_hash'].nunique(), \n",
    "                        df2['device_id_hash'].nunique()])\n",
    "    \n",
    "    # пропорция успехов в первой группе:\n",
    "    p1 = successes[0]/n_users[0]\n",
    "\n",
    "    # пропорция успехов во второй группе:\n",
    "    p2 = successes[1]/n_users[1]\n",
    "\n",
    "\n",
    "    \n",
    "    # пропорция успехов в комбинированном датасете:\n",
    "    p_combined = (successes[0] + successes[1]) / (n_users[0] + n_users[1])\n",
    "\n",
    "    # разница пропорций в датасетах\n",
    "    difference = p1 - p2 \n",
    "\n",
    "    # считаем статистику в ст.отклонениях стандартного нормального распределения\n",
    "    z_value = difference /  np.sqrt(p_combined * (1 - p_combined) * (1/n_users[0] + 1/n_users[1]))\n",
    "\n",
    "    # задаем стандартное нормальное распределение (среднее 0, ст.отклонение 1)\n",
    "    distr = st.norm(0, 1)  \n",
    "\n",
    "    p_value = (1 - distr.cdf(abs(z_value))) * 2   #тест двусторонний, удваиваем результат\n",
    "    \n",
    "    print('Событие:', event)\n",
    "    print('p-значение: ', p_value)\n",
    "\n",
    "    if p_value < bonferroni_alpha:\n",
    "        print('Отвергаем нулевую гипотезу: между долями есть разница')\n",
    "    else:\n",
    "        print('Не получилось отвергнуть нулевую гипотезу, нет оснований считать доли разными')"
   ]
  },
  {
   "cell_type": "code",
   "execution_count": 94,
   "metadata": {},
   "outputs": [],
   "source": [
    "# уберем событие Tutorial из нашего датафрейма, так как оно не входит в нашу воронку событий\n",
    "new_data = data[data['event_name'] != 'Tutorial']"
   ]
  },
  {
   "cell_type": "markdown",
   "metadata": {},
   "source": [
    "Общее количество проверяемых нулевых гипотез 16, поэтому берем поправку Бонферрони, деленную на 16."
   ]
  },
  {
   "cell_type": "code",
   "execution_count": 95,
   "metadata": {},
   "outputs": [
    {
     "name": "stdout",
     "output_type": "stream",
     "text": [
      "Событие: MainScreenAppear\n",
      "p-значение:  0.7526703436483038\n",
      "Не получилось отвергнуть нулевую гипотезу, нет оснований считать доли разными\n",
      "\n",
      "Событие: OffersScreenAppear\n",
      "p-значение:  0.24786096925282264\n",
      "Не получилось отвергнуть нулевую гипотезу, нет оснований считать доли разными\n",
      "\n",
      "Событие: CartScreenAppear\n",
      "p-значение:  0.22867643757335676\n",
      "Не получилось отвергнуть нулевую гипотезу, нет оснований считать доли разными\n",
      "\n",
      "Событие: PaymentScreenSuccessful\n",
      "p-значение:  0.11446627829276612\n",
      "Не получилось отвергнуть нулевую гипотезу, нет оснований считать доли разными\n",
      "\n"
     ]
    }
   ],
   "source": [
    "# есть ли статистически значимая разница между контрольными группами 246 и 247?\n",
    "\n",
    "for event in new_data['event_name'].unique():\n",
    "    test(new_data[new_data['exp_id'] == 246], new_data[new_data['exp_id'] == 247], event,.05, 16)\n",
    "    print()"
   ]
  },
  {
   "cell_type": "markdown",
   "metadata": {},
   "source": [
    "Видим, что статистической разницы между группами 246 и 247 по каждому событию нет. Так как это у нас контрольные группы, то можно запускать А/В тест."
   ]
  },
  {
   "cell_type": "markdown",
   "metadata": {},
   "source": [
    "### Аналогично поступим с группой с изменённым шрифтом. Сравним результаты с каждой из контрольных групп в отдельности по каждому событию. Сравним результаты с объединённой контрольной группой. Какие выводы из эксперимента можно сделать?"
   ]
  },
  {
   "cell_type": "markdown",
   "metadata": {},
   "source": [
    "Нулевая гипотеза: доли уникальных посетителей групп 246 и 248, побывавших на этапе воронки, одинаковы. Альтернативная гипотеза: доли уникальных посетителей групп 246 и 248, побывавших на этапе воронки, отличаются.\n",
    "Уровень значимости 0.05.\n"
   ]
  },
  {
   "cell_type": "code",
   "execution_count": 96,
   "metadata": {},
   "outputs": [
    {
     "name": "stdout",
     "output_type": "stream",
     "text": [
      "Событие: MainScreenAppear\n",
      "p-значение:  0.3387114076159288\n",
      "Не получилось отвергнуть нулевую гипотезу, нет оснований считать доли разными\n",
      "\n",
      "Событие: OffersScreenAppear\n",
      "p-значение:  0.21442476639710506\n",
      "Не получилось отвергнуть нулевую гипотезу, нет оснований считать доли разными\n",
      "\n",
      "Событие: CartScreenAppear\n",
      "p-значение:  0.08067367598823139\n",
      "Не получилось отвергнуть нулевую гипотезу, нет оснований считать доли разными\n",
      "\n",
      "Событие: PaymentScreenSuccessful\n",
      "p-значение:  0.21693033984516674\n",
      "Не получилось отвергнуть нулевую гипотезу, нет оснований считать доли разными\n",
      "\n"
     ]
    }
   ],
   "source": [
    "# есть ли статистически значимая разница между  группами 246 и 248?\n",
    "\n",
    "for event in new_data['event_name'].unique():\n",
    "    test(new_data[new_data['exp_id'] == 246], new_data[new_data['exp_id'] == 248], event,.05, 16)\n",
    "    print()"
   ]
  },
  {
   "cell_type": "markdown",
   "metadata": {},
   "source": [
    "Видим, что между группами 246 и 248  нет статистической разницы по каждому событию."
   ]
  },
  {
   "cell_type": "markdown",
   "metadata": {},
   "source": [
    "Нулевая гипотеза: доли уникальных посетителей групп 247 и 248, побывавших на этапе воронки, одинаковы. Альтернативная гипотеза: доли уникальных посетителей групп 247 и 248, побывавших на этапе воронки, отличаются. Уровень значимости 0.05."
   ]
  },
  {
   "cell_type": "code",
   "execution_count": 97,
   "metadata": {},
   "outputs": [
    {
     "name": "stdout",
     "output_type": "stream",
     "text": [
      "Событие: MainScreenAppear\n",
      "p-значение:  0.5194964354051703\n",
      "Не получилось отвергнуть нулевую гипотезу, нет оснований считать доли разными\n",
      "\n",
      "Событие: OffersScreenAppear\n",
      "p-значение:  0.9333751305879443\n",
      "Не получилось отвергнуть нулевую гипотезу, нет оснований считать доли разными\n",
      "\n",
      "Событие: CartScreenAppear\n",
      "p-значение:  0.5878284605111943\n",
      "Не получилось отвергнуть нулевую гипотезу, нет оснований считать доли разными\n",
      "\n",
      "Событие: PaymentScreenSuccessful\n",
      "p-значение:  0.7275718682261119\n",
      "Не получилось отвергнуть нулевую гипотезу, нет оснований считать доли разными\n",
      "\n"
     ]
    }
   ],
   "source": [
    "# есть ли статистически значимая разница между  группами 247 и 248?\n",
    "\n",
    "for event in new_data['event_name'].unique():\n",
    "    test(new_data[new_data['exp_id'] == 247], new_data[new_data['exp_id'] == 248], event,.05, 16)\n",
    "    print()"
   ]
  },
  {
   "cell_type": "markdown",
   "metadata": {},
   "source": [
    "Видим, что доли уникальных посетителей групп 247 и 248, побывавших на этапе воронки, одинаковы по каждому событию."
   ]
  },
  {
   "cell_type": "markdown",
   "metadata": {},
   "source": [
    "Нулевая гипотеза: доли уникальных посетителей, объединенными группами 246 и 247 и  группой 248, побывавших на этапе воронки, одинаковы. Альтернативная гипотеза: доли уникальных посетителей, объединенными группами 246 и 247 и  группой 248, побывавших на этапе воронки, отличаются. Уровень значимости 0.05."
   ]
  },
  {
   "cell_type": "code",
   "execution_count": 98,
   "metadata": {},
   "outputs": [
    {
     "name": "stdout",
     "output_type": "stream",
     "text": [
      "Событие: MainScreenAppear\n",
      "p-значение:  0.3486684291093256\n",
      "Не получилось отвергнуть нулевую гипотезу, нет оснований считать доли разными\n",
      "\n",
      "Событие: OffersScreenAppear\n",
      "p-значение:  0.44582745409482394\n",
      "Не получилось отвергнуть нулевую гипотезу, нет оснований считать доли разными\n",
      "\n",
      "Событие: CartScreenAppear\n",
      "p-значение:  0.18683558686831558\n",
      "Не получилось отвергнуть нулевую гипотезу, нет оснований считать доли разными\n",
      "\n",
      "Событие: PaymentScreenSuccessful\n",
      "p-значение:  0.6107918742187335\n",
      "Не получилось отвергнуть нулевую гипотезу, нет оснований считать доли разными\n",
      "\n"
     ]
    }
   ],
   "source": [
    "# есть ли статистически значимая разница между  объединенными группами 246 и 247 и  группой 248?\n",
    "\n",
    "for event in new_data['event_name'].unique():\n",
    "    test(new_data[new_data['exp_id'] != 248], new_data[new_data['exp_id'] == 248], event,.05, 16)\n",
    "    print()"
   ]
  },
  {
   "cell_type": "markdown",
   "metadata": {},
   "source": [
    "Вывод: Между объединенными группами 246 и 247 и  группой 248 статистически значимой разницы также нет. Можем сделать вывод, что изменение шрифтов не повлияло на пользователей, так как между всеми группами нет значимой статистической разницы."
   ]
  },
  {
   "cell_type": "markdown",
   "metadata": {},
   "source": [
    "### Какой уровень значимости мы выбрали при проверке статистических гипотез выше? Посчитаем, сколько проверок статистических гипотез мы сделали. При уровне значимости 0.1 каждый десятый раз можно получать ложный результат. Какой уровень значимости стоит применить? Если мы хотим изменить его, проделаем предыдущие пункты и проверим свои выводы."
   ]
  },
  {
   "cell_type": "markdown",
   "metadata": {},
   "source": [
    "При проверке статистических гипотез выше, мы выбирали уровень значимости, равный 0.05. Мы сделали 4 проверки статистических гипотез. Попробуем изменить уровень значимости до 0.1 и проверим, как поменяются выводы предыдущих пунктов."
   ]
  },
  {
   "cell_type": "markdown",
   "metadata": {},
   "source": [
    "Нулевая гипотеза: доли уникальных посетителей групп 246 и 247, побывавших на этапе воронки, одинаковы. Альтернативная гипотеза: доли уникальных посетителей групп 246 и 247, побывавших на этапе воронки, отличаются. Уровень значимости 0.1."
   ]
  },
  {
   "cell_type": "code",
   "execution_count": 99,
   "metadata": {},
   "outputs": [
    {
     "name": "stdout",
     "output_type": "stream",
     "text": [
      "Событие: MainScreenAppear\n",
      "p-значение:  0.7526703436483038\n",
      "Не получилось отвергнуть нулевую гипотезу, нет оснований считать доли разными\n",
      "\n",
      "Событие: OffersScreenAppear\n",
      "p-значение:  0.24786096925282264\n",
      "Не получилось отвергнуть нулевую гипотезу, нет оснований считать доли разными\n",
      "\n",
      "Событие: CartScreenAppear\n",
      "p-значение:  0.22867643757335676\n",
      "Не получилось отвергнуть нулевую гипотезу, нет оснований считать доли разными\n",
      "\n",
      "Событие: PaymentScreenSuccessful\n",
      "p-значение:  0.11446627829276612\n",
      "Не получилось отвергнуть нулевую гипотезу, нет оснований считать доли разными\n",
      "\n"
     ]
    }
   ],
   "source": [
    "# есть ли статистически значимая разница между контрольными группами 246 и 247 при альфа, равном  0.1?\n",
    "\n",
    "for event in new_data['event_name'].unique():\n",
    "    test(new_data[new_data['exp_id'] == 246], new_data[new_data['exp_id'] == 247], event,.1, 16)\n",
    "    print()"
   ]
  },
  {
   "cell_type": "markdown",
   "metadata": {},
   "source": [
    "Видим, что по контрольным группам (246 и 247) изменений нет, нет оснований считать доли разными по каждому событию."
   ]
  },
  {
   "cell_type": "markdown",
   "metadata": {},
   "source": [
    "Нулевая гипотеза: доли уникальных посетителей групп 246 и 248, побывавших на этапе воронки, одинаковы. Альтернативная гипотеза: доли уникальных посетителей групп 246 и 248, побывавших на этапе воронки, отличаются. Уровень значимости 0.1."
   ]
  },
  {
   "cell_type": "code",
   "execution_count": 100,
   "metadata": {},
   "outputs": [
    {
     "name": "stdout",
     "output_type": "stream",
     "text": [
      "Событие: MainScreenAppear\n",
      "p-значение:  0.3387114076159288\n",
      "Не получилось отвергнуть нулевую гипотезу, нет оснований считать доли разными\n",
      "\n",
      "Событие: OffersScreenAppear\n",
      "p-значение:  0.21442476639710506\n",
      "Не получилось отвергнуть нулевую гипотезу, нет оснований считать доли разными\n",
      "\n",
      "Событие: CartScreenAppear\n",
      "p-значение:  0.08067367598823139\n",
      "Не получилось отвергнуть нулевую гипотезу, нет оснований считать доли разными\n",
      "\n",
      "Событие: PaymentScreenSuccessful\n",
      "p-значение:  0.21693033984516674\n",
      "Не получилось отвергнуть нулевую гипотезу, нет оснований считать доли разными\n",
      "\n"
     ]
    }
   ],
   "source": [
    "# есть ли статистически значимая разница между  группами 246 и 248 при альфа, равном  0.1?\n",
    "\n",
    "for event in new_data['event_name'].unique():\n",
    "    test(new_data[new_data['exp_id'] == 246], new_data[new_data['exp_id'] == 248], event,.1, 16)\n",
    "    print()"
   ]
  },
  {
   "cell_type": "markdown",
   "metadata": {},
   "source": [
    "Так же не получилось отвергнуть нулевую гипотезу, не оснований считать доли групп 246 и 248 на каждом этапе воронки, при уровне значимости, равном  0.1, разными."
   ]
  },
  {
   "cell_type": "markdown",
   "metadata": {},
   "source": [
    "Нулевая гипотеза: доли уникальных посетителей групп 246 и 247, побывавших на этапе воронки, одинаковы. Альтернативная гипотеза: доли уникальных посетителей групп 246 и 247, побывавших на этапе воронки, отличаются. Уровень значимости 0.1."
   ]
  },
  {
   "cell_type": "code",
   "execution_count": 101,
   "metadata": {},
   "outputs": [
    {
     "name": "stdout",
     "output_type": "stream",
     "text": [
      "Событие: MainScreenAppear\n",
      "p-значение:  0.7526703436483038\n",
      "Не получилось отвергнуть нулевую гипотезу, нет оснований считать доли разными\n",
      "\n",
      "Событие: OffersScreenAppear\n",
      "p-значение:  0.24786096925282264\n",
      "Не получилось отвергнуть нулевую гипотезу, нет оснований считать доли разными\n",
      "\n",
      "Событие: CartScreenAppear\n",
      "p-значение:  0.22867643757335676\n",
      "Не получилось отвергнуть нулевую гипотезу, нет оснований считать доли разными\n",
      "\n",
      "Событие: PaymentScreenSuccessful\n",
      "p-значение:  0.11446627829276612\n",
      "Не получилось отвергнуть нулевую гипотезу, нет оснований считать доли разными\n",
      "\n"
     ]
    }
   ],
   "source": [
    "# есть ли статистически значимая разница между  группами 246 и 247 при альфа, равном  0.1?\n",
    "\n",
    "for event in new_data['event_name'].unique():\n",
    "    test(new_data[new_data['exp_id'] == 246], new_data[new_data['exp_id'] == 247], event,.1, 16)\n",
    "    print()"
   ]
  },
  {
   "cell_type": "markdown",
   "metadata": {},
   "source": [
    "Нулевая гипотеза верна. доли уникальных посетителей групп 246 и 247, побывавших на этапе воронки, одинаковы и при уровне значимости 0.1."
   ]
  },
  {
   "cell_type": "markdown",
   "metadata": {},
   "source": [
    "Нулевая гипотеза: доли уникальных посетителей, объединенными группами 246 и 247 и группой 248, побывавших на этапе воронки, одинаковы. Альтернативная гипотеза: доли уникальных посетителей, объединенными группами 246 и 247 и группой 248, побывавших на этапе воронки, отличаются. Уровень значимости 0.1."
   ]
  },
  {
   "cell_type": "code",
   "execution_count": 102,
   "metadata": {},
   "outputs": [
    {
     "name": "stdout",
     "output_type": "stream",
     "text": [
      "Событие: MainScreenAppear\n",
      "p-значение:  0.3486684291093256\n",
      "Не получилось отвергнуть нулевую гипотезу, нет оснований считать доли разными\n",
      "\n",
      "Событие: OffersScreenAppear\n",
      "p-значение:  0.44582745409482394\n",
      "Не получилось отвергнуть нулевую гипотезу, нет оснований считать доли разными\n",
      "\n",
      "Событие: CartScreenAppear\n",
      "p-значение:  0.18683558686831558\n",
      "Не получилось отвергнуть нулевую гипотезу, нет оснований считать доли разными\n",
      "\n",
      "Событие: PaymentScreenSuccessful\n",
      "p-значение:  0.6107918742187335\n",
      "Не получилось отвергнуть нулевую гипотезу, нет оснований считать доли разными\n",
      "\n"
     ]
    }
   ],
   "source": [
    "# есть ли статистически значимая разница между  объединенными группами 246 и 247 и  группой 248 при альфа, равном  0.1?\n",
    "\n",
    "for event in new_data['event_name'].unique():\n",
    "    test(new_data[new_data['exp_id'] != 248], new_data[new_data['exp_id'] == 248], event,.1, 16)\n",
    "    print()"
   ]
  },
  {
   "cell_type": "markdown",
   "metadata": {},
   "source": [
    "Выврд: в нашем случае, увеличение уровня значимости до 0.1 с 0.05 не повлияло на результат теста. По всем группам результат один, статистически значимой разницы между группами не обнаружено, разницы в долях пользователей для каждого этапа воронки одинаковы."
   ]
  },
  {
   "cell_type": "markdown",
   "metadata": {},
   "source": [
    "## Вывод"
   ]
  },
  {
   "cell_type": "markdown",
   "metadata": {},
   "source": [
    "Перед началом работы с данными, мы пих подготовили: мы переименовали столбцы на более удобные названия, в одном столбце поменяли формат данных о времени, добавили новый столбец с данными о датах, также удалили дубликаты и провели проверку пользователей на пересечение по группам. В конечной таблице у нас осталось 243713 строк, заметили, что количество элементов в каждом столбце совпадает с размерами таблицы, следовательно, пропусков в таблице нет.\n",
    "\n",
    "Затем мы изучили и проверили данные: мы посчитали количество уникальных событий, количество всех событий, количество уникальных пользователей. В среднем среднем, на пользователи приходится 32 события. Узнали, что у нас есть данные с 25.07.2019 по 07.08.2019. Построили гистограмму по дате и времени и увидели, что на самом деле, у нас есть полные данные только за первую неделю августа, поэтому мы отбросили более старые данные. При этом, мы потеряли 17 пользователей и 2826 событий. Проверили во всех ли группах у нас остались пользователи, и они остались во всех группах.\n",
    "\n",
    "Далее мы изучите воронку событий: узнали, что у нас всего 5 событий, чаще всего встречается событие MainScreenAppear, реже всего - Tutorial. Посчитали, сколько пользователей совершали каждое из этих событий. Отсортировали события по числу пользователей. Посчитаели долю пользователей, которые хоть раз совершали событие. Больше всего пользователей видело главный экран, меньше всего - руководство. Получили воронку событий, из которой исключили Tutorial, так как он не обязателен и , скорее всего, в него можно зайти в любое время. Построили график воронки событий, который наглядно демонстрирует долю пользователей, перешедших в следующий шаг воронки. По воронке событий посчитали, какая доля пользователей проходит на следующий шаг воронки. Обгаружили, что после первого шага (просмотр главного экрана) теряется довольно много пользователей (почти 40% от общего числа пользователей). Зато почти все пользователи, кто перешел в корзину, оплатили товар, целых 95%. А также, что почти 48% от всех пользователей, кто увидил главный экран, дошли до оплаты.\n",
    "\n",
    "Наконец, мы дошли до изучения результатов эксперимента: мы нашли количество пользователей в каждой группе, разница между ними, на первый взгляд, была не велика. Проверили, находят ли статистические критерии разницу между выборками 246 и 247 - наблюдаемые данные не подтвердили наличие разницы числа пользователей между группами. Мы выберали самое популярное событие (MainScreenAppear). Посчитали число пользователей, совершивших это событие в каждой из контрольных групп. Посчитали долю пользователей, совершивших это событие. Проверили, будет ли отличие между группами статистически достоверным. Выяснили, что  разницы между группами нет. Проделали то же самое для всех других событий. Можно сказать, что разбиение на группы работает корректно. Аналогично поступили с группой с изменённым шрифтом. Сравнили результаты с каждой из контрольных групп в отдельности по каждому событию. Сравнили результаты с объединённой контрольной группой. Пришли к выводу о том, что изменение шрифтов не повлияло на пользователей, так как между всеми группами нет значимой статистической разницы. Затем мы решили себы проверить и, поменяв уровень значимости с 0.05 на 0.1. проделали все то же самое. В нашем случае, увеличение уровня значимости до 0.1 с 0.05 не повлияло на результат теста. Для все проверок мы использовали поправку Бонферрони,  так как у нас количество проверяемых гипотез равно 16, то и поправку Бонферрони мы использавили такую, где альфа делили на 16. По всем группам результат один, статистически значимой разницы между группами не обнаружено, разницы в долях пользователей для каждого этапа воронки одинаковы. \n",
    "\n",
    "Итак, тесты, проведённые по каждому из событий, не обнаружили статистически значимой разницы между группами. Таким образом, оказалось, что  изменение шрифтов во всём приложении на поведение пользователей не повлияло."
   ]
  },
  {
   "cell_type": "code",
   "execution_count": null,
   "metadata": {},
   "outputs": [],
   "source": []
  }
 ],
 "metadata": {
  "ExecuteTimeLog": [
   {
    "duration": 430,
    "start_time": "2023-03-27T10:44:13.203Z"
   },
   {
    "duration": 432,
    "start_time": "2023-03-27T10:44:14.814Z"
   },
   {
    "duration": 14,
    "start_time": "2023-03-27T10:45:03.391Z"
   },
   {
    "duration": 106,
    "start_time": "2023-03-27T10:45:29.432Z"
   },
   {
    "duration": 335,
    "start_time": "2023-03-27T10:45:50.171Z"
   },
   {
    "duration": 6,
    "start_time": "2023-03-27T10:45:51.867Z"
   },
   {
    "duration": 127,
    "start_time": "2023-03-27T10:45:58.138Z"
   },
   {
    "duration": 7,
    "start_time": "2023-03-27T10:46:06.801Z"
   },
   {
    "duration": 317,
    "start_time": "2023-03-27T10:46:17.577Z"
   },
   {
    "duration": 11,
    "start_time": "2023-03-27T10:46:19.152Z"
   },
   {
    "duration": 167,
    "start_time": "2023-03-27T10:55:23.373Z"
   },
   {
    "duration": 10,
    "start_time": "2023-03-27T10:55:25.116Z"
   },
   {
    "duration": 24,
    "start_time": "2023-03-27T10:55:39.710Z"
   },
   {
    "duration": 10,
    "start_time": "2023-03-27T10:57:57.993Z"
   },
   {
    "duration": 1056,
    "start_time": "2023-03-27T10:59:40.836Z"
   },
   {
    "duration": 43,
    "start_time": "2023-03-27T11:01:51.538Z"
   },
   {
    "duration": 24,
    "start_time": "2023-03-27T11:01:59.648Z"
   },
   {
    "duration": 9,
    "start_time": "2023-03-27T11:02:09.098Z"
   },
   {
    "duration": 2234,
    "start_time": "2023-03-27T11:04:10.944Z"
   },
   {
    "duration": 1134,
    "start_time": "2023-03-27T11:04:26.998Z"
   },
   {
    "duration": 3,
    "start_time": "2023-03-27T11:04:51.832Z"
   },
   {
    "duration": 188,
    "start_time": "2023-03-27T11:04:51.838Z"
   },
   {
    "duration": 8,
    "start_time": "2023-03-27T11:04:52.029Z"
   },
   {
    "duration": 37,
    "start_time": "2023-03-27T11:04:52.038Z"
   },
   {
    "duration": 10,
    "start_time": "2023-03-27T11:04:52.078Z"
   },
   {
    "duration": 45,
    "start_time": "2023-03-27T11:04:52.090Z"
   },
   {
    "duration": 33,
    "start_time": "2023-03-27T11:04:52.136Z"
   },
   {
    "duration": 15,
    "start_time": "2023-03-27T11:04:52.172Z"
   },
   {
    "duration": 510,
    "start_time": "2023-03-27T11:04:52.189Z"
   },
   {
    "duration": 40,
    "start_time": "2023-03-27T11:05:12.747Z"
   },
   {
    "duration": 26,
    "start_time": "2023-03-27T11:05:14.647Z"
   },
   {
    "duration": 10,
    "start_time": "2023-03-27T11:05:16.989Z"
   },
   {
    "duration": 126,
    "start_time": "2023-03-27T11:06:31.887Z"
   },
   {
    "duration": 49,
    "start_time": "2023-03-27T11:07:37.453Z"
   },
   {
    "duration": 36,
    "start_time": "2023-03-27T11:08:00.226Z"
   },
   {
    "duration": 36,
    "start_time": "2023-03-27T11:08:55.119Z"
   },
   {
    "duration": 15,
    "start_time": "2023-03-27T11:09:18.287Z"
   },
   {
    "duration": 104,
    "start_time": "2023-03-27T11:10:20.309Z"
   },
   {
    "duration": 125,
    "start_time": "2023-03-27T11:10:41.606Z"
   },
   {
    "duration": 6,
    "start_time": "2023-03-27T11:16:12.006Z"
   },
   {
    "duration": 110,
    "start_time": "2023-03-27T11:18:01.542Z"
   },
   {
    "duration": 31,
    "start_time": "2023-03-27T11:19:44.294Z"
   },
   {
    "duration": 9,
    "start_time": "2023-03-27T11:19:57.658Z"
   },
   {
    "duration": 55,
    "start_time": "2023-03-27T11:27:12.114Z"
   },
   {
    "duration": 1411,
    "start_time": "2023-03-27T11:27:19.912Z"
   },
   {
    "duration": 970,
    "start_time": "2023-03-27T11:27:21.325Z"
   },
   {
    "duration": 11,
    "start_time": "2023-03-27T11:27:22.296Z"
   },
   {
    "duration": 19,
    "start_time": "2023-03-27T11:27:22.309Z"
   },
   {
    "duration": 8,
    "start_time": "2023-03-27T11:27:22.330Z"
   },
   {
    "duration": 40,
    "start_time": "2023-03-27T11:27:22.339Z"
   },
   {
    "duration": 19,
    "start_time": "2023-03-27T11:27:22.381Z"
   },
   {
    "duration": 30,
    "start_time": "2023-03-27T11:27:22.402Z"
   },
   {
    "duration": 98,
    "start_time": "2023-03-27T11:27:22.434Z"
   },
   {
    "duration": 102,
    "start_time": "2023-03-27T11:27:22.534Z"
   },
   {
    "duration": 167,
    "start_time": "2023-03-27T11:27:22.637Z"
   },
   {
    "duration": 92,
    "start_time": "2023-03-27T11:27:22.806Z"
   },
   {
    "duration": 37,
    "start_time": "2023-03-27T11:27:22.900Z"
   },
   {
    "duration": 11,
    "start_time": "2023-03-27T11:27:22.938Z"
   },
   {
    "duration": 45,
    "start_time": "2023-03-27T11:27:22.950Z"
   },
   {
    "duration": 44,
    "start_time": "2023-03-27T11:27:22.996Z"
   },
   {
    "duration": 8,
    "start_time": "2023-03-27T11:27:23.041Z"
   },
   {
    "duration": 5,
    "start_time": "2023-03-27T11:27:23.050Z"
   },
   {
    "duration": 3,
    "start_time": "2023-03-27T11:27:23.057Z"
   },
   {
    "duration": 4,
    "start_time": "2023-03-27T11:28:45.418Z"
   },
   {
    "duration": 3,
    "start_time": "2023-03-27T11:29:21.411Z"
   },
   {
    "duration": 8,
    "start_time": "2023-03-27T11:29:27.020Z"
   },
   {
    "duration": 7,
    "start_time": "2023-03-27T11:29:29.801Z"
   },
   {
    "duration": 12,
    "start_time": "2023-03-27T11:29:53.281Z"
   },
   {
    "duration": 33,
    "start_time": "2023-03-27T11:43:21.552Z"
   },
   {
    "duration": 27,
    "start_time": "2023-03-27T11:43:49.724Z"
   },
   {
    "duration": 6,
    "start_time": "2023-03-27T11:44:20.201Z"
   },
   {
    "duration": 27,
    "start_time": "2023-03-27T11:44:23.641Z"
   },
   {
    "duration": 5,
    "start_time": "2023-03-27T11:44:57.160Z"
   },
   {
    "duration": 38,
    "start_time": "2023-03-27T11:45:03.458Z"
   },
   {
    "duration": 20,
    "start_time": "2023-03-27T11:46:35.950Z"
   },
   {
    "duration": 28,
    "start_time": "2023-03-27T11:46:37.727Z"
   },
   {
    "duration": 9,
    "start_time": "2023-03-27T11:46:40.575Z"
   },
   {
    "duration": 88,
    "start_time": "2023-03-27T11:47:04.087Z"
   },
   {
    "duration": 4,
    "start_time": "2023-03-27T11:48:30.659Z"
   },
   {
    "duration": 5,
    "start_time": "2023-03-27T11:48:32.698Z"
   },
   {
    "duration": 156,
    "start_time": "2023-03-27T11:48:32.705Z"
   },
   {
    "duration": 9,
    "start_time": "2023-03-27T11:48:32.863Z"
   },
   {
    "duration": 19,
    "start_time": "2023-03-27T11:48:32.874Z"
   },
   {
    "duration": 29,
    "start_time": "2023-03-27T11:48:32.896Z"
   },
   {
    "duration": 11,
    "start_time": "2023-03-27T11:48:32.927Z"
   },
   {
    "duration": 23,
    "start_time": "2023-03-27T11:48:32.940Z"
   },
   {
    "duration": 8,
    "start_time": "2023-03-27T11:48:32.965Z"
   },
   {
    "duration": 123,
    "start_time": "2023-03-27T11:48:32.975Z"
   },
   {
    "duration": 89,
    "start_time": "2023-03-27T11:48:33.100Z"
   },
   {
    "duration": 112,
    "start_time": "2023-03-27T11:48:33.191Z"
   },
   {
    "duration": 107,
    "start_time": "2023-03-27T11:48:33.304Z"
   },
   {
    "duration": 35,
    "start_time": "2023-03-27T11:48:33.413Z"
   },
   {
    "duration": 9,
    "start_time": "2023-03-27T11:48:33.452Z"
   },
   {
    "duration": 65,
    "start_time": "2023-03-27T11:48:33.464Z"
   },
   {
    "duration": 28,
    "start_time": "2023-03-27T11:48:33.532Z"
   },
   {
    "duration": 4,
    "start_time": "2023-03-27T11:48:33.562Z"
   },
   {
    "duration": 19,
    "start_time": "2023-03-27T11:48:33.568Z"
   },
   {
    "duration": 10,
    "start_time": "2023-03-27T11:48:33.589Z"
   },
   {
    "duration": 26,
    "start_time": "2023-03-27T11:48:33.601Z"
   },
   {
    "duration": 28,
    "start_time": "2023-03-27T11:48:33.629Z"
   },
   {
    "duration": 124,
    "start_time": "2023-03-27T11:48:33.659Z"
   },
   {
    "duration": 430,
    "start_time": "2023-03-27T11:52:23.419Z"
   },
   {
    "duration": 400,
    "start_time": "2023-03-27T11:54:53.367Z"
   },
   {
    "duration": 4,
    "start_time": "2023-03-27T11:56:57.258Z"
   },
   {
    "duration": 8,
    "start_time": "2023-03-27T11:57:13.863Z"
   },
   {
    "duration": 16,
    "start_time": "2023-03-27T11:58:08.417Z"
   },
   {
    "duration": 35,
    "start_time": "2023-03-27T11:59:36.385Z"
   },
   {
    "duration": 25,
    "start_time": "2023-03-27T12:00:18.382Z"
   },
   {
    "duration": 53,
    "start_time": "2023-03-27T12:03:25.271Z"
   },
   {
    "duration": 373,
    "start_time": "2023-03-27T12:07:15.238Z"
   },
   {
    "duration": 456,
    "start_time": "2023-03-27T12:07:20.491Z"
   },
   {
    "duration": 5,
    "start_time": "2023-03-27T12:07:23.202Z"
   },
   {
    "duration": 185,
    "start_time": "2023-03-27T12:07:23.210Z"
   },
   {
    "duration": 9,
    "start_time": "2023-03-27T12:07:23.397Z"
   },
   {
    "duration": 39,
    "start_time": "2023-03-27T12:07:23.408Z"
   },
   {
    "duration": 10,
    "start_time": "2023-03-27T12:07:23.449Z"
   },
   {
    "duration": 19,
    "start_time": "2023-03-27T12:07:23.461Z"
   },
   {
    "duration": 24,
    "start_time": "2023-03-27T12:07:23.482Z"
   },
   {
    "duration": 24,
    "start_time": "2023-03-27T12:07:23.508Z"
   },
   {
    "duration": 109,
    "start_time": "2023-03-27T12:07:23.535Z"
   },
   {
    "duration": 90,
    "start_time": "2023-03-27T12:07:23.646Z"
   },
   {
    "duration": 100,
    "start_time": "2023-03-27T12:07:23.738Z"
   },
   {
    "duration": 110,
    "start_time": "2023-03-27T12:07:23.839Z"
   },
   {
    "duration": 27,
    "start_time": "2023-03-27T12:07:23.951Z"
   },
   {
    "duration": 36,
    "start_time": "2023-03-27T12:07:23.981Z"
   },
   {
    "duration": 71,
    "start_time": "2023-03-27T12:07:24.019Z"
   },
   {
    "duration": 29,
    "start_time": "2023-03-27T12:07:24.092Z"
   },
   {
    "duration": 19,
    "start_time": "2023-03-27T12:07:24.123Z"
   },
   {
    "duration": 9,
    "start_time": "2023-03-27T12:07:24.144Z"
   },
   {
    "duration": 8,
    "start_time": "2023-03-27T12:07:24.157Z"
   },
   {
    "duration": 8,
    "start_time": "2023-03-27T12:07:24.167Z"
   },
   {
    "duration": 54,
    "start_time": "2023-03-27T12:07:24.177Z"
   },
   {
    "duration": 359,
    "start_time": "2023-03-27T12:07:24.235Z"
   },
   {
    "duration": 41,
    "start_time": "2023-03-27T12:07:24.596Z"
   },
   {
    "duration": 40,
    "start_time": "2023-03-27T12:07:24.640Z"
   },
   {
    "duration": 352,
    "start_time": "2023-03-27T12:07:37.354Z"
   },
   {
    "duration": 4,
    "start_time": "2023-03-27T12:07:40.202Z"
   },
   {
    "duration": 209,
    "start_time": "2023-03-27T12:07:40.208Z"
   },
   {
    "duration": 18,
    "start_time": "2023-03-27T12:07:40.420Z"
   },
   {
    "duration": 51,
    "start_time": "2023-03-27T12:07:40.439Z"
   },
   {
    "duration": 13,
    "start_time": "2023-03-27T12:07:40.494Z"
   },
   {
    "duration": 20,
    "start_time": "2023-03-27T12:07:40.513Z"
   },
   {
    "duration": 27,
    "start_time": "2023-03-27T12:07:40.537Z"
   },
   {
    "duration": 11,
    "start_time": "2023-03-27T12:07:40.566Z"
   },
   {
    "duration": 259,
    "start_time": "2023-03-27T12:07:40.580Z"
   },
   {
    "duration": 86,
    "start_time": "2023-03-27T12:07:40.843Z"
   },
   {
    "duration": 103,
    "start_time": "2023-03-27T12:07:40.937Z"
   },
   {
    "duration": 98,
    "start_time": "2023-03-27T12:07:41.041Z"
   },
   {
    "duration": 27,
    "start_time": "2023-03-27T12:07:41.142Z"
   },
   {
    "duration": 16,
    "start_time": "2023-03-27T12:07:41.173Z"
   },
   {
    "duration": 62,
    "start_time": "2023-03-27T12:07:41.191Z"
   },
   {
    "duration": 29,
    "start_time": "2023-03-27T12:07:41.255Z"
   },
   {
    "duration": 67,
    "start_time": "2023-03-27T12:07:41.285Z"
   },
   {
    "duration": 59,
    "start_time": "2023-03-27T12:07:41.354Z"
   },
   {
    "duration": 32,
    "start_time": "2023-03-27T12:07:41.414Z"
   },
   {
    "duration": 11,
    "start_time": "2023-03-27T12:07:41.449Z"
   },
   {
    "duration": 29,
    "start_time": "2023-03-27T12:07:41.463Z"
   },
   {
    "duration": 362,
    "start_time": "2023-03-27T12:07:41.494Z"
   },
   {
    "duration": 21,
    "start_time": "2023-03-27T12:07:41.858Z"
   },
   {
    "duration": 59,
    "start_time": "2023-03-27T12:07:41.881Z"
   },
   {
    "duration": 360,
    "start_time": "2023-03-27T12:07:54.320Z"
   },
   {
    "duration": 5,
    "start_time": "2023-03-27T12:07:58.356Z"
   },
   {
    "duration": 175,
    "start_time": "2023-03-27T12:07:58.364Z"
   },
   {
    "duration": 9,
    "start_time": "2023-03-27T12:07:58.541Z"
   },
   {
    "duration": 25,
    "start_time": "2023-03-27T12:07:58.551Z"
   },
   {
    "duration": 12,
    "start_time": "2023-03-27T12:07:58.579Z"
   },
   {
    "duration": 11,
    "start_time": "2023-03-27T12:07:58.592Z"
   },
   {
    "duration": 27,
    "start_time": "2023-03-27T12:07:58.622Z"
   },
   {
    "duration": 16,
    "start_time": "2023-03-27T12:07:58.652Z"
   },
   {
    "duration": 113,
    "start_time": "2023-03-27T12:07:58.670Z"
   },
   {
    "duration": 98,
    "start_time": "2023-03-27T12:07:58.785Z"
   },
   {
    "duration": 113,
    "start_time": "2023-03-27T12:07:58.884Z"
   },
   {
    "duration": 101,
    "start_time": "2023-03-27T12:07:58.999Z"
   },
   {
    "duration": 41,
    "start_time": "2023-03-27T12:07:59.102Z"
   },
   {
    "duration": 11,
    "start_time": "2023-03-27T12:07:59.147Z"
   },
   {
    "duration": 68,
    "start_time": "2023-03-27T12:07:59.160Z"
   },
   {
    "duration": 47,
    "start_time": "2023-03-27T12:07:59.229Z"
   },
   {
    "duration": 4,
    "start_time": "2023-03-27T12:07:59.278Z"
   },
   {
    "duration": 12,
    "start_time": "2023-03-27T12:07:59.283Z"
   },
   {
    "duration": 42,
    "start_time": "2023-03-27T12:07:59.296Z"
   },
   {
    "duration": 8,
    "start_time": "2023-03-27T12:07:59.341Z"
   },
   {
    "duration": 26,
    "start_time": "2023-03-27T12:07:59.351Z"
   },
   {
    "duration": 375,
    "start_time": "2023-03-27T12:07:59.379Z"
   },
   {
    "duration": 20,
    "start_time": "2023-03-27T12:07:59.756Z"
   },
   {
    "duration": 65,
    "start_time": "2023-03-27T12:07:59.778Z"
   },
   {
    "duration": 52,
    "start_time": "2023-03-28T09:19:20.901Z"
   },
   {
    "duration": 1448,
    "start_time": "2023-03-28T09:19:23.264Z"
   },
   {
    "duration": 732,
    "start_time": "2023-03-28T09:19:24.714Z"
   },
   {
    "duration": 12,
    "start_time": "2023-03-28T09:19:25.448Z"
   },
   {
    "duration": 23,
    "start_time": "2023-03-28T09:19:25.462Z"
   },
   {
    "duration": 9,
    "start_time": "2023-03-28T09:19:25.487Z"
   },
   {
    "duration": 23,
    "start_time": "2023-03-28T09:19:25.497Z"
   },
   {
    "duration": 37,
    "start_time": "2023-03-28T09:19:25.522Z"
   },
   {
    "duration": 10,
    "start_time": "2023-03-28T09:19:25.561Z"
   },
   {
    "duration": 111,
    "start_time": "2023-03-28T09:19:25.573Z"
   },
   {
    "duration": 104,
    "start_time": "2023-03-28T09:19:25.687Z"
   },
   {
    "duration": 114,
    "start_time": "2023-03-28T09:19:25.792Z"
   },
   {
    "duration": 106,
    "start_time": "2023-03-28T09:19:25.909Z"
   },
   {
    "duration": 39,
    "start_time": "2023-03-28T09:19:26.017Z"
   },
   {
    "duration": 8,
    "start_time": "2023-03-28T09:19:26.058Z"
   },
   {
    "duration": 55,
    "start_time": "2023-03-28T09:19:26.068Z"
   },
   {
    "duration": 46,
    "start_time": "2023-03-28T09:19:26.142Z"
   },
   {
    "duration": 5,
    "start_time": "2023-03-28T09:19:26.190Z"
   },
   {
    "duration": 13,
    "start_time": "2023-03-28T09:19:26.196Z"
   },
   {
    "duration": 32,
    "start_time": "2023-03-28T09:19:26.210Z"
   },
   {
    "duration": 8,
    "start_time": "2023-03-28T09:19:26.243Z"
   },
   {
    "duration": 34,
    "start_time": "2023-03-28T09:19:26.253Z"
   },
   {
    "duration": 455,
    "start_time": "2023-03-28T09:19:26.289Z"
   },
   {
    "duration": 25,
    "start_time": "2023-03-28T09:19:26.746Z"
   },
   {
    "duration": 37,
    "start_time": "2023-03-28T09:19:26.773Z"
   },
   {
    "duration": 50,
    "start_time": "2023-03-28T09:19:26.812Z"
   },
   {
    "duration": 28,
    "start_time": "2023-03-28T09:20:06.618Z"
   },
   {
    "duration": 28,
    "start_time": "2023-03-28T09:20:13.425Z"
   },
   {
    "duration": 29,
    "start_time": "2023-03-28T09:20:18.645Z"
   },
   {
    "duration": 5,
    "start_time": "2023-03-28T09:21:46.363Z"
   },
   {
    "duration": 41,
    "start_time": "2023-03-28T09:22:01.633Z"
   },
   {
    "duration": 28,
    "start_time": "2023-03-28T09:22:16.293Z"
   },
   {
    "duration": 28,
    "start_time": "2023-03-28T09:22:36.750Z"
   },
   {
    "duration": 40,
    "start_time": "2023-03-28T09:23:16.141Z"
   },
   {
    "duration": 58,
    "start_time": "2023-03-28T09:26:57.736Z"
   },
   {
    "duration": 73,
    "start_time": "2023-03-28T09:27:08.919Z"
   },
   {
    "duration": 63,
    "start_time": "2023-03-28T09:30:00.816Z"
   },
   {
    "duration": 66,
    "start_time": "2023-03-28T09:32:52.759Z"
   },
   {
    "duration": 62,
    "start_time": "2023-03-28T09:48:13.095Z"
   },
   {
    "duration": 61,
    "start_time": "2023-03-28T09:51:38.003Z"
   },
   {
    "duration": 8,
    "start_time": "2023-03-28T09:51:39.646Z"
   },
   {
    "duration": 56,
    "start_time": "2023-03-28T09:51:55.777Z"
   },
   {
    "duration": 8,
    "start_time": "2023-03-28T09:51:57.344Z"
   },
   {
    "duration": 5,
    "start_time": "2023-03-28T09:57:24.018Z"
   },
   {
    "duration": 8,
    "start_time": "2023-03-28T09:58:30.334Z"
   },
   {
    "duration": 5,
    "start_time": "2023-03-28T09:58:47.622Z"
   },
   {
    "duration": 4,
    "start_time": "2023-03-28T10:18:12.642Z"
   },
   {
    "duration": 165,
    "start_time": "2023-03-28T10:18:12.648Z"
   },
   {
    "duration": 8,
    "start_time": "2023-03-28T10:18:12.815Z"
   },
   {
    "duration": 34,
    "start_time": "2023-03-28T10:18:12.825Z"
   },
   {
    "duration": 8,
    "start_time": "2023-03-28T10:18:12.861Z"
   },
   {
    "duration": 92,
    "start_time": "2023-03-28T10:18:12.871Z"
   },
   {
    "duration": 29,
    "start_time": "2023-03-28T10:18:12.965Z"
   },
   {
    "duration": 9,
    "start_time": "2023-03-28T10:18:12.997Z"
   },
   {
    "duration": 94,
    "start_time": "2023-03-28T10:18:13.007Z"
   },
   {
    "duration": 89,
    "start_time": "2023-03-28T10:18:13.102Z"
   },
   {
    "duration": 96,
    "start_time": "2023-03-28T10:18:13.192Z"
   },
   {
    "duration": 120,
    "start_time": "2023-03-28T10:18:13.290Z"
   },
   {
    "duration": 38,
    "start_time": "2023-03-28T10:18:13.412Z"
   },
   {
    "duration": 10,
    "start_time": "2023-03-28T10:18:13.453Z"
   },
   {
    "duration": 47,
    "start_time": "2023-03-28T10:18:13.466Z"
   },
   {
    "duration": 46,
    "start_time": "2023-03-28T10:18:13.515Z"
   },
   {
    "duration": 4,
    "start_time": "2023-03-28T10:18:13.563Z"
   },
   {
    "duration": 15,
    "start_time": "2023-03-28T10:18:13.569Z"
   },
   {
    "duration": 6,
    "start_time": "2023-03-28T10:18:13.586Z"
   },
   {
    "duration": 12,
    "start_time": "2023-03-28T10:18:13.593Z"
   },
   {
    "duration": 54,
    "start_time": "2023-03-28T10:18:13.608Z"
   },
   {
    "duration": 348,
    "start_time": "2023-03-28T10:18:13.664Z"
   },
   {
    "duration": 31,
    "start_time": "2023-03-28T10:18:14.013Z"
   },
   {
    "duration": 37,
    "start_time": "2023-03-28T10:18:14.046Z"
   },
   {
    "duration": 26,
    "start_time": "2023-03-28T10:18:14.085Z"
   },
   {
    "duration": 84,
    "start_time": "2023-03-28T10:18:14.113Z"
   },
   {
    "duration": 65,
    "start_time": "2023-03-28T10:18:14.198Z"
   },
   {
    "duration": 7,
    "start_time": "2023-03-28T10:18:14.265Z"
   },
   {
    "duration": 17,
    "start_time": "2023-03-28T10:18:14.274Z"
   },
   {
    "duration": 351,
    "start_time": "2023-03-28T10:18:54.280Z"
   },
   {
    "duration": 4,
    "start_time": "2023-03-28T10:18:58.785Z"
   },
   {
    "duration": 209,
    "start_time": "2023-03-28T10:18:58.791Z"
   },
   {
    "duration": 12,
    "start_time": "2023-03-28T10:18:59.002Z"
   },
   {
    "duration": 45,
    "start_time": "2023-03-28T10:18:59.017Z"
   },
   {
    "duration": 19,
    "start_time": "2023-03-28T10:18:59.065Z"
   },
   {
    "duration": 18,
    "start_time": "2023-03-28T10:18:59.087Z"
   },
   {
    "duration": 22,
    "start_time": "2023-03-28T10:18:59.106Z"
   },
   {
    "duration": 16,
    "start_time": "2023-03-28T10:18:59.130Z"
   },
   {
    "duration": 183,
    "start_time": "2023-03-28T10:18:59.148Z"
   },
   {
    "duration": 85,
    "start_time": "2023-03-28T10:18:59.332Z"
   },
   {
    "duration": 108,
    "start_time": "2023-03-28T10:18:59.419Z"
   },
   {
    "duration": 99,
    "start_time": "2023-03-28T10:18:59.528Z"
   },
   {
    "duration": 43,
    "start_time": "2023-03-28T10:18:59.629Z"
   },
   {
    "duration": 12,
    "start_time": "2023-03-28T10:18:59.676Z"
   },
   {
    "duration": 65,
    "start_time": "2023-03-28T10:18:59.689Z"
   },
   {
    "duration": 32,
    "start_time": "2023-03-28T10:18:59.756Z"
   },
   {
    "duration": 4,
    "start_time": "2023-03-28T10:18:59.789Z"
   },
   {
    "duration": 15,
    "start_time": "2023-03-28T10:18:59.795Z"
   },
   {
    "duration": 30,
    "start_time": "2023-03-28T10:18:59.811Z"
   },
   {
    "duration": 11,
    "start_time": "2023-03-28T10:18:59.843Z"
   },
   {
    "duration": 50,
    "start_time": "2023-03-28T10:18:59.855Z"
   },
   {
    "duration": 341,
    "start_time": "2023-03-28T10:18:59.907Z"
   },
   {
    "duration": 19,
    "start_time": "2023-03-28T10:19:00.250Z"
   },
   {
    "duration": 62,
    "start_time": "2023-03-28T10:19:00.271Z"
   },
   {
    "duration": 26,
    "start_time": "2023-03-28T10:19:00.335Z"
   },
   {
    "duration": 82,
    "start_time": "2023-03-28T10:19:00.363Z"
   },
   {
    "duration": 58,
    "start_time": "2023-03-28T10:19:00.447Z"
   },
   {
    "duration": 7,
    "start_time": "2023-03-28T10:19:00.506Z"
   },
   {
    "duration": 73,
    "start_time": "2023-03-28T10:19:00.515Z"
   },
   {
    "duration": 371,
    "start_time": "2023-03-28T10:19:19.729Z"
   },
   {
    "duration": 403,
    "start_time": "2023-03-28T10:19:25.827Z"
   },
   {
    "duration": 388,
    "start_time": "2023-03-28T10:19:31.443Z"
   },
   {
    "duration": 388,
    "start_time": "2023-03-28T10:19:38.203Z"
   },
   {
    "duration": 4,
    "start_time": "2023-03-28T10:19:42.993Z"
   },
   {
    "duration": 172,
    "start_time": "2023-03-28T10:19:42.999Z"
   },
   {
    "duration": 8,
    "start_time": "2023-03-28T10:19:43.172Z"
   },
   {
    "duration": 22,
    "start_time": "2023-03-28T10:19:43.183Z"
   },
   {
    "duration": 9,
    "start_time": "2023-03-28T10:19:43.206Z"
   },
   {
    "duration": 18,
    "start_time": "2023-03-28T10:19:43.240Z"
   },
   {
    "duration": 23,
    "start_time": "2023-03-28T10:19:43.260Z"
   },
   {
    "duration": 9,
    "start_time": "2023-03-28T10:19:43.285Z"
   },
   {
    "duration": 206,
    "start_time": "2023-03-28T10:19:43.296Z"
   },
   {
    "duration": 84,
    "start_time": "2023-03-28T10:19:43.506Z"
   },
   {
    "duration": 92,
    "start_time": "2023-03-28T10:19:43.592Z"
   },
   {
    "duration": 99,
    "start_time": "2023-03-28T10:19:43.686Z"
   },
   {
    "duration": 32,
    "start_time": "2023-03-28T10:19:43.786Z"
   },
   {
    "duration": 23,
    "start_time": "2023-03-28T10:19:43.819Z"
   },
   {
    "duration": 46,
    "start_time": "2023-03-28T10:19:43.845Z"
   },
   {
    "duration": 48,
    "start_time": "2023-03-28T10:19:43.894Z"
   },
   {
    "duration": 5,
    "start_time": "2023-03-28T10:19:43.944Z"
   },
   {
    "duration": 53,
    "start_time": "2023-03-28T10:19:43.951Z"
   },
   {
    "duration": 13,
    "start_time": "2023-03-28T10:19:44.006Z"
   },
   {
    "duration": 10,
    "start_time": "2023-03-28T10:19:44.021Z"
   },
   {
    "duration": 30,
    "start_time": "2023-03-28T10:19:44.033Z"
   },
   {
    "duration": 348,
    "start_time": "2023-03-28T10:19:44.065Z"
   },
   {
    "duration": 32,
    "start_time": "2023-03-28T10:19:44.415Z"
   },
   {
    "duration": 37,
    "start_time": "2023-03-28T10:19:44.449Z"
   },
   {
    "duration": 30,
    "start_time": "2023-03-28T10:19:44.488Z"
   },
   {
    "duration": 65,
    "start_time": "2023-03-28T10:19:44.542Z"
   },
   {
    "duration": 73,
    "start_time": "2023-03-28T10:19:44.609Z"
   },
   {
    "duration": 7,
    "start_time": "2023-03-28T10:19:44.685Z"
   },
   {
    "duration": 9,
    "start_time": "2023-03-28T10:19:44.694Z"
   },
   {
    "duration": 7,
    "start_time": "2023-03-28T10:21:57.172Z"
   },
   {
    "duration": 6,
    "start_time": "2023-03-28T10:22:06.667Z"
   },
   {
    "duration": 3,
    "start_time": "2023-03-28T10:22:23.112Z"
   },
   {
    "duration": 182,
    "start_time": "2023-03-28T10:22:23.117Z"
   },
   {
    "duration": 7,
    "start_time": "2023-03-28T10:22:23.301Z"
   },
   {
    "duration": 35,
    "start_time": "2023-03-28T10:22:23.309Z"
   },
   {
    "duration": 9,
    "start_time": "2023-03-28T10:22:23.347Z"
   },
   {
    "duration": 12,
    "start_time": "2023-03-28T10:22:23.357Z"
   },
   {
    "duration": 30,
    "start_time": "2023-03-28T10:22:23.370Z"
   },
   {
    "duration": 9,
    "start_time": "2023-03-28T10:22:23.402Z"
   },
   {
    "duration": 133,
    "start_time": "2023-03-28T10:22:23.413Z"
   },
   {
    "duration": 97,
    "start_time": "2023-03-28T10:22:23.547Z"
   },
   {
    "duration": 110,
    "start_time": "2023-03-28T10:22:23.647Z"
   },
   {
    "duration": 107,
    "start_time": "2023-03-28T10:22:23.759Z"
   },
   {
    "duration": 32,
    "start_time": "2023-03-28T10:22:23.868Z"
   },
   {
    "duration": 9,
    "start_time": "2023-03-28T10:22:23.903Z"
   },
   {
    "duration": 60,
    "start_time": "2023-03-28T10:22:23.914Z"
   },
   {
    "duration": 32,
    "start_time": "2023-03-28T10:22:23.975Z"
   },
   {
    "duration": 4,
    "start_time": "2023-03-28T10:22:24.009Z"
   },
   {
    "duration": 27,
    "start_time": "2023-03-28T10:22:24.015Z"
   },
   {
    "duration": 14,
    "start_time": "2023-03-28T10:22:24.043Z"
   },
   {
    "duration": 12,
    "start_time": "2023-03-28T10:22:24.059Z"
   },
   {
    "duration": 29,
    "start_time": "2023-03-28T10:22:24.073Z"
   },
   {
    "duration": 5,
    "start_time": "2023-03-28T10:22:24.104Z"
   },
   {
    "duration": 34,
    "start_time": "2023-03-28T10:22:24.111Z"
   },
   {
    "duration": 369,
    "start_time": "2023-03-28T10:22:24.147Z"
   },
   {
    "duration": 35,
    "start_time": "2023-03-28T10:22:24.520Z"
   },
   {
    "duration": 41,
    "start_time": "2023-03-28T10:22:24.557Z"
   },
   {
    "duration": 47,
    "start_time": "2023-03-28T10:22:24.600Z"
   },
   {
    "duration": 66,
    "start_time": "2023-03-28T10:22:24.648Z"
   },
   {
    "duration": 71,
    "start_time": "2023-03-28T10:22:24.716Z"
   },
   {
    "duration": 9,
    "start_time": "2023-03-28T10:22:24.790Z"
   },
   {
    "duration": 8,
    "start_time": "2023-03-28T10:22:24.801Z"
   },
   {
    "duration": 11,
    "start_time": "2023-03-28T10:25:28.754Z"
   },
   {
    "duration": 5,
    "start_time": "2023-03-28T10:25:55.822Z"
   },
   {
    "duration": 6,
    "start_time": "2023-03-28T10:26:13.265Z"
   },
   {
    "duration": 12,
    "start_time": "2023-03-28T10:26:52.581Z"
   },
   {
    "duration": 12,
    "start_time": "2023-03-28T10:27:58.690Z"
   },
   {
    "duration": 12,
    "start_time": "2023-03-28T10:28:34.533Z"
   },
   {
    "duration": 4,
    "start_time": "2023-03-28T10:31:00.009Z"
   },
   {
    "duration": 53,
    "start_time": "2023-03-28T10:32:21.897Z"
   },
   {
    "duration": 5,
    "start_time": "2023-03-28T10:40:33.609Z"
   },
   {
    "duration": 5,
    "start_time": "2023-03-28T10:42:19.480Z"
   },
   {
    "duration": 21,
    "start_time": "2023-03-28T10:44:31.675Z"
   },
   {
    "duration": 19,
    "start_time": "2023-03-28T10:44:55.357Z"
   },
   {
    "duration": 6,
    "start_time": "2023-03-28T11:01:31.154Z"
   },
   {
    "duration": 6,
    "start_time": "2023-03-28T11:02:48.166Z"
   },
   {
    "duration": 6,
    "start_time": "2023-03-28T11:03:10.041Z"
   },
   {
    "duration": 6,
    "start_time": "2023-03-28T11:05:43.528Z"
   },
   {
    "duration": 124,
    "start_time": "2023-03-28T11:06:56.454Z"
   },
   {
    "duration": 69,
    "start_time": "2023-03-28T11:07:17.978Z"
   },
   {
    "duration": 4,
    "start_time": "2023-03-28T11:07:44.352Z"
   },
   {
    "duration": 61,
    "start_time": "2023-03-28T11:07:51.445Z"
   },
   {
    "duration": 5,
    "start_time": "2023-03-28T11:07:55.204Z"
   },
   {
    "duration": 50,
    "start_time": "2023-03-28T11:13:37.322Z"
   },
   {
    "duration": 7,
    "start_time": "2023-03-28T11:17:52.200Z"
   },
   {
    "duration": 175,
    "start_time": "2023-03-28T11:20:11.471Z"
   },
   {
    "duration": 25,
    "start_time": "2023-03-28T11:23:24.246Z"
   },
   {
    "duration": 161,
    "start_time": "2023-03-28T11:23:26.139Z"
   },
   {
    "duration": 146,
    "start_time": "2023-03-28T11:23:41.761Z"
   },
   {
    "duration": 26,
    "start_time": "2023-03-28T11:27:13.124Z"
   },
   {
    "duration": 144,
    "start_time": "2023-03-28T11:46:06.059Z"
   },
   {
    "duration": 47,
    "start_time": "2023-03-28T11:47:51.148Z"
   },
   {
    "duration": 47,
    "start_time": "2023-03-28T11:50:05.230Z"
   },
   {
    "duration": 140,
    "start_time": "2023-03-28T11:50:35.328Z"
   },
   {
    "duration": 48,
    "start_time": "2023-03-28T11:52:59.852Z"
   },
   {
    "duration": 173,
    "start_time": "2023-03-28T11:54:10.027Z"
   },
   {
    "duration": 174,
    "start_time": "2023-03-28T11:56:52.219Z"
   },
   {
    "duration": 40,
    "start_time": "2023-03-28T11:57:38.248Z"
   },
   {
    "duration": 131,
    "start_time": "2023-03-28T12:04:24.982Z"
   },
   {
    "duration": 45,
    "start_time": "2023-03-28T12:06:16.204Z"
   },
   {
    "duration": 154,
    "start_time": "2023-03-28T12:06:59.418Z"
   },
   {
    "duration": 155,
    "start_time": "2023-03-28T12:10:28.709Z"
   },
   {
    "duration": 176,
    "start_time": "2023-03-28T12:11:48.221Z"
   },
   {
    "duration": 3,
    "start_time": "2023-03-28T12:39:32.110Z"
   },
   {
    "duration": 188,
    "start_time": "2023-03-28T12:39:32.115Z"
   },
   {
    "duration": 8,
    "start_time": "2023-03-28T12:39:32.304Z"
   },
   {
    "duration": 35,
    "start_time": "2023-03-28T12:39:32.314Z"
   },
   {
    "duration": 8,
    "start_time": "2023-03-28T12:39:32.350Z"
   },
   {
    "duration": 19,
    "start_time": "2023-03-28T12:39:32.360Z"
   },
   {
    "duration": 21,
    "start_time": "2023-03-28T12:39:32.381Z"
   },
   {
    "duration": 8,
    "start_time": "2023-03-28T12:39:32.403Z"
   },
   {
    "duration": 107,
    "start_time": "2023-03-28T12:39:32.413Z"
   },
   {
    "duration": 99,
    "start_time": "2023-03-28T12:39:32.522Z"
   },
   {
    "duration": 99,
    "start_time": "2023-03-28T12:39:32.624Z"
   },
   {
    "duration": 107,
    "start_time": "2023-03-28T12:39:32.725Z"
   },
   {
    "duration": 30,
    "start_time": "2023-03-28T12:39:32.834Z"
   },
   {
    "duration": 20,
    "start_time": "2023-03-28T12:39:32.866Z"
   },
   {
    "duration": 64,
    "start_time": "2023-03-28T12:39:32.888Z"
   },
   {
    "duration": 30,
    "start_time": "2023-03-28T12:39:32.954Z"
   },
   {
    "duration": 4,
    "start_time": "2023-03-28T12:39:32.986Z"
   },
   {
    "duration": 14,
    "start_time": "2023-03-28T12:39:32.992Z"
   },
   {
    "duration": 14,
    "start_time": "2023-03-28T12:39:33.007Z"
   },
   {
    "duration": 27,
    "start_time": "2023-03-28T12:39:33.023Z"
   },
   {
    "duration": 28,
    "start_time": "2023-03-28T12:39:33.052Z"
   },
   {
    "duration": 4,
    "start_time": "2023-03-28T12:39:33.082Z"
   },
   {
    "duration": 6,
    "start_time": "2023-03-28T12:39:33.088Z"
   },
   {
    "duration": 362,
    "start_time": "2023-03-28T12:39:33.096Z"
   },
   {
    "duration": 22,
    "start_time": "2023-03-28T12:39:33.461Z"
   },
   {
    "duration": 58,
    "start_time": "2023-03-28T12:39:33.485Z"
   },
   {
    "duration": 29,
    "start_time": "2023-03-28T12:39:33.545Z"
   },
   {
    "duration": 80,
    "start_time": "2023-03-28T12:39:33.579Z"
   },
   {
    "duration": 57,
    "start_time": "2023-03-28T12:39:33.660Z"
   },
   {
    "duration": 22,
    "start_time": "2023-03-28T12:39:33.718Z"
   },
   {
    "duration": 4,
    "start_time": "2023-03-28T12:39:33.742Z"
   },
   {
    "duration": 11,
    "start_time": "2023-03-28T12:39:33.747Z"
   },
   {
    "duration": 13,
    "start_time": "2023-03-28T12:39:33.759Z"
   },
   {
    "duration": 11,
    "start_time": "2023-03-28T12:39:33.773Z"
   },
   {
    "duration": 11,
    "start_time": "2023-03-28T12:39:33.786Z"
   },
   {
    "duration": 3,
    "start_time": "2023-03-28T12:39:33.799Z"
   },
   {
    "duration": 54,
    "start_time": "2023-03-28T12:39:33.804Z"
   },
   {
    "duration": 82,
    "start_time": "2023-03-28T12:39:33.860Z"
   },
   {
    "duration": 5,
    "start_time": "2023-03-28T12:39:33.943Z"
   },
   {
    "duration": 9,
    "start_time": "2023-03-28T12:39:33.949Z"
   },
   {
    "duration": 28,
    "start_time": "2023-03-28T12:39:33.960Z"
   },
   {
    "duration": 158,
    "start_time": "2023-03-28T12:39:33.990Z"
   },
   {
    "duration": 154,
    "start_time": "2023-03-28T12:39:34.150Z"
   },
   {
    "duration": 162,
    "start_time": "2023-03-28T12:39:34.305Z"
   },
   {
    "duration": 220,
    "start_time": "2023-03-28T12:39:34.469Z"
   },
   {
    "duration": 183,
    "start_time": "2023-03-28T12:39:34.691Z"
   },
   {
    "duration": 154,
    "start_time": "2023-03-28T12:39:34.876Z"
   },
   {
    "duration": 160,
    "start_time": "2023-03-28T12:39:35.041Z"
   },
   {
    "duration": 204,
    "start_time": "2023-03-28T12:39:35.203Z"
   },
   {
    "duration": 21,
    "start_time": "2023-03-28T12:41:01.242Z"
   },
   {
    "duration": 10,
    "start_time": "2023-03-28T12:48:18.936Z"
   },
   {
    "duration": 4,
    "start_time": "2023-03-28T12:56:29.972Z"
   },
   {
    "duration": 175,
    "start_time": "2023-03-28T12:56:29.978Z"
   },
   {
    "duration": 8,
    "start_time": "2023-03-28T12:56:30.155Z"
   },
   {
    "duration": 49,
    "start_time": "2023-03-28T12:56:30.165Z"
   },
   {
    "duration": 34,
    "start_time": "2023-03-28T12:56:30.216Z"
   },
   {
    "duration": 31,
    "start_time": "2023-03-28T12:56:30.252Z"
   },
   {
    "duration": 80,
    "start_time": "2023-03-28T12:56:30.285Z"
   },
   {
    "duration": 50,
    "start_time": "2023-03-28T12:56:30.367Z"
   },
   {
    "duration": 219,
    "start_time": "2023-03-28T12:56:30.420Z"
   },
   {
    "duration": 75,
    "start_time": "2023-03-28T12:56:30.641Z"
   },
   {
    "duration": 95,
    "start_time": "2023-03-28T12:56:30.717Z"
   },
   {
    "duration": 96,
    "start_time": "2023-03-28T12:56:30.814Z"
   },
   {
    "duration": 37,
    "start_time": "2023-03-28T12:56:30.912Z"
   },
   {
    "duration": 24,
    "start_time": "2023-03-28T12:56:30.951Z"
   },
   {
    "duration": 67,
    "start_time": "2023-03-28T12:56:30.976Z"
   },
   {
    "duration": 30,
    "start_time": "2023-03-28T12:56:31.044Z"
   },
   {
    "duration": 16,
    "start_time": "2023-03-28T12:56:31.076Z"
   },
   {
    "duration": 22,
    "start_time": "2023-03-28T12:56:31.093Z"
   },
   {
    "duration": 22,
    "start_time": "2023-03-28T12:56:31.116Z"
   },
   {
    "duration": 30,
    "start_time": "2023-03-28T12:56:31.140Z"
   },
   {
    "duration": 39,
    "start_time": "2023-03-28T12:56:31.171Z"
   },
   {
    "duration": 11,
    "start_time": "2023-03-28T12:56:31.212Z"
   },
   {
    "duration": 37,
    "start_time": "2023-03-28T12:56:31.225Z"
   },
   {
    "duration": 358,
    "start_time": "2023-03-28T12:56:31.266Z"
   },
   {
    "duration": 31,
    "start_time": "2023-03-28T12:56:31.626Z"
   },
   {
    "duration": 43,
    "start_time": "2023-03-28T12:56:31.659Z"
   },
   {
    "duration": 59,
    "start_time": "2023-03-28T12:56:31.704Z"
   },
   {
    "duration": 112,
    "start_time": "2023-03-28T12:56:31.766Z"
   },
   {
    "duration": 69,
    "start_time": "2023-03-28T12:56:31.881Z"
   },
   {
    "duration": 7,
    "start_time": "2023-03-28T12:56:31.952Z"
   },
   {
    "duration": 27,
    "start_time": "2023-03-28T12:56:31.961Z"
   },
   {
    "duration": 19,
    "start_time": "2023-03-28T12:56:31.990Z"
   },
   {
    "duration": 32,
    "start_time": "2023-03-28T12:56:32.011Z"
   },
   {
    "duration": 19,
    "start_time": "2023-03-28T12:56:32.044Z"
   },
   {
    "duration": 23,
    "start_time": "2023-03-28T12:56:32.065Z"
   },
   {
    "duration": 36,
    "start_time": "2023-03-28T12:56:32.090Z"
   },
   {
    "duration": 48,
    "start_time": "2023-03-28T12:56:32.128Z"
   },
   {
    "duration": 58,
    "start_time": "2023-03-28T12:56:32.178Z"
   },
   {
    "duration": 5,
    "start_time": "2023-03-28T12:56:32.238Z"
   },
   {
    "duration": 23,
    "start_time": "2023-03-28T12:56:32.245Z"
   },
   {
    "duration": 44,
    "start_time": "2023-03-28T12:56:32.270Z"
   },
   {
    "duration": 148,
    "start_time": "2023-03-28T12:56:32.316Z"
   },
   {
    "duration": 155,
    "start_time": "2023-03-28T12:56:32.466Z"
   },
   {
    "duration": 163,
    "start_time": "2023-03-28T12:56:32.623Z"
   },
   {
    "duration": 191,
    "start_time": "2023-03-28T12:56:32.788Z"
   },
   {
    "duration": 147,
    "start_time": "2023-03-28T12:56:32.981Z"
   },
   {
    "duration": 155,
    "start_time": "2023-03-28T12:56:33.141Z"
   },
   {
    "duration": 171,
    "start_time": "2023-03-28T12:56:33.298Z"
   },
   {
    "duration": 204,
    "start_time": "2023-03-28T12:56:33.471Z"
   },
   {
    "duration": 61,
    "start_time": "2023-03-28T12:58:12.892Z"
   },
   {
    "duration": 4,
    "start_time": "2023-03-28T12:58:19.185Z"
   },
   {
    "duration": 183,
    "start_time": "2023-03-28T12:58:19.192Z"
   },
   {
    "duration": 10,
    "start_time": "2023-03-28T12:58:19.377Z"
   },
   {
    "duration": 28,
    "start_time": "2023-03-28T12:58:19.389Z"
   },
   {
    "duration": 28,
    "start_time": "2023-03-28T12:58:19.419Z"
   },
   {
    "duration": 12,
    "start_time": "2023-03-28T12:58:19.449Z"
   },
   {
    "duration": 22,
    "start_time": "2023-03-28T12:58:19.463Z"
   },
   {
    "duration": 9,
    "start_time": "2023-03-28T12:58:19.486Z"
   },
   {
    "duration": 137,
    "start_time": "2023-03-28T12:58:19.496Z"
   },
   {
    "duration": 102,
    "start_time": "2023-03-28T12:58:19.640Z"
   },
   {
    "duration": 124,
    "start_time": "2023-03-28T12:58:19.744Z"
   },
   {
    "duration": 134,
    "start_time": "2023-03-28T12:58:19.871Z"
   },
   {
    "duration": 47,
    "start_time": "2023-03-28T12:58:20.008Z"
   },
   {
    "duration": 9,
    "start_time": "2023-03-28T12:58:20.057Z"
   },
   {
    "duration": 73,
    "start_time": "2023-03-28T12:58:20.068Z"
   },
   {
    "duration": 43,
    "start_time": "2023-03-28T12:58:20.144Z"
   },
   {
    "duration": 5,
    "start_time": "2023-03-28T12:58:20.189Z"
   },
   {
    "duration": 9,
    "start_time": "2023-03-28T12:58:20.196Z"
   },
   {
    "duration": 35,
    "start_time": "2023-03-28T12:58:20.207Z"
   },
   {
    "duration": 9,
    "start_time": "2023-03-28T12:58:20.244Z"
   },
   {
    "duration": 31,
    "start_time": "2023-03-28T12:58:20.255Z"
   },
   {
    "duration": 5,
    "start_time": "2023-03-28T12:58:20.288Z"
   },
   {
    "duration": 18,
    "start_time": "2023-03-28T12:58:20.295Z"
   },
   {
    "duration": 403,
    "start_time": "2023-03-28T12:58:20.314Z"
   },
   {
    "duration": 26,
    "start_time": "2023-03-28T12:58:20.719Z"
   },
   {
    "duration": 38,
    "start_time": "2023-03-28T12:58:20.747Z"
   },
   {
    "duration": 29,
    "start_time": "2023-03-28T12:58:20.786Z"
   },
   {
    "duration": 65,
    "start_time": "2023-03-28T12:58:20.840Z"
   },
   {
    "duration": 77,
    "start_time": "2023-03-28T12:58:20.907Z"
   },
   {
    "duration": 7,
    "start_time": "2023-03-28T12:58:20.986Z"
   },
   {
    "duration": 7,
    "start_time": "2023-03-28T12:58:20.994Z"
   },
   {
    "duration": 17,
    "start_time": "2023-03-28T12:58:21.003Z"
   },
   {
    "duration": 35,
    "start_time": "2023-03-28T12:58:21.022Z"
   },
   {
    "duration": 12,
    "start_time": "2023-03-28T12:58:21.059Z"
   },
   {
    "duration": 12,
    "start_time": "2023-03-28T12:58:21.072Z"
   },
   {
    "duration": 4,
    "start_time": "2023-03-28T12:58:21.085Z"
   },
   {
    "duration": 25,
    "start_time": "2023-03-28T12:58:21.090Z"
   },
   {
    "duration": 85,
    "start_time": "2023-03-28T12:58:21.117Z"
   },
   {
    "duration": 5,
    "start_time": "2023-03-28T12:58:21.204Z"
   },
   {
    "duration": 30,
    "start_time": "2023-03-28T12:58:21.211Z"
   },
   {
    "duration": 35,
    "start_time": "2023-03-28T12:58:21.243Z"
   },
   {
    "duration": 148,
    "start_time": "2023-03-28T12:58:21.280Z"
   },
   {
    "duration": 183,
    "start_time": "2023-03-28T12:58:21.430Z"
   },
   {
    "duration": 167,
    "start_time": "2023-03-28T12:58:21.615Z"
   },
   {
    "duration": 202,
    "start_time": "2023-03-28T12:58:21.784Z"
   },
   {
    "duration": 163,
    "start_time": "2023-03-28T12:58:21.987Z"
   },
   {
    "duration": 158,
    "start_time": "2023-03-28T12:58:22.151Z"
   },
   {
    "duration": 160,
    "start_time": "2023-03-28T12:58:22.311Z"
   },
   {
    "duration": 210,
    "start_time": "2023-03-28T12:58:22.473Z"
   },
   {
    "duration": 5,
    "start_time": "2023-03-28T13:00:47.130Z"
   },
   {
    "duration": 170,
    "start_time": "2023-03-28T13:00:47.137Z"
   },
   {
    "duration": 8,
    "start_time": "2023-03-28T13:00:47.310Z"
   },
   {
    "duration": 35,
    "start_time": "2023-03-28T13:00:47.319Z"
   },
   {
    "duration": 9,
    "start_time": "2023-03-28T13:00:47.357Z"
   },
   {
    "duration": 12,
    "start_time": "2023-03-28T13:00:47.367Z"
   },
   {
    "duration": 24,
    "start_time": "2023-03-28T13:00:47.380Z"
   },
   {
    "duration": 35,
    "start_time": "2023-03-28T13:00:47.406Z"
   },
   {
    "duration": 101,
    "start_time": "2023-03-28T13:00:47.443Z"
   },
   {
    "duration": 96,
    "start_time": "2023-03-28T13:00:47.546Z"
   },
   {
    "duration": 98,
    "start_time": "2023-03-28T13:00:47.643Z"
   },
   {
    "duration": 105,
    "start_time": "2023-03-28T13:00:47.743Z"
   },
   {
    "duration": 31,
    "start_time": "2023-03-28T13:00:47.850Z"
   },
   {
    "duration": 9,
    "start_time": "2023-03-28T13:00:47.884Z"
   },
   {
    "duration": 64,
    "start_time": "2023-03-28T13:00:47.895Z"
   },
   {
    "duration": 31,
    "start_time": "2023-03-28T13:00:47.961Z"
   },
   {
    "duration": 8,
    "start_time": "2023-03-28T13:00:47.994Z"
   },
   {
    "duration": 18,
    "start_time": "2023-03-28T13:00:48.004Z"
   },
   {
    "duration": 19,
    "start_time": "2023-03-28T13:00:48.024Z"
   },
   {
    "duration": 34,
    "start_time": "2023-03-28T13:00:48.046Z"
   },
   {
    "duration": 30,
    "start_time": "2023-03-28T13:00:48.082Z"
   },
   {
    "duration": 5,
    "start_time": "2023-03-28T13:00:48.113Z"
   },
   {
    "duration": 11,
    "start_time": "2023-03-28T13:00:48.119Z"
   },
   {
    "duration": 351,
    "start_time": "2023-03-28T13:00:48.131Z"
   },
   {
    "duration": 23,
    "start_time": "2023-03-28T13:00:48.484Z"
   },
   {
    "duration": 54,
    "start_time": "2023-03-28T13:00:48.508Z"
   },
   {
    "duration": 30,
    "start_time": "2023-03-28T13:00:48.564Z"
   },
   {
    "duration": 88,
    "start_time": "2023-03-28T13:00:48.595Z"
   },
   {
    "duration": 72,
    "start_time": "2023-03-28T13:00:48.684Z"
   },
   {
    "duration": 6,
    "start_time": "2023-03-28T13:00:48.758Z"
   },
   {
    "duration": 19,
    "start_time": "2023-03-28T13:00:48.766Z"
   },
   {
    "duration": 11,
    "start_time": "2023-03-28T13:00:48.786Z"
   },
   {
    "duration": 16,
    "start_time": "2023-03-28T13:00:48.798Z"
   },
   {
    "duration": 26,
    "start_time": "2023-03-28T13:00:48.816Z"
   },
   {
    "duration": 12,
    "start_time": "2023-03-28T13:00:48.843Z"
   },
   {
    "duration": 5,
    "start_time": "2023-03-28T13:00:48.857Z"
   },
   {
    "duration": 22,
    "start_time": "2023-03-28T13:00:48.864Z"
   },
   {
    "duration": 112,
    "start_time": "2023-03-28T13:00:48.889Z"
   },
   {
    "duration": 6,
    "start_time": "2023-03-28T13:00:49.005Z"
   },
   {
    "duration": 14,
    "start_time": "2023-03-28T13:00:49.014Z"
   },
   {
    "duration": 44,
    "start_time": "2023-03-28T13:00:49.034Z"
   },
   {
    "duration": 192,
    "start_time": "2023-03-28T13:00:49.081Z"
   },
   {
    "duration": 166,
    "start_time": "2023-03-28T13:00:49.275Z"
   },
   {
    "duration": 162,
    "start_time": "2023-03-28T13:00:49.443Z"
   },
   {
    "duration": 203,
    "start_time": "2023-03-28T13:00:49.607Z"
   },
   {
    "duration": 164,
    "start_time": "2023-03-28T13:00:49.812Z"
   },
   {
    "duration": 166,
    "start_time": "2023-03-28T13:00:49.977Z"
   },
   {
    "duration": 148,
    "start_time": "2023-03-28T13:00:50.145Z"
   },
   {
    "duration": 192,
    "start_time": "2023-03-28T13:00:50.294Z"
   },
   {
    "duration": 70,
    "start_time": "2023-03-28T13:01:38.580Z"
   },
   {
    "duration": 5,
    "start_time": "2023-03-28T13:04:52.428Z"
   },
   {
    "duration": 7,
    "start_time": "2023-03-28T13:05:05.850Z"
   },
   {
    "duration": 5,
    "start_time": "2023-03-28T13:06:43.579Z"
   },
   {
    "duration": 180,
    "start_time": "2023-03-28T13:06:43.586Z"
   },
   {
    "duration": 9,
    "start_time": "2023-03-28T13:06:43.768Z"
   },
   {
    "duration": 35,
    "start_time": "2023-03-28T13:06:43.780Z"
   },
   {
    "duration": 11,
    "start_time": "2023-03-28T13:06:43.818Z"
   },
   {
    "duration": 10,
    "start_time": "2023-03-28T13:06:43.841Z"
   },
   {
    "duration": 21,
    "start_time": "2023-03-28T13:06:43.853Z"
   },
   {
    "duration": 9,
    "start_time": "2023-03-28T13:06:43.875Z"
   },
   {
    "duration": 212,
    "start_time": "2023-03-28T13:06:43.887Z"
   },
   {
    "duration": 96,
    "start_time": "2023-03-28T13:06:44.102Z"
   },
   {
    "duration": 92,
    "start_time": "2023-03-28T13:06:44.200Z"
   },
   {
    "duration": 105,
    "start_time": "2023-03-28T13:06:44.294Z"
   },
   {
    "duration": 40,
    "start_time": "2023-03-28T13:06:44.401Z"
   },
   {
    "duration": 10,
    "start_time": "2023-03-28T13:06:44.443Z"
   },
   {
    "duration": 42,
    "start_time": "2023-03-28T13:06:44.455Z"
   },
   {
    "duration": 56,
    "start_time": "2023-03-28T13:06:44.499Z"
   },
   {
    "duration": 4,
    "start_time": "2023-03-28T13:06:44.556Z"
   },
   {
    "duration": 9,
    "start_time": "2023-03-28T13:06:44.562Z"
   },
   {
    "duration": 5,
    "start_time": "2023-03-28T13:06:44.573Z"
   },
   {
    "duration": 9,
    "start_time": "2023-03-28T13:06:44.579Z"
   },
   {
    "duration": 69,
    "start_time": "2023-03-28T13:06:44.589Z"
   },
   {
    "duration": 5,
    "start_time": "2023-03-28T13:06:44.659Z"
   },
   {
    "duration": 5,
    "start_time": "2023-03-28T13:06:44.666Z"
   },
   {
    "duration": 371,
    "start_time": "2023-03-28T13:06:44.673Z"
   },
   {
    "duration": 24,
    "start_time": "2023-03-28T13:06:45.046Z"
   },
   {
    "duration": 39,
    "start_time": "2023-03-28T13:06:45.072Z"
   },
   {
    "duration": 58,
    "start_time": "2023-03-28T13:06:45.112Z"
   },
   {
    "duration": 92,
    "start_time": "2023-03-28T13:06:45.174Z"
   },
   {
    "duration": 77,
    "start_time": "2023-03-28T13:06:45.268Z"
   },
   {
    "duration": 9,
    "start_time": "2023-03-28T13:06:45.347Z"
   },
   {
    "duration": 5,
    "start_time": "2023-03-28T13:06:45.358Z"
   },
   {
    "duration": 26,
    "start_time": "2023-03-28T13:06:45.365Z"
   },
   {
    "duration": 18,
    "start_time": "2023-03-28T13:06:45.393Z"
   },
   {
    "duration": 37,
    "start_time": "2023-03-28T13:06:45.414Z"
   },
   {
    "duration": 12,
    "start_time": "2023-03-28T13:06:45.453Z"
   },
   {
    "duration": 4,
    "start_time": "2023-03-28T13:06:45.466Z"
   },
   {
    "duration": 27,
    "start_time": "2023-03-28T13:06:45.471Z"
   },
   {
    "duration": 97,
    "start_time": "2023-03-28T13:06:45.500Z"
   },
   {
    "duration": 4,
    "start_time": "2023-03-28T13:06:45.599Z"
   },
   {
    "duration": 8,
    "start_time": "2023-03-28T13:06:45.605Z"
   },
   {
    "duration": 50,
    "start_time": "2023-03-28T13:06:45.615Z"
   },
   {
    "duration": 159,
    "start_time": "2023-03-28T13:06:45.667Z"
   },
   {
    "duration": 168,
    "start_time": "2023-03-28T13:06:45.828Z"
   },
   {
    "duration": 174,
    "start_time": "2023-03-28T13:06:45.998Z"
   },
   {
    "duration": 207,
    "start_time": "2023-03-28T13:06:46.173Z"
   },
   {
    "duration": 169,
    "start_time": "2023-03-28T13:06:46.382Z"
   },
   {
    "duration": 159,
    "start_time": "2023-03-28T13:06:46.553Z"
   },
   {
    "duration": 164,
    "start_time": "2023-03-28T13:06:46.714Z"
   },
   {
    "duration": 209,
    "start_time": "2023-03-28T13:06:46.880Z"
   },
   {
    "duration": 1875,
    "start_time": "2023-03-29T09:28:02.241Z"
   },
   {
    "duration": 5,
    "start_time": "2023-03-29T09:32:24.848Z"
   },
   {
    "duration": 114,
    "start_time": "2023-03-29T09:34:39.124Z"
   },
   {
    "duration": 4,
    "start_time": "2023-03-29T09:35:06.281Z"
   },
   {
    "duration": 691,
    "start_time": "2023-03-29T09:35:06.287Z"
   },
   {
    "duration": 12,
    "start_time": "2023-03-29T09:35:06.980Z"
   },
   {
    "duration": 32,
    "start_time": "2023-03-29T09:35:06.994Z"
   },
   {
    "duration": 28,
    "start_time": "2023-03-29T09:35:07.028Z"
   },
   {
    "duration": 66,
    "start_time": "2023-03-29T09:35:07.057Z"
   },
   {
    "duration": 31,
    "start_time": "2023-03-29T09:35:07.125Z"
   },
   {
    "duration": 24,
    "start_time": "2023-03-29T09:35:07.158Z"
   },
   {
    "duration": 101,
    "start_time": "2023-03-29T09:35:07.184Z"
   },
   {
    "duration": 104,
    "start_time": "2023-03-29T09:35:07.287Z"
   },
   {
    "duration": 110,
    "start_time": "2023-03-29T09:35:07.393Z"
   },
   {
    "duration": 116,
    "start_time": "2023-03-29T09:35:07.505Z"
   },
   {
    "duration": 30,
    "start_time": "2023-03-29T09:35:07.623Z"
   },
   {
    "duration": 11,
    "start_time": "2023-03-29T09:35:07.656Z"
   },
   {
    "duration": 61,
    "start_time": "2023-03-29T09:35:07.668Z"
   },
   {
    "duration": 31,
    "start_time": "2023-03-29T09:35:07.731Z"
   },
   {
    "duration": 4,
    "start_time": "2023-03-29T09:35:07.764Z"
   },
   {
    "duration": 23,
    "start_time": "2023-03-29T09:35:07.770Z"
   },
   {
    "duration": 8,
    "start_time": "2023-03-29T09:35:07.795Z"
   },
   {
    "duration": 23,
    "start_time": "2023-03-29T09:35:07.804Z"
   },
   {
    "duration": 30,
    "start_time": "2023-03-29T09:35:07.828Z"
   },
   {
    "duration": 5,
    "start_time": "2023-03-29T09:35:07.860Z"
   },
   {
    "duration": 14,
    "start_time": "2023-03-29T09:35:07.866Z"
   },
   {
    "duration": 433,
    "start_time": "2023-03-29T09:35:07.882Z"
   },
   {
    "duration": 22,
    "start_time": "2023-03-29T09:35:08.316Z"
   },
   {
    "duration": 35,
    "start_time": "2023-03-29T09:35:08.340Z"
   },
   {
    "duration": 54,
    "start_time": "2023-03-29T09:35:08.377Z"
   },
   {
    "duration": 67,
    "start_time": "2023-03-29T09:35:08.433Z"
   },
   {
    "duration": 195,
    "start_time": "2023-03-29T09:35:08.502Z"
   },
   {
    "duration": 62,
    "start_time": "2023-03-29T09:35:08.699Z"
   },
   {
    "duration": 59,
    "start_time": "2023-03-29T09:35:08.763Z"
   },
   {
    "duration": 24,
    "start_time": "2023-03-29T09:35:08.823Z"
   },
   {
    "duration": 21,
    "start_time": "2023-03-29T09:35:08.849Z"
   },
   {
    "duration": 18,
    "start_time": "2023-03-29T09:35:08.872Z"
   },
   {
    "duration": 28,
    "start_time": "2023-03-29T09:35:08.891Z"
   },
   {
    "duration": 11,
    "start_time": "2023-03-29T09:35:08.921Z"
   },
   {
    "duration": 4,
    "start_time": "2023-03-29T09:35:08.933Z"
   },
   {
    "duration": 25,
    "start_time": "2023-03-29T09:35:08.939Z"
   },
   {
    "duration": 80,
    "start_time": "2023-03-29T09:35:08.966Z"
   },
   {
    "duration": 4,
    "start_time": "2023-03-29T09:35:09.049Z"
   },
   {
    "duration": 20,
    "start_time": "2023-03-29T09:35:09.057Z"
   },
   {
    "duration": 37,
    "start_time": "2023-03-29T09:35:09.079Z"
   },
   {
    "duration": 156,
    "start_time": "2023-03-29T09:35:09.118Z"
   },
   {
    "duration": 173,
    "start_time": "2023-03-29T09:35:09.275Z"
   },
   {
    "duration": 144,
    "start_time": "2023-03-29T09:35:09.450Z"
   },
   {
    "duration": 205,
    "start_time": "2023-03-29T09:35:09.596Z"
   },
   {
    "duration": 174,
    "start_time": "2023-03-29T09:35:09.803Z"
   },
   {
    "duration": 174,
    "start_time": "2023-03-29T09:35:09.979Z"
   },
   {
    "duration": 179,
    "start_time": "2023-03-29T09:35:10.155Z"
   },
   {
    "duration": 217,
    "start_time": "2023-03-29T09:35:10.336Z"
   },
   {
    "duration": 13,
    "start_time": "2023-03-29T09:35:54.155Z"
   },
   {
    "duration": 14,
    "start_time": "2023-03-29T09:35:57.620Z"
   },
   {
    "duration": 28,
    "start_time": "2023-03-29T09:36:02.393Z"
   },
   {
    "duration": 12,
    "start_time": "2023-03-29T09:36:09.194Z"
   },
   {
    "duration": 516,
    "start_time": "2023-03-29T09:36:37.864Z"
   },
   {
    "duration": 105,
    "start_time": "2023-03-29T09:37:13.033Z"
   },
   {
    "duration": 75,
    "start_time": "2023-03-29T09:37:20.593Z"
   },
   {
    "duration": 90,
    "start_time": "2023-03-29T09:37:55.331Z"
   },
   {
    "duration": 17,
    "start_time": "2023-03-29T09:38:06.213Z"
   },
   {
    "duration": 13,
    "start_time": "2023-03-29T09:38:30.192Z"
   },
   {
    "duration": 13,
    "start_time": "2023-03-29T09:38:44.994Z"
   },
   {
    "duration": 14,
    "start_time": "2023-03-29T09:38:48.809Z"
   },
   {
    "duration": 14,
    "start_time": "2023-03-29T09:39:16.994Z"
   },
   {
    "duration": 1987,
    "start_time": "2023-03-29T09:42:33.398Z"
   },
   {
    "duration": 170,
    "start_time": "2023-03-29T09:46:02.438Z"
   },
   {
    "duration": 142,
    "start_time": "2023-03-29T09:46:11.286Z"
   },
   {
    "duration": 137,
    "start_time": "2023-03-29T09:46:18.028Z"
   },
   {
    "duration": 197,
    "start_time": "2023-03-29T09:46:24.554Z"
   },
   {
    "duration": 127,
    "start_time": "2023-03-29T09:46:33.835Z"
   },
   {
    "duration": 148,
    "start_time": "2023-03-29T09:46:40.293Z"
   },
   {
    "duration": 137,
    "start_time": "2023-03-29T09:46:47.561Z"
   },
   {
    "duration": 189,
    "start_time": "2023-03-29T09:46:53.749Z"
   },
   {
    "duration": 4,
    "start_time": "2023-03-29T10:01:00.344Z"
   },
   {
    "duration": 230,
    "start_time": "2023-03-29T10:01:00.351Z"
   },
   {
    "duration": 9,
    "start_time": "2023-03-29T10:01:00.583Z"
   },
   {
    "duration": 60,
    "start_time": "2023-03-29T10:01:00.595Z"
   },
   {
    "duration": 19,
    "start_time": "2023-03-29T10:01:00.657Z"
   },
   {
    "duration": 51,
    "start_time": "2023-03-29T10:01:00.679Z"
   },
   {
    "duration": 58,
    "start_time": "2023-03-29T10:01:00.732Z"
   },
   {
    "duration": 53,
    "start_time": "2023-03-29T10:01:00.792Z"
   },
   {
    "duration": 181,
    "start_time": "2023-03-29T10:01:00.848Z"
   },
   {
    "duration": 104,
    "start_time": "2023-03-29T10:01:01.031Z"
   },
   {
    "duration": 143,
    "start_time": "2023-03-29T10:01:01.138Z"
   },
   {
    "duration": 140,
    "start_time": "2023-03-29T10:01:01.283Z"
   },
   {
    "duration": 32,
    "start_time": "2023-03-29T10:01:01.425Z"
   },
   {
    "duration": 32,
    "start_time": "2023-03-29T10:01:01.459Z"
   },
   {
    "duration": 111,
    "start_time": "2023-03-29T10:01:01.493Z"
   },
   {
    "duration": 54,
    "start_time": "2023-03-29T10:01:01.607Z"
   },
   {
    "duration": 6,
    "start_time": "2023-03-29T10:01:01.663Z"
   },
   {
    "duration": 43,
    "start_time": "2023-03-29T10:01:01.672Z"
   },
   {
    "duration": 28,
    "start_time": "2023-03-29T10:01:01.716Z"
   },
   {
    "duration": 51,
    "start_time": "2023-03-29T10:01:01.746Z"
   },
   {
    "duration": 44,
    "start_time": "2023-03-29T10:01:01.799Z"
   },
   {
    "duration": 6,
    "start_time": "2023-03-29T10:01:01.846Z"
   },
   {
    "duration": 42,
    "start_time": "2023-03-29T10:01:01.854Z"
   },
   {
    "duration": 671,
    "start_time": "2023-03-29T10:01:01.899Z"
   },
   {
    "duration": 29,
    "start_time": "2023-03-29T10:01:02.572Z"
   },
   {
    "duration": 40,
    "start_time": "2023-03-29T10:01:02.617Z"
   },
   {
    "duration": 29,
    "start_time": "2023-03-29T10:01:02.659Z"
   },
   {
    "duration": 103,
    "start_time": "2023-03-29T10:01:02.717Z"
   },
   {
    "duration": 14,
    "start_time": "2023-03-29T10:01:02.822Z"
   },
   {
    "duration": 83,
    "start_time": "2023-03-29T10:01:02.838Z"
   },
   {
    "duration": 14,
    "start_time": "2023-03-29T10:01:02.923Z"
   },
   {
    "duration": 21,
    "start_time": "2023-03-29T10:01:02.940Z"
   },
   {
    "duration": 38,
    "start_time": "2023-03-29T10:01:02.963Z"
   },
   {
    "duration": 44,
    "start_time": "2023-03-29T10:01:03.003Z"
   },
   {
    "duration": 61,
    "start_time": "2023-03-29T10:01:03.049Z"
   },
   {
    "duration": 42,
    "start_time": "2023-03-29T10:01:03.112Z"
   },
   {
    "duration": 68,
    "start_time": "2023-03-29T10:01:03.156Z"
   },
   {
    "duration": 54,
    "start_time": "2023-03-29T10:01:03.228Z"
   },
   {
    "duration": 93,
    "start_time": "2023-03-29T10:01:03.284Z"
   },
   {
    "duration": 6,
    "start_time": "2023-03-29T10:01:03.379Z"
   },
   {
    "duration": 37,
    "start_time": "2023-03-29T10:01:03.387Z"
   },
   {
    "duration": 62,
    "start_time": "2023-03-29T10:01:03.427Z"
   },
   {
    "duration": 205,
    "start_time": "2023-03-29T10:01:03.494Z"
   },
   {
    "duration": 220,
    "start_time": "2023-03-29T10:01:03.702Z"
   },
   {
    "duration": 226,
    "start_time": "2023-03-29T10:01:03.924Z"
   },
   {
    "duration": 248,
    "start_time": "2023-03-29T10:01:04.152Z"
   },
   {
    "duration": 162,
    "start_time": "2023-03-29T10:01:04.402Z"
   },
   {
    "duration": 175,
    "start_time": "2023-03-29T10:01:04.566Z"
   },
   {
    "duration": 158,
    "start_time": "2023-03-29T10:01:04.743Z"
   },
   {
    "duration": 217,
    "start_time": "2023-03-29T10:01:04.926Z"
   },
   {
    "duration": 6,
    "start_time": "2023-03-29T10:04:59.729Z"
   },
   {
    "duration": 284,
    "start_time": "2023-03-29T10:04:59.737Z"
   },
   {
    "duration": 16,
    "start_time": "2023-03-29T10:05:00.024Z"
   },
   {
    "duration": 43,
    "start_time": "2023-03-29T10:05:00.044Z"
   },
   {
    "duration": 31,
    "start_time": "2023-03-29T10:05:00.091Z"
   },
   {
    "duration": 19,
    "start_time": "2023-03-29T10:05:00.124Z"
   },
   {
    "duration": 50,
    "start_time": "2023-03-29T10:05:00.146Z"
   },
   {
    "duration": 73,
    "start_time": "2023-03-29T10:05:00.199Z"
   },
   {
    "duration": 135,
    "start_time": "2023-03-29T10:05:00.274Z"
   },
   {
    "duration": 94,
    "start_time": "2023-03-29T10:05:00.412Z"
   },
   {
    "duration": 115,
    "start_time": "2023-03-29T10:05:00.518Z"
   },
   {
    "duration": 122,
    "start_time": "2023-03-29T10:05:00.635Z"
   },
   {
    "duration": 35,
    "start_time": "2023-03-29T10:05:00.759Z"
   },
   {
    "duration": 14,
    "start_time": "2023-03-29T10:05:00.818Z"
   },
   {
    "duration": 92,
    "start_time": "2023-03-29T10:05:00.835Z"
   },
   {
    "duration": 37,
    "start_time": "2023-03-29T10:05:00.929Z"
   },
   {
    "duration": 12,
    "start_time": "2023-03-29T10:05:00.968Z"
   },
   {
    "duration": 93,
    "start_time": "2023-03-29T10:05:00.982Z"
   },
   {
    "duration": 27,
    "start_time": "2023-03-29T10:05:01.078Z"
   },
   {
    "duration": 42,
    "start_time": "2023-03-29T10:05:01.107Z"
   },
   {
    "duration": 67,
    "start_time": "2023-03-29T10:05:01.151Z"
   },
   {
    "duration": 14,
    "start_time": "2023-03-29T10:05:01.220Z"
   },
   {
    "duration": 62,
    "start_time": "2023-03-29T10:05:01.236Z"
   },
   {
    "duration": 407,
    "start_time": "2023-03-29T10:05:01.301Z"
   },
   {
    "duration": 27,
    "start_time": "2023-03-29T10:05:01.710Z"
   },
   {
    "duration": 69,
    "start_time": "2023-03-29T10:05:01.739Z"
   },
   {
    "duration": 37,
    "start_time": "2023-03-29T10:05:01.809Z"
   },
   {
    "duration": 145,
    "start_time": "2023-03-29T10:05:01.848Z"
   },
   {
    "duration": 180,
    "start_time": "2023-03-29T10:05:01.995Z"
   },
   {
    "duration": 62,
    "start_time": "2023-03-29T10:05:02.177Z"
   },
   {
    "duration": 7,
    "start_time": "2023-03-29T10:05:02.241Z"
   },
   {
    "duration": 70,
    "start_time": "2023-03-29T10:05:02.250Z"
   },
   {
    "duration": 38,
    "start_time": "2023-03-29T10:05:02.322Z"
   },
   {
    "duration": 54,
    "start_time": "2023-03-29T10:05:02.362Z"
   },
   {
    "duration": 32,
    "start_time": "2023-03-29T10:05:02.417Z"
   },
   {
    "duration": 38,
    "start_time": "2023-03-29T10:05:02.452Z"
   },
   {
    "duration": 20,
    "start_time": "2023-03-29T10:05:02.493Z"
   },
   {
    "duration": 45,
    "start_time": "2023-03-29T10:05:02.516Z"
   },
   {
    "duration": 119,
    "start_time": "2023-03-29T10:05:02.563Z"
   },
   {
    "duration": 9,
    "start_time": "2023-03-29T10:05:02.686Z"
   },
   {
    "duration": 49,
    "start_time": "2023-03-29T10:05:02.701Z"
   },
   {
    "duration": 101,
    "start_time": "2023-03-29T10:05:02.752Z"
   },
   {
    "duration": 184,
    "start_time": "2023-03-29T10:05:02.855Z"
   },
   {
    "duration": 162,
    "start_time": "2023-03-29T10:05:03.041Z"
   },
   {
    "duration": 161,
    "start_time": "2023-03-29T10:05:03.205Z"
   },
   {
    "duration": 210,
    "start_time": "2023-03-29T10:05:03.368Z"
   },
   {
    "duration": 154,
    "start_time": "2023-03-29T10:05:03.580Z"
   },
   {
    "duration": 154,
    "start_time": "2023-03-29T10:05:03.736Z"
   },
   {
    "duration": 161,
    "start_time": "2023-03-29T10:05:03.893Z"
   },
   {
    "duration": 184,
    "start_time": "2023-03-29T10:05:04.056Z"
   },
   {
    "duration": 29,
    "start_time": "2023-03-29T10:05:38.371Z"
   },
   {
    "duration": 1043,
    "start_time": "2023-03-29T10:36:36.126Z"
   },
   {
    "duration": 147,
    "start_time": "2023-03-29T10:36:37.171Z"
   },
   {
    "duration": 10,
    "start_time": "2023-03-29T10:36:37.320Z"
   },
   {
    "duration": 20,
    "start_time": "2023-03-29T10:36:37.332Z"
   },
   {
    "duration": 7,
    "start_time": "2023-03-29T10:36:37.353Z"
   },
   {
    "duration": 12,
    "start_time": "2023-03-29T10:36:37.372Z"
   },
   {
    "duration": 18,
    "start_time": "2023-03-29T10:36:37.386Z"
   },
   {
    "duration": 8,
    "start_time": "2023-03-29T10:36:37.405Z"
   },
   {
    "duration": 94,
    "start_time": "2023-03-29T10:36:37.415Z"
   },
   {
    "duration": 100,
    "start_time": "2023-03-29T10:36:37.513Z"
   },
   {
    "duration": 99,
    "start_time": "2023-03-29T10:36:37.614Z"
   },
   {
    "duration": 94,
    "start_time": "2023-03-29T10:36:37.715Z"
   },
   {
    "duration": 25,
    "start_time": "2023-03-29T10:36:37.811Z"
   },
   {
    "duration": 8,
    "start_time": "2023-03-29T10:36:37.837Z"
   },
   {
    "duration": 62,
    "start_time": "2023-03-29T10:36:37.846Z"
   },
   {
    "duration": 27,
    "start_time": "2023-03-29T10:36:37.909Z"
   },
   {
    "duration": 6,
    "start_time": "2023-03-29T10:36:37.937Z"
   },
   {
    "duration": 22,
    "start_time": "2023-03-29T10:36:37.945Z"
   },
   {
    "duration": 6,
    "start_time": "2023-03-29T10:36:37.969Z"
   },
   {
    "duration": 11,
    "start_time": "2023-03-29T10:36:37.976Z"
   },
   {
    "duration": 29,
    "start_time": "2023-03-29T10:36:37.988Z"
   },
   {
    "duration": 3,
    "start_time": "2023-03-29T10:36:38.019Z"
   },
   {
    "duration": 8,
    "start_time": "2023-03-29T10:36:38.024Z"
   },
   {
    "duration": 360,
    "start_time": "2023-03-29T10:36:38.033Z"
   },
   {
    "duration": 20,
    "start_time": "2023-03-29T10:36:38.394Z"
   },
   {
    "duration": 34,
    "start_time": "2023-03-29T10:36:38.415Z"
   },
   {
    "duration": 38,
    "start_time": "2023-03-29T10:36:38.451Z"
   },
   {
    "duration": 56,
    "start_time": "2023-03-29T10:36:38.492Z"
   },
   {
    "duration": 345,
    "start_time": "2023-03-29T10:36:38.550Z"
   },
   {
    "duration": 93,
    "start_time": "2023-03-29T10:36:38.896Z"
   },
   {
    "duration": 5,
    "start_time": "2023-03-29T10:36:38.991Z"
   },
   {
    "duration": 28,
    "start_time": "2023-03-29T10:36:38.998Z"
   },
   {
    "duration": 26,
    "start_time": "2023-03-29T10:36:39.027Z"
   },
   {
    "duration": 19,
    "start_time": "2023-03-29T10:36:39.054Z"
   },
   {
    "duration": 18,
    "start_time": "2023-03-29T10:36:39.075Z"
   },
   {
    "duration": 12,
    "start_time": "2023-03-29T10:36:39.095Z"
   },
   {
    "duration": 3,
    "start_time": "2023-03-29T10:36:39.108Z"
   },
   {
    "duration": 24,
    "start_time": "2023-03-29T10:36:39.113Z"
   },
   {
    "duration": 58,
    "start_time": "2023-03-29T10:36:39.138Z"
   },
   {
    "duration": 4,
    "start_time": "2023-03-29T10:36:39.198Z"
   },
   {
    "duration": 12,
    "start_time": "2023-03-29T10:36:39.203Z"
   },
   {
    "duration": 24,
    "start_time": "2023-03-29T10:36:39.216Z"
   },
   {
    "duration": 123,
    "start_time": "2023-03-29T10:36:39.242Z"
   },
   {
    "duration": 130,
    "start_time": "2023-03-29T10:36:39.372Z"
   },
   {
    "duration": 126,
    "start_time": "2023-03-29T10:36:39.503Z"
   },
   {
    "duration": 179,
    "start_time": "2023-03-29T10:36:39.630Z"
   },
   {
    "duration": 132,
    "start_time": "2023-03-29T10:36:39.811Z"
   },
   {
    "duration": 149,
    "start_time": "2023-03-29T10:36:39.945Z"
   },
   {
    "duration": 136,
    "start_time": "2023-03-29T10:36:40.096Z"
   },
   {
    "duration": 174,
    "start_time": "2023-03-29T10:36:40.233Z"
   },
   {
    "duration": 4,
    "start_time": "2023-03-29T10:40:42.794Z"
   },
   {
    "duration": 176,
    "start_time": "2023-03-29T10:40:42.800Z"
   },
   {
    "duration": 8,
    "start_time": "2023-03-29T10:40:42.978Z"
   },
   {
    "duration": 40,
    "start_time": "2023-03-29T10:40:42.988Z"
   },
   {
    "duration": 16,
    "start_time": "2023-03-29T10:40:43.030Z"
   },
   {
    "duration": 22,
    "start_time": "2023-03-29T10:40:43.048Z"
   },
   {
    "duration": 30,
    "start_time": "2023-03-29T10:40:43.072Z"
   },
   {
    "duration": 10,
    "start_time": "2023-03-29T10:40:43.104Z"
   },
   {
    "duration": 100,
    "start_time": "2023-03-29T10:40:43.116Z"
   },
   {
    "duration": 84,
    "start_time": "2023-03-29T10:40:43.218Z"
   },
   {
    "duration": 115,
    "start_time": "2023-03-29T10:40:43.303Z"
   },
   {
    "duration": 116,
    "start_time": "2023-03-29T10:40:43.420Z"
   },
   {
    "duration": 30,
    "start_time": "2023-03-29T10:40:43.539Z"
   },
   {
    "duration": 9,
    "start_time": "2023-03-29T10:40:43.571Z"
   },
   {
    "duration": 65,
    "start_time": "2023-03-29T10:40:43.582Z"
   },
   {
    "duration": 35,
    "start_time": "2023-03-29T10:40:43.649Z"
   },
   {
    "duration": 4,
    "start_time": "2023-03-29T10:40:43.686Z"
   },
   {
    "duration": 31,
    "start_time": "2023-03-29T10:40:43.692Z"
   },
   {
    "duration": 6,
    "start_time": "2023-03-29T10:40:43.725Z"
   },
   {
    "duration": 28,
    "start_time": "2023-03-29T10:40:43.733Z"
   },
   {
    "duration": 39,
    "start_time": "2023-03-29T10:40:43.763Z"
   },
   {
    "duration": 5,
    "start_time": "2023-03-29T10:40:43.804Z"
   },
   {
    "duration": 23,
    "start_time": "2023-03-29T10:40:43.810Z"
   },
   {
    "duration": 341,
    "start_time": "2023-03-29T10:40:43.834Z"
   },
   {
    "duration": 22,
    "start_time": "2023-03-29T10:40:44.177Z"
   },
   {
    "duration": 48,
    "start_time": "2023-03-29T10:40:44.201Z"
   },
   {
    "duration": 28,
    "start_time": "2023-03-29T10:40:44.251Z"
   },
   {
    "duration": 101,
    "start_time": "2023-03-29T10:40:44.281Z"
   },
   {
    "duration": 13,
    "start_time": "2023-03-29T10:40:44.383Z"
   },
   {
    "duration": 70,
    "start_time": "2023-03-29T10:40:44.397Z"
   },
   {
    "duration": 6,
    "start_time": "2023-03-29T10:40:44.469Z"
   },
   {
    "duration": 45,
    "start_time": "2023-03-29T10:40:44.477Z"
   },
   {
    "duration": 20,
    "start_time": "2023-03-29T10:40:44.524Z"
   },
   {
    "duration": 26,
    "start_time": "2023-03-29T10:40:44.546Z"
   },
   {
    "duration": 18,
    "start_time": "2023-03-29T10:40:44.574Z"
   },
   {
    "duration": 39,
    "start_time": "2023-03-29T10:40:44.594Z"
   },
   {
    "duration": 8,
    "start_time": "2023-03-29T10:40:44.636Z"
   },
   {
    "duration": 52,
    "start_time": "2023-03-29T10:40:44.646Z"
   },
   {
    "duration": 62,
    "start_time": "2023-03-29T10:40:44.700Z"
   },
   {
    "duration": 5,
    "start_time": "2023-03-29T10:40:44.764Z"
   },
   {
    "duration": 27,
    "start_time": "2023-03-29T10:40:44.771Z"
   },
   {
    "duration": 37,
    "start_time": "2023-03-29T10:40:44.800Z"
   },
   {
    "duration": 196,
    "start_time": "2023-03-29T10:40:44.839Z"
   },
   {
    "duration": 146,
    "start_time": "2023-03-29T10:40:45.036Z"
   },
   {
    "duration": 166,
    "start_time": "2023-03-29T10:40:45.184Z"
   },
   {
    "duration": 190,
    "start_time": "2023-03-29T10:40:45.351Z"
   },
   {
    "duration": 157,
    "start_time": "2023-03-29T10:40:45.543Z"
   },
   {
    "duration": 160,
    "start_time": "2023-03-29T10:40:45.702Z"
   },
   {
    "duration": 153,
    "start_time": "2023-03-29T10:40:45.864Z"
   },
   {
    "duration": 187,
    "start_time": "2023-03-29T10:40:46.019Z"
   },
   {
    "duration": 13,
    "start_time": "2023-03-29T10:41:19.415Z"
   },
   {
    "duration": 12,
    "start_time": "2023-03-29T10:41:23.497Z"
   },
   {
    "duration": 48,
    "start_time": "2023-05-24T11:50:25.556Z"
   },
   {
    "duration": 1059,
    "start_time": "2023-05-24T11:50:28.514Z"
   },
   {
    "duration": 719,
    "start_time": "2023-05-24T11:50:29.575Z"
   },
   {
    "duration": 11,
    "start_time": "2023-05-24T11:50:30.295Z"
   },
   {
    "duration": 50,
    "start_time": "2023-05-24T11:50:30.308Z"
   },
   {
    "duration": 29,
    "start_time": "2023-05-24T11:50:30.360Z"
   },
   {
    "duration": 93,
    "start_time": "2023-05-24T11:50:30.391Z"
   },
   {
    "duration": 40,
    "start_time": "2023-05-24T11:50:30.486Z"
   },
   {
    "duration": 23,
    "start_time": "2023-05-24T11:50:30.528Z"
   },
   {
    "duration": 123,
    "start_time": "2023-05-24T11:50:30.553Z"
   },
   {
    "duration": 101,
    "start_time": "2023-05-24T11:50:30.679Z"
   },
   {
    "duration": 101,
    "start_time": "2023-05-24T11:50:30.782Z"
   },
   {
    "duration": 97,
    "start_time": "2023-05-24T11:50:30.885Z"
   },
   {
    "duration": 26,
    "start_time": "2023-05-24T11:50:30.984Z"
   },
   {
    "duration": 22,
    "start_time": "2023-05-24T11:50:31.012Z"
   },
   {
    "duration": 67,
    "start_time": "2023-05-24T11:50:31.035Z"
   },
   {
    "duration": 27,
    "start_time": "2023-05-24T11:50:31.104Z"
   },
   {
    "duration": 30,
    "start_time": "2023-05-24T11:50:31.133Z"
   },
   {
    "duration": 45,
    "start_time": "2023-05-24T11:50:31.164Z"
   },
   {
    "duration": 20,
    "start_time": "2023-05-24T11:50:31.211Z"
   },
   {
    "duration": 21,
    "start_time": "2023-05-24T11:50:31.233Z"
   },
   {
    "duration": 36,
    "start_time": "2023-05-24T11:50:31.256Z"
   },
   {
    "duration": 5,
    "start_time": "2023-05-24T11:50:31.293Z"
   },
   {
    "duration": 20,
    "start_time": "2023-05-24T11:50:31.300Z"
   },
   {
    "duration": 420,
    "start_time": "2023-05-24T11:50:31.322Z"
   },
   {
    "duration": 26,
    "start_time": "2023-05-24T11:50:31.745Z"
   },
   {
    "duration": 38,
    "start_time": "2023-05-24T11:50:31.773Z"
   },
   {
    "duration": 48,
    "start_time": "2023-05-24T11:50:31.814Z"
   },
   {
    "duration": 62,
    "start_time": "2023-05-24T11:50:31.865Z"
   },
   {
    "duration": 172,
    "start_time": "2023-05-24T11:50:31.928Z"
   },
   {
    "duration": 69,
    "start_time": "2023-05-24T11:50:32.102Z"
   },
   {
    "duration": 6,
    "start_time": "2023-05-24T11:50:32.173Z"
   },
   {
    "duration": 28,
    "start_time": "2023-05-24T11:50:32.181Z"
   },
   {
    "duration": 12,
    "start_time": "2023-05-24T11:50:32.211Z"
   },
   {
    "duration": 34,
    "start_time": "2023-05-24T11:50:32.224Z"
   },
   {
    "duration": 10,
    "start_time": "2023-05-24T11:50:32.259Z"
   },
   {
    "duration": 31,
    "start_time": "2023-05-24T11:50:32.271Z"
   },
   {
    "duration": 13,
    "start_time": "2023-05-24T11:50:32.304Z"
   },
   {
    "duration": 20,
    "start_time": "2023-05-24T11:50:32.318Z"
   },
   {
    "duration": 61,
    "start_time": "2023-05-24T11:50:32.340Z"
   },
   {
    "duration": 4,
    "start_time": "2023-05-24T11:50:32.403Z"
   },
   {
    "duration": 9,
    "start_time": "2023-05-24T11:50:32.409Z"
   },
   {
    "duration": 41,
    "start_time": "2023-05-24T11:50:32.420Z"
   },
   {
    "duration": 139,
    "start_time": "2023-05-24T11:50:32.463Z"
   },
   {
    "duration": 149,
    "start_time": "2023-05-24T11:50:32.604Z"
   },
   {
    "duration": 134,
    "start_time": "2023-05-24T11:50:32.754Z"
   },
   {
    "duration": 183,
    "start_time": "2023-05-24T11:50:32.889Z"
   },
   {
    "duration": 141,
    "start_time": "2023-05-24T11:50:33.074Z"
   },
   {
    "duration": 145,
    "start_time": "2023-05-24T11:50:33.216Z"
   },
   {
    "duration": 143,
    "start_time": "2023-05-24T11:50:33.362Z"
   },
   {
    "duration": 180,
    "start_time": "2023-05-24T11:50:33.507Z"
   },
   {
    "duration": 20,
    "start_time": "2023-05-24T11:50:54.356Z"
   },
   {
    "duration": 21,
    "start_time": "2023-05-24T11:51:24.908Z"
   },
   {
    "duration": 90,
    "start_time": "2023-05-24T11:51:42.977Z"
   },
   {
    "duration": 20,
    "start_time": "2023-05-24T11:58:23.145Z"
   },
   {
    "duration": 20,
    "start_time": "2023-05-24T12:02:58.862Z"
   },
   {
    "duration": 26,
    "start_time": "2023-05-24T12:05:57.025Z"
   },
   {
    "duration": 21,
    "start_time": "2023-05-24T12:08:18.210Z"
   },
   {
    "duration": 14,
    "start_time": "2023-05-24T15:44:19.298Z"
   }
  ],
  "kernelspec": {
   "display_name": "Python 3 (ipykernel)",
   "language": "python",
   "name": "python3"
  },
  "language_info": {
   "codemirror_mode": {
    "name": "ipython",
    "version": 3
   },
   "file_extension": ".py",
   "mimetype": "text/x-python",
   "name": "python",
   "nbconvert_exporter": "python",
   "pygments_lexer": "ipython3",
   "version": "3.11.3"
  },
  "toc": {
   "base_numbering": 1,
   "nav_menu": {},
   "number_sections": true,
   "sideBar": true,
   "skip_h1_title": true,
   "title_cell": "Table of Contents",
   "title_sidebar": "Contents",
   "toc_cell": false,
   "toc_position": {},
   "toc_section_display": true,
   "toc_window_display": false
  }
 },
 "nbformat": 4,
 "nbformat_minor": 2
}
